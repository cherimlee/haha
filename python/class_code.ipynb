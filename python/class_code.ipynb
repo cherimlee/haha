{
 "cells": [
  {
   "cell_type": "code",
   "execution_count": 63,
   "id": "e9983ce1",
   "metadata": {},
   "outputs": [],
   "source": [
    "# class\n",
    "\n",
    "#  자주 함께 사용하는 함수들과 변수들을 하나의 덩어리로 묶어서 사용하자. \n",
    "# class - 함수와 변수들의 덩어리... 원본...보존...\n",
    "# class 사용  = class를 복사해서 사용..-> instance를 생성한 것 \n",
    "# class를 복사 -> 인스턴스를 생성한다. 객체를 생성.. \n",
    "\n",
    "# class 내에 있는 함수 - 메소드 (method) \n",
    "# class내에 있는 변수 - 속성(attribute)\n",
    "\n",
    "# class - 붕어빵 가게, instance - 붕어빵 \n"
   ]
  },
  {
   "cell_type": "code",
   "execution_count": null,
   "id": "214014df",
   "metadata": {},
   "outputs": [],
   "source": []
  },
  {
   "cell_type": "code",
   "execution_count": 64,
   "id": "cf716ee5",
   "metadata": {},
   "outputs": [
    {
     "name": "stdout",
     "output_type": "stream",
     "text": [
      "====================\n",
      "Name yuna: \n",
      "Email:yuna@gmail.com\n",
      "Address: Seoul\n",
      "====================\n"
     ]
    }
   ],
   "source": [
    "# 명함을 찍는 코드\n",
    " \n",
    "print(\"=\"*20)\n",
    "print(\"Name {}: \".format(\"yuna\"))\n",
    "print(\"Email:{}\".format(\"yuna@gmail.com\"))\n",
    "print(\"Address: {}\".format(\"Seoul\"))\n",
    "print(\"=\"*20)"
   ]
  },
  {
   "cell_type": "code",
   "execution_count": 65,
   "id": "536d5435",
   "metadata": {},
   "outputs": [],
   "source": [
    "# 함수\n",
    "def BusinessCard():\n",
    "    print(\"=\"*20)\n",
    "    print(\"Name {}: \".format(\"yuna\"))\n",
    "    print(\"Email:{}\".format(\"yuna@gmail.com\"))\n",
    "    print(\"Address: {}\".format(\"Seoul\"))\n",
    "    print(\"=\"*20)"
   ]
  },
  {
   "cell_type": "code",
   "execution_count": 66,
   "id": "dfa7d5c2",
   "metadata": {},
   "outputs": [],
   "source": [
    "# 매게변수\n",
    "\n",
    "def BusinessCard(name, email, address):\n",
    "    print(\"=\"*20)\n",
    "    print(\"Name {}: \".format(name))\n",
    "    print(\"Email:{}\".format(email))\n",
    "    print(\"Address: {}\".format(address))\n",
    "    print(\"=\"*20)"
   ]
  },
  {
   "cell_type": "code",
   "execution_count": 67,
   "id": "3f4e15cd",
   "metadata": {
    "scrolled": true
   },
   "outputs": [
    {
     "ename": "NameError",
     "evalue": "name 'name' is not defined",
     "output_type": "error",
     "traceback": [
      "\u001b[1;31m---------------------------------------------------------------------------\u001b[0m",
      "\u001b[1;31mNameError\u001b[0m                                 Traceback (most recent call last)",
      "\u001b[1;32m~\\AppData\\Local\\Temp/ipykernel_784/510687113.py\u001b[0m in \u001b[0;36m<module>\u001b[1;34m\u001b[0m\n\u001b[0;32m      3\u001b[0m \u001b[0maddress\u001b[0m\u001b[1;33m:\u001b[0m \u001b[1;34m\"Seoul\"\u001b[0m\u001b[1;33m\u001b[0m\u001b[1;33m\u001b[0m\u001b[0m\n\u001b[0;32m      4\u001b[0m \u001b[1;33m\u001b[0m\u001b[0m\n\u001b[1;32m----> 5\u001b[1;33m \u001b[0mBusinessCard\u001b[0m\u001b[1;33m(\u001b[0m\u001b[0mname\u001b[0m\u001b[1;33m,\u001b[0m \u001b[0memail\u001b[0m\u001b[1;33m,\u001b[0m \u001b[0maddress\u001b[0m\u001b[1;33m)\u001b[0m\u001b[1;33m\u001b[0m\u001b[1;33m\u001b[0m\u001b[0m\n\u001b[0m",
      "\u001b[1;31mNameError\u001b[0m: name 'name' is not defined"
     ]
    }
   ],
   "source": [
    "name :\"yuna\"\n",
    "email:\"yuna@gmail.com\"\n",
    "address: \"Seoul\"\n",
    "    \n",
    "BusinessCard(name, email, address)"
   ]
  },
  {
   "cell_type": "code",
   "execution_count": null,
   "id": "ad2b7ca4",
   "metadata": {},
   "outputs": [],
   "source": []
  },
  {
   "cell_type": "code",
   "execution_count": 68,
   "id": "ac5704f8",
   "metadata": {},
   "outputs": [],
   "source": [
    "# class - 함께 사용하는 변수의 함수들을 묶자...\n",
    "# 메소드가 self라는 매개변수를 받는다 - 인스턴스 메소드\n",
    "# 변수도 앞에 self를 붙인다..- 인스턴스 변수 \n",
    "\n",
    "# self - 인스턴스의 주소값"
   ]
  },
  {
   "cell_type": "code",
   "execution_count": 69,
   "id": "12ffe887",
   "metadata": {},
   "outputs": [],
   "source": [
    "class  BusinessCard:\n",
    "    name :\"yuna\"\n",
    "    email:\"yuna@gmail.com\"\n",
    "    address: \"Seoul\"\n",
    "        \n",
    "    def BusinessCard(name, email, address):\n",
    "        print(\"=\"*20)\n",
    "        print(\"Name {}: \".format(name))\n",
    "        print(\"Email:{}\".format(email))\n",
    "        print(\"Address: {}\".format(address))\n",
    "        print(\"=\"*20)"
   ]
  },
  {
   "cell_type": "code",
   "execution_count": null,
   "id": "4bbd3133",
   "metadata": {},
   "outputs": [],
   "source": []
  },
  {
   "cell_type": "code",
   "execution_count": 70,
   "id": "0b580e66",
   "metadata": {},
   "outputs": [],
   "source": [
    "class  BusinessCard:\n",
    "    def set_info(self, name, email, address):\n",
    "        self.name = name # self.변수 = 인스턴스 변수 (특정 인스턴스 내에서 공유되는 변수)\n",
    "        self.email = email\n",
    "        self.address = address\n",
    "        \n",
    "    def BusinessCard(self):\n",
    "        print(\"=\"*20)\n",
    "        print(\"Name {}: \".format(self.name))\n",
    "        print(\"Email:{}\".format(self.email))\n",
    "        print(\"Address: {}\".format(self.address))\n",
    "        print(\"=\"*20)"
   ]
  },
  {
   "cell_type": "code",
   "execution_count": 71,
   "id": "f67fa822",
   "metadata": {},
   "outputs": [],
   "source": [
    "bc = BusinessCard()"
   ]
  },
  {
   "cell_type": "code",
   "execution_count": 72,
   "id": "262a3b75",
   "metadata": {},
   "outputs": [],
   "source": [
    "# 인스턴스는 class를 복사한 것 - class 내의 모든 메소드, 속성들을 복사해 옴 \n",
    "# 인스턴스에서 복사해 온 class의 메소드나 변수를 사용할 때  ('.'<- 접근자 . 을 통해 사용)\n",
    "bc.set_info('yuna','yuna@email.com','seoul')"
   ]
  },
  {
   "cell_type": "code",
   "execution_count": 73,
   "id": "aeffcb7e",
   "metadata": {},
   "outputs": [
    {
     "name": "stdout",
     "output_type": "stream",
     "text": [
      "====================\n",
      "Name yuna: \n",
      "Email:yuna@email.com\n",
      "Address: seoul\n",
      "====================\n"
     ]
    }
   ],
   "source": [
    "bc.BusinessCard()"
   ]
  },
  {
   "cell_type": "code",
   "execution_count": 74,
   "id": "f2a5f978",
   "metadata": {},
   "outputs": [
    {
     "name": "stdout",
     "output_type": "stream",
     "text": [
      "====================\n",
      "Name park: \n",
      "Email:park@hanmail.net\n",
      "Address: incheon\n",
      "====================\n"
     ]
    }
   ],
   "source": [
    "bc1 = BusinessCard()\n",
    "bc1.set_info('park','park@hanmail.net','incheon')\n",
    "bc1.BusinessCard()"
   ]
  },
  {
   "cell_type": "code",
   "execution_count": 75,
   "id": "568fe517",
   "metadata": {},
   "outputs": [
    {
     "name": "stdout",
     "output_type": "stream",
     "text": [
      "====================\n"
     ]
    },
    {
     "ename": "AttributeError",
     "evalue": "'BusinessCard' object has no attribute 'name'",
     "output_type": "error",
     "traceback": [
      "\u001b[1;31m---------------------------------------------------------------------------\u001b[0m",
      "\u001b[1;31mAttributeError\u001b[0m                            Traceback (most recent call last)",
      "\u001b[1;32m~\\AppData\\Local\\Temp/ipykernel_784/1338736931.py\u001b[0m in \u001b[0;36m<module>\u001b[1;34m\u001b[0m\n\u001b[0;32m      1\u001b[0m \u001b[0mbc2\u001b[0m \u001b[1;33m=\u001b[0m \u001b[0mBusinessCard\u001b[0m\u001b[1;33m(\u001b[0m\u001b[1;33m)\u001b[0m\u001b[1;33m\u001b[0m\u001b[1;33m\u001b[0m\u001b[0m\n\u001b[1;32m----> 2\u001b[1;33m \u001b[0mbc2\u001b[0m\u001b[1;33m.\u001b[0m\u001b[0mBusinessCard\u001b[0m\u001b[1;33m(\u001b[0m\u001b[1;33m)\u001b[0m\u001b[1;33m\u001b[0m\u001b[1;33m\u001b[0m\u001b[0m\n\u001b[0m",
      "\u001b[1;32m~\\AppData\\Local\\Temp/ipykernel_784/3081864580.py\u001b[0m in \u001b[0;36mBusinessCard\u001b[1;34m(self)\u001b[0m\n\u001b[0;32m      7\u001b[0m     \u001b[1;32mdef\u001b[0m \u001b[0mBusinessCard\u001b[0m\u001b[1;33m(\u001b[0m\u001b[0mself\u001b[0m\u001b[1;33m)\u001b[0m\u001b[1;33m:\u001b[0m\u001b[1;33m\u001b[0m\u001b[1;33m\u001b[0m\u001b[0m\n\u001b[0;32m      8\u001b[0m         \u001b[0mprint\u001b[0m\u001b[1;33m(\u001b[0m\u001b[1;34m\"=\"\u001b[0m\u001b[1;33m*\u001b[0m\u001b[1;36m20\u001b[0m\u001b[1;33m)\u001b[0m\u001b[1;33m\u001b[0m\u001b[1;33m\u001b[0m\u001b[0m\n\u001b[1;32m----> 9\u001b[1;33m         \u001b[0mprint\u001b[0m\u001b[1;33m(\u001b[0m\u001b[1;34m\"Name {}: \"\u001b[0m\u001b[1;33m.\u001b[0m\u001b[0mformat\u001b[0m\u001b[1;33m(\u001b[0m\u001b[0mself\u001b[0m\u001b[1;33m.\u001b[0m\u001b[0mname\u001b[0m\u001b[1;33m)\u001b[0m\u001b[1;33m)\u001b[0m\u001b[1;33m\u001b[0m\u001b[1;33m\u001b[0m\u001b[0m\n\u001b[0m\u001b[0;32m     10\u001b[0m         \u001b[0mprint\u001b[0m\u001b[1;33m(\u001b[0m\u001b[1;34m\"Email:{}\"\u001b[0m\u001b[1;33m.\u001b[0m\u001b[0mformat\u001b[0m\u001b[1;33m(\u001b[0m\u001b[0mself\u001b[0m\u001b[1;33m.\u001b[0m\u001b[0memail\u001b[0m\u001b[1;33m)\u001b[0m\u001b[1;33m)\u001b[0m\u001b[1;33m\u001b[0m\u001b[1;33m\u001b[0m\u001b[0m\n\u001b[0;32m     11\u001b[0m         \u001b[0mprint\u001b[0m\u001b[1;33m(\u001b[0m\u001b[1;34m\"Address: {}\"\u001b[0m\u001b[1;33m.\u001b[0m\u001b[0mformat\u001b[0m\u001b[1;33m(\u001b[0m\u001b[0mself\u001b[0m\u001b[1;33m.\u001b[0m\u001b[0maddress\u001b[0m\u001b[1;33m)\u001b[0m\u001b[1;33m)\u001b[0m\u001b[1;33m\u001b[0m\u001b[1;33m\u001b[0m\u001b[0m\n",
      "\u001b[1;31mAttributeError\u001b[0m: 'BusinessCard' object has no attribute 'name'"
     ]
    }
   ],
   "source": [
    "bc2 = BusinessCard()\n",
    "bc2.BusinessCard()\n"
   ]
  },
  {
   "cell_type": "code",
   "execution_count": 76,
   "id": "2990e1e8",
   "metadata": {},
   "outputs": [
    {
     "name": "stdout",
     "output_type": "stream",
     "text": [
      "====================\n",
      "Name kim: \n",
      "Email:kim@naver.com\n",
      "Address: busan\n",
      "====================\n"
     ]
    }
   ],
   "source": [
    "bc2 = BusinessCard()\n",
    "bc2.set_info('kim','kim@naver.com','busan')\n",
    "bc2.BusinessCard()"
   ]
  },
  {
   "cell_type": "code",
   "execution_count": 77,
   "id": "dbfdef08",
   "metadata": {},
   "outputs": [
    {
     "name": "stdout",
     "output_type": "stream",
     "text": [
      "====================\n",
      "Name kim: \n",
      "Email:kim@naver.com\n",
      "Address: busan\n",
      "====================\n"
     ]
    }
   ],
   "source": [
    "bc2 = BusinessCard()\n",
    "bc2.set_info('kim','kim@naver.com','busan')\n",
    "bc2.BusinessCard()"
   ]
  },
  {
   "cell_type": "code",
   "execution_count": null,
   "id": "c4a443fa",
   "metadata": {},
   "outputs": [],
   "source": []
  },
  {
   "cell_type": "code",
   "execution_count": 78,
   "id": "0f73742c",
   "metadata": {},
   "outputs": [
    {
     "ename": "IndentationError",
     "evalue": "expected an indented block (Temp/ipykernel_784/3869865741.py, line 10)",
     "output_type": "error",
     "traceback": [
      "\u001b[1;36m  File \u001b[1;32m\"C:\\Users\\bitcamp\\AppData\\Local\\Temp/ipykernel_784/3869865741.py\"\u001b[1;36m, line \u001b[1;32m10\u001b[0m\n\u001b[1;33m    self.name :name # self.변수 = 인스턴스 변수 (특정 인스턴스 내에서 공유되는 변수)\u001b[0m\n\u001b[1;37m    ^\u001b[0m\n\u001b[1;31mIndentationError\u001b[0m\u001b[1;31m:\u001b[0m expected an indented block\n"
     ]
    }
   ],
   "source": [
    "# class를 사용하기 위해서 필요한 값들은 \n",
    "#클래스를 복사하는 순간(인스턴스 생성)에 강제로 입력하도록 만들자..\n",
    "\n",
    "# -> 클래스가 복사되는 순간 set_info()함수가 강제로 실행되도록...\n",
    "# -> 생성자 함수 : 클래스가 복사되는 순간 강제로 실행되는 함수..\n",
    "\n",
    "class  BusinessCard:\n",
    "    \n",
    "    def __init__(self, name, email, address):\n",
    "    self.name :name # self.변수 = 인스턴스 변수 (특정 인스턴스 내에서 공유되는 변수)\n",
    "    self.email:email\n",
    "    self.address:address\n",
    "        \n",
    "    def BusinessCard(self):\n",
    "        print(\"=\"*20)\n",
    "        print(\"Name {}: \".format(name))\n",
    "        print(\"Email:{}\".format(email))\n",
    "        print(\"Address: {}\".format(address))\n",
    "        print(\"=\"*20)"
   ]
  },
  {
   "cell_type": "code",
   "execution_count": 79,
   "id": "8a4dc3a6",
   "metadata": {},
   "outputs": [],
   "source": [
    "# instance 생성 순간 .. __init__함수 실행 -> __init__ 함수가 필요로 하는 매개변수를 넘겨줘야 에러가 안 남 \n",
    "bc = BusinessCard()  "
   ]
  },
  {
   "cell_type": "code",
   "execution_count": 80,
   "id": "f46e16f4",
   "metadata": {},
   "outputs": [
    {
     "ename": "TypeError",
     "evalue": "BusinessCard() takes no arguments",
     "output_type": "error",
     "traceback": [
      "\u001b[1;31m---------------------------------------------------------------------------\u001b[0m",
      "\u001b[1;31mTypeError\u001b[0m                                 Traceback (most recent call last)",
      "\u001b[1;32m~\\AppData\\Local\\Temp/ipykernel_784/3192554239.py\u001b[0m in \u001b[0;36m<module>\u001b[1;34m\u001b[0m\n\u001b[1;32m----> 1\u001b[1;33m \u001b[0mbc\u001b[0m \u001b[1;33m=\u001b[0m \u001b[0mBusinessCard\u001b[0m\u001b[1;33m(\u001b[0m\u001b[1;34m'yuna'\u001b[0m\u001b[1;33m,\u001b[0m\u001b[1;34m'yuna@email.com'\u001b[0m\u001b[1;33m,\u001b[0m\u001b[1;34m'seoul'\u001b[0m\u001b[1;33m)\u001b[0m\u001b[1;33m\u001b[0m\u001b[1;33m\u001b[0m\u001b[0m\n\u001b[0m\u001b[0;32m      2\u001b[0m \u001b[0mbc\u001b[0m\u001b[1;33m.\u001b[0m\u001b[0mname\u001b[0m\u001b[1;33m\u001b[0m\u001b[1;33m\u001b[0m\u001b[0m\n",
      "\u001b[1;31mTypeError\u001b[0m: BusinessCard() takes no arguments"
     ]
    }
   ],
   "source": [
    "bc = BusinessCard('yuna','yuna@email.com','seoul')\n",
    "bc.name"
   ]
  },
  {
   "cell_type": "code",
   "execution_count": 81,
   "id": "c97d5506",
   "metadata": {},
   "outputs": [
    {
     "name": "stdout",
     "output_type": "stream",
     "text": [
      "====================\n"
     ]
    },
    {
     "ename": "AttributeError",
     "evalue": "'BusinessCard' object has no attribute 'name'",
     "output_type": "error",
     "traceback": [
      "\u001b[1;31m---------------------------------------------------------------------------\u001b[0m",
      "\u001b[1;31mAttributeError\u001b[0m                            Traceback (most recent call last)",
      "\u001b[1;32m~\\AppData\\Local\\Temp/ipykernel_784/3444357694.py\u001b[0m in \u001b[0;36m<module>\u001b[1;34m\u001b[0m\n\u001b[1;32m----> 1\u001b[1;33m \u001b[0mbc\u001b[0m\u001b[1;33m.\u001b[0m\u001b[0mBusinessCard\u001b[0m\u001b[1;33m(\u001b[0m\u001b[1;33m)\u001b[0m\u001b[1;33m\u001b[0m\u001b[1;33m\u001b[0m\u001b[0m\n\u001b[0m",
      "\u001b[1;32m~\\AppData\\Local\\Temp/ipykernel_784/3081864580.py\u001b[0m in \u001b[0;36mBusinessCard\u001b[1;34m(self)\u001b[0m\n\u001b[0;32m      7\u001b[0m     \u001b[1;32mdef\u001b[0m \u001b[0mBusinessCard\u001b[0m\u001b[1;33m(\u001b[0m\u001b[0mself\u001b[0m\u001b[1;33m)\u001b[0m\u001b[1;33m:\u001b[0m\u001b[1;33m\u001b[0m\u001b[1;33m\u001b[0m\u001b[0m\n\u001b[0;32m      8\u001b[0m         \u001b[0mprint\u001b[0m\u001b[1;33m(\u001b[0m\u001b[1;34m\"=\"\u001b[0m\u001b[1;33m*\u001b[0m\u001b[1;36m20\u001b[0m\u001b[1;33m)\u001b[0m\u001b[1;33m\u001b[0m\u001b[1;33m\u001b[0m\u001b[0m\n\u001b[1;32m----> 9\u001b[1;33m         \u001b[0mprint\u001b[0m\u001b[1;33m(\u001b[0m\u001b[1;34m\"Name {}: \"\u001b[0m\u001b[1;33m.\u001b[0m\u001b[0mformat\u001b[0m\u001b[1;33m(\u001b[0m\u001b[0mself\u001b[0m\u001b[1;33m.\u001b[0m\u001b[0mname\u001b[0m\u001b[1;33m)\u001b[0m\u001b[1;33m)\u001b[0m\u001b[1;33m\u001b[0m\u001b[1;33m\u001b[0m\u001b[0m\n\u001b[0m\u001b[0;32m     10\u001b[0m         \u001b[0mprint\u001b[0m\u001b[1;33m(\u001b[0m\u001b[1;34m\"Email:{}\"\u001b[0m\u001b[1;33m.\u001b[0m\u001b[0mformat\u001b[0m\u001b[1;33m(\u001b[0m\u001b[0mself\u001b[0m\u001b[1;33m.\u001b[0m\u001b[0memail\u001b[0m\u001b[1;33m)\u001b[0m\u001b[1;33m)\u001b[0m\u001b[1;33m\u001b[0m\u001b[1;33m\u001b[0m\u001b[0m\n\u001b[0;32m     11\u001b[0m         \u001b[0mprint\u001b[0m\u001b[1;33m(\u001b[0m\u001b[1;34m\"Address: {}\"\u001b[0m\u001b[1;33m.\u001b[0m\u001b[0mformat\u001b[0m\u001b[1;33m(\u001b[0m\u001b[0mself\u001b[0m\u001b[1;33m.\u001b[0m\u001b[0maddress\u001b[0m\u001b[1;33m)\u001b[0m\u001b[1;33m)\u001b[0m\u001b[1;33m\u001b[0m\u001b[1;33m\u001b[0m\u001b[0m\n",
      "\u001b[1;31mAttributeError\u001b[0m: 'BusinessCard' object has no attribute 'name'"
     ]
    }
   ],
   "source": [
    "bc.BusinessCard()"
   ]
  },
  {
   "cell_type": "code",
   "execution_count": null,
   "id": "436c56d5",
   "metadata": {},
   "outputs": [],
   "source": []
  },
  {
   "cell_type": "code",
   "execution_count": null,
   "id": "8f907074",
   "metadata": {},
   "outputs": [],
   "source": []
  },
  {
   "cell_type": "code",
   "execution_count": null,
   "id": "b361ca27",
   "metadata": {},
   "outputs": [],
   "source": []
  },
  {
   "cell_type": "code",
   "execution_count": 82,
   "id": "32ea89ec",
   "metadata": {},
   "outputs": [],
   "source": [
    "# class 변수 \n",
    "# 특정 인스턴스 내부가 아닌, 모든 인스턴스에서 공유하는 변수.\n",
    "# 클래스 변수의 정의 - 클래스 내에서 변수 앞에 self를 쓰지 않으면 class변수로 정의 \n",
    "# 클래스 변수에 접근할 때는 클래스 명으로 접근..\n",
    "# 인스턴스 변수로 클래스변수에 접근하는 경우, 동일 이름의 인스턴스 변수가 없으면 가능\n",
    "# 인스턴스 변수 = 특정 인스턴스 내에서만 공유되는 변수.."
   ]
  },
  {
   "cell_type": "code",
   "execution_count": 83,
   "id": "645ef80b",
   "metadata": {},
   "outputs": [],
   "source": [
    "class Circle:\n",
    "    pi = 3.14 # 클래스 변수 \n",
    "    \n",
    "    def __init__(self, radius):\n",
    "        self.radius = radius\n",
    "        \n",
    "    def area(self):\n",
    "        circle_area = Circle.pi * pow(self.radius, 2)    # 클래스명, 클래스 변수 \n",
    "        return circle_area\n",
    "    \n",
    "    def perimeter(self):\n",
    "        circle_perimeter = Circle.pi * 2 * self.radius\n",
    "        return circle_perimeter"
   ]
  },
  {
   "cell_type": "code",
   "execution_count": 84,
   "id": "30a6b256",
   "metadata": {},
   "outputs": [],
   "source": [
    "cir = Circle(5)"
   ]
  },
  {
   "cell_type": "code",
   "execution_count": 85,
   "id": "6334408e",
   "metadata": {},
   "outputs": [
    {
     "data": {
      "text/plain": [
       "78.5"
      ]
     },
     "execution_count": 85,
     "metadata": {},
     "output_type": "execute_result"
    }
   ],
   "source": [
    "cir.area()"
   ]
  },
  {
   "cell_type": "code",
   "execution_count": 86,
   "id": "5ffae8b9",
   "metadata": {},
   "outputs": [
    {
     "data": {
      "text/plain": [
       "31.400000000000002"
      ]
     },
     "execution_count": 86,
     "metadata": {},
     "output_type": "execute_result"
    }
   ],
   "source": [
    "cir.perimeter()"
   ]
  },
  {
   "cell_type": "code",
   "execution_count": 87,
   "id": "799249f8",
   "metadata": {},
   "outputs": [
    {
     "ename": "NameError",
     "evalue": "name 'cir1' is not defined",
     "output_type": "error",
     "traceback": [
      "\u001b[1;31m---------------------------------------------------------------------------\u001b[0m",
      "\u001b[1;31mNameError\u001b[0m                                 Traceback (most recent call last)",
      "\u001b[1;32m~\\AppData\\Local\\Temp/ipykernel_784/2830723273.py\u001b[0m in \u001b[0;36m<module>\u001b[1;34m\u001b[0m\n\u001b[1;32m----> 1\u001b[1;33m \u001b[0mcir1\u001b[0m\u001b[1;33m.\u001b[0m\u001b[0mradius\u001b[0m\u001b[1;33m\u001b[0m\u001b[1;33m\u001b[0m\u001b[0m\n\u001b[0m",
      "\u001b[1;31mNameError\u001b[0m: name 'cir1' is not defined"
     ]
    }
   ],
   "source": [
    "cir1.radius"
   ]
  },
  {
   "cell_type": "code",
   "execution_count": 88,
   "id": "7355115d",
   "metadata": {},
   "outputs": [
    {
     "data": {
      "text/plain": [
       "3.14"
      ]
     },
     "execution_count": 88,
     "metadata": {},
     "output_type": "execute_result"
    }
   ],
   "source": [
    "cir.pi"
   ]
  },
  {
   "cell_type": "code",
   "execution_count": 89,
   "id": "6df43c5c",
   "metadata": {},
   "outputs": [
    {
     "ename": "NameError",
     "evalue": "name 'cir1' is not defined",
     "output_type": "error",
     "traceback": [
      "\u001b[1;31m---------------------------------------------------------------------------\u001b[0m",
      "\u001b[1;31mNameError\u001b[0m                                 Traceback (most recent call last)",
      "\u001b[1;32m~\\AppData\\Local\\Temp/ipykernel_784/1516627972.py\u001b[0m in \u001b[0;36m<module>\u001b[1;34m\u001b[0m\n\u001b[1;32m----> 1\u001b[1;33m \u001b[0mcir1\u001b[0m\u001b[1;33m.\u001b[0m\u001b[0mpi\u001b[0m\u001b[1;33m\u001b[0m\u001b[1;33m\u001b[0m\u001b[0m\n\u001b[0m",
      "\u001b[1;31mNameError\u001b[0m: name 'cir1' is not defined"
     ]
    }
   ],
   "source": [
    "cir1.pi"
   ]
  },
  {
   "cell_type": "code",
   "execution_count": null,
   "id": "e8d0b86d",
   "metadata": {},
   "outputs": [],
   "source": []
  },
  {
   "cell_type": "code",
   "execution_count": 90,
   "id": "dc7b66b1",
   "metadata": {},
   "outputs": [],
   "source": [
    "# 상속..."
   ]
  },
  {
   "cell_type": "code",
   "execution_count": 91,
   "id": "6aa41832",
   "metadata": {},
   "outputs": [],
   "source": [
    "class Parent:\n",
    "    def can_sing(self):\n",
    "        print('sing a song')"
   ]
  },
  {
   "cell_type": "code",
   "execution_count": 92,
   "id": "1684a472",
   "metadata": {},
   "outputs": [],
   "source": [
    "p = Parent()"
   ]
  },
  {
   "cell_type": "code",
   "execution_count": 93,
   "id": "4e05b55f",
   "metadata": {},
   "outputs": [
    {
     "name": "stdout",
     "output_type": "stream",
     "text": [
      "sing a song\n"
     ]
    }
   ],
   "source": [
    "p.can_sing()"
   ]
  },
  {
   "cell_type": "code",
   "execution_count": 94,
   "id": "fd97d227",
   "metadata": {},
   "outputs": [],
   "source": [
    "#Parent class를 상속...-> Parent class의 모든 요소를 가져옴\n",
    "class Child(Parent):     \n",
    "    pass"
   ]
  },
  {
   "cell_type": "code",
   "execution_count": 95,
   "id": "bcb607b5",
   "metadata": {},
   "outputs": [],
   "source": [
    "c = Child()"
   ]
  },
  {
   "cell_type": "code",
   "execution_count": 96,
   "id": "396cb427",
   "metadata": {},
   "outputs": [
    {
     "name": "stdout",
     "output_type": "stream",
     "text": [
      "sing a song\n"
     ]
    }
   ],
   "source": [
    "c. can_sing()"
   ]
  },
  {
   "cell_type": "code",
   "execution_count": null,
   "id": "59a5dbce",
   "metadata": {},
   "outputs": [],
   "source": []
  },
  {
   "cell_type": "code",
   "execution_count": 97,
   "id": "7be64aa9",
   "metadata": {},
   "outputs": [],
   "source": [
    "class Child(Parent):     \n",
    "    def can_dance(self):\n",
    "        print('lets dance')"
   ]
  },
  {
   "cell_type": "code",
   "execution_count": 98,
   "id": "35882c54",
   "metadata": {},
   "outputs": [],
   "source": [
    "c = Child()"
   ]
  },
  {
   "cell_type": "code",
   "execution_count": 99,
   "id": "96cd824f",
   "metadata": {},
   "outputs": [
    {
     "name": "stdout",
     "output_type": "stream",
     "text": [
      "sing a song\n"
     ]
    }
   ],
   "source": [
    "c.can_sing()      #부모 클래스로부터 상속 받은 메소드"
   ]
  },
  {
   "cell_type": "code",
   "execution_count": 100,
   "id": "4365c489",
   "metadata": {},
   "outputs": [
    {
     "name": "stdout",
     "output_type": "stream",
     "text": [
      "lets dance\n"
     ]
    }
   ],
   "source": [
    "c.can_dance()        # 자신의 메소드 "
   ]
  },
  {
   "cell_type": "code",
   "execution_count": null,
   "id": "faf265fb",
   "metadata": {},
   "outputs": [],
   "source": []
  },
  {
   "cell_type": "code",
   "execution_count": 101,
   "id": "5f122b48",
   "metadata": {},
   "outputs": [],
   "source": [
    "# quiz\n",
    "# 임의의 정수 2개를 인스턴스 변수로 받은 후 \n",
    "# 사칙연산의 메소드를 가진 클래스를 정의하고 (add, mul, div, sub)\n",
    "# 객체를 만들어서 메소드를 실행하시오..."
   ]
  },
  {
   "cell_type": "code",
   "execution_count": null,
   "id": "59592d2a",
   "metadata": {},
   "outputs": [],
   "source": [
    "class Cal:\n",
    "    add = a + b\n",
    "    mul = a * b\n",
    "    div = a / b\n",
    "    sub = a - b\n",
    "        \n",
    "    def Cal(a,b):\n",
    "        print(\"add =\".format(add))\n",
    "        print(\"mul = \".format(mul))\n",
    "        print(\"div =\".format(div))\n",
    "        print(\"sub = \".format(sub))\n",
    "        print(\"=\"*20)"
   ]
  },
  {
   "cell_type": "code",
   "execution_count": null,
   "id": "6d6cd601",
   "metadata": {},
   "outputs": [],
   "source": []
  },
  {
   "cell_type": "code",
   "execution_count": 107,
   "id": "1d5b80e4",
   "metadata": {},
   "outputs": [],
   "source": [
    "class FourCal :\n",
    "    \n",
    "    def __init__(self,x,y):\n",
    "        self.x = x\n",
    "        self.y = y\n",
    "        \n",
    "    def addf(self):\n",
    "        result = self.x + self.y\n",
    "        return result\n",
    "    \n",
    "    def mult(self):\n",
    "        result = self.x * self.x\n",
    "        return result\n",
    "        \n",
    "    def divf(self):\n",
    "        result = self.x / self.y\n",
    "        return result\n",
    "    \n",
    "    def subf(self):\n",
    "        result = self.x - self.y\n",
    "        return result"
   ]
  },
  {
   "cell_type": "code",
   "execution_count": 108,
   "id": "3151945a",
   "metadata": {},
   "outputs": [],
   "source": [
    "cal = FourCal(2,4)"
   ]
  },
  {
   "cell_type": "code",
   "execution_count": 109,
   "id": "db7e1be4",
   "metadata": {},
   "outputs": [
    {
     "data": {
      "text/plain": [
       "0.5"
      ]
     },
     "execution_count": 109,
     "metadata": {},
     "output_type": "execute_result"
    }
   ],
   "source": [
    "cal.divf()"
   ]
  },
  {
   "cell_type": "code",
   "execution_count": null,
   "id": "27d4b269",
   "metadata": {},
   "outputs": [],
   "source": []
  },
  {
   "cell_type": "code",
   "execution_count": 113,
   "id": "8fe78f6f",
   "metadata": {},
   "outputs": [],
   "source": [
    "class FourCal1(FourCal):\n",
    "    def powf(self):\n",
    "        result = self.x**self.y\n",
    "        return result"
   ]
  },
  {
   "cell_type": "code",
   "execution_count": 115,
   "id": "85e69c14",
   "metadata": {},
   "outputs": [],
   "source": [
    "fc = FourCal1(2,4)"
   ]
  },
  {
   "cell_type": "code",
   "execution_count": 116,
   "id": "20f9cf2f",
   "metadata": {},
   "outputs": [
    {
     "data": {
      "text/plain": [
       "0.5"
      ]
     },
     "execution_count": 116,
     "metadata": {},
     "output_type": "execute_result"
    }
   ],
   "source": [
    "fc.divf()"
   ]
  },
  {
   "cell_type": "code",
   "execution_count": 117,
   "id": "dc17acd1",
   "metadata": {},
   "outputs": [
    {
     "data": {
      "text/plain": [
       "16"
      ]
     },
     "execution_count": 117,
     "metadata": {},
     "output_type": "execute_result"
    }
   ],
   "source": [
    "fc.powf()"
   ]
  },
  {
   "cell_type": "code",
   "execution_count": 118,
   "id": "cb326f74",
   "metadata": {},
   "outputs": [],
   "source": [
    "fc = FourCal1(2,0)"
   ]
  },
  {
   "cell_type": "code",
   "execution_count": 119,
   "id": "8170c63a",
   "metadata": {
    "collapsed": true
   },
   "outputs": [
    {
     "ename": "ZeroDivisionError",
     "evalue": "division by zero",
     "output_type": "error",
     "traceback": [
      "\u001b[1;31m---------------------------------------------------------------------------\u001b[0m",
      "\u001b[1;31mZeroDivisionError\u001b[0m                         Traceback (most recent call last)",
      "\u001b[1;32m~\\AppData\\Local\\Temp/ipykernel_784/1119730951.py\u001b[0m in \u001b[0;36m<module>\u001b[1;34m\u001b[0m\n\u001b[1;32m----> 1\u001b[1;33m \u001b[0mfc\u001b[0m\u001b[1;33m.\u001b[0m\u001b[0mdivf\u001b[0m\u001b[1;33m(\u001b[0m\u001b[1;33m)\u001b[0m\u001b[1;33m\u001b[0m\u001b[1;33m\u001b[0m\u001b[0m\n\u001b[0m",
      "\u001b[1;32m~\\AppData\\Local\\Temp/ipykernel_784/4159479430.py\u001b[0m in \u001b[0;36mdivf\u001b[1;34m(self)\u001b[0m\n\u001b[0;32m     13\u001b[0m \u001b[1;33m\u001b[0m\u001b[0m\n\u001b[0;32m     14\u001b[0m     \u001b[1;32mdef\u001b[0m \u001b[0mdivf\u001b[0m\u001b[1;33m(\u001b[0m\u001b[0mself\u001b[0m\u001b[1;33m)\u001b[0m\u001b[1;33m:\u001b[0m\u001b[1;33m\u001b[0m\u001b[1;33m\u001b[0m\u001b[0m\n\u001b[1;32m---> 15\u001b[1;33m         \u001b[0mresult\u001b[0m \u001b[1;33m=\u001b[0m \u001b[0mself\u001b[0m\u001b[1;33m.\u001b[0m\u001b[0mx\u001b[0m \u001b[1;33m/\u001b[0m \u001b[0mself\u001b[0m\u001b[1;33m.\u001b[0m\u001b[0my\u001b[0m\u001b[1;33m\u001b[0m\u001b[1;33m\u001b[0m\u001b[0m\n\u001b[0m\u001b[0;32m     16\u001b[0m         \u001b[1;32mreturn\u001b[0m \u001b[0mresult\u001b[0m\u001b[1;33m\u001b[0m\u001b[1;33m\u001b[0m\u001b[0m\n\u001b[0;32m     17\u001b[0m \u001b[1;33m\u001b[0m\u001b[0m\n",
      "\u001b[1;31mZeroDivisionError\u001b[0m: division by zero"
     ]
    }
   ],
   "source": [
    "fc.divf()"
   ]
  },
  {
   "cell_type": "code",
   "execution_count": null,
   "id": "7aceba78",
   "metadata": {},
   "outputs": [],
   "source": []
  },
  {
   "cell_type": "code",
   "execution_count": 120,
   "id": "8dc8c972",
   "metadata": {},
   "outputs": [],
   "source": [
    "class SafeCal(FourCal):\n",
    "    def divf(self):        # 부모 클래스의 메소드를 수정 -> override\n",
    "        if self.y == 0:\n",
    "            return 0\n",
    "        else : \n",
    "            return self.x/self.y"
   ]
  },
  {
   "cell_type": "code",
   "execution_count": 122,
   "id": "2f108624",
   "metadata": {},
   "outputs": [],
   "source": [
    "sc = SafeCal(2,0)"
   ]
  },
  {
   "cell_type": "code",
   "execution_count": 123,
   "id": "802c53f4",
   "metadata": {},
   "outputs": [
    {
     "data": {
      "text/plain": [
       "0"
      ]
     },
     "execution_count": 123,
     "metadata": {},
     "output_type": "execute_result"
    }
   ],
   "source": [
    "sc.divf()"
   ]
  },
  {
   "cell_type": "code",
   "execution_count": null,
   "id": "e5c560b6",
   "metadata": {},
   "outputs": [],
   "source": []
  },
  {
   "cell_type": "code",
   "execution_count": null,
   "id": "773bf0ef",
   "metadata": {},
   "outputs": [],
   "source": [
    "# 클래식 메소드\n",
    "# 스테틱 메소드"
   ]
  },
  {
   "cell_type": "code",
   "execution_count": 140,
   "id": "0be9c974",
   "metadata": {},
   "outputs": [],
   "source": [
    "class Sam :\n",
    "    \n",
    "    data = 'python'     #클래스 변수\n",
    "    \n",
    "    def __init__(self):\n",
    "        self.data1 = 'korea'  #인스턴스 변수\n",
    "        \n",
    "    def instance_method(self):\n",
    "        print('instance method :', self.data1)\n",
    "        \n",
    "#래스 메소드, cls키워드로 클래스 변수에 접근, 매개변수 cls를 받음\n",
    "    @classmethod\n",
    "    def class_method(cls):        \n",
    "        print('class method :', cls.data)\n",
    "#       print('class method :', cls.data1) - 클래스 메소드는인스턴스 변수 접근 불가 \n",
    "        \n",
    "        #스테틱 메소드,self, cls 매개변수를 받지 않음..\n",
    "    def static_method():\n",
    "        print('static method :', Sam.data)\n",
    "#       print('class method :', cls.data)"
   ]
  },
  {
   "cell_type": "code",
   "execution_count": 141,
   "id": "4d1226d7",
   "metadata": {},
   "outputs": [],
   "source": [
    "s = Sam()"
   ]
  },
  {
   "cell_type": "code",
   "execution_count": 142,
   "id": "6a02420f",
   "metadata": {},
   "outputs": [
    {
     "name": "stdout",
     "output_type": "stream",
     "text": [
      "instance method : korea\n"
     ]
    }
   ],
   "source": [
    "s.instance_method()"
   ]
  },
  {
   "cell_type": "code",
   "execution_count": 143,
   "id": "0846d009",
   "metadata": {
    "scrolled": true
   },
   "outputs": [
    {
     "name": "stdout",
     "output_type": "stream",
     "text": [
      "instance method : korea\n",
      "class method : python\n",
      "static method : python\n"
     ]
    }
   ],
   "source": [
    "s.instance_method()\n",
    "s.class_method()\n",
    "Sam.static_method()"
   ]
  },
  {
   "cell_type": "code",
   "execution_count": 144,
   "id": "20cbe71b",
   "metadata": {},
   "outputs": [
    {
     "name": "stdout",
     "output_type": "stream",
     "text": [
      "class method : python\n"
     ]
    }
   ],
   "source": [
    "Sam.class_method()"
   ]
  },
  {
   "cell_type": "code",
   "execution_count": null,
   "id": "3c818ad6",
   "metadata": {},
   "outputs": [],
   "source": [
    "# 클래스 메소드나 스테틱 메소드는 객체를 생성하지 않고 클래스명으로 바로 호출 가능..\n",
    "# 클래스 메소드와 스테틱 메소드는 클래스 변수에만 접근이 가능하다..\n",
    "# 클래스 메소드 cls 키워드를 사용\n",
    "# 스테틱 메소드 cls를 사용하지 않고 클래스 명으로 호출한다...."
   ]
  },
  {
   "cell_type": "code",
   "execution_count": 145,
   "id": "b9d3a96b",
   "metadata": {},
   "outputs": [],
   "source": [
    "students = [\n",
    "    {'name':'윤인성','korean':87, 'math':98, 'english':96,'science':82},\n",
    "    {'name':'박민수','korean':87, 'math':98, 'english':96,'science':82},\n",
    "    {'name':'이철호','korean':87, 'math':98, 'english':96,'science':82},\n",
    "    {'name':'제이슨','korean':87, 'math':98, 'english':96,'science':82},\n",
    "    {'name':'토마스','korean':87, 'math':98, 'english':96,'science':82},\n",
    "    {'name':'유인태','korean':87, 'math':98, 'english':96,'science':82},\n",
    "]"
   ]
  },
  {
   "cell_type": "code",
   "execution_count": 146,
   "id": "d9296068",
   "metadata": {},
   "outputs": [],
   "source": [
    "# 이름 총점 평점\n",
    "# 윤인성 93 72"
   ]
  },
  {
   "cell_type": "code",
   "execution_count": null,
   "id": "f0544322",
   "metadata": {},
   "outputs": [],
   "source": [
    "students \n",
    "for i in students :\n",
    "    if i  \n",
    "print(name,max(),avg)\n"
   ]
  },
  {
   "cell_type": "code",
   "execution_count": 148,
   "id": "3c3e1260",
   "metadata": {
    "collapsed": true
   },
   "outputs": [
    {
     "ename": "NameError",
     "evalue": "name 'name' is not defined",
     "output_type": "error",
     "traceback": [
      "\u001b[1;31m---------------------------------------------------------------------------\u001b[0m",
      "\u001b[1;31mNameError\u001b[0m                                 Traceback (most recent call last)",
      "\u001b[1;32m~\\AppData\\Local\\Temp/ipykernel_784/3859222065.py\u001b[0m in \u001b[0;36m<module>\u001b[1;34m\u001b[0m\n\u001b[0;32m      1\u001b[0m \u001b[1;32mfor\u001b[0m \u001b[0ms\u001b[0m \u001b[1;32min\u001b[0m \u001b[0mstudents\u001b[0m\u001b[1;33m:\u001b[0m\u001b[1;33m\u001b[0m\u001b[1;33m\u001b[0m\u001b[0m\n\u001b[1;32m----> 2\u001b[1;33m     \u001b[0mprint\u001b[0m\u001b[1;33m(\u001b[0m\u001b[0mname\u001b[0m\u001b[1;33m,\u001b[0m\u001b[0mkorean\u001b[0m\u001b[1;33m+\u001b[0m\u001b[0mmath\u001b[0m\u001b[1;33m+\u001b[0m\u001b[0menglish\u001b[0m\u001b[1;33m+\u001b[0m\u001b[0mscience\u001b[0m\u001b[1;33m,\u001b[0m\u001b[0mkorean\u001b[0m\u001b[1;33m+\u001b[0m\u001b[0mmath\u001b[0m\u001b[1;33m+\u001b[0m\u001b[0menglish\u001b[0m\u001b[1;33m+\u001b[0m\u001b[0mscience\u001b[0m\u001b[1;33m/\u001b[0m\u001b[1;36m4\u001b[0m\u001b[1;33m)\u001b[0m\u001b[1;33m\u001b[0m\u001b[1;33m\u001b[0m\u001b[0m\n\u001b[0m",
      "\u001b[1;31mNameError\u001b[0m: name 'name' is not defined"
     ]
    }
   ],
   "source": [
    "print('Name','Total','Avg',sep=)"
   ]
  },
  {
   "cell_type": "code",
   "execution_count": 151,
   "id": "f61f1bc1",
   "metadata": {},
   "outputs": [
    {
     "data": {
      "text/plain": [
       "{'name': '윤인성', 'korean': 87, 'math': 88, 'english': 94, 'science': 66}"
      ]
     },
     "execution_count": 151,
     "metadata": {},
     "output_type": "execute_result"
    }
   ],
   "source": [
    "def create_student(name, kor, math, eng, sci):          # 딕셔너리화 \n",
    "    return{'name':name,'korean':kor, 'math':math, 'english':eng,'science':sci}\n",
    "\n",
    "create_student('윤인성',87,88,94,66)"
   ]
  },
  {
   "cell_type": "code",
   "execution_count": 152,
   "id": "7c315692",
   "metadata": {},
   "outputs": [],
   "source": [
    "def student_get_sum(s):\n",
    "    return s['korean'] +s['math'] + s['english'] + s['science']"
   ]
  },
  {
   "cell_type": "code",
   "execution_count": 153,
   "id": "49888a5b",
   "metadata": {},
   "outputs": [],
   "source": [
    "def student_get_average(s):\n",
    "    return student_get_sum(s)/4"
   ]
  },
  {
   "cell_type": "code",
   "execution_count": 158,
   "id": "161a8a8d",
   "metadata": {},
   "outputs": [],
   "source": [
    "def student_to_string(s):\n",
    "    return \"{}\\t{}\\t{}\".format(s['name'], student_get_sum(s), student_get_average(s))"
   ]
  },
  {
   "cell_type": "code",
   "execution_count": 159,
   "id": "02547a6c",
   "metadata": {},
   "outputs": [
    {
     "name": "stdout",
     "output_type": "stream",
     "text": [
      "윤인성\t328\t82.0\n",
      "윤인성\t328\t82.0\n",
      "윤인성\t328\t82.0\n",
      "윤인성\t328\t82.0\n",
      "윤인성\t328\t82.0\n",
      "윤인성\t328\t82.0\n"
     ]
    }
   ],
   "source": [
    "s = [\n",
    "    create_student ('윤인성',87,98,66,77),\n",
    "    create_student ('윤인성',87,98,66,77),\n",
    "    create_student ('윤인성',87,98,66,77),\n",
    "    create_student ('윤인성',87,98,66,77),\n",
    "    create_student ('윤인성',87,98,66,77),\n",
    "    create_student ('윤인성',87,98,66,77),\n",
    "\n",
    "]\n",
    "\n",
    "for i in s:\n",
    "    print(student_to_string(i))"
   ]
  },
  {
   "cell_type": "code",
   "execution_count": null,
   "id": "2e4cda33",
   "metadata": {},
   "outputs": [],
   "source": []
  },
  {
   "cell_type": "code",
   "execution_count": 160,
   "id": "727ba31c",
   "metadata": {},
   "outputs": [],
   "source": [
    "class Student :\n",
    "    def __init__ (self, name, kor, math, eng, sci):\n",
    "        self.name = name\n",
    "        self.kor = kor\n",
    "        self.math = math\n",
    "        self.eng = eng\n",
    "        self.sci = sci\n",
    "        \n",
    "    def get_sum(self):\n",
    "        return self.kor + self.math + self.eng + self.sci\n",
    "        \n",
    "    def get_average(self):\n",
    "        return self.get_sum()/4\n",
    "    \n",
    "    def to_string(self):\n",
    "        return \"{}\\t{}\\t{}\".format(self.name, self.get_sum(), self.get_average())"
   ]
  },
  {
   "cell_type": "code",
   "execution_count": 161,
   "id": "ae329666",
   "metadata": {},
   "outputs": [
    {
     "ename": "AttributeError",
     "evalue": "'dict' object has no attribute 'to_string'",
     "output_type": "error",
     "traceback": [
      "\u001b[1;31m---------------------------------------------------------------------------\u001b[0m",
      "\u001b[1;31mAttributeError\u001b[0m                            Traceback (most recent call last)",
      "\u001b[1;32m~\\AppData\\Local\\Temp/ipykernel_784/3733440238.py\u001b[0m in \u001b[0;36m<module>\u001b[1;34m\u001b[0m\n\u001b[0;32m     10\u001b[0m \u001b[1;33m\u001b[0m\u001b[0m\n\u001b[0;32m     11\u001b[0m \u001b[1;32mfor\u001b[0m \u001b[0ms\u001b[0m \u001b[1;32min\u001b[0m \u001b[0mstudents\u001b[0m \u001b[1;33m:\u001b[0m\u001b[1;33m\u001b[0m\u001b[1;33m\u001b[0m\u001b[0m\n\u001b[1;32m---> 12\u001b[1;33m     \u001b[0mprint\u001b[0m\u001b[1;33m(\u001b[0m\u001b[0ms\u001b[0m\u001b[1;33m.\u001b[0m\u001b[0mto_string\u001b[0m\u001b[1;33m(\u001b[0m\u001b[1;33m)\u001b[0m\u001b[1;33m)\u001b[0m\u001b[1;33m\u001b[0m\u001b[1;33m\u001b[0m\u001b[0m\n\u001b[0m",
      "\u001b[1;31mAttributeError\u001b[0m: 'dict' object has no attribute 'to_string'"
     ]
    }
   ],
   "source": [
    "students = [\n",
    "    create_student ('윤인성',87,98,66,77),\n",
    "    create_student ('윤인성',87,98,66,77),\n",
    "    create_student ('윤인성',87,98,66,77),\n",
    "    create_student ('윤인성',87,98,66,77),\n",
    "    create_student ('윤인성',87,98,66,77),\n",
    "    create_student ('윤인성',87,98,66,77),\n",
    "\n",
    "]\n",
    "\n",
    "for s in students :\n",
    "    print(s.to_string())"
   ]
  },
  {
   "cell_type": "code",
   "execution_count": null,
   "id": "a5fea3a0",
   "metadata": {},
   "outputs": [],
   "source": []
  },
  {
   "cell_type": "code",
   "execution_count": null,
   "id": "2767f02d",
   "metadata": {},
   "outputs": [],
   "source": [
    "# 은닉화\n",
    "# 클래스 내에서 변수의 값을 노출시키고 싶지 않을 때, 변수를 "
   ]
  },
  {
   "cell_type": "code",
   "execution_count": 167,
   "id": "15118b26",
   "metadata": {},
   "outputs": [],
   "source": [
    "import math\n",
    "\n",
    "class Circle:\n",
    "    def __init__(self, radius):\n",
    "        self.__radius = radius #__ 변수명: 외부에서 접근 금지.클래스 내의 메소드에서만 접근가능\n",
    "    def get_circumference(self):\n",
    "        return 2 * math.pi * self._radius\n",
    "    def ger_area(self):\n",
    "        return math.pi * (self._radius**2)\n",
    "    \n",
    "    #게터와 세터\n",
    "    # 게터 : 은닉된 변수의 값을 얻어올 수 있는 메소드\n",
    "    # 세터 : 은닉된 변수의 값을 수정할 수 있도록 하는 메소드\n",
    "    \n",
    "    @property\n",
    "    def get_radius(self):\n",
    "        return self._radius\n",
    "    \n",
    "    @get_radius.setter\n",
    "    def set_radius(self, value):\n",
    "        if value <= 0:\n",
    "            raise TypeError(\"길이는 양의 숫자이어야 합니다.\")\n",
    "        self._radius = value"
   ]
  },
  {
   "cell_type": "code",
   "execution_count": 168,
   "id": "f047f788",
   "metadata": {},
   "outputs": [],
   "source": [
    "cir = Circle"
   ]
  },
  {
   "cell_type": "code",
   "execution_count": 169,
   "id": "5bbf13bd",
   "metadata": {},
   "outputs": [
    {
     "ename": "TypeError",
     "evalue": "get_circumference() missing 1 required positional argument: 'self'",
     "output_type": "error",
     "traceback": [
      "\u001b[1;31m---------------------------------------------------------------------------\u001b[0m",
      "\u001b[1;31mTypeError\u001b[0m                                 Traceback (most recent call last)",
      "\u001b[1;32m~\\AppData\\Local\\Temp/ipykernel_784/4188425741.py\u001b[0m in \u001b[0;36m<module>\u001b[1;34m\u001b[0m\n\u001b[1;32m----> 1\u001b[1;33m \u001b[0mcir\u001b[0m\u001b[1;33m.\u001b[0m\u001b[0mget_circumference\u001b[0m\u001b[1;33m(\u001b[0m\u001b[1;33m)\u001b[0m\u001b[1;33m\u001b[0m\u001b[1;33m\u001b[0m\u001b[0m\n\u001b[0m",
      "\u001b[1;31mTypeError\u001b[0m: get_circumference() missing 1 required positional argument: 'self'"
     ]
    }
   ],
   "source": [
    "cir.get_circumference()"
   ]
  },
  {
   "cell_type": "code",
   "execution_count": 165,
   "id": "ae4f0fb5",
   "metadata": {},
   "outputs": [
    {
     "ename": "AttributeError",
     "evalue": "type object 'Circle' has no attribute 'get_area'",
     "output_type": "error",
     "traceback": [
      "\u001b[1;31m---------------------------------------------------------------------------\u001b[0m",
      "\u001b[1;31mAttributeError\u001b[0m                            Traceback (most recent call last)",
      "\u001b[1;32m~\\AppData\\Local\\Temp/ipykernel_784/3694671198.py\u001b[0m in \u001b[0;36m<module>\u001b[1;34m\u001b[0m\n\u001b[1;32m----> 1\u001b[1;33m \u001b[0mcir\u001b[0m\u001b[1;33m.\u001b[0m\u001b[0mget_area\u001b[0m\u001b[1;33m(\u001b[0m\u001b[1;33m)\u001b[0m\u001b[1;33m\u001b[0m\u001b[1;33m\u001b[0m\u001b[0m\n\u001b[0m",
      "\u001b[1;31mAttributeError\u001b[0m: type object 'Circle' has no attribute 'get_area'"
     ]
    }
   ],
   "source": [
    "cir.get_area()"
   ]
  },
  {
   "cell_type": "code",
   "execution_count": 166,
   "id": "e5e3ccb8",
   "metadata": {},
   "outputs": [
    {
     "ename": "AttributeError",
     "evalue": "type object 'Circle' has no attribute '__radius'",
     "output_type": "error",
     "traceback": [
      "\u001b[1;31m---------------------------------------------------------------------------\u001b[0m",
      "\u001b[1;31mAttributeError\u001b[0m                            Traceback (most recent call last)",
      "\u001b[1;32m~\\AppData\\Local\\Temp/ipykernel_784/4121126921.py\u001b[0m in \u001b[0;36m<module>\u001b[1;34m\u001b[0m\n\u001b[1;32m----> 1\u001b[1;33m \u001b[0mcir\u001b[0m\u001b[1;33m.\u001b[0m\u001b[0m__radius\u001b[0m        \u001b[1;31m#외부에서 접근이 안됨\u001b[0m\u001b[1;33m\u001b[0m\u001b[1;33m\u001b[0m\u001b[0m\n\u001b[0m",
      "\u001b[1;31mAttributeError\u001b[0m: type object 'Circle' has no attribute '__radius'"
     ]
    }
   ],
   "source": [
    "cir.__radius        #외부에서 접근이 안됨"
   ]
  },
  {
   "cell_type": "code",
   "execution_count": null,
   "id": "4bf16ead",
   "metadata": {},
   "outputs": [],
   "source": [
    "cir.get_radius"
   ]
  },
  {
   "cell_type": "code",
   "execution_count": null,
   "id": "bfe36d5e",
   "metadata": {},
   "outputs": [],
   "source": []
  },
  {
   "cell_type": "code",
   "execution_count": null,
   "id": "1d33243c",
   "metadata": {},
   "outputs": [],
   "source": []
  },
  {
   "cell_type": "code",
   "execution_count": null,
   "id": "928d5bd1",
   "metadata": {},
   "outputs": [],
   "source": []
  },
  {
   "cell_type": "code",
   "execution_count": null,
   "id": "1f7faf67",
   "metadata": {},
   "outputs": [],
   "source": []
  },
  {
   "cell_type": "code",
   "execution_count": null,
   "id": "ebecd5cb",
   "metadata": {},
   "outputs": [],
   "source": []
  },
  {
   "cell_type": "code",
   "execution_count": null,
   "id": "5249dd96",
   "metadata": {},
   "outputs": [],
   "source": []
  },
  {
   "cell_type": "code",
   "execution_count": null,
   "id": "b062e7aa",
   "metadata": {},
   "outputs": [],
   "source": []
  },
  {
   "cell_type": "code",
   "execution_count": null,
   "id": "f596cfa5",
   "metadata": {},
   "outputs": [],
   "source": []
  }
 ],
 "metadata": {
  "kernelspec": {
   "display_name": "Python 3 (ipykernel)",
   "language": "python",
   "name": "python3"
  },
  "language_info": {
   "codemirror_mode": {
    "name": "ipython",
    "version": 3
   },
   "file_extension": ".py",
   "mimetype": "text/x-python",
   "name": "python",
   "nbconvert_exporter": "python",
   "pygments_lexer": "ipython3",
   "version": "3.9.7"
  }
 },
 "nbformat": 4,
 "nbformat_minor": 5
}
