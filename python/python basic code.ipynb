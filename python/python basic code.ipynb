{
 "cells": [
  {
   "cell_type": "code",
   "execution_count": null,
   "id": "8d62fd88",
   "metadata": {},
   "outputs": [],
   "source": [
    "#if"
   ]
  },
  {
   "cell_type": "code",
   "execution_count": 3,
   "id": "476bdd99",
   "metadata": {},
   "outputs": [
    {
     "name": "stdout",
     "output_type": "stream",
     "text": [
      "임의의 수를 입력하세요..10\n"
     ]
    },
    {
     "data": {
      "text/plain": [
       "20"
      ]
     },
     "execution_count": 3,
     "metadata": {},
     "output_type": "execute_result"
    }
   ],
   "source": [
    "num = int(input('임의의 수를 입력하세요..'))\n",
    "\n",
    "suma = 0\n",
    "for i in range(num):\n",
    "    if i % 2 == 0:\n",
    "        suma += i\n",
    "    \n",
    "suma"
   ]
  },
  {
   "cell_type": "code",
   "execution_count": null,
   "id": "c0466c0a",
   "metadata": {},
   "outputs": [],
   "source": []
  },
  {
   "cell_type": "code",
   "execution_count": 4,
   "id": "f61974c1",
   "metadata": {},
   "outputs": [
    {
     "name": "stdout",
     "output_type": "stream",
     "text": [
      "이름을 입력하세요jane\n"
     ]
    }
   ],
   "source": [
    "names = {'mary':1520, 'tom':5214, 'park':5478, \"sams\": 5478}\n",
    "\n",
    "nam = input('이름을 입력하세요')\n",
    "\n",
    "if nam in names:\n",
    "    print(names[nam])\n",
    "    \n",
    "else:\n",
    "    names[nam] = 2000          # 없을 경우 추가"
   ]
  },
  {
   "cell_type": "code",
   "execution_count": 5,
   "id": "53d6769b",
   "metadata": {},
   "outputs": [
    {
     "data": {
      "text/plain": [
       "{'mary': 1520, 'tom': 5214, 'park': 5478, 'sams': 5478, 'jane': 2000}"
      ]
     },
     "execution_count": 5,
     "metadata": {},
     "output_type": "execute_result"
    }
   ],
   "source": [
    "names"
   ]
  },
  {
   "cell_type": "code",
   "execution_count": null,
   "id": "5bcff011",
   "metadata": {},
   "outputs": [],
   "source": []
  },
  {
   "cell_type": "code",
   "execution_count": 6,
   "id": "73962ea2",
   "metadata": {},
   "outputs": [
    {
     "name": "stdout",
     "output_type": "stream",
     "text": [
      "정수를 입력하세요75\n",
      "C학점입니다.\n"
     ]
    }
   ],
   "source": [
    "score = int(input('정수를 입력하세요'))\n",
    "\n",
    "if score >= 90:\n",
    "    print(\"A학점입니다.\")\n",
    "elif 90 > score >= 80 :\n",
    "    print(\"B학점입니다.\")\n",
    "elif 80 > score >= 70:\n",
    "    print(\"C학점입니다.\")\n",
    "else :\n",
    "    print(\"D학점입니다.\")"
   ]
  },
  {
   "cell_type": "code",
   "execution_count": null,
   "id": "492318e8",
   "metadata": {},
   "outputs": [],
   "source": []
  },
  {
   "cell_type": "code",
   "execution_count": null,
   "id": "2bbb99cf",
   "metadata": {},
   "outputs": [],
   "source": [
    "# For 문"
   ]
  },
  {
   "cell_type": "code",
   "execution_count": 12,
   "id": "59e53cb2",
   "metadata": {},
   "outputs": [
    {
     "name": "stdout",
     "output_type": "stream",
     "text": [
      "OIU"
     ]
    }
   ],
   "source": [
    "text = 'python is fun'\n",
    "\n",
    "for c in text:\n",
    "    if c in 'aeiou':\n",
    "        print(c.upper(), end='')"
   ]
  },
  {
   "cell_type": "code",
   "execution_count": 13,
   "id": "41e6a522",
   "metadata": {},
   "outputs": [
    {
     "name": "stdout",
     "output_type": "stream",
     "text": [
      "0 p\n",
      "1 y\n",
      "2 t\n",
      "3 h\n",
      "4 o\n",
      "5 n\n",
      "6  \n",
      "7 i\n",
      "8 s\n",
      "9  \n",
      "10 f\n",
      "11 u\n",
      "12 n\n"
     ]
    }
   ],
   "source": [
    "text = 'python is fun'\n",
    "\n",
    "for i in range(len(text)):\n",
    "    print(i, text[i])"
   ]
  },
  {
   "cell_type": "code",
   "execution_count": null,
   "id": "8c5ac3a6",
   "metadata": {},
   "outputs": [],
   "source": [
    "text = 'python is fun'\n",
    "\n",
    "for i,j in enumerate(text):        #enumerate\n",
    "    print(i,j)"
   ]
  },
  {
   "cell_type": "code",
   "execution_count": null,
   "id": "c4b2f093",
   "metadata": {},
   "outputs": [],
   "source": [
    "even_list = []\n",
    "for i in range(1,21):\n",
    "    if i%2 == 0:\n",
    "        even.list.append(i)\n",
    "even_list"
   ]
  },
  {
   "cell_type": "code",
   "execution_count": null,
   "id": "4268124f",
   "metadata": {},
   "outputs": [],
   "source": [
    "even_list = []\n",
    "count = 0\n",
    "while count < 20:\n",
    "    if count%2 == 0:\n",
    "        even_list.append(count)\n",
    "        count += 1\n",
    "even_list"
   ]
  },
  {
   "cell_type": "code",
   "execution_count": null,
   "id": "6755ba98",
   "metadata": {},
   "outputs": [],
   "source": [
    "[i for i in range(1,21) if i%2==0]"
   ]
  },
  {
   "cell_type": "code",
   "execution_count": null,
   "id": "0a20767b",
   "metadata": {},
   "outputs": [],
   "source": [
    "count = 0\n",
    "while count < 10:\n",
    "     count += 1\n",
    "    if count < 3:\n",
    "        continue\n",
    "    if count > 6:\n",
    "        break\n",
    "    print(count)"
   ]
  },
  {
   "cell_type": "code",
   "execution_count": null,
   "id": "b60bd5e2",
   "metadata": {},
   "outputs": [],
   "source": [
    "x = ['a','b','c','d','e']\n",
    "y = ['가','나','다','라','마']\n",
    "L = []\n",
    "\n",
    "for i in range(len(x))\n",
    "    L.append(x[i],y[i])\n",
    "L"
   ]
  },
  {
   "cell_type": "code",
   "execution_count": null,
   "id": "3d645e6a",
   "metadata": {},
   "outputs": [],
   "source": [
    "L = []\n",
    "for i in zip(x,y):\n",
    "    L.append(i)\n",
    "L"
   ]
  },
  {
   "cell_type": "code",
   "execution_count": null,
   "id": "7a1f22d1",
   "metadata": {},
   "outputs": [],
   "source": [
    "text = \"computational thinking\"\n",
    "L = []\n",
    "\n",
    "for i in range(0, len(text), 2):\n",
    "    L.append(text[i])\n",
    "L"
   ]
  },
  {
   "cell_type": "code",
   "execution_count": null,
   "id": "3b244b91",
   "metadata": {},
   "outputs": [],
   "source": [
    "count = 0\n",
    "score_sum = 0\n",
    "while count < 5:\n",
    "    score = int(input('정수를 입력하세요'))\n",
    "    score_sum += score\n",
    "    count += 1\n",
    "score_sum/ 5"
   ]
  },
  {
   "cell_type": "code",
   "execution_count": null,
   "id": "50fdc9ae",
   "metadata": {},
   "outputs": [],
   "source": [
    "text = 'hello world'\n",
    "\n",
    "for i,j in enumerate(text):\n",
    "    print(i,j)"
   ]
  },
  {
   "cell_type": "code",
   "execution_count": null,
   "id": "db3f2343",
   "metadata": {},
   "outputs": [],
   "source": [
    "for i in range(1, 10):\n",
    "    for j in range(1. 10):\n",
    "        print(\"{}*{}={2:>2}\".format(i, j , i*j)), end=' ')         # 2:> 오른쪽으로 정렬해라 \n",
    "        \n",
    "        \n",
    "    print()"
   ]
  },
  {
   "cell_type": "code",
   "execution_count": null,
   "id": "e897c97c",
   "metadata": {},
   "outputs": [],
   "source": []
  },
  {
   "cell_type": "code",
   "execution_count": null,
   "id": "9a27c119",
   "metadata": {},
   "outputs": [],
   "source": []
  },
  {
   "cell_type": "code",
   "execution_count": null,
   "id": "bad437e2",
   "metadata": {},
   "outputs": [],
   "source": []
  },
  {
   "cell_type": "code",
   "execution_count": null,
   "id": "047d122f",
   "metadata": {},
   "outputs": [],
   "source": []
  },
  {
   "cell_type": "code",
   "execution_count": null,
   "id": "9fe6f7db",
   "metadata": {},
   "outputs": [],
   "source": []
  },
  {
   "cell_type": "code",
   "execution_count": null,
   "id": "548125f7",
   "metadata": {},
   "outputs": [],
   "source": []
  }
 ],
 "metadata": {
  "kernelspec": {
   "display_name": "Python 3 (ipykernel)",
   "language": "python",
   "name": "python3"
  },
  "language_info": {
   "codemirror_mode": {
    "name": "ipython",
    "version": 3
   },
   "file_extension": ".py",
   "mimetype": "text/x-python",
   "name": "python",
   "nbconvert_exporter": "python",
   "pygments_lexer": "ipython3",
   "version": "3.9.7"
  }
 },
 "nbformat": 4,
 "nbformat_minor": 5
}
