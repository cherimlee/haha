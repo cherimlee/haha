{
 "cells": [
  {
   "cell_type": "code",
   "execution_count": 1,
   "id": "b2725355",
   "metadata": {},
   "outputs": [],
   "source": [
    "import requests\n",
    "from bs4 import BeautifulSoup\n",
    "\n",
    "from selenium import webdriver\n",
    "from selenium .webdriver.common.keys import Keys"
   ]
  },
  {
   "cell_type": "code",
   "execution_count": 2,
   "id": "3b60c672",
   "metadata": {},
   "outputs": [],
   "source": [
    "driver = webdriver.Chrome()"
   ]
  },
  {
   "cell_type": "code",
   "execution_count": 11,
   "id": "20d3ec0b",
   "metadata": {},
   "outputs": [],
   "source": [
    "url = 'https://korean.visitkorea.or.kr/'\n",
    "driver.get(url)"
   ]
  },
  {
   "cell_type": "code",
   "execution_count": 14,
   "id": "5d9b5545",
   "metadata": {},
   "outputs": [
    {
     "name": "stderr",
     "output_type": "stream",
     "text": [
      "C:\\Users\\bitcamp\\AppData\\Local\\Temp/ipykernel_10460/2867105895.py:2: DeprecationWarning: find_element_by_* commands are deprecated. Please use find_element() instead\n",
      "  elem = driver.find_element_by_id('inp_search')\n"
     ]
    }
   ],
   "source": [
    "#inp_search\n",
    "elem = driver.find_element_by_id('inp_search')"
   ]
  },
  {
   "cell_type": "code",
   "execution_count": 15,
   "id": "98c5e9fd",
   "metadata": {},
   "outputs": [],
   "source": [
    "elem.send_keys('포항')"
   ]
  },
  {
   "cell_type": "code",
   "execution_count": 16,
   "id": "c07d5dd2",
   "metadata": {},
   "outputs": [],
   "source": [
    "elem.send_keys(Keys.RETURN)"
   ]
  },
  {
   "cell_type": "code",
   "execution_count": 82,
   "id": "a9afcdcf",
   "metadata": {},
   "outputs": [
    {
     "data": {
      "text/plain": [
       "[<ul class=\"list_thumType type1\"><li><div class=\"photo\"><a href=\"javascript:goSearchDetail('0c4af98c-3fc0-45fd-b4a0-f479bcd4da5a');\"> <img alt=\"일상으로 돌아오는 그날! &lt;br&gt;걷기 좋은 포항으로\" src=\"https://cdn.visitkorea.or.kr/img/call?cmd=VIEW&amp;id=2f819794-cab3-4612-be45-9c3d0210e9e5\"/> </a></div> <div class=\"area_txt\"> <div class=\"tit\"> <a href=\"javascript:goSearchDetail('0c4af98c-3fc0-45fd-b4a0-f479bcd4da5a');\"><em></em>일상으로 돌아오는 그날! <br/>걷기 좋은 <!--HS--><em>포항</em><!--HE-->으로</a> </div> <div class=\"service\"> <p>경상북도 포항시</p> <ul class=\"brandingIcon\" id=\"branding_0c4af98c-3fc0-45fd-b4a0-f479bcd4da5a\"> </ul> </div> <p class=\"tag_type\"><span>#<em></em><em>포항</em>여행</span><span>#<em></em><em>포항</em>가볼만한곳</span><span>#<em></em>곤륜산활공장</span><span>#<em></em>오어사</span><span>#<em></em>호미반도해안둘레길</span><span>#<em></em>연오랑세오녀테마공원</span><span>#<em></em>인생샷</span><span>#<em></em>걷기좋은곳</span> </p></div><button class=\"btn_view\" onclick='viewClick(\"0c4af98c-3fc0-45fd-b4a0-f479bcd4da5a\")' title=\"열기\" type=\"button\">더보기</button><div class=\"pop_subMenu\"> <ul> <li class=\"btn_far\"><a href=\"javascript:\" onclick='setFavoContent(\"0c4af98c-3fc0-45fd-b4a0-f479bcd4da5a\")'>즐겨찾기</a></li> <li class=\"btn_share\" id=\"0c4af98c-3fc0-45fd-b4a0-f479bcd4da5a\"><a href=\"javascript:\" onclick='getShareInfo(\"%EC%9D%BC%EC%83%81%EC%9C%BC%EB%A1%9C%20%EB%8F%8C%EC%95%84%EC%98%A4%EB%8A%94%20%EA%B7%B8%EB%82%A0!%20%3Cbr%3E%EA%B1%B7%EA%B8%B0%20%EC%A2%8B%EC%9D%80%20%3C!HS%3E%ED%8F%AC%ED%95%AD%3C!HE%3E%EC%9C%BC%EB%A1%9C\",\"2f819794-cab3-4612-be45-9c3d0210e9e5\",\"0c4af98c-3fc0-45fd-b4a0-f479bcd4da5a\",\"304\");'>공유하기</a></li> </ul></div></li><li><div class=\"photo\"><a href=\"javascript:goSearchDetail('6607d937-c876-4dd9-b5d9-ee2b56cdeedc');\"> <img alt=\"일출부터 야경까지, &lt;br&gt;포항 당일치기 여행 코스\" src=\"https://cdn.visitkorea.or.kr/img/call?cmd=VIEW&amp;id=e800e1f4-0e7b-49b5-9c2f-0e2a7c953080\"/> </a></div> <div class=\"area_txt\"> <div class=\"tit\"> <a href=\"javascript:goSearchDetail('6607d937-c876-4dd9-b5d9-ee2b56cdeedc');\"><em></em>일출부터 야경까지, <br/><!--HS--><em>포항</em><!--HE--> 당일치기 여행 코스</a> </div> <div class=\"service\"> <p>경상북도 포항시</p> <ul class=\"brandingIcon\" id=\"branding_6607d937-c876-4dd9-b5d9-ee2b56cdeedc\"> </ul> </div> <p class=\"tag_type\"><span>#<em></em><em>포항</em>여행</span><span>#<em></em><em>포항</em>가볼만한곳</span><span>#<em></em>이가리닻전망대</span><span>#<em></em>덕동문화마을</span><span>#<em></em>가배원</span><span>#<em></em>장길리복합낚시공원</span><span>#<em></em>낚시공원</span><span>#<em></em>연오랑세오녀테마공원</span><span>#<em></em>테마공원</span> </p></div><button class=\"btn_view\" onclick='viewClick(\"6607d937-c876-4dd9-b5d9-ee2b56cdeedc\")' title=\"열기\" type=\"button\">더보기</button><div class=\"pop_subMenu\"> <ul> <li class=\"btn_far\"><a href=\"javascript:\" onclick='setFavoContent(\"6607d937-c876-4dd9-b5d9-ee2b56cdeedc\")'>즐겨찾기</a></li> <li class=\"btn_share\" id=\"6607d937-c876-4dd9-b5d9-ee2b56cdeedc\"><a href=\"javascript:\" onclick='getShareInfo(\"%EC%9D%BC%EC%B6%9C%EB%B6%80%ED%84%B0%20%EC%95%BC%EA%B2%BD%EA%B9%8C%EC%A7%80%2C%20%3Cbr%3E%3C!HS%3E%ED%8F%AC%ED%95%AD%3C!HE%3E%20%EB%8B%B9%EC%9D%BC%EC%B9%98%EA%B8%B0%20%EC%97%AC%ED%96%89%20%EC%BD%94%EC%8A%A4\",\"e800e1f4-0e7b-49b5-9c2f-0e2a7c953080\",\"6607d937-c876-4dd9-b5d9-ee2b56cdeedc\",\"304\");'>공유하기</a></li> </ul></div></li><li><div class=\"photo\"><a href=\"javascript:goSearchDetail('26e4b404-6d43-4e6d-b57c-1c4f60563ffa');\"> <img alt=\"강과 사람의 이야기가 포항의 물길\" src=\"https://cdn.visitkorea.or.kr/img/call?cmd=VIEW&amp;id=96ecae1e-47f3-4cbc-949f-b9da762286c3\"/> </a></div> <div class=\"area_txt\"> <div class=\"tit\"> <a href=\"javascript:goSearchDetail('26e4b404-6d43-4e6d-b57c-1c4f60563ffa');\"><em></em>강과 사람의 이야기가 <!--HS--><em>포항</em><!--HE-->의 물길</a> </div> <div class=\"service\"> <p>경상북도 포항시</p> <ul class=\"brandingIcon\" id=\"branding_26e4b404-6d43-4e6d-b57c-1c4f60563ffa\"> </ul> </div> <p class=\"tag_type\"><span>#<em></em><em>포항</em>함체험관</span><span>#<em></em>죽도시장</span><span>#<em></em><em>포항</em>운하</span><span>#<em></em>포스코역사관</span><span>#<em></em>가족여행</span><span>#<em></em>가족체험여행</span><span>#<em></em>이색페험</span><span>#<em></em>바다여행</span><span>#<em></em>여름여행</span><span>#<em></em>여름휴가</span><span>#<em></em>아이와함께</span><span>#<em></em>재래시장</span><span>#<em></em>경상권</span><span>#<em></em>당일코스</span><span>#<em></em>1박2일</span><span>#<em></em>2박3일</span><span>#<em></em>추천코스</span><span>#<em></em>가족코스</span><span>#<em></em>힐링코스</span><span>#<em></em>자연코스</span><span>#<em></em>봄여행지</span><span>#<em></em>경북권</span> </p></div> <p class=\"ar_tag\"> <span>포항함체험관</span> <span>죽도시장</span> <span>포항운하</span> <span>포스코 역사관</span> </p><button class=\"btn_view\" onclick='viewClick(\"26e4b404-6d43-4e6d-b57c-1c4f60563ffa\")' title=\"열기\" type=\"button\">더보기</button><div class=\"pop_subMenu\"> <ul> <li class=\"btn_far\"><a href=\"javascript:\" onclick='setFavoContent(\"26e4b404-6d43-4e6d-b57c-1c4f60563ffa\")'>즐겨찾기</a></li> <li class=\"btn_share\" id=\"26e4b404-6d43-4e6d-b57c-1c4f60563ffa\"><a href=\"javascript:\" onclick='getShareInfo(\"%EA%B0%95%EA%B3%BC%20%EC%82%AC%EB%9E%8C%EC%9D%98%20%EC%9D%B4%EC%95%BC%EA%B8%B0%EA%B0%80%20%3C!HS%3E%ED%8F%AC%ED%95%AD%3C!HE%3E%EC%9D%98%20%EB%AC%BC%EA%B8%B8\",\"96ecae1e-47f3-4cbc-949f-b9da762286c3\",\"26e4b404-6d43-4e6d-b57c-1c4f60563ffa\",\"25\");'>공유하기</a></li> <li class=\"btn_cart\" id=\"26e4b404-6d43-4e6d-b57c-1c4f60563ffa\"><a href=\"javascript:\" onclick='myCourseList(\"C\",\"25\",\"26e4b404-6d43-4e6d-b57c-1c4f60563ffa\",\"\")'>코스에 담기</a></li> </ul></div></li><li><div class=\"photo\"><a href=\"javascript:goSearchDetail('c369e5dd-ca05-4d59-a2f1-ce4ee1de78f5');\"> <img alt=\"남들 다~ 가는 포항 말고, 산과 바다를 100% 즐길 수 있는 포항 가볼만한곳\" src=\"https://cdn.visitkorea.or.kr/img/call?cmd=VIEW&amp;id=4e15d8f9-7029-47ad-9176-e672c8893007\"/> </a></div> <div class=\"area_txt\"> <div class=\"tit\"> <a href=\"javascript:goSearchDetail('c369e5dd-ca05-4d59-a2f1-ce4ee1de78f5');\"><em></em>남들 다~ 가는 <!--HS--><em>포항</em><!--HE--> 말고, 산과 바다를 100% 즐길 수 있는 <!--HS-->포항<!--HE--> 가볼만한곳</a> </div> <div class=\"service\"> <p>경상북도 포항시</p> <ul class=\"brandingIcon\" id=\"branding_c369e5dd-ca05-4d59-a2f1-ce4ee1de78f5\"> </ul> </div> <p class=\"tag_type\"><span>#<em></em><em>포항</em>가볼만한곳</span><span>#<em></em><em>포항</em>여행</span><span>#<em></em>가족여행</span><span>#<em></em>호미곶</span><span>#<em></em>호미반도해안둘레길</span><span>#<em></em>오어사</span><span>#<em></em>장기읍성</span><span>#<em></em>보릿돌교</span> </p></div><button class=\"btn_view\" onclick='viewClick(\"c369e5dd-ca05-4d59-a2f1-ce4ee1de78f5\")' title=\"열기\" type=\"button\">더보기</button><div class=\"pop_subMenu\"> <ul> <li class=\"btn_far\"><a href=\"javascript:\" onclick='setFavoContent(\"c369e5dd-ca05-4d59-a2f1-ce4ee1de78f5\")'>즐겨찾기</a></li> <li class=\"btn_share\" id=\"c369e5dd-ca05-4d59-a2f1-ce4ee1de78f5\"><a href=\"javascript:\" onclick='getShareInfo(\"%EB%82%A8%EB%93%A4%20%EB%8B%A4~%20%EA%B0%80%EB%8A%94%20%3C!HS%3E%ED%8F%AC%ED%95%AD%3C!HE%3E%20%EB%A7%90%EA%B3%A0%2C%20%EC%82%B0%EA%B3%BC%20%EB%B0%94%EB%8B%A4%EB%A5%BC%20100%25%20%EC%A6%90%EA%B8%B8%20%EC%88%98%20%EC%9E%88%EB%8A%94%20%3C!HS%3E%ED%8F%AC%ED%95%AD%3C!HE%3E%20%EA%B0%80%EB%B3%BC%EB%A7%8C%ED%95%9C%EA%B3%B3\",\"4e15d8f9-7029-47ad-9176-e672c8893007\",\"c369e5dd-ca05-4d59-a2f1-ce4ee1de78f5\",\"304\");'>공유하기</a></li> </ul></div></li><li class=\"banner_area\"> <div class=\"pc\"> <a class=\"banner0\" href=\"https://korean.visitkorea.or.kr/detail/event_detail.do?cotid=d80c2c04-6e0c-4b9f-be9c-f08be21a120a\"><span><img alt=\"'당신의 최애 맛집은?' 최애 맛집 제보 이벤트\" src=\"https://cdn.visitkorea.or.kr/img/call?cmd=VIEW&amp;id=1e79be09-10f1-4855-96c0-c2a9c2f1ab86\"/></span></a> <a class=\"banner1\" href=\"https://korean.visitkorea.or.kr/trss/applyintro.do?utm_source=main_showcase\"><span><img alt=\"핫플 정기 배송! 가볼래-터 구독하고 여행 선물 받자!\" src=\"https://cdn.visitkorea.or.kr/img/call?cmd=VIEW&amp;id=de94ca57-7ff4-475c-babd-c3810cda3afc\"/></span></a> </div></li><li><div class=\"photo\"><a href=\"javascript:goSearchDetail('4103a542-ee4e-4bc9-9729-2c2caa185975');\"> <img alt=\"유배 온 선비들은 어떻게 살았을까? 포항 장기유배문화체험촌\" src=\"https://cdn.visitkorea.or.kr/img/call?cmd=VIEW&amp;id=62e15736-5348-4db3-8cd0-56da3baeb7fa\"/> </a></div> <div class=\"area_txt\"> <div class=\"tit\"> <a href=\"javascript:goSearchDetail('4103a542-ee4e-4bc9-9729-2c2caa185975');\"><em></em>유배 온 선비들은 어떻게 살았을까? <!--HS--><em>포항</em><!--HE--> 장기유배문화체험촌</a> </div> <div class=\"service\"> <p>경상북도 포항시</p> <ul class=\"brandingIcon\" id=\"branding_4103a542-ee4e-4bc9-9729-2c2caa185975\"> </ul> </div> <p class=\"tag_type\"><span>#<em></em>공공누리</span><span>#<em></em>숨은관광지</span><span>#<em></em><em>포항</em>여행</span><span>#<em></em><em>포항</em>가볼만한곳</span><span>#<em></em>장기유배문화체험촌</span><span>#<em></em>New_숨은관광지</span> </p></div><button class=\"btn_view\" onclick='viewClick(\"4103a542-ee4e-4bc9-9729-2c2caa185975\")' title=\"열기\" type=\"button\">더보기</button><div class=\"pop_subMenu\"> <ul> <li class=\"btn_far\"><a href=\"javascript:\" onclick='setFavoContent(\"4103a542-ee4e-4bc9-9729-2c2caa185975\")'>즐겨찾기</a></li> <li class=\"btn_share\" id=\"4103a542-ee4e-4bc9-9729-2c2caa185975\"><a href=\"javascript:\" onclick='getShareInfo(\"%EC%9C%A0%EB%B0%B0%20%EC%98%A8%20%EC%84%A0%EB%B9%84%EB%93%A4%EC%9D%80%20%EC%96%B4%EB%96%BB%EA%B2%8C%20%EC%82%B4%EC%95%98%EC%9D%84%EA%B9%8C%3F%20%3C!HS%3E%ED%8F%AC%ED%95%AD%3C!HE%3E%20%EC%9E%A5%EA%B8%B0%EC%9C%A0%EB%B0%B0%EB%AC%B8%ED%99%94%EC%B2%B4%ED%97%98%EC%B4%8C\",\"62e15736-5348-4db3-8cd0-56da3baeb7fa\",\"4103a542-ee4e-4bc9-9729-2c2caa185975\",\"304\");'>공유하기</a></li> </ul></div></li><li><div class=\"photo\"><a href=\"javascript:goSearchDetail('00067122-db46-4ece-aecf-10eb3aaa9069');\"> <img alt=\"포항의 바다를 즐기는 다섯 가지 방법\" src=\"https://cdn.visitkorea.or.kr/img/call?cmd=VIEW&amp;id=ae2b7ca4-2b71-4dcc-9708-6cac48827dab\"/> </a></div> <div class=\"area_txt\"> <div class=\"tit\"> <a href=\"javascript:goSearchDetail('00067122-db46-4ece-aecf-10eb3aaa9069');\"><em></em><!--HS--><em>포항</em><!--HE-->의 바다를 즐기는 다섯 가지 방법</a> </div> <div class=\"service\"> <p>경상북도 포항시</p> <ul class=\"brandingIcon\" id=\"branding_00067122-db46-4ece-aecf-10eb3aaa9069\"> </ul> </div> <p class=\"tag_type\"><span>#<em></em>열린관광_모두의여행</span><span>#<em></em>무장애여행</span><span>#<em></em>무장애여행추천코스</span><span>#<em></em>경상북도</span><span>#<em></em><em>포항</em>시</span><span>#<em></em>장애인추천코스</span><span>#<em></em>국내신혼여행지_어디?</span><span>#<em></em>인생샷_핫플레이스</span><span>#<em></em>SNS속_인생샷명소</span><span>#<em></em>바다풍경여행</span> </p></div><button class=\"btn_view\" onclick='viewClick(\"00067122-db46-4ece-aecf-10eb3aaa9069\")' title=\"열기\" type=\"button\">더보기</button><div class=\"pop_subMenu\"> <ul> <li class=\"btn_far\"><a href=\"javascript:\" onclick='setFavoContent(\"00067122-db46-4ece-aecf-10eb3aaa9069\")'>즐겨찾기</a></li> <li class=\"btn_share\" id=\"00067122-db46-4ece-aecf-10eb3aaa9069\"><a href=\"javascript:\" onclick='getShareInfo(\"%3C!HS%3E%ED%8F%AC%ED%95%AD%3C!HE%3E%EC%9D%98%20%EB%B0%94%EB%8B%A4%EB%A5%BC%20%EC%A6%90%EA%B8%B0%EB%8A%94%20%EB%8B%A4%EC%84%AF%20%EA%B0%80%EC%A7%80%20%EB%B0%A9%EB%B2%95\",\"ae2b7ca4-2b71-4dcc-9708-6cac48827dab\",\"00067122-db46-4ece-aecf-10eb3aaa9069\",\"304\");'>공유하기</a></li> </ul></div></li><li><div class=\"photo\"><a href=\"javascript:goSearchDetail('ec9657fe-725a-425c-9003-616500775977');\"> <img alt=\"도심 속 낭만 명소, 영일만과 포항운하\" src=\"https://cdn.visitkorea.or.kr/img/call?cmd=VIEW&amp;id=de580cb3-0129-4156-bfea-2b1d0a95f9a3\"/> </a></div> <div class=\"area_txt\"> <div class=\"tit\"> <a href=\"javascript:goSearchDetail('ec9657fe-725a-425c-9003-616500775977');\"><em></em>도심 속 낭만 명소, 영일만과 <!--HS--><em>포항</em><!--HE-->운하</a> </div> <div class=\"service\"> <p>경상북도 포항시</p> <ul class=\"brandingIcon\" id=\"branding_ec9657fe-725a-425c-9003-616500775977\"> </ul> </div> <p class=\"tag_type\"><span>#<em></em><em>포항</em></span><span>#<em></em>운하</span><span>#<em></em><em>포항</em>운하관</span><span>#<em></em>영일만크루즈</span><span>#<em></em>죽도시장</span><span>#<em></em>영일대</span><span>#<em></em>영일대해수욕장</span><span>#<em></em>물회</span><span>#<em></em>호미반도해안둘레길</span><span>#<em></em>상생의손</span><span>#<em></em>구룡포근대역사관</span><span>#<em></em>오어사</span><span>#<em></em>여름</span><span>#<em></em>휴가</span><span>#<em></em>가족</span><span>#<em></em>추천가볼만한곳</span><span>#<em></em><em>포항</em>가볼만한곳</span><span>#<em></em><em>포항</em>당일코스</span><span>#<em></em><em>포항</em>1박2일코스</span><span>#<em></em><em>포항</em>맛집</span><span>#<em></em>19_20한국관광100선</span><span>#<em></em>17_18한국관광100선</span><span>#<em></em>경상권</span><span>#<em></em>경북</span><span>#<em></em><em>포항</em>운하</span><span>#<em></em>한국관광100선</span><span>#<em></em>2017년8월추천가볼만한곳</span> </p></div><button class=\"btn_view\" onclick='viewClick(\"ec9657fe-725a-425c-9003-616500775977\")' title=\"열기\" type=\"button\">더보기</button><div class=\"pop_subMenu\"> <ul> <li class=\"btn_far\"><a href=\"javascript:\" onclick='setFavoContent(\"ec9657fe-725a-425c-9003-616500775977\")'>즐겨찾기</a></li> <li class=\"btn_share\" id=\"ec9657fe-725a-425c-9003-616500775977\"><a href=\"javascript:\" onclick='getShareInfo(\"%EB%8F%84%EC%8B%AC%20%EC%86%8D%20%EB%82%AD%EB%A7%8C%20%EB%AA%85%EC%86%8C%2C%20%EC%98%81%EC%9D%BC%EB%A7%8C%EA%B3%BC%20%3C!HS%3E%ED%8F%AC%ED%95%AD%3C!HE%3E%EC%9A%B4%ED%95%98\",\"de580cb3-0129-4156-bfea-2b1d0a95f9a3\",\"ec9657fe-725a-425c-9003-616500775977\",\"304\");'>공유하기</a></li> </ul></div></li><li><div class=\"photo\"><a href=\"javascript:goSearchDetail('721e25fa-8fc6-429f-bc9b-2e9fc7e086d8');\"> <img alt=\"100km 해안 따라 달리는 포항 드라이브\" src=\"https://cdn.visitkorea.or.kr/img/call?cmd=VIEW&amp;id=53ffe92f-08c9-47cb-80bc-b54c46e600cf\"/> </a></div> <div class=\"area_txt\"> <div class=\"tit\"> <a href=\"javascript:goSearchDetail('721e25fa-8fc6-429f-bc9b-2e9fc7e086d8');\"><em></em>100km 해안 따라 달리는 <!--HS--><em>포항</em><!--HE--> 드라이브</a> </div> <div class=\"service\"> <p>경상북도 포항시</p> <ul class=\"brandingIcon\" id=\"branding_721e25fa-8fc6-429f-bc9b-2e9fc7e086d8\"> </ul> </div> <p class=\"tag_type\"><span>#<em></em><em>포항</em>가볼만한곳</span><span>#<em></em>드라이브여행</span><span>#<em></em>해안도로</span><span>#<em></em><em>포항</em>물회</span><span>#<em></em>공공누리</span><span>#<em></em>양<em>포항</em></span><span>#<em></em>929번지방도</span><span>#<em></em>어촌복합공원</span><span>#<em></em>해상공원</span><span>#<em></em>해상펜션</span><span>#<em></em>칠포해수욕장</span><span>#<em></em>월포해수욕장</span><span>#<em></em>화진해수욕장</span><span>#<em></em>오도해수욕장</span><span>#<em></em>해수욕장</span><span>#<em></em>물회</span><span>#<em></em>모리국수</span><span>#<em></em><em>포항</em>맛집</span> </p></div><button class=\"btn_view\" onclick='viewClick(\"721e25fa-8fc6-429f-bc9b-2e9fc7e086d8\")' title=\"열기\" type=\"button\">더보기</button><div class=\"pop_subMenu\"> <ul> <li class=\"btn_far\"><a href=\"javascript:\" onclick='setFavoContent(\"721e25fa-8fc6-429f-bc9b-2e9fc7e086d8\")'>즐겨찾기</a></li> <li class=\"btn_share\" id=\"721e25fa-8fc6-429f-bc9b-2e9fc7e086d8\"><a href=\"javascript:\" onclick='getShareInfo(\"100km%20%ED%95%B4%EC%95%88%20%EB%94%B0%EB%9D%BC%20%EB%8B%AC%EB%A6%AC%EB%8A%94%20%3C!HS%3E%ED%8F%AC%ED%95%AD%3C!HE%3E%20%EB%93%9C%EB%9D%BC%EC%9D%B4%EB%B8%8C\",\"53ffe92f-08c9-47cb-80bc-b54c46e600cf\",\"721e25fa-8fc6-429f-bc9b-2e9fc7e086d8\",\"304\");'>공유하기</a></li> </ul></div></li><li><div class=\"photo\"><a href=\"javascript:goSearchDetail('2b4f6ca0-f1da-4872-8fa0-643c9f177b40');\"> <img alt=\"개성 넘치는 12개 폭포가 펼치는 꿈의 오디션, 포항 내연산 12폭포\" src=\"https://cdn.visitkorea.or.kr/img/call?cmd=VIEW&amp;id=c5759ffd-7ca5-4323-b540-72ea99947697\"/> </a></div> <div class=\"area_txt\"> <div class=\"tit\"> <a href=\"javascript:goSearchDetail('2b4f6ca0-f1da-4872-8fa0-643c9f177b40');\"><em></em>개성 넘치는 12개 폭포가 펼치는 꿈의 오디션, <!--HS--><em>포항</em><!--HE--> 내연산 12폭포</a> </div> <div class=\"service\"> <p>경상북도 포항시</p> <ul class=\"brandingIcon\" id=\"branding_2b4f6ca0-f1da-4872-8fa0-643c9f177b40\"> </ul> </div> <p class=\"tag_type\"><span>#<em></em>경상북도</span><span>#<em></em><em>포항</em></span><span>#<em></em>내연산</span><span>#<em></em>12폭포</span><span>#<em></em>폭포</span><span>#<em></em>연산폭포</span><span>#<em></em>보경사</span><span>#<em></em>상생폭포</span><span>#<em></em>보현폭포</span><span>#<em></em>관음폭포</span><span>#<em></em>덕동문화마을</span><span>#<em></em><em>포항</em>전통문화체험관</span><span>#<em></em>비학산자연휴양림</span><span>#<em></em>영일대해수욕장</span><span>#<em></em>요트</span><span>#<em></em>영일대전망대</span><span>#<em></em>월포해수욕장</span><span>#<em></em>칠표해수욕장</span><span>#<em></em>산</span><span>#<em></em>바다</span><span>#<em></em>휴양림</span><span>#<em></em>가족</span><span>#<em></em>친구</span><span>#<em></em>연인</span><span>#<em></em>여행</span><span>#<em></em>추천가볼만한곳</span><span>#<em></em><em>포항</em>가볼만한곳</span><span>#<em></em><em>포항</em>당일코스</span><span>#<em></em><em>포항</em>1박2일코스</span><span>#<em></em>여름방학가볼만한곳</span><span>#<em></em>피서여행</span><span>#<em></em>2015년8월추천가볼만한곳</span><span>#<em></em>8월추천가볼만한곳</span> </p></div><button class=\"btn_view\" onclick='viewClick(\"2b4f6ca0-f1da-4872-8fa0-643c9f177b40\")' title=\"열기\" type=\"button\">더보기</button><div class=\"pop_subMenu\"> <ul> <li class=\"btn_far\"><a href=\"javascript:\" onclick='setFavoContent(\"2b4f6ca0-f1da-4872-8fa0-643c9f177b40\")'>즐겨찾기</a></li> <li class=\"btn_share\" id=\"2b4f6ca0-f1da-4872-8fa0-643c9f177b40\"><a href=\"javascript:\" onclick='getShareInfo(\"%EA%B0%9C%EC%84%B1%20%EB%84%98%EC%B9%98%EB%8A%94%2012%EA%B0%9C%20%ED%8F%AD%ED%8F%AC%EA%B0%80%20%ED%8E%BC%EC%B9%98%EB%8A%94%20%EA%BF%88%EC%9D%98%20%EC%98%A4%EB%94%94%EC%85%98%2C%20%3C!HS%3E%ED%8F%AC%ED%95%AD%3C!HE%3E%20%EB%82%B4%EC%97%B0%EC%82%B0%2012%ED%8F%AD%ED%8F%AC\",\"c5759ffd-7ca5-4323-b540-72ea99947697\",\"2b4f6ca0-f1da-4872-8fa0-643c9f177b40\",\"304\");'>공유하기</a></li> </ul></div></li><li><div class=\"photo\"><a href=\"javascript:goSearchDetail('8eb01756-a049-4c8d-93a8-d8c02ce79b5e');\"> <img alt=\"어시장 들썩거리는 '포항 관광의 간판'\" src=\"https://cdn.visitkorea.or.kr/img/call?cmd=VIEW&amp;id=b08abda1-ac0a-4564-95a3-c110e32c6021\"/> </a></div> <div class=\"area_txt\"> <div class=\"tit\"> <a href=\"javascript:goSearchDetail('8eb01756-a049-4c8d-93a8-d8c02ce79b5e');\"><em></em>어시장 들썩거리는 '<!--HS--><em>포항</em><!--HE--> 관광의 간판'</a> </div> <div class=\"service\"> <p>경상북도 포항시</p> <ul class=\"brandingIcon\" id=\"branding_8eb01756-a049-4c8d-93a8-d8c02ce79b5e\"> </ul> </div> <p class=\"tag_type\"><span>#<em></em>한국관광의별</span><span>#<em></em><em>포항</em>죽도시장</span><span>#<em></em>전통시장</span><span>#<em></em>시장맛집</span><span>#<em></em>시장먹거리</span><span>#<em></em>물회</span><span>#<em></em>고래고기</span><span>#<em></em>재래시장</span><span>#<em></em>2014</span><span>#<em></em>수상지칼럼</span> </p></div><button class=\"btn_view\" onclick='viewClick(\"8eb01756-a049-4c8d-93a8-d8c02ce79b5e\")' title=\"열기\" type=\"button\">더보기</button><div class=\"pop_subMenu\"> <ul> <li class=\"btn_far\"><a href=\"javascript:\" onclick='setFavoContent(\"8eb01756-a049-4c8d-93a8-d8c02ce79b5e\")'>즐겨찾기</a></li> <li class=\"btn_share\" id=\"8eb01756-a049-4c8d-93a8-d8c02ce79b5e\"><a href=\"javascript:\" onclick='getShareInfo(\"%EC%96%B4%EC%8B%9C%EC%9E%A5%20%EB%93%A4%EC%8D%A9%EA%B1%B0%EB%A6%AC%EB%8A%94%20%26%2339%3B%3C!HS%3E%ED%8F%AC%ED%95%AD%3C!HE%3E%20%EA%B4%80%EA%B4%91%EC%9D%98%20%EA%B0%84%ED%8C%90%26%2339%3B\",\"b08abda1-ac0a-4564-95a3-c110e32c6021\",\"8eb01756-a049-4c8d-93a8-d8c02ce79b5e\",\"304\");'>공유하기</a></li> </ul></div></li></ul>]"
      ]
     },
     "execution_count": 82,
     "metadata": {},
     "output_type": "execute_result"
    }
   ],
   "source": [
    "html = driver.page_source\n",
    "soup = BeautifulSoup(html, 'html.parser')\n",
    "path = '#listBody > ul '\n",
    "loca = soup.select(path)\n",
    "loca\n"
   ]
  },
  {
   "cell_type": "code",
   "execution_count": 88,
   "id": "2bce0852",
   "metadata": {},
   "outputs": [
    {
     "name": "stdout",
     "output_type": "stream",
     "text": [
      "Title 일상으로 돌아오는 그날! 걷기 좋은 포항으로\n",
      "Location 경상북도 포항시\n",
      "Tags #포항여행#포항가볼만한곳#곤륜산활공장#오어사#호미반도해안둘레길#연오랑세오녀테마공원#인생샷#걷기좋은곳 \n",
      "====================================================================================================\n",
      "Title 일출부터 야경까지, 포항 당일치기 여행 코스\n",
      "Location #포항여행#포항가볼만한곳#곤륜산활공장#오어사#호미반도해안둘레길#연오랑세오녀테마공원#인생샷#걷기좋은곳 \n",
      "Tags #포항여행#포항가볼만한곳#이가리닻전망대#덕동문화마을#가배원#장길리복합낚시공원#낚시공원#연오랑세오녀테마공원#테마공원 \n",
      "====================================================================================================\n",
      "Title 강과 사람의 이야기가 포항의 물길\n",
      "Location 경상북도 포항시\n",
      "Tags #포항함체험관#죽도시장#포항운하#포스코역사관#가족여행#가족체험여행#이색페험#바다여행#여름여행#여름휴가#아이와함께#재래시장#경상권#당일코스#1박2일#2박3일#추천코스#가족코스#힐링코스#자연코스#봄여행지#경북권 \n",
      "====================================================================================================\n",
      "Title 남들 다~ 가는 포항 말고, 산과 바다를 100% 즐길 수 있는 포항 가볼만한곳\n",
      "Location #포항여행#포항가볼만한곳#이가리닻전망대#덕동문화마을#가배원#장길리복합낚시공원#낚시공원#연오랑세오녀테마공원#테마공원 \n",
      "Tags #포항가볼만한곳#포항여행#가족여행#호미곶#호미반도해안둘레길#오어사#장기읍성#보릿돌교 \n",
      "====================================================================================================\n",
      "Title '당신의 최애 맛집은?' 최애 맛집 제보 이벤트\n",
      "Location 경상북도 포항시\n",
      "Tags #공공누리#숨은관광지#포항여행#포항가볼만한곳#장기유배문화체험촌#New_숨은관광지 \n",
      "====================================================================================================\n",
      "Title 핫플 정기 배송! 가볼래-터 구독하고 여행 선물 받자!\n",
      "Location #포항함체험관#죽도시장#포항운하#포스코역사관#가족여행#가족체험여행#이색페험#바다여행#여름여행#여름휴가#아이와함께#재래시장#경상권#당일코스#1박2일#2박3일#추천코스#가족코스#힐링코스#자연코스#봄여행지#경북권 \n",
      "Tags #열린관광_모두의여행#무장애여행#무장애여행추천코스#경상북도#포항시#장애인추천코스#국내신혼여행지_어디?#인생샷_핫플레이스#SNS속_인생샷명소#바다풍경여행 \n",
      "====================================================================================================\n",
      "Title 유배 온 선비들은 어떻게 살았을까? 포항 장기유배문화체험촌\n",
      "Location  포항함체험관 죽도시장 포항운하 포스코 역사관 \n",
      "Tags #포항#운하#포항운하관#영일만크루즈#죽도시장#영일대#영일대해수욕장#물회#호미반도해안둘레길#상생의손#구룡포근대역사관#오어사#여름#휴가#가족#추천가볼만한곳#포항가볼만한곳#포항당일코스#포항1박2일코스#포항맛집#19_20한국관광100선#17_18한국관광100선#경상권#경북#포항운하#한국관광100선#2017년8월추천가볼만한곳 \n",
      "====================================================================================================\n",
      "Title 포항의 바다를 즐기는 다섯 가지 방법\n",
      "Location 경상북도 포항시\n",
      "Tags #포항가볼만한곳#드라이브여행#해안도로#포항물회#공공누리#양포항#929번지방도#어촌복합공원#해상공원#해상펜션#칠포해수욕장#월포해수욕장#화진해수욕장#오도해수욕장#해수욕장#물회#모리국수#포항맛집 \n",
      "====================================================================================================\n",
      "Title 도심 속 낭만 명소, 영일만과 포항운하\n",
      "Location #포항가볼만한곳#포항여행#가족여행#호미곶#호미반도해안둘레길#오어사#장기읍성#보릿돌교 \n",
      "Tags #경상북도#포항#내연산#12폭포#폭포#연산폭포#보경사#상생폭포#보현폭포#관음폭포#덕동문화마을#포항전통문화체험관#비학산자연휴양림#영일대해수욕장#요트#영일대전망대#월포해수욕장#칠표해수욕장#산#바다#휴양림#가족#친구#연인#여행#추천가볼만한곳#포항가볼만한곳#포항당일코스#포항1박2일코스#여름방학가볼만한곳#피서여행#2015년8월추천가볼만한곳#8월추천가볼만한곳 \n",
      "====================================================================================================\n",
      "Title 100km 해안 따라 달리는 포항 드라이브\n",
      "Location 경상북도 포항시\n",
      "Tags #한국관광의별#포항죽도시장#전통시장#시장맛집#시장먹거리#물회#고래고기#재래시장#2014#수상지칼럼 \n",
      "====================================================================================================\n"
     ]
    }
   ],
   "source": [
    "for j in range(10):\n",
    "    for i in loca :\n",
    "        print(\"Title\",i.select('img')[j]['alt'].replace('<br>',''))\n",
    "        print(\"Location\",i.select('p')[j].text)\n",
    "        print(\"Tags\",i.select('p.tag_type')[j].text)\n",
    "        print('=' * 100)\n",
    "    #     print(\"본문\",i.select())"
   ]
  },
  {
   "cell_type": "code",
   "execution_count": 75,
   "id": "dcf346ed",
   "metadata": {},
   "outputs": [
    {
     "data": {
      "text/plain": [
       "'일상으로 돌아오는 그날! 걷기 좋은 포항으로'"
      ]
     },
     "execution_count": 75,
     "metadata": {},
     "output_type": "execute_result"
    }
   ],
   "source": [
    "loca[0].select('img')[0]['alt'].replace('<br>','')  # replace('a','b') : 문자열 내에 있는 모든 'a'를 'b'로 바꿔준다"
   ]
  },
  {
   "cell_type": "code",
   "execution_count": 99,
   "id": "aadcd134",
   "metadata": {},
   "outputs": [
    {
     "name": "stdout",
     "output_type": "stream",
     "text": [
      "Title 일상으로 돌아오는 그날! 걷기 좋은 포항으로\n"
     ]
    }
   ],
   "source": [
    "path2 = '#listBody > ul > li:nth-child(1) > div.area_txt > div.tit'\n",
    "pathtag = soup.select(path2)\n",
    "pathtag\n",
    "\n",
    "for i in pathtag :\n",
    "        print(\"Title\",i.select('a')[0].text)"
   ]
  },
  {
   "cell_type": "code",
   "execution_count": null,
   "id": "5329fb77",
   "metadata": {},
   "outputs": [],
   "source": []
  },
  {
   "cell_type": "code",
   "execution_count": null,
   "id": "fd1b4a28",
   "metadata": {},
   "outputs": [],
   "source": [
    "# title, location, tags, 본문 ...."
   ]
  },
  {
   "cell_type": "code",
   "execution_count": null,
   "id": "6b0a2b43",
   "metadata": {},
   "outputs": [],
   "source": []
  },
  {
   "cell_type": "code",
   "execution_count": 40,
   "id": "ea99a82f",
   "metadata": {
    "collapsed": true
   },
   "outputs": [
    {
     "ename": "NameError",
     "evalue": "name 'find_element_by_class_name' is not defined",
     "output_type": "error",
     "traceback": [
      "\u001b[1;31m---------------------------------------------------------------------------\u001b[0m",
      "\u001b[1;31mNameError\u001b[0m                                 Traceback (most recent call last)",
      "\u001b[1;32m~\\AppData\\Local\\Temp/ipykernel_10460/2782452829.py\u001b[0m in \u001b[0;36m<module>\u001b[1;34m\u001b[0m\n\u001b[0;32m      2\u001b[0m \u001b[1;31m# 태그 => element\u001b[0m\u001b[1;33m\u001b[0m\u001b[1;33m\u001b[0m\u001b[0m\n\u001b[0;32m      3\u001b[0m \u001b[1;33m\u001b[0m\u001b[0m\n\u001b[1;32m----> 4\u001b[1;33m \u001b[0melem\u001b[0m \u001b[1;33m=\u001b[0m \u001b[0mfind_element_by_class_name\u001b[0m\u001b[1;33m(\u001b[0m\u001b[1;34m\"class\"\u001b[0m\u001b[1;33m)\u001b[0m\u001b[1;33m\u001b[0m\u001b[1;33m\u001b[0m\u001b[0m\n\u001b[0m\u001b[0;32m      5\u001b[0m \u001b[0melem\u001b[0m \u001b[1;33m=\u001b[0m \u001b[0mfind_element_by_class_name\u001b[0m\u001b[1;33m(\u001b[0m\u001b[1;34m\"class\"\u001b[0m\u001b[1;33m)\u001b[0m\u001b[1;33m\u001b[0m\u001b[1;33m\u001b[0m\u001b[0m\n\u001b[0;32m      6\u001b[0m \u001b[0melem\u001b[0m \u001b[1;33m=\u001b[0m \u001b[0mfind_element_by_class_name\u001b[0m\u001b[1;33m(\u001b[0m\u001b[1;34m\"class\"\u001b[0m\u001b[1;33m)\u001b[0m\u001b[1;33m\u001b[0m\u001b[1;33m\u001b[0m\u001b[0m\n",
      "\u001b[1;31mNameError\u001b[0m: name 'find_element_by_class_name' is not defined"
     ]
    }
   ],
   "source": [
    "# selenium 정리 ... \n",
    "# 태그 => element\n",
    "# 특정 텍스트가 리스트가 된 모든 리스트를 가져와서 여기 저장하겠따 \n",
    "\n",
    "elem = find_element_by_class_name(\"class\")\n",
    "elem = find_element_by_id()\n",
    "elem = find_element_by_xpath()\n",
    "elem = find_element_by_link_text()\n",
    "elem = find_element_by_partial_link_text()       # 특정한 문자를 포함하고 있는 링크를 다 가져온다 \n",
    "elem = find_element_by_name()\n",
    "elem = find_element_by_tag_name()\n",
    "\n",
    "\n",
    "\n",
    "# elements\n",
    "elem = find_elements_by_class_name(\"class\")\n",
    "elem = find_elements_by_xpath()\n",
    "elem = find_elements_by_link_text()\n",
    "elem = find_elements_by_partial_link_text()     \n",
    "elem = find_elements_by_name()\n",
    "elem = find_elements_by_tag_name()\n",
    "elem = find_elements_by_css_selector()\n"
   ]
  },
  {
   "cell_type": "code",
   "execution_count": null,
   "id": "6591a392",
   "metadata": {},
   "outputs": [],
   "source": []
  },
  {
   "cell_type": "code",
   "execution_count": null,
   "id": "bd67b1df",
   "metadata": {},
   "outputs": [],
   "source": []
  },
  {
   "cell_type": "code",
   "execution_count": null,
   "id": "684de55a",
   "metadata": {},
   "outputs": [],
   "source": []
  },
  {
   "cell_type": "code",
   "execution_count": null,
   "id": "4e53e5c6",
   "metadata": {},
   "outputs": [],
   "source": []
  },
  {
   "cell_type": "code",
   "execution_count": null,
   "id": "a93882fb",
   "metadata": {},
   "outputs": [],
   "source": []
  },
  {
   "cell_type": "code",
   "execution_count": null,
   "id": "41dc01d3",
   "metadata": {},
   "outputs": [],
   "source": []
  },
  {
   "cell_type": "code",
   "execution_count": null,
   "id": "a3ba8988",
   "metadata": {},
   "outputs": [],
   "source": []
  },
  {
   "cell_type": "code",
   "execution_count": null,
   "id": "00b553b2",
   "metadata": {},
   "outputs": [],
   "source": []
  },
  {
   "cell_type": "code",
   "execution_count": null,
   "id": "c8f9f01d",
   "metadata": {},
   "outputs": [],
   "source": []
  }
 ],
 "metadata": {
  "kernelspec": {
   "display_name": "Python 3 (ipykernel)",
   "language": "python",
   "name": "python3"
  },
  "language_info": {
   "codemirror_mode": {
    "name": "ipython",
    "version": 3
   },
   "file_extension": ".py",
   "mimetype": "text/x-python",
   "name": "python",
   "nbconvert_exporter": "python",
   "pygments_lexer": "ipython3",
   "version": "3.9.7"
  }
 },
 "nbformat": 4,
 "nbformat_minor": 5
}
