{
 "cells": [
  {
   "cell_type": "code",
   "execution_count": 1,
   "id": "3b6886d1",
   "metadata": {},
   "outputs": [],
   "source": [
    "## crawling(scrapying)\n",
    "# web에서 데이터를 프로그램을 통해서 가져오는 작업\n",
    "\n",
    "# web 구성하는 언어 - html, css, javascript\n",
    "# html은 웹을 구성하는 스크립트 언어 \n",
    "# css는 웹을 꾸며주는 언어 \n",
    "# javascript 웹이 동적으로 작동하도록 만드는 언어\n",
    "\n",
    "## html\n",
    "# 기본 구조는 태그 - 여는 태그 '<'\n",
    "#                    닫는 태그 '/>'\n",
    "# 태그 계층 구조 - 부모 태그, 자식 태그\n",
    "# <head> 정보... </head> : web의 정보를 담고 있는 태그 \n",
    "# <body> 태그... </body> : web에서 눈으로 보는 내용이 들어있는 태그 \n"
   ]
  },
  {
   "cell_type": "code",
   "execution_count": 2,
   "id": "310fb182",
   "metadata": {},
   "outputs": [
    {
     "ename": "SyntaxError",
     "evalue": "invalid syntax (Temp/ipykernel_9516/3395703636.py, line 1)",
     "output_type": "error",
     "traceback": [
      "\u001b[1;36m  File \u001b[1;32m\"C:\\Users\\bitcamp\\AppData\\Local\\Temp/ipykernel_9516/3395703636.py\"\u001b[1;36m, line \u001b[1;32m1\u001b[0m\n\u001b[1;33m    <html>\u001b[0m\n\u001b[1;37m    ^\u001b[0m\n\u001b[1;31mSyntaxError\u001b[0m\u001b[1;31m:\u001b[0m invalid syntax\n"
     ]
    }
   ],
   "source": [
    "<html>\n",
    "    <head>\n",
    "        web page meta 정보\n",
    "    \n",
    "    </head>\n",
    "    \n",
    "    <body>\n",
    "        웹페이지에서 보여지는 콘텐츠가 들어가는 부분\n",
    "        <p>문단을 나타냅니다</p>\n",
    "        <div><h3>제목을 나타냅니다</h3></div>\n",
    "    \n",
    "    </body>\n",
    "\n",
    "</html>"
   ]
  },
  {
   "cell_type": "code",
   "execution_count": 3,
   "id": "88befcab",
   "metadata": {},
   "outputs": [
    {
     "ename": "SyntaxError",
     "evalue": "invalid syntax (Temp/ipykernel_9516/1693897580.py, line 1)",
     "output_type": "error",
     "traceback": [
      "\u001b[1;36m  File \u001b[1;32m\"C:\\Users\\bitcamp\\AppData\\Local\\Temp/ipykernel_9516/1693897580.py\"\u001b[1;36m, line \u001b[1;32m1\u001b[0m\n\u001b[1;33m    <html>\u001b[0m\n\u001b[1;37m    ^\u001b[0m\n\u001b[1;31mSyntaxError\u001b[0m\u001b[1;31m:\u001b[0m invalid syntax\n"
     ]
    }
   ],
   "source": [
    "<html>\n",
    "    <head>\n",
    "       <style>\n",
    "        p{color:blue;}\n",
    "        div{color:red;}\n",
    "        </style>\n",
    "    \n",
    "    </head>\n",
    "    \n",
    "    <body>\n",
    "        <table border = 1>\n",
    "        <tr>\n",
    "            <td>항목</td>\n",
    "            <td>20113</td>\n",
    "            <td>2014</td>\n",
    "        </tr>\n",
    "        <tr>\n",
    "            <td>항목</td>\n",
    "            <td>20113</td>\n",
    "            <td>2014</td>\n",
    "        </tr>        \n",
    "    </body>\n",
    "\n",
    "</html>"
   ]
  },
  {
   "cell_type": "code",
   "execution_count": 4,
   "id": "9c38e7fb",
   "metadata": {},
   "outputs": [
    {
     "ename": "SyntaxError",
     "evalue": "invalid syntax (Temp/ipykernel_9516/1906271762.py, line 1)",
     "output_type": "error",
     "traceback": [
      "\u001b[1;36m  File \u001b[1;32m\"C:\\Users\\bitcamp\\AppData\\Local\\Temp/ipykernel_9516/1906271762.py\"\u001b[1;36m, line \u001b[1;32m1\u001b[0m\n\u001b[1;33m    <html>\u001b[0m\n\u001b[1;37m    ^\u001b[0m\n\u001b[1;31mSyntaxError\u001b[0m\u001b[1;31m:\u001b[0m invalid syntax\n"
     ]
    }
   ],
   "source": [
    "<html>\n",
    "    <head>\n",
    "       <style>\n",
    "        p{color:blue;}\n",
    "        div{color:red;}\n",
    "        </style>\n",
    "    \n",
    "    </head>\n",
    "    \n",
    "    <body>\n",
    "       <p> paragraph1</p>\n",
    "        <p> paragrph</p>\n",
    "        <div> div1 </div>\n",
    "    </body>\n",
    "\n",
    "</html>"
   ]
  },
  {
   "cell_type": "code",
   "execution_count": 5,
   "id": "216d3f39",
   "metadata": {},
   "outputs": [],
   "source": [
    "from bs4 import BeautifulSoup"
   ]
  },
  {
   "cell_type": "code",
   "execution_count": 6,
   "id": "906be504",
   "metadata": {},
   "outputs": [],
   "source": [
    "html = \"\"\"\n",
    "<body>\n",
    "<div>\n",
    "    <div class = 'snack'>\n",
    "        <p id = 'first'> 양파링 </p>\n",
    "        <p id = 'second'> 새우깡 </p>\n",
    "        <p> 초코파이</p>\n",
    "        <p class='sweet'>맛동산 </p>\n",
    "    \n",
    "    <div class = 'ice cream'>\n",
    "        <p> 빵빠레</p>\n",
    "        <p id = 'third'> 죠스바 </p>\n",
    "        <p> 꼬깔콘</p>\n",
    "        <p class='sweet'>쭈쭈바 </p>\n",
    "        </div>\n",
    "    </div>\n",
    "    </body>\n",
    "    \"\"\""
   ]
  },
  {
   "cell_type": "code",
   "execution_count": 7,
   "id": "6d9a0a08",
   "metadata": {},
   "outputs": [],
   "source": [
    "soup = BeautifulSoup(html, 'html.parser')"
   ]
  },
  {
   "cell_type": "code",
   "execution_count": 8,
   "id": "fd043d18",
   "metadata": {},
   "outputs": [],
   "source": [
    "for t in soup.select('td'):\n",
    "    print(t.text)"
   ]
  },
  {
   "cell_type": "code",
   "execution_count": 9,
   "id": "1c0ac686",
   "metadata": {},
   "outputs": [
    {
     "name": "stdout",
     "output_type": "stream",
     "text": [
      " 양파링 \n",
      " 새우깡 \n",
      " 초코파이\n",
      "맛동산 \n",
      " 빵빠레\n",
      " 죠스바 \n",
      " 꼬깔콘\n",
      "쭈쭈바 \n"
     ]
    }
   ],
   "source": [
    "for t in soup.select('p'):\n",
    "    print(t.text)"
   ]
  },
  {
   "cell_type": "code",
   "execution_count": 10,
   "id": "e0246118",
   "metadata": {},
   "outputs": [
    {
     "ename": "IndexError",
     "evalue": "list index out of range",
     "output_type": "error",
     "traceback": [
      "\u001b[1;31m---------------------------------------------------------------------------\u001b[0m",
      "\u001b[1;31mIndexError\u001b[0m                                Traceback (most recent call last)",
      "\u001b[1;32m~\\AppData\\Local\\Temp/ipykernel_9516/311837104.py\u001b[0m in \u001b[0;36m<module>\u001b[1;34m\u001b[0m\n\u001b[1;32m----> 1\u001b[1;33m \u001b[0msoup\u001b[0m\u001b[1;33m.\u001b[0m\u001b[0mselect\u001b[0m\u001b[1;33m(\u001b[0m\u001b[1;34m'p#sweet'\u001b[0m\u001b[1;33m)\u001b[0m\u001b[1;33m[\u001b[0m\u001b[1;36m1\u001b[0m\u001b[1;33m]\u001b[0m\u001b[1;33m.\u001b[0m\u001b[0mtext\u001b[0m\u001b[1;33m\u001b[0m\u001b[1;33m\u001b[0m\u001b[0m\n\u001b[0m",
      "\u001b[1;31mIndexError\u001b[0m: list index out of range"
     ]
    }
   ],
   "source": [
    "soup.select('p#sweet')[1].text"
   ]
  },
  {
   "cell_type": "code",
   "execution_count": 11,
   "id": "b1aa2f7c",
   "metadata": {},
   "outputs": [
    {
     "data": {
      "text/plain": [
       "' 양파링 '"
      ]
     },
     "execution_count": 11,
     "metadata": {},
     "output_type": "execute_result"
    }
   ],
   "source": [
    "soup.select('p#first')[0].text"
   ]
  },
  {
   "cell_type": "code",
   "execution_count": null,
   "id": "d7683e28",
   "metadata": {},
   "outputs": [],
   "source": []
  },
  {
   "cell_type": "code",
   "execution_count": 12,
   "id": "90f49b1e",
   "metadata": {},
   "outputs": [],
   "source": [
    "# 네이버 메뉴 크롤링"
   ]
  },
  {
   "cell_type": "code",
   "execution_count": 13,
   "id": "500d1f09",
   "metadata": {},
   "outputs": [],
   "source": [
    "import requests"
   ]
  },
  {
   "cell_type": "code",
   "execution_count": 14,
   "id": "33f7ec4a",
   "metadata": {},
   "outputs": [],
   "source": [
    "res = requests.get(\"https://www.naver.com/\")"
   ]
  },
  {
   "cell_type": "code",
   "execution_count": 15,
   "id": "04791625",
   "metadata": {},
   "outputs": [
    {
     "data": {
      "text/plain": [
       "'\\n<!doctype html>                          <html lang=\"ko\" data-dark=\"false\"> <head> <meta charset=\"utf-8\"> <title>NAVER</title> <meta http-equiv=\"X-UA-Compatible\" content=\"IE=edge\"> <meta name=\"viewport\" content=\"width=1190\"> <meta name=\"apple-mobile-web-app-title\" content=\"NAVER\"/> <meta name=\"robots\" content=\"index,nofollow\"/> <meta name=\"description\" content=\"네이버 메인에서 다양한 정보와 유용한 컨텐츠를 만나 보세요\"/> <meta property=\"og:title\" content=\"네이버\"> <meta property=\"og:url\" content=\"https://www.naver.com/\"> <meta property=\"og:image\" content=\"https://s.pstatic.net/static/www/mobile/edit/2016/0705/mobile_212852414260.png\"> <meta property=\"og:description\" content=\"네이버 메인에서 다양한 정보와 유용한 컨텐츠를 만나 보세요\"/> <meta name=\"twitter:card\" content=\"summary\"> <meta name=\"twitter:title\" content=\"\"> <meta name=\"twitter:url\" content=\"https://www.naver.com/\"> <meta name=\"twitter:image\" content=\"https://s.pstatic.net/static/www/mobile/edit/2016/0705/mobile_212852414260.png\"> <meta name=\"twitter:description\" content=\"네이버 메인에서 다양한 정보와 유용한 컨텐츠를 만나 보세요\"/>  <link rel=\"stylesheet\" href=\"https://pm.pstatic.net/dist/css/nmain.20220113.css\"> <link rel=\"stylesheet\" href=\"https://ssl.pstatic.net/sstatic/search/pc/css/sp_autocomplete_210318.css\"> <link rel=\"shortcut icon\" type=\"image/x-icon\" href=\"/favicon.ico?1\"/>  <link rel=\"apple-touch-icon\" sizes=\"114x114\" href=\"https://s.pstatic.net/static/www/u/2014/0328/mma_204243574.png\"/> <link rel=\"apple-touch-icon\" href=\"https://s.pstatic.net/static/www/u/2014/0328/mma_20432863.png\"/> <script>window.nmain=window.nmain||{},window.nmain.supportFlicking=!1;var nsc=\"navertop.v4\",ua=navigator.userAgent,useIeJSFlag=\"1\";window.nmain.isIE=\"0\"===useIeJSFlag,document.getElementsByTagName(\"html\")[0].setAttribute(\"data-useragent\",ua),window.nmain.isIE&&(Object.create=function(n){function e(){}return e.prototype=n,new e})</script> <script>var darkmode= false;window.naver_corp_da=window.naver_corp_da||{main:{}},window.naver_corp_da.main=window.naver_corp_da.main||{},window.naver_corp_da.main.darkmode=darkmode,window.gladsdk=window.gladsdk||{cmd:[]},window.gladsdk.cmd.push((function(){window.gladsdk.setHostMeta(\"theme\",darkmode?\"dark\":\"light\")})),window.ndpsdk=window.ndpsdk||{cmd:[],polyfill:{cmd:[]}},window.ndpsdk.cmd.push((function(){window.ndpsdk.setHostMeta(\"theme\",darkmode?\"dark\":\"light\")}))</script>  <script async src=\"https://ssl.pstatic.net/tveta/libs/glad/prod/gfp-core.js\"></script> <script async src=\"https://ssl.pstatic.net/tveta/libs/ndpsdk/prod/ndp-loader.js\"></script>  <script> window.nmain.gv = {  isLogin: false,\\nuseId: null,   daInfo: {\"BEAUTY\":{\"menu\":\"BEAUTY\",\"childMenu\":\"\",\"adType\":\"singleDom\",\"multiDomAdUrl\":\"\",\"multiDomUnit\":\"\",\"infoList\":[{\"adposId\":\"1000163\",\"singleDomAdUrl\":\"https://siape.veta.naver.com/fxshow\",\"param\":{\"da_dom_id\":\"p_main_beauty_1\",\"tb\":\"BEAUTY_1\",\"unit\":\"SU10595\",\"calp\":\"-\"},\"type\":{\"position\":\"abs\",\"positionIndex\":4,\"subject\":\"contents\"},\"dom\":null},{\"adposId\":\"1000164\",\"singleDomAdUrl\":\"https://siape.veta.naver.com/fxshow\",\"param\":{\"da_dom_id\":\"p_main_beauty_2\",\"tb\":\"BEAUTY_1\",\"unit\":\"SU10596\",\"calp\":\"-\"},\"type\":{\"position\":\"abs\",\"positionIndex\":8,\"subject\":\"contents\"},\"dom\":null}]},\"LIVING\":{\"menu\":\"LIVING\",\"childMenu\":\"\",\"adType\":\"singleDom\",\"multiDomAdUrl\":\"\",\"multiDomUnit\":\"\",\"infoList\":[{\"adposId\":\"1000183\",\"singleDomAdUrl\":\"https://siape.veta.naver.com/fxshow\",\"param\":{\"da_dom_id\":\"p_main_living_1\",\"tb\":\"LIVING_1\",\"unit\":\"SU10597\",\"calp\":\"-\"},\"type\":{\"position\":\"abs\",\"positionIndex\":4,\"subject\":\"contents\"},\"dom\":null},{\"adposId\":\"1000184\",\"singleDomAdUrl\":\"https://siape.veta.naver.com/fxshow\",\"param\":{\"da_dom_id\":\"p_main_living_2\",\"tb\":\"LIVING_1\",\"unit\":\"SU10606\",\"calp\":\"-\"},\"type\":{\"position\":\"abs\",\"positionIndex\":8,\"subject\":\"contents\"},\"dom\":null}]},\"LIVINGHOME\":{\"menu\":\"LIVINGHOME\",\"childMenu\":\"\",\"adType\":\"singleDom\",\"multiDomAdUrl\":\"\",\"multiDomUnit\":\"\",\"infoList\":[{\"adposId\":\"1000185\",\"singleDomAdUrl\":\"https://siape.veta.naver.com/fxshow\",\"param\":{\"da_dom_id\":\"p_main_livinghome_1\",\"tb\":\"LIVINGHOME_1\",\"unit\":\"SU10571\",\"calp\":\"-\"},\"type\":{\"position\":\"abs\",\"positionIndex\":4,\"subject\":\"contents\"},\"dom\":null},{\"adposId\":\"1000186\",\"singleDomAdUrl\":\"https://siape.veta.naver.com/fxshow\",\"param\":{\"da_dom_id\":\"p_main_livinghome_2\",\"tb\":\"LIVINGHOME_1\",\"unit\":\"SU10572\",\"calp\":\"-\"},\"type\":{\"position\":\"abs\",\"positionIndex\":8,\"subject\":\"contents\"},\"dom\":null}]}},\\nsvt: 20220120103535,\\n}; </script> <script> window.nmain.newsstand = {\\nrcode: \\'09650108\\',\\nnewsCastSubsInfo: \\'\\',\\nnewsStandSubsInfo: \\'\\'\\n};\\nwindow.etc = {  };\\nwindow.svr = \"<!--aweb15-->\"; </script> <script src=\"https://ssl.pstatic.net/tveta/libs/assets/js/pc/main/min/pc.veta.core.min.js\" defer=\"defer\"></script>   <script src=\"https://pm.pstatic.net/dist/js/external.424737be.js?o=www\" type=\"text/javascript\" crossorigin=\"anonymous\" defer=\"defer\"></script> <script src=\"https://pm.pstatic.net/dist/js/preload.5875f4cb.js?o=www\" type=\"text/javascript\" crossorigin=\"anonymous\" defer=\"defer\"></script> <script src=\"https://pm.pstatic.net/dist/js/polyfill.0b1e66f9.js?o=www\" type=\"text/javascript\" crossorigin=\"anonymous\" defer=\"defer\"></script>  <script src=\"https://pm.pstatic.net/dist/js/vendors~more~nmain~notice~search~sidebar_notice.29c38b59.js?o=www\" type=\"text/javascript\" crossorigin=\"anonymous\" defer=\"defer\"></script>   <script src=\"https://pm.pstatic.net/dist/js/search.42b2ccb4.js?o=www\" type=\"text/javascript\" crossorigin=\"anonymous\" defer=\"defer\"></script>  <script src=\"https://pm.pstatic.net/dist/js/vendors~more~nmain~sidebar_notice.2d20790b.js?o=www\" type=\"text/javascript\" crossorigin=\"anonymous\" defer=\"defer\"></script> <script src=\"https://pm.pstatic.net/dist/js/nmain.3e57d655.js?o=www\" type=\"text/javascript\" crossorigin=\"anonymous\" defer=\"defer\"></script> <style>:root{color-scheme:light}#_nx_kbd .setkorhelp a{display:none}</style> </head> <body> <div id=\"u_skip\"> <a href=\"#newsstand\"><span>뉴스스탠드 바로가기</span></a> <a href=\"#themecast\"><span>주제별캐스트 바로가기</span></a> <a href=\"#timesquare\"><span>타임스퀘어 바로가기</span></a> <a href=\"#shopcast\"><span>쇼핑캐스트 바로가기</span></a> <a href=\"#account\"><span>로그인 바로가기</span></a> </div> <div id=\"wrap\">         \\n<style>._1syGnXOL{padding-right:18px;font-size:14px;line-height:0;letter-spacing:-.25px;color:#000}._1syGnXOL span,._1syGnXOL strong{line-height:49px}._1syGnXOL:before{display:inline-block;content:\"\";vertical-align:top;background-image:url(https://static-whale.pstatic.net/main/sprite-20211123@2x.png);background-repeat:no-repeat;background-size:116px 112px;width:18px;height:18px;margin:16px 8px 0 0;background-position:-98px 0}[data-useragent*=\"MSIE 8\"] ._1syGnXOL:before{background-image:url(https://static-whale.pstatic.net/main/sprite-20211123.png)}._1syGnXOL._3dsvmZg2:before{background-position:-47px -85px}._1syGnXOL._1NBFx1WK:before{width:20px;height:20px;margin:15px 8px 0 0;background-position:-21px -89px}._1syGnXOL._2mcQEKCd:before{width:22px;height:22px;margin:14px 7px 0 0;background-position:-47px -63px}._1syGnXOL._36slsKuJ:before{width:21px;height:49px;margin:0 14px 0 0;background-position:0 -63px}._1syGnXOL._3di88A4c{padding-right:12px;font-size:17px}._1syGnXOL._3di88A4c:before{content:none}._1syGnXOL ._19K4X1CD{text-decoration:underline}._2aeXMlrb{display:inline-block;position:relative;font-size:12px;height:49px;width:78px;text-decoration:none;color:#fff;font-weight:700;letter-spacing:-.5px;vertical-align:top}._2aeXMlrb span{text-align:center;margin:9px 0;height:31px;display:block;line-height:31px;border-radius:15px}._2aeXMlrb span:before{display:inline-block;content:\"\";vertical-align:top;background-image:url(https://static-whale.pstatic.net/main/sprite-20211123@2x.png);background-repeat:no-repeat;background-size:116px 112px}[data-useragent*=\"MSIE 8\"] ._2aeXMlrb span:before{background-image:url(https://static-whale.pstatic.net/main/sprite-20211123.png)}._2aeXMlrb.BMgpjddw{font-size:11px;width:94px}._2aeXMlrb.BMgpjddw span:before{margin:9px 3px 0 0;width:17px;height:13px;background-position:-89px -63px}._3h-N8T9V{position:absolute;top:0;left:0;right:0;bottom:0;background:rgba(0,0,0,0)}._1KncATpM{display:inline-block;content:\"\";vertical-align:top;background-image:url(https://static-whale.pstatic.net/main/sprite-20211123@2x.png);background-repeat:no-repeat;background-size:116px 112px;margin-top:14px;float:left;width:98px;height:21px;background-position:0 -21px}[data-useragent*=\"MSIE 8\"] ._1KncATpM{background-image:url(https://static-whale.pstatic.net/main/sprite-20211123.png)}._1KncATpM._2v3uxv2x{background-position:0 0}._1KncATpM._1yl_Ow6o{background-position:0 -42px}._20PYt6lT{font-size:11px;height:49px;cursor:pointer;position:absolute;top:0;right:0;color:#666;opacity:.7}._20PYt6lT:after{width:15px;height:15px;margin-left:4px;background-position:-98px -33px;display:inline-block;content:\"\";vertical-align:top;background-image:url(https://static-whale.pstatic.net/main/sprite-20211123@2x.png);background-repeat:no-repeat;background-size:116px 112px}[data-useragent*=\"MSIE 8\"] ._20PYt6lT:after{background-image:url(https://static-whale.pstatic.net/main/sprite-20211123.png)}._20PYt6lT._39oMCV2N:after{background-position:-98px -18px}._20PYt6lT._3MOWOORv{color:#c3c2c2}._20PYt6lT._3MOWOORv:after{background-position:-80px -85px}._20PYt6lT._3wm5EzmJ{color:#fff}._20PYt6lT._3wm5EzmJ:after{background-position:-65px -85px}._1hiMWemA{height:49px}._1hiMWemA .tY_u8r23{position:relative;width:1130px;margin:0 auto}._1hiMWemA .tY_u8r23 a{text-decoration:none}._1hiMWemA._23U_6TM_{position:relative}._1hiMWemA._23U_6TM_:after{position:absolute;z-index:1;content:\"\";display:block;width:100%;height:1px;bottom:0;background-color:rgba(0,0,0,.050980392156862744)}</style>\\n<div\\nid=\"NM_TOP_BANNER\"\\ndata-clk-prefix=\"top\"\\nclass=\"_1hiMWemA\"\\nstyle=\"background-color: #6072ff\"\\n>\\n<div class=\"tY_u8r23\">\\n<a\\nclass=\"_3h-N8T9V\"\\nhref=\"https://whale.naver.com/banner/details/dualtab/?=main&wpid=RydDy7\"\\ndata-clk=\"dropbanner1b\"\\n></a\\n><i class=\"_1KncATpM _1yl_Ow6o\"><span class=\"blind\">NAVER whale</span></i\\n><img\\nsrc=\"https://static-whale.pstatic.net/main/img_dualtab_v2@2x.png\"\\nwidth=\"290\"\\nheight=\"49\"\\nalt=\"\"\\nstyle=\"padding-left: 90px\"\\n/><span\\nclass=\"_1syGnXOL _3di88A4c\"\\ndata-clk=\"dropbanner1b\"\\nstyle=\"padding-right: 20px; color: white; padding-left: 20px\"\\n><span>이것 모르는 일잘러는 없다. 정답은 </span\\n><strong style=\"color: #0beec9\">\"듀얼탭\"</strong></span\\n><a\\nhref=\"https://installer-whale.pstatic.net/downloads/banner/RydDy7/WhaleSetup.exe\"\\nclass=\"_2aeXMlrb BMgpjddw\"\\nid=\"NM_whale_download_btn\"\\ndata-clk=\"dropdownload1b\"\\n><span style=\"background-color: #00c5a5\">다운로드</span></a\\n><button\\ntype=\"button\"\\ndata-ui-cookie-exp-days=\"3\"\\ndata-ui-cookie-key=\"NM_TOP_PROMOTION\"\\ndata-ui-cookie-value=\"1\"\\ndata-ui-hide-target=\"#NM_TOP_BANNER\"\\ndata-clk=\"dropclose1b\"\\nclass=\"_20PYt6lT _3wm5EzmJ\"\\n>\\n3일 동안 보지 않기\\n</button>\\n</div>\\n</div>  <div id=\"header\" role=\"banner\">\\n\\n\\n\\n\\n\\n\\n\\n\\n\\n<div class=\"special_bg\">\\n<div class=\"group_flex\">\\n<div class=\"logo_area\">\\n<h1 class=\"logo_special\">\\n<img\\nsrc=\"https://s.pstatic.net/static/www/mobile/edit/20220119/mobile_212928931803.png\"\\nwidth=\"415\"\\nheight=\"160\"\\nclass=\"special_img\"\\nalt=\"대한, 따뜻한 하루 보내세요~\"\\n/>\\n<a\\nhref=\"https://search.naver.com/search.naver?where=nexearch&amp;sm=top_brd&amp;fbm=1&amp;ie=utf8&amp;query=%EC%A0%88%EA%B8%B0+%EB%8C%80%ED%95%9C\"\\nclass=\"special_logo_link\"\\ntitle=\"대한, 따뜻한 하루 보내세요~\"\\ndata-clk=\"top.spe\"\\n>\\n<img\\nsrc=\"https://s.pstatic.net/static/www/mobile/edit/20220119/mobile_211615287539.png\"\\nwidth=\"58\"\\nheight=\"60\"\\nclass=\"special_img_fold\"\\nalt=\"대한, 따뜻한 하루 보내세요~\"\\n/>\\n</a>\\n</h1>\\n</div>\\n<div class=\"service_area\">\\n<a id=\"NM_set_home_btn\" href=\"https://help.naver.com/support/welcomePage/guide.help\" class=\"link_set\" data-clk=\"top.mkhome\">네이버를 시작페이지로</a>\\n<i class=\"sa_bar\"></i>\\n<a href=\"https://jr.naver.com\" class=\"link_jrnaver\" data-clk=\"top.jrnaver\"><i class=\"ico_jrnaver\"></i><span class=\"blind\">쥬니어네이버</span></a>\\n<a href=\"https://happybean.naver.com\" class=\"link_happybin\" data-clk=\"top.happybean\"><i class=\"ico_happybin\"></i><span class=\"blind\">해피빈</span></a>\\n</div>\\n\\n<div id=\"search\" class=\"search_area\" data-clk-prefix=\"sch\">\\n<form id=\"sform\" name=\"sform\" action=\"https://search.naver.com/search.naver\" method=\"get\" role=\"search\">\\n<fieldset>\\n<legend class=\"blind\">검색</legend>\\n<select id=\"where\" name=\"where\" title=\"검색 범위 선택\" class=\"blind\">\\n<option value=\"nexearch\" selected=\"selected\">통합검색</option><option value=\"post\">블로그</option><option value=\"cafeblog\">카페</option><option value=\"cafe\">- 카페명</option><option value=\"article\">- 카페글</option><option value=\"kin\">지식iN</option><option value=\"news\">뉴스</option><option value=\"web\">사이트</option><option value=\"category\">- 카테고리</option><option value=\"site\">- 사이트</option><option value=\"movie\">영화</option><option value=\"webkr\">웹문서</option><option value=\"dic\">사전</option><option value=\"100\">- 백과사전</option><option value=\"endic\">- 영어사전</option><option value=\"eedic\">- 영영사전</option><option value=\"krdic\">- 국어사전</option><option value=\"jpdic\">- 일본어사전</option><option value=\"hanja\">- 한자사전</option><option value=\"terms\">- 용어사전</option><option value=\"book\">책</option><option value=\"music\">음악</option><option value=\"doc\">전문자료</option><option value=\"shop\">쇼핑</option><option value=\"local\">지역</option><option value=\"video\">동영상</option><option value=\"image\">이미지</option><option value=\"mypc\">내PC</option><optgroup label=\"스마트 파인더\"><option value=\"movie\">영화</option><option value=\"auto\">자동차</option><option value=\"game\">게임</option><option value=\"health\">건강</option><option value=\"people\">인물</option></optgroup><optgroup label=\"네이버 랩\"><option>긍정부정검색</option></optgroup>\\n</select>\\n<input type=\"hidden\" id=\"sm\" name=\"sm\" value=\"top_hty\" />\\n<input type=\"hidden\" id=\"fbm\" name=\"fbm\" value=\"0\" />\\n<input type=\"hidden\" id=\"acr\" name=\"acr\" value=\"\" disabled=\"disabled\" />\\n<input type=\"hidden\" id=\"acq\" name=\"acq\" value=\"\" disabled=\"disabled\" />\\n<input type=\"hidden\" id=\"qdt\" name=\"qdt\" value=\"\" disabled=\"disabled\" />\\n<input type=\"hidden\" id=\"ie\" name=\"ie\" value=\"utf8\" />\\n<input type=\"hidden\" id=\"acir\" name=\"acir\" value=\"\" disabled=\"disabled\" />\\n<input type=\"hidden\" id=\"os\" name=\"os\" value=\"\" disabled=\"disabled\" />\\n<input type=\"hidden\" id=\"bid\" name=\"bid\" value=\"\" disabled=\"disabled\" />\\n<input type=\"hidden\" id=\"pkid\" name=\"pkid\" value=\"\" disabled=\"disabled\" />\\n<input type=\"hidden\" id=\"eid\" name=\"eid\" value=\"\" disabled=\"disabled\" />\\n<input type=\"hidden\" id=\"mra\" name=\"mra\" value=\"\" disabled=\"disabled\" />\\n\\n\\n\\n\\n\\n\\n<div class=\"green_window\" style=\\'border-color: #aad4f1;\\'>\\n<!-- [AU] data-atcmp-element 에 해당하는 attribute를 추가해주세요. -->\\n<input id=\"query\" name=\"query\" type=\"text\" title=\"검색어 입력\" maxlength=\"255\" class=\"input_text\" tabindex=\"1\" accesskey=\"s\" style=\"ime-mode:active;\" autocomplete=\"off\"  placeholder=\"검색어를 입력해 주세요.\" onclick=\"document.getElementById(\\'fbm\\').value=1;\" value=\"\" data-atcmp-element>\\n</div>\\n<button id=\"search_btn\" type=\"submit\" title=\"검색\" tabindex=\"3\" class=\"btn_submit\" onclick=\"window.nclick(this,\\'sch.action\\',\\'\\',\\'\\',event);\" style=\\'background-color: #aad4f1\\'>\\n<span class=\"blind\">검색</span>\\n<span class=\"ico_search_submit\"></span>\\n</button>\\n</fieldset>\\n</form>\\n<!-- 한글입력기 -->\\n<a href=\"#\" id=\"ke_kbd_btn\" role=\"button\" class=\"btn_keyboard\" onclick=\"return false;\"><span class=\"blind\">한글 입력기</span><span class=\"ico_keyboard\"></span></a>\\n<div id=\"_nx_kbd\" style=\"display:none;\"></div>\\n<div class=\"autocomplete\">\\n<!-- 자동완성 열린 경우 fold 클래스 추가, 딤드인 경우 dim 추가 -->\\n<a href=\"#\" role=\"button\" id=\"nautocomplete\" tabindex=\"2\" class=\"btn_arw _btn_arw fold\" aria-pressed=\"false\" data-atcmp-element><span class=\"blind\">자동완성 레이어</span><span class=\"ico_arr\"></span></a>\\n</div>\\n<!-- 자동완성레이어 -->\\n<div id=\"autoFrame\" class=\"reatcmp\" style=\"display: none;\">\\n<!-- [AU] data-atcmp-element attribute를 추가해주세요. -->\\n<div class=\"ly_atcmp\" data-atcmp-element>\\n<div class=\"api_atcmp_wrap\">\\n<!-- 최근검색어 -->\\n<!-- [AU] _recent_layer 클래스를 추가해주세요. -->\\n<div class=\"atcmp_fixer _recent_layer\" style=\"display:none;\">\\n<!-- [AU] _recent_header 클래스를 추가해주세요. -->\\n<div class=\"atcmp_header _recent_header\">\\n<strong class=\"tit\">최근검색어</strong>\\n<div class=\"option\">\\n<!-- [AU] _delAll 클래스를 추가해주세요. -->\\n<a role=\"button\" href=\"#\" class=\"item _delAll\" aria-pressed=\"false\">전체삭제</a>\\n</div>\\n</div>\\n<div class=\"atcmp_container\">\\n<!-- [AU] _recent 클래스를 추가해주세요. -->\\n<ul class=\"kwd_lst _recent\">\\n<!-- 최근검색어 템플릿 -->\\n<!-- [AU] _item 클래스를 추가해주세요. -->\\n<!-- [AU] data-template-type=\"history\" data-keyword=\"@in_txt@\" attribute를 추가해주세요. -->\\n<li class=\"item _item\" data-rank=\"@rank@\" data-template-type=\"history\" data-keyword=\"@in_txt@\">\\n<a href=\"#\" class=\"kwd\">\\n<span class=\"fix\"><span class=\"common_ico_kwd\"><i class=\"imsc ico_search\"></i></span><span>@txt@</span></span>\\n</a>\\n<span class=\"etc\">\\n<em class=\"date\">@date@.</em>\\n<!-- [AU] _del 클래스를 추가해주세요. -->\\n<a href=\"#\" role=\"button\" class=\"bt_item _del\" aria-pressed=\"false\"><i class=\"imsc ico_del\">삭제</i></a>\\n</span>\\n</li>\\n</ul>\\n<!-- [D] 검색어 저장 꺼진 경우 atcmp_fixer에 type_off 추가 -->\\n<!-- [AU] _offMsg 클래스를 추가해주세요. -->\\n<div class=\"kwd_info kwd_off _offMsg\" style=\"display: none;\">검색어 저장 기능이 꺼져 있습니다.<br><span class=\"kwd_dsc\">설정이 초기화 된다면 <a href=\"https://help.naver.com/support/alias/search/word/word_29.naver\" class=\"kwd_help\" data-clk=\"sly.help\" target=\"_blank\">도움말</a>을 확인해주세요.</span></div>\\n<!-- [D] 검색어 내역 없는 경우 atcmp_fixer에 type_off 추가 -->\\n<!-- [AU] _recentNone 클래스를 추가해주세요. -->\\n<div class=\"kwd_info kwd_none _recentNone\" style=\"display: none;\">최근 검색어 내역이 없습니다.<br><span class=\"kwd_dsc\">설정이 초기화 된다면 <a href=\"https://help.naver.com/support/alias/search/word/word_29.naver\" class=\"kwd_help\" data-clk=\"sly.help\" target=\"_blank\">도움말</a>을 확인해주세요.</span></div>\\n</div>\\n<div class=\"atcmp_footer\">\\n<span class=\"side_opt_area\">\\n<span class=\"opt_item\"><a href=\"https://help.naver.com/support/service/main.help?serviceNo=605&amp;categoryNo=1991\" data-clk=\"sly.help\" target=\"_blank\">도움말</a></span>\\n</span>\\n<span class=\"rside_opt_area\">\\n<span class=\"opt_item\">\\n<!-- [AU] _keywordOnOff 클래스를 추가해주세요. -->\\n<a href=\"#\" class=\"close _keywordOnOff\">자동저장 끄기</a>\\n</span>\\n</span>\\n</div>\\n</div>\\n<!-- 자동완성 -->\\n<!-- [AU] _atcmp_layer 클래스를 추가해주세요. -->\\n<div class=\"atcmp_fixer _atcmp_layer\" style=\"display:none;\">\\n<!-- [AU] _words 클래스를 추가해주세요. -->\\n<div class=\"atcmp_container _words\">\\n<!-- 정답형 템플릿 : 로또당첨번호 -->\\n<!-- [AU] _answer 클래스를 추가해주세요. -->\\n<!-- [AU] data-template-type=\"answer_3\" data-code=\"@code@\" data-keyword=\"@1@\" attribute를 추가해주세요. -->\\n<div class=\"atcmp_correct type_lotto _answer\" data-template-type=\"answer_3\" data-code=\"@code@\" data-keyword=\"@1@\">\\n<a href=\"#\" class=\"link_item\">\\n<span class=\"common_ico_kwd\"><i class=\"imsc ico_search\"></i></span>\\n<div class=\"dsc_area\">\\n<span class=\"tit\">@5@회차 당첨번호</span>\\n<span class=\"dsc\">\\n<span class=\"item\">추첨 @13@.</span><span class=\"item\">지급기한 1년</span>\\n</span>\\n</div>\\n<span class=\"etc_area\">\\n<span class=\"etc lotto\">\\n<em class=\"n@6@\">@6@</em><em class=\"n@7@\">@7@</em><em class=\"n@8@\">@8@</em><em class=\"n@9@\">@9@</em><em class=\"n@10@\">@10@</em><em class=\"n@11@\">@11@</em><em class=\"imsc_bf bonus n@12@\">@12@</em>\\n</span>\\n</span>\\n</a>\\n</div>\\n<!-- 정답형 템플릿 : 환율 -->\\n<!-- [AU] _answer 클래스를 추가해주세요. -->\\n<!-- [AU] data-template-type=\"answer_9\" data-code=\"@code@\" data-keyword=\"@1@\" attribute를 추가해주세요. -->\\n<div class=\"atcmp_correct type_exchange _answer\" data-template-type=\"answer_9\" data-code=\"@code@\" data-keyword=\"@1@\">\\n<!-- [D] 상승 up, 하락 down 추가 -->\\n<a href=\"#\" class=\"link_item @11@\">\\n<!-- [D] 국가별 class 가나다순\\nZAR 남아프리카 공화국\\nNPR 네팔\\nNOK 노르웨이\\nNZD 뉴질랜드\\nTWD 대만\\nDKK 덴마크\\nRUB 러시아\\nMOP 마카오\\nMYR 말레이시아\\nMXN 멕시코\\nMNT 몽골\\nUSD 미국\\nBHD 바레인\\nBDT 방글라데시\\nVND 베트남\\nBRL 브라질\\nSAR 사우디아라비아\\nSEK 스웨덴\\nCHF 스위스\\nSGD 싱가포르\\nAED 아랍에미리트\\nGBP 영국\\nEUR 유럽연합\\nILS 이스라엘\\nEGP 이집트\\nINR 인도\\nIDR 인도네시아\\nJPY 일본\\nCNY 중국\\nCZK 체코\\nCLP 칠레\\nKZT 카자흐스탄\\nQAR 카타르\\nCAD 캐나다\\nKWD 쿠웨이트\\nTHB 태국\\nTRY 터키\\nPKR 파키스탄\\nPLN 폴란드\\nPHP 필리핀\\nHUF 헝가리\\nAUD 호주\\nHKD 홍콩\\n-->\\n<span class=\"common_ico_kwd\"><i class=\"imsc ico @12@\">@14@</i></span>\\n<div class=\"dsc_area\">\\n<span class=\"tit\">@txt@<span class=\"sub\">@currency@</span></span>\\n<span class=\"dsc\">\\n<span class=\"item\"><i class=\"imsc ico_arr\"></i>@8@(@9@%)</span>\\n</span>\\n</div>\\n<span class=\"etc_area\">\\n<span class=\"etc\"><em class=\"num\">@6@</em>원</span>\\n</span>\\n</a>\\n</div>\\n<!-- 정답형 템플릿 : 날씨(국내11, 해외12) -->\\n<!-- [AU] _answer 클래스를 추가해주세요. -->\\n<!-- [AU] data-template-type=\"answer_11\" data-code=\"@code@\" data-keyword=\"@1@\" attribute를 추가해주세요. -->\\n<div class=\"atcmp_correct type_weather _answer\" data-template-type=\"answer_11\" data-code=\"@code@\" data-keyword=\"@1@\">\\n<!-- [D] 상승 up, 하락 down 추가 -->\\n<a href=\"#\" class=\"link_item @12@\">\\n<span class=\"common_ico_kwd\"><i class=\"imsc ico_search\"></i></span>\\n<div class=\"dsc_area\">\\n<span class=\"tit\">@txt@</span>\\n<span class=\"dsc\">\\n<span class=\"item\">@7@, @message@</span>\\n</span>\\n</div>\\n<span class=\"etc_area\">\\n<span class=\"etc\">\\n<!-- [D] 날씨별 class\\nico1 맑음(낮)\\nico2 맑음(밤)\\nico3 구름조금(낮)\\nico4 구름조금(밤)\\nico5 구름많음(낮)\\nico6 구름많음(밤)\\nico7 흐림\\nico8 약한비\\nico9 비\\nico10 강한비\\nico11 약한눈\\nico12 눈\\nico13 강한눈\\nico14 진눈깨비\\nico15 소나기\\nico16 안개\\nico17 소낙눈\\nico18 번개뇌우\\nico19 우박\\nico20 황사\\nico21 비또는눈\\nico22 가끔비\\nico23 가끔눈\\nico24 가끔비또는눈\\nico25 흐린후갬\\nico26 뇌우후갬\\nico27 비후갬\\nico28 눈후갬\\nico29 흐려져비\\nico30 흐려져눈\\n-->\\n<span class=\"ico_weather\"><i class=\"imsc ico ico@iconNo@\">@7@</i></span>\\n<em class=\"degree\">@8@<sup class=\"celsius\">°</sup></em>\\n</span>\\n</span>\\n</a>\\n</div>\\n<!-- 정답형 템플릿 : 사이트 바로가기 -->\\n<!-- [AU] _answer 클래스를 추가해주세요. -->\\n<!-- [AU] data-template-type=\"answer_17\" data-code=\"@code@\" data-keyword=\"@1@\" attribute를 추가해주세요. -->\\n<div class=\"atcmp_correct type_site _answer\" data-template-type=\"answer_17\" data-code=\"@code@\" data-keyword=\"@1@\">\\n<a href=\"@5@\" class=\"link_item\" target=\"_blank\">\\n<span class=\"common_ico_kwd\"><i class=\"imsc ico_url\"></i></span>\\n<div class=\"dsc_area\">\\n<span class=\"tit\">@txt@</span>\\n<span class=\"dsc\">\\n<span class=\"item\">@5@</span>\\n</span>\\n</div>\\n<span class=\"etc_area\">\\n<span class=\"etc\">바로가기</span>\\n</span>\\n</a>\\n</div>\\n<!-- [AU] _kwd_list 클래스를 추가해주세요. -->\\n<ul class=\"kwd_lst _kwd_list\">\\n<!-- [AU] 자동완성 검색어 템플릿 -->\\n<!-- [AU] _item 클래스를 추가해주세요. -->\\n<!-- [AU] data-rank=\"@rank@\" data-template-type=\"suggestion\" data-keyword=\"@in_txt@\" attribute를 추가해주세요. -->\\n<li class=\"item _item\" data-rank=\"@rank@\" data-template-type=\"suggestion\" data-keyword=\"@in_txt@\">\\n<a href=\"#\" class=\"kwd\">\\n<span class=\"fix\"><span class=\"common_ico_kwd\"><i class=\"imsc ico_search\"></i></span>@txt@</span>\\n</a>\\n<span class=\"etc\">\\n<a href=\"#\" role=\"button\" class=\"bt_item _add\" aria-pressed=\"false\"><i class=\"imsc ico_insert\">추가</i></a>\\n</span>\\n</li>\\n<!-- [AU] 최근검색어 템플릿 -->\\n<!-- [AU] _item 클래스를 추가해주세요. -->\\n<!-- [AU] data-rank=\"@rank@\" data-template-type=\"history\" data-keyword=\"@in_txt@\" attribute를 추가해주세요. -->\\n<li class=\"item has_correct _item\" data-rank=\"@rank@\" data-template-type=\"history\" data-keyword=\"@in_txt@\">\\n<a href=\"#\" class=\"kwd\">\\n<span class=\"fix\"><span class=\"common_ico_kwd\"><i class=\"imsc ico_search\"></i></span>@txt@</span>\\n</a>\\n<span class=\"etc\">\\n<!-- 최근검색어 있으면 날짜 표시 -->\\n<em class=\"date\">@date@.</em>\\n<a href=\"#\" role=\"button\" class=\"bt_item _add\" aria-pressed=\"false\"><i class=\"imsc ico_insert\">추가</i></a>\\n</span>\\n</li>\\n</ul>\\n<!-- [AU] 문맥검색 템플릿 -->\\n<!-- [AU] _item 클래스를 추가해주세요. -->\\n<!-- [AU] data-rank=\"@rank@\" data-template-type=\"intend\" data-keyword=\"@transQuery@\" attribute를 추가해주세요. -->\\n<li class=\"item has_correct _item\" data-rank=\"@rank@\" data-intend-rank=\"@intendRank@\" data-template-type=\"intend\" data-keyword=\"@transQuery@\">\\n<a href=\"#\" class=\"kwd\">\\n<span class=\"fix\"><span class=\"common_ico_kwd\"><i class=\"imsc ico_search\"></i></span>@query@ <span class=\"context\">@intend@</span></span>\\n</a>\\n<span class=\"etc\">\\n<a href=\"#\" role=\"button\" class=\"bt_item _add\" aria-pressed=\"false\"><i class=\"imsc ico_insert\">추가</i></a>\\n</span>\\n</li>\\n<!-- [D] 선거안내문구 -->\\n<!-- [AU] _alert 클래스를 추가해주세요. -->\\n<div class=\"atcmp_alert _alert\">\\n<div class=\"dsc_election\">\\n<p class=\"dsc\">\\n<i class=\"imsc ico_election\"></i><span class=\"_alert_passage\"></span>\\n</p>\\n<span class=\"dsc_inner\">\\n<!-- [AU] _alert_passage2 클래스를 추가해주세요. -->\\n<span class=\"_alert_passage2\"></span>\\n<!-- [AU] _alert_link 클래스를 추가해주세요. -->\\n<a href=\"#\" class=\"link _alert_link\" target=\"_blank\">자세히보기</a>\\n</span>\\n</div>\\n</div>\\n<!-- [AU] _plus 클래스를 추가해주세요. -->\\n<div class=\"atcmp_plus _plus\">\\n<div class=\"dsc_plus\">\\n<a href=\"https://help.naver.com/support/alias/search/word/word_16.naver\" class=\"link_dsc\" data-clk=\"sug.cxhelp\" target=\"_blank\">관심사를 반영한 컨텍스트 자동완성<i class=\"imsc ico_help\">도움말</i></a>\\n</div>\\n<div class=\"switch\">\\n<!-- [D] 선택시 aria-pressed=\"ture/false\" -->\\n<!-- [AU] _plus_btn 클래스를 추가해주세요. -->\\n<a role=\"button\" href=\"#\" class=\"bt_switch active _plus_btn\" aria-pressed=\"false\"><i class=\"imsc ico_option\">컨텍스트 자동완성</i></a>\\n</div>\\n<!-- [AU] _plus_layer 클래스를 추가해주세요. -->\\n<div class=\"layer_plus _plus_layer\">\\n<strong class=\"tit\">컨텍스트 자동완성</strong>\\n<!-- [AU] _plus_layer_isloggedin 클래스를 추가해주세요. -->\\n<!-- [AU] style=\"display:none\" 추가해주세요. -->\\n<div class=\"_plus_layer_isloggedin\" style=\"display:none\">\\n<p class=\"dsc\">ON/OFF 설정은<br>해당기기(브라우저)에 저장됩니다.</p>\\n<div class=\"btn_area\">\\n<a href=\"https://help.naver.com/support/alias/search/word/word_16.naver\" class=\"btn btn_view\" data-clk=\"sug.cxlink\" target=\"_blank\">자세히</a>\\n</div>\\n</div>\\n<!-- [AU] _plus_layer_isnotloggedin 클래스를 추가해주세요. -->\\n<!-- [AU] style=\"display:none\" 추가해주세요. -->\\n<div class=\"_plus_layer_isnotloggedin\" style=\"display:none\">\\n<p class=\"dsc\"><em class=\"txt\">동일한 시간대/연령/남녀별</em> 사용자 그룹의<br>관심사에 맞춰 자동완성을 제공합니다.</p>\\n<div class=\"btn_area\">\\n<a href=\"https://nid.naver.com/nidlogin.login\" class=\"btn btn_login\" data-clk=\"sug.cxlogin\">로그인</a>\\n<a href=\"https://help.naver.com/support/alias/search/word/word_16.naver\" class=\"btn btn_view\" data-clk=\"sug.cxlink\" target=\"_blank\">자세히</a>\\n</div>\\n</div>\\n<!-- [AU] _plus_layer_close 클래스를 추가해주세요. -->\\n<a href=\"#\" role=\"button\" class=\"btn_close _plus_layer_close\"><i class=\"imsc ico_close\">컨텍스트 자동완성 레이어 닫기</i></a>\\n</div>\\n</div>\\n</div>\\n<div class=\"atcmp_footer\">\\n<span class=\"side_opt_area\">\\n<span class=\"opt_item\"><a href=\"https://help.naver.com/support/service/main.help?serviceNo=605&categoryNo=1987\" data-clk=\"sug.help\" target=\"_blank\">도움말</a></span>\\n<span class=\"opt_item\"><a href=\"https://help.naver.com/support/contents/contents.help?serviceNo=605&categoryNo=18215\" class=\"report\" data-clk=\"sug.report\" target=\"_blank\">신고</a></span>\\n</span>\\n<span class=\"rside_opt_area\">\\n<span class=\"opt_item\">\\n<!-- [AU] _suggestOnOff 클래스를 추가해주세요. -->\\n<a href=\"#\" class=\"close _suggestOnOff\">자동완성 끄기</a>\\n</span>\\n</span>\\n</div>\\n</div>\\n</div>\\n</div>\\n</div>\\n</div>\\n\\n</div>\\n</div>\\n\\n<!--EMPTY-->\\n<div id=\"gnb\">\\n<div id=\"NM_FAVORITE\" class=\"gnb_inner\">\\n<div class=\"group_nav\">\\n<ul class=\"list_nav type_fix\">\\n<li class=\"nav_item\">\\n<a href=\"https://mail.naver.com/\" class=\"nav\" data-clk=\"svc.mail\"><i class=\"ico_mail\"></i>메일</a>\\n</li>\\n<li class=\"nav_item\"><a href=\"https://section.cafe.naver.com/\" class=\"nav\" data-clk=\"svc.cafe\">카페</a></li>\\n<li class=\"nav_item\"><a href=\"https://section.blog.naver.com/\" class=\"nav\" data-clk=\"svc.blog\">블로그</a></li>\\n<li class=\"nav_item\"><a href=\"https://kin.naver.com/\" class=\"nav\" data-clk=\"svc.kin\">지식iN</a></li>\\n<li class=\"nav_item\"><a href=\"https://shopping.naver.com/\" class=\"nav shop\" data-clk=\"svc.shopping\"><span class=\"blind\">쇼핑</span></a></li>\\n<li class=\"nav_item\"><a href=\"https://shoppinglive.naver.com/home\" class=\"nav shoplive\"\\ndata-clk=\"svc.shoppinglive\"><span class=\"blind\">쇼핑LIVE</span></a></li>\\n<li class=\"nav_item\"><a href=\"https://order.pay.naver.com/home\" class=\"nav\" data-clk=\"svc.pay\">Pay</a></li>\\n<li class=\"nav_item\">\\n<a href=\"https://tv.naver.com/\" class=\"nav\" data-clk=\"svc.tvcast\"><i class=\"ico_tv\"></i>TV</a>\\n</li>\\n</ul>\\n<ul\\nclass=\"list_nav NM_FAVORITE_LIST\"\\n>\\n<li class=\"nav_item\"><a href=\"https://dict.naver.com/\" class=\"nav\" data-clk=\"svc.dic\">사전</a></li>\\n<li class=\"nav_item\"><a href=\"https://news.naver.com/\" class=\"nav\" data-clk=\"svc.news\">뉴스</a></li>\\n<li class=\"nav_item\"><a href=\"https://finance.naver.com/\" class=\"nav\" data-clk=\"svc.stock\">증권</a></li>\\n<li class=\"nav_item\"><a href=\"https://land.naver.com/\" class=\"nav\" data-clk=\"svc.land\">부동산</a></li>\\n<li class=\"nav_item\"><a href=\"https://map.naver.com/\" class=\"nav\" data-clk=\"svc.map\">지도</a></li>\\n<li class=\"nav_item\"><a href=\"https://vibe.naver.com/\" class=\"nav\" data-clk=\"svc.vibe\">VIBE</a></li>\\n<li class=\"nav_item\"><a href=\"https://book.naver.com/\" class=\"nav\" data-clk=\"svc.book\">책</a></li>\\n<li class=\"nav_item\"><a href=\"https://comic.naver.com/\" class=\"nav\" data-clk=\"svc.webtoon\">웹툰</a></li>\\n\\n</ul>\\n<ul class=\"list_nav type_empty\" style=\"display: none;\"></ul>\\n<a href=\"#\" role=\"button\" class=\"btn_more\" data-clk=\"svc.more\">더보기</a>\\n<div class=\"ly_btn_area\">\\n<a href=\"more.html\" class=\"btn NM_FAVORITE_ALL\" data-clk=\"map.svcmore\">서비스 전체보기</a>\\n<a href=\"#\" role=\"button\" class=\"btn btn_set\" data-clk=\"map.edit\">메뉴설정</a>\\n<a href=\"#\" role=\"button\" class=\"btn btn_reset\" data-clk=\"edt.reset\">초기화</a>\\n<a href=\"#\" role=\"button\" class=\"btn btn_save\" data-clk=\"edt.save\">저장</a>\\n</div>\\n</div>\\n<div id=\"NM_WEATHER\" class=\"group_weather\">\\n<div>\\n<a data-clk=\"squ.weat\" href=\"https://weather.naver.com/today/09650108\" class=\"weather_area ico_w01\">\\n<div class=\"current_box\">\\n<strong class=\"current\" aria-label=\"현재기온\">-3.9°</strong><strong class=\"state\">맑음</strong>\\n</div>\\n<div class=\"degree_box\">\\n<span class=\"min\" aria-label=\"최저기온\">-10.0°</span><span class=\"max\" aria-label=\"최고기온\">3.0°</span>\\n</div>\\n<span class=\"location\">서초동</span>\\n</a>\\n</div>\\n<div>\\n<a data-clk=\"squ.dust\" href=\"https://weather.naver.com/today/09650108\" class=\"air_area\">\\n<ul class=\"list_air\">\\n<li class=\"air_item\">미세<strong class=\"state state_normal\">보통</strong></li>\\n<li class=\"air_item\">초미세<strong class=\"state state_bad\">나쁨</strong></li>\\n</ul>\\n<span class=\"location\">서초동</span>\\n</a>\\n</div>\\n\\n</div>\\n</div>\\n<div class=\"ly_service\">\\n<div class=\"group_service NM_FAVORITE_ALL_LY\"></div>\\n<div class=\"group_service NM_FAVORITE_EDIT_LY\" style=\"display: none;\"></div>\\n</div>\\n</div>\\n</div>\\n <div id=\"container\" role=\"main\"> <div style=\"position:relative;width:1130px;margin:0 auto;z-index:11\"> <div id=\"da_top\"></div> <div id=\"da_expwide\"></div> </div> <div id=\"NM_INT_LEFT\" class=\"column_left\"> <div id=\"veta_top\"> <div id=\"veta_top_inner\" style=\"height:135px\"> </div> <span class=\"veta_bd_t\"></span> <span class=\"veta_bd_b\"></span> <span class=\"veta_bd_l\"></span> <span class=\"veta_bd_r\"></span> </div> <div id=\"newsstand\" class=\"sc_newscast\"> <h2 class=\"blind\">뉴스스탠드</h2> <div id=\"NM_NEWSSTAND_HEADER\" class=\"group_issue\" data-clk-prefix=\"ncy\"> <div class=\"issue_area\"> <a class=\"link_media\" href=\"https://news.naver.com/main/list.naver?mode=LPOD&mid=sec&sid1=001&sid2=140&oid=001&isYeonhapFlash=Y\" data-clk=\"newsflash\">연합뉴스</a> <div id=\"NM_ONELINE_ROLLING\" class=\"list_issue\" data-nm-ui=\"rolling\"> <div><a href=\"https://news.naver.com/main/list.naver?mode=LPOD&mid=sec&sid1=001&sid2=140&oid=001&isYeonhapFlash=Y&aid=0012929706\" class=\"issue\" data-clk=\"quickarticle\">신규확진 6천603명, 오미크론 \\'7천명 기준\\' 턱밑…위중증 488명</a></div>\\n<div><a href=\"https://news.naver.com/main/list.naver?mode=LPOD&mid=sec&sid1=001&sid2=140&oid=001&isYeonhapFlash=Y&aid=0012929795\" class=\"issue\" data-clk=\"quickarticle\">북한, ICBM·핵실험 카드 \\'만지작\\'…文정부 대북정책 물거품되나</a></div>\\n<div><a href=\"https://news.naver.com/main/list.naver?mode=LPOD&mid=sec&sid1=001&sid2=140&oid=001&isYeonhapFlash=Y&aid=0012929428\" class=\"issue\" data-clk=\"quickarticle\">\\'붕괴 사고\\' 10일차 수색 재개…타워크레인 해체 돌입</a></div>\\n<div><a href=\"https://news.naver.com/main/list.naver?mode=LPOD&mid=sec&sid1=001&sid2=140&oid=001&isYeonhapFlash=Y&aid=0012929774\" class=\"issue\" data-clk=\"quickarticle\">이재명, 尹겨냥? \"방역지침 안 지키는 사람으론 어려워\"</a></div>\\n<div><a href=\"https://news.naver.com/main/list.naver?mode=LPOD&mid=sec&sid1=001&sid2=140&oid=001&isYeonhapFlash=Y&aid=0012929509\" class=\"issue\" data-clk=\"quickarticle\">윤석열 \"수사기관에 통신자료 제공 시 본인 알림 의무화\"</a></div>\\n<div><a href=\"https://news.naver.com/main/list.naver?mode=LPOD&mid=sec&sid1=001&sid2=140&oid=001&isYeonhapFlash=Y&aid=0012929869\" class=\"issue\" data-clk=\"quickarticle\">\"2026년 메타버스 세계 점유율 5위 달성…전문가 4만명 육성\"</a></div>\\n<div><a href=\"https://news.naver.com/main/list.naver?mode=LPOD&mid=sec&sid1=001&sid2=140&oid=001&isYeonhapFlash=Y&aid=0012929850\" class=\"issue\" data-clk=\"quickarticle\">중국 경기급랭 속 사실상 기준금리 LPR 0.1%p 인하</a></div>\\n<div><a href=\"https://news.naver.com/main/list.naver?mode=LPOD&mid=sec&sid1=001&sid2=140&oid=001&isYeonhapFlash=Y&aid=0012929378\" class=\"issue\" data-clk=\"quickarticle\">[우크라이나 르포] 내전의 상처 깊은 돈바스에 또 전쟁의 북소리</a></div>\\n<div><a href=\"https://news.naver.com/main/list.naver?mode=LPOD&mid=sec&sid1=001&sid2=140&oid=001&isYeonhapFlash=Y&aid=0012929847\" class=\"issue\" data-clk=\"quickarticle\">\\'선거법 위반\\' 양정숙 1심 당선무효형…무고 혐의도 유죄</a></div>\\n<div><a href=\"https://news.naver.com/main/list.naver?mode=LPOD&mid=sec&sid1=001&sid2=140&oid=001&isYeonhapFlash=Y&aid=0012929468\" class=\"issue\" data-clk=\"quickarticle\">\\'대한 끝에 양춘 있다\\'…전국 꽁꽁 강추위 점차 누그러져</a></div> </div> </div> <div class=\"direct_area\"> <a href=\"http://news.naver.com/\" class=\"link_news\" data-clk=\"newshome\">뉴스홈</a>\\n<a href=\"http://entertain.naver.com/home\" class=\"link_direct\" data-clk=\"entertainment\">연예</a>\\n<a href=\"http://sports.news.naver.com/\" class=\"link_direct\" data-clk=\"sports\">스포츠</a>\\n<a href=\"http://m.sports.naver.com/beijing2022/index\" class=\"link_direct\" data-clk=\"beijing\">올림픽</a> </div> </div>        <div id=\"NM_NEWSSTAND_TITLE\" class=\"group_title\" data-clk-prefix=\"nsd\"> <a href=\"http://newsstand.naver.com/\" class=\"link_newsstand\" data-clk=\"title\" target=\"_blank\">뉴스스탠드</a> <div id=\"NM_NEWSSTAND_data_buttons\" class=\"sort_area\">  <a href=\"#\" role=\"button\" data-type=\"my\" data-clk=\"my\" class=\"btn_sort\">구독한 언론사</a> <a href=\"#\" role=\"button\" data-type=\"all\" data-clk=\"all\" class=\"btn_sort sort_on\">전체언론사</a>  </div> <div id=\"NM_NEWSSTAND_view_buttons\" class=\"set_area\">  <a href=\"#\" role=\"button\" data-type=\"list\" data-clk=\"articleview\" class=\"btn_set\"> <i class=\"ico_list\"><span class=\"blind\">리스트형</span></i></a> <a href=\"#\" role=\"button\" data-type=\"thumb\" data-clk=\"pressview\" class=\"btn_set set_on\"> <i class=\"ico_tile\"><span class=\"blind\">썸네일형</span></i></a>  <a href=\"http://newsstand.naver.com/config.html\" class=\"btn_set\" data-clk=\"set\" target=\"_blank\"> <i class=\"ico_set\"><span class=\"blind\">설정</span></i></a> </div> </div> <div id=\"NM_NEWSSTAND_VIEW_CONTAINER\" style=\"position:relative\"> <div id=\"NM_NEWSSTAND_DEFAULT_LIST\" class=\"group_news\" style=\"display:none\" data-clk-prefix=\"nsd_all\"> <a href=\"#\" role=\"button\" class=\"pm_btn_prev_l _NM_NEWSSTAND_LIST_prev_btn\" data-clk-custom=\"prev\"><i class=\"ico_btn\"><span class=\"blind\">이전</span></i></a> <a href=\"#\" role=\"button\" class=\"pm_btn_next_l _NM_NEWSSTAND_LIST_next_btn\" data-clk-custom=\"next\"><i class=\"ico_btn\"><span class=\"blind\">다음</span></i></a> <div class=\"list_view\"> <div class=\"option_area\"> <div class=\"list_option_wrap\"> <ul class=\"list_option\"> <li class=\"option_item\" data-cateid=\"ct2\"><a href=\"#\" class=\"option\" data-clk=\"daei\">종합/경제</a></li> <li class=\"option_item\" data-cateid=\"ct3\"><a href=\"#\" class=\"option\" data-clk=\"dtvcom\">방송/통신</a></li> <li class=\"option_item\" data-cateid=\"ct4\"><a href=\"#\" class=\"option\" data-clk=\"dit\">IT</a></li> <li class=\"option_item\" data-cateid=\"ct5\"><a href=\"#\" class=\"option\" data-clk=\"deng\">영자지</a></li> <li class=\"option_item\" data-cateid=\"ct6\"><a href=\"#\" class=\"option\" data-clk=\"dsporent\">스포츠/연예</a></li> <li class=\"option_item\" data-cateid=\"ct7\"><a href=\"#\" class=\"option\" data-clk=\"dmagtec\">매거진/전문지</a></li> <li class=\"option_item\" data-cateid=\"ct8\"><a href=\"#\" class=\"option\" data-clk=\"dloc\">지역</a></li> </ul> </div> </div> <div class=\"_NM_NEWSSTAND_ARTICLE_CONTAINER\" data-clk-sub=\"*a\"></div> </div> <div class=\"ly_popup NM_NEWSSTAND_POPUP NM_NEWSSTAND_invalid\" style=\"display:none\" data-clk-sub=\"*a\"> <a href=\"#\" role=\"button\" class=\"btn_close NM_NEWSSTAND_POPUP_CLOSE\"><i class=\"ico_close\"></i><span class=\"blind\">닫기</span></a> <p class=\"popup_msg\">해당 언론사 사정으로 접근이 제한됩니다.</p> <div class=\"popup_btn\"> <a href=\"#\" role=\"button\" class=\"btn_confirm NM_NEWSSTAND_POPUP_CLOSE\">확인</a> </div> </div> <div class=\"ly_popup NM_NEWSSTAND_POPUP NM_NEWSSTAND_undescribe_confirm\" style=\"display:none\" data-clk-sub=\"*a\"> <a href=\"#\" role=\"button\" class=\"btn_close NM_NEWSSTAND_POPUP_CLOSE\" data-clk=\"usclose\"><i class=\"ico_close\"></i><span class=\"blind\">닫기</span></a> <p class=\"popup_msg\"><strong class=\"NM_NEWSSTAND_POPUP_PNAME\"></strong>을(를)<br>구독해지 하시겠습니까?</p> <div class=\"popup_btn\"> <a href=\"#\" role=\"button\" class=\"btn_confirm NM_NEWSSTAND_POPUP_CONFIRM\" data-clk=\"usdone\">확인</a> <a href=\"#\" role=\"button\" class=\"btn_confirm NM_NEWSSTAND_POPUP_CLOSE\" data-clk=\"uscancel\">취소</a> </div> </div> <div class=\"ly_toast NM_NEWSSTAND_TOAST\" style=\"display:none\"> <p class=\"toast_msg\">구독한 언론사에 추가되었습니다.</p> </div> </div>   <div id=\"NM_NEWSSTAND_DEFAULT_THUMB\" class=\"group_news\" style=\"display:block\" data-clk-prefix=\"nsd_all\"> <a href=\"#\" role=\"button\" class=\"pm_btn_prev_l _NM_UI_PAGE_PREV\" data-clk-custom=\"prev\"><i class=\"ico_btn\"><span class=\"blind\">이전</span></i></a> <a href=\"#\" role=\"button\" class=\"pm_btn_next_l _NM_UI_PAGE_NEXT\" data-clk-custom=\"next\"><i class=\"ico_btn\"><span class=\"blind\">다음</span></i></a> <div class=\"_NM_UI_PAGE_CONTAINER\" style=\"height:100%;overflow:hidden\" data-clk-sub=\"*p\">  <div style=\"width: 750px; float: left;\">\\n<div class=\"tile_view\">\\n<div class=\"frame_area\">\\n<i class=\"line to_right1\"></i>\\n<i class=\"line to_right2\"></i>\\n<i class=\"line to_right3\"></i>\\n<i class=\"line to_bottom1\"></i>\\n<i class=\"line to_bottom2\"></i>\\n<i class=\"line to_bottom3\"></i>\\n<i class=\"line to_bottom4\"></i>\\n<i class=\"line to_bottom5\"></i>\\n</div>\\n<div class=\"thumb_area\">\\n<div\\nclass=\"thumb_box _NM_NEWSSTAND_THUMB _NM_NEWSSTAND_THUMB_press_valid\"\\ndata-pid=\"020\"\\n>\\n<a href=\"#\" class=\"thumb\">\\n<img\\nsrc=\"https://s.pstatic.net/static/newsstand/2020/logo/light/0604/020.png\"\\nheight=\"20\"\\nalt=\"동아일보\"\\nclass=\"news_logo\"\\n/>\\n<span class=\"thumb_dim\"></span\\n></a>\\n<div class=\"popup_wrap\">\\n<a\\nhref=\"#\"\\nrole=\"button\"\\nclass=\"btn_popup _NM_NEWSSTAND_THUMB_subscribe_press\"\\ndata-pid=\"020\"\\ndata-clk=\"sub\"\\n>구독</a\\n>\\n<a\\nhref=\"#\"\\nrole=\"button\"\\nclass=\"btn_popup _NM_NEWSSTAND_THUMB_unsubscribe_press\"\\ndata-pid=\"020\"\\ndata-clk=\"unsub\"\\n>해지</a\\n>\\n<a\\nhref=\"http://newsstand.naver.com/?list=&pcode=020\"\\ntarget=\"_blank\"\\nclass=\"btn_popup\"\\ndata-clk=\"logo\"\\ndata-pid=\"020\"\\n>기사보기</a\\n>\\n</div>\\n</div>\\n<div\\nclass=\"thumb_box _NM_NEWSSTAND_THUMB _NM_NEWSSTAND_THUMB_press_valid\"\\ndata-pid=\"031\"\\n>\\n<a href=\"#\" class=\"thumb\">\\n<img\\nsrc=\"https://s.pstatic.net/static/newsstand/2020/logo/light/0604/031.png\"\\nheight=\"20\"\\nalt=\"아이뉴스24\"\\nclass=\"news_logo\"\\n/>\\n<span class=\"thumb_dim\"></span\\n></a>\\n<div class=\"popup_wrap\">\\n<a\\nhref=\"#\"\\nrole=\"button\"\\nclass=\"btn_popup _NM_NEWSSTAND_THUMB_subscribe_press\"\\ndata-pid=\"031\"\\ndata-clk=\"sub\"\\n>구독</a\\n>\\n<a\\nhref=\"#\"\\nrole=\"button\"\\nclass=\"btn_popup _NM_NEWSSTAND_THUMB_unsubscribe_press\"\\ndata-pid=\"031\"\\ndata-clk=\"unsub\"\\n>해지</a\\n>\\n<a\\nhref=\"http://newsstand.naver.com/?list=&pcode=031\"\\ntarget=\"_blank\"\\nclass=\"btn_popup\"\\ndata-clk=\"logo\"\\ndata-pid=\"031\"\\n>기사보기</a\\n>\\n</div>\\n</div>\\n<div\\nclass=\"thumb_box _NM_NEWSSTAND_THUMB _NM_NEWSSTAND_THUMB_press_valid\"\\ndata-pid=\"330\"\\n>\\n<a href=\"#\" class=\"thumb\">\\n<img\\nsrc=\"https://s.pstatic.net/static/newsstand/2020/logo/light/0604/330.png\"\\nheight=\"20\"\\nalt=\"중앙데일리\"\\nclass=\"news_logo\"\\n/>\\n<span class=\"thumb_dim\"></span\\n></a>\\n<div class=\"popup_wrap\">\\n<a\\nhref=\"#\"\\nrole=\"button\"\\nclass=\"btn_popup _NM_NEWSSTAND_THUMB_subscribe_press\"\\ndata-pid=\"330\"\\ndata-clk=\"sub\"\\n>구독</a\\n>\\n<a\\nhref=\"#\"\\nrole=\"button\"\\nclass=\"btn_popup _NM_NEWSSTAND_THUMB_unsubscribe_press\"\\ndata-pid=\"330\"\\ndata-clk=\"unsub\"\\n>해지</a\\n>\\n<a\\nhref=\"http://newsstand.naver.com/?list=&pcode=330\"\\ntarget=\"_blank\"\\nclass=\"btn_popup\"\\ndata-clk=\"logo\"\\ndata-pid=\"330\"\\n>기사보기</a\\n>\\n</div>\\n</div>\\n<div\\nclass=\"thumb_box _NM_NEWSSTAND_THUMB _NM_NEWSSTAND_THUMB_press_valid\"\\ndata-pid=\"015\"\\n>\\n<a href=\"#\" class=\"thumb\">\\n<img\\nsrc=\"https://s.pstatic.net/static/newsstand/2020/logo/light/0604/015.png\"\\nheight=\"20\"\\nalt=\"한국경제\"\\nclass=\"news_logo\"\\n/>\\n<span class=\"thumb_dim\"></span\\n></a>\\n<div class=\"popup_wrap\">\\n<a\\nhref=\"#\"\\nrole=\"button\"\\nclass=\"btn_popup _NM_NEWSSTAND_THUMB_subscribe_press\"\\ndata-pid=\"015\"\\ndata-clk=\"sub\"\\n>구독</a\\n>\\n<a\\nhref=\"#\"\\nrole=\"button\"\\nclass=\"btn_popup _NM_NEWSSTAND_THUMB_unsubscribe_press\"\\ndata-pid=\"015\"\\ndata-clk=\"unsub\"\\n>해지</a\\n>\\n<a\\nhref=\"http://newsstand.naver.com/?list=&pcode=015\"\\ntarget=\"_blank\"\\nclass=\"btn_popup\"\\ndata-clk=\"logo\"\\ndata-pid=\"015\"\\n>기사보기</a\\n>\\n</div>\\n</div>\\n<div\\nclass=\"thumb_box _NM_NEWSSTAND_THUMB _NM_NEWSSTAND_THUMB_press_valid\"\\ndata-pid=\"376\"\\n>\\n<a href=\"#\" class=\"thumb\">\\n<img\\nsrc=\"https://s.pstatic.net/static/newsstand/2020/logo/light/0604/376.png\"\\nheight=\"20\"\\nalt=\"지지통신\"\\nclass=\"news_logo\"\\n/>\\n<span class=\"thumb_dim\"></span\\n></a>\\n<div class=\"popup_wrap\">\\n<a\\nhref=\"#\"\\nrole=\"button\"\\nclass=\"btn_popup _NM_NEWSSTAND_THUMB_subscribe_press\"\\ndata-pid=\"376\"\\ndata-clk=\"sub\"\\n>구독</a\\n>\\n<a\\nhref=\"#\"\\nrole=\"button\"\\nclass=\"btn_popup _NM_NEWSSTAND_THUMB_unsubscribe_press\"\\ndata-pid=\"376\"\\ndata-clk=\"unsub\"\\n>해지</a\\n>\\n<a\\nhref=\"http://newsstand.naver.com/?list=&pcode=376\"\\ntarget=\"_blank\"\\nclass=\"btn_popup\"\\ndata-clk=\"logo\"\\ndata-pid=\"376\"\\n>기사보기</a\\n>\\n</div>\\n</div>\\n<div\\nclass=\"thumb_box _NM_NEWSSTAND_THUMB _NM_NEWSSTAND_THUMB_press_valid\"\\ndata-pid=\"117\"\\n>\\n<a href=\"#\" class=\"thumb\">\\n<img\\nsrc=\"https://s.pstatic.net/static/newsstand/2020/logo/light/0604/117.png\"\\nheight=\"20\"\\nalt=\"마이데일리\"\\nclass=\"news_logo\"\\n/>\\n<span class=\"thumb_dim\"></span\\n></a>\\n<div class=\"popup_wrap\">\\n<a\\nhref=\"#\"\\nrole=\"button\"\\nclass=\"btn_popup _NM_NEWSSTAND_THUMB_subscribe_press\"\\ndata-pid=\"117\"\\ndata-clk=\"sub\"\\n>구독</a\\n>\\n<a\\nhref=\"#\"\\nrole=\"button\"\\nclass=\"btn_popup _NM_NEWSSTAND_THUMB_unsubscribe_press\"\\ndata-pid=\"117\"\\ndata-clk=\"unsub\"\\n>해지</a\\n>\\n<a\\nhref=\"http://newsstand.naver.com/?list=&pcode=117\"\\ntarget=\"_blank\"\\nclass=\"btn_popup\"\\ndata-clk=\"logo\"\\ndata-pid=\"117\"\\n>기사보기</a\\n>\\n</div>\\n</div>\\n<div\\nclass=\"thumb_box _NM_NEWSSTAND_THUMB _NM_NEWSSTAND_THUMB_press_valid\"\\ndata-pid=\"057\"\\n>\\n<a href=\"#\" class=\"thumb\">\\n<img\\nsrc=\"https://s.pstatic.net/static/newsstand/2020/logo/light/0604/057.png\"\\nheight=\"20\"\\nalt=\"MBN\"\\nclass=\"news_logo\"\\n/>\\n<span class=\"thumb_dim\"></span\\n></a>\\n<div class=\"popup_wrap\">\\n<a\\nhref=\"#\"\\nrole=\"button\"\\nclass=\"btn_popup _NM_NEWSSTAND_THUMB_subscribe_press\"\\ndata-pid=\"057\"\\ndata-clk=\"sub\"\\n>구독</a\\n>\\n<a\\nhref=\"#\"\\nrole=\"button\"\\nclass=\"btn_popup _NM_NEWSSTAND_THUMB_unsubscribe_press\"\\ndata-pid=\"057\"\\ndata-clk=\"unsub\"\\n>해지</a\\n>\\n<a\\nhref=\"http://newsstand.naver.com/?list=&pcode=057\"\\ntarget=\"_blank\"\\nclass=\"btn_popup\"\\ndata-clk=\"logo\"\\ndata-pid=\"057\"\\n>기사보기</a\\n>\\n</div>\\n</div>\\n<div\\nclass=\"thumb_box _NM_NEWSSTAND_THUMB _NM_NEWSSTAND_THUMB_press_valid\"\\ndata-pid=\"052\"\\n>\\n<a href=\"#\" class=\"thumb\">\\n<img\\nsrc=\"https://s.pstatic.net/static/newsstand/2020/logo/light/0604/052.png\"\\nheight=\"20\"\\nalt=\"YTN\"\\nclass=\"news_logo\"\\n/>\\n<span class=\"thumb_dim\"></span\\n></a>\\n<div class=\"popup_wrap\">\\n<a\\nhref=\"#\"\\nrole=\"button\"\\nclass=\"btn_popup _NM_NEWSSTAND_THUMB_subscribe_press\"\\ndata-pid=\"052\"\\ndata-clk=\"sub\"\\n>구독</a\\n>\\n<a\\nhref=\"#\"\\nrole=\"button\"\\nclass=\"btn_popup _NM_NEWSSTAND_THUMB_unsubscribe_press\"\\ndata-pid=\"052\"\\ndata-clk=\"unsub\"\\n>해지</a\\n>\\n<a\\nhref=\"http://newsstand.naver.com/?list=&pcode=052\"\\ntarget=\"_blank\"\\nclass=\"btn_popup\"\\ndata-clk=\"logo\"\\ndata-pid=\"052\"\\n>기사보기</a\\n>\\n</div>\\n</div>\\n<div\\nclass=\"thumb_box _NM_NEWSSTAND_THUMB _NM_NEWSSTAND_THUMB_press_valid\"\\ndata-pid=\"056\"\\n>\\n<a href=\"#\" class=\"thumb\">\\n<img\\nsrc=\"https://s.pstatic.net/static/newsstand/2020/logo/light/0604/056.png\"\\nheight=\"20\"\\nalt=\"KBS\"\\nclass=\"news_logo\"\\n/>\\n<span class=\"thumb_dim\"></span\\n></a>\\n<div class=\"popup_wrap\">\\n<a\\nhref=\"#\"\\nrole=\"button\"\\nclass=\"btn_popup _NM_NEWSSTAND_THUMB_subscribe_press\"\\ndata-pid=\"056\"\\ndata-clk=\"sub\"\\n>구독</a\\n>\\n<a\\nhref=\"#\"\\nrole=\"button\"\\nclass=\"btn_popup _NM_NEWSSTAND_THUMB_unsubscribe_press\"\\ndata-pid=\"056\"\\ndata-clk=\"unsub\"\\n>해지</a\\n>\\n<a\\nhref=\"http://newsstand.naver.com/?list=&pcode=056\"\\ntarget=\"_blank\"\\nclass=\"btn_popup\"\\ndata-clk=\"logo\"\\ndata-pid=\"056\"\\n>기사보기</a\\n>\\n</div>\\n</div>\\n<div\\nclass=\"thumb_box _NM_NEWSSTAND_THUMB _NM_NEWSSTAND_THUMB_press_valid\"\\ndata-pid=\"014\"\\n>\\n<a href=\"#\" class=\"thumb\">\\n<img\\nsrc=\"https://s.pstatic.net/static/newsstand/2020/logo/light/0604/014.png\"\\nheight=\"20\"\\nalt=\"파이낸셜뉴스\"\\nclass=\"news_logo\"\\n/>\\n<span class=\"thumb_dim\"></span\\n></a>\\n<div class=\"popup_wrap\">\\n<a\\nhref=\"#\"\\nrole=\"button\"\\nclass=\"btn_popup _NM_NEWSSTAND_THUMB_subscribe_press\"\\ndata-pid=\"014\"\\ndata-clk=\"sub\"\\n>구독</a\\n>\\n<a\\nhref=\"#\"\\nrole=\"button\"\\nclass=\"btn_popup _NM_NEWSSTAND_THUMB_unsubscribe_press\"\\ndata-pid=\"014\"\\ndata-clk=\"unsub\"\\n>해지</a\\n>\\n<a\\nhref=\"http://newsstand.naver.com/?list=&pcode=014\"\\ntarget=\"_blank\"\\nclass=\"btn_popup\"\\ndata-clk=\"logo\"\\ndata-pid=\"014\"\\n>기사보기</a\\n>\\n</div>\\n</div>\\n<div\\nclass=\"thumb_box _NM_NEWSSTAND_THUMB _NM_NEWSSTAND_THUMB_press_valid\"\\ndata-pid=\"003\"\\n>\\n<a href=\"#\" class=\"thumb\">\\n<img\\nsrc=\"https://s.pstatic.net/static/newsstand/2020/logo/light/0604/003.png\"\\nheight=\"20\"\\nalt=\"뉴시스\"\\nclass=\"news_logo\"\\n/>\\n<span class=\"thumb_dim\"></span\\n></a>\\n<div class=\"popup_wrap\">\\n<a\\nhref=\"#\"\\nrole=\"button\"\\nclass=\"btn_popup _NM_NEWSSTAND_THUMB_subscribe_press\"\\ndata-pid=\"003\"\\ndata-clk=\"sub\"\\n>구독</a\\n>\\n<a\\nhref=\"#\"\\nrole=\"button\"\\nclass=\"btn_popup _NM_NEWSSTAND_THUMB_unsubscribe_press\"\\ndata-pid=\"003\"\\ndata-clk=\"unsub\"\\n>해지</a\\n>\\n<a\\nhref=\"http://newsstand.naver.com/?list=&pcode=003\"\\ntarget=\"_blank\"\\nclass=\"btn_popup\"\\ndata-clk=\"logo\"\\ndata-pid=\"003\"\\n>기사보기</a\\n>\\n</div>\\n</div>\\n<div\\nclass=\"thumb_box _NM_NEWSSTAND_THUMB _NM_NEWSSTAND_THUMB_press_valid\"\\ndata-pid=\"028\"\\n>\\n<a href=\"#\" class=\"thumb\">\\n<img\\nsrc=\"https://s.pstatic.net/static/newsstand/2020/logo/light/0604/028.png\"\\nheight=\"20\"\\nalt=\"한겨레\"\\nclass=\"news_logo\"\\n/>\\n<span class=\"thumb_dim\"></span\\n></a>\\n<div class=\"popup_wrap\">\\n<a\\nhref=\"#\"\\nrole=\"button\"\\nclass=\"btn_popup _NM_NEWSSTAND_THUMB_subscribe_press\"\\ndata-pid=\"028\"\\ndata-clk=\"sub\"\\n>구독</a\\n>\\n<a\\nhref=\"#\"\\nrole=\"button\"\\nclass=\"btn_popup _NM_NEWSSTAND_THUMB_unsubscribe_press\"\\ndata-pid=\"028\"\\ndata-clk=\"unsub\"\\n>해지</a\\n>\\n<a\\nhref=\"http://newsstand.naver.com/?list=&pcode=028\"\\ntarget=\"_blank\"\\nclass=\"btn_popup\"\\ndata-clk=\"logo\"\\ndata-pid=\"028\"\\n>기사보기</a\\n>\\n</div>\\n</div>\\n<div\\nclass=\"thumb_box _NM_NEWSSTAND_THUMB _NM_NEWSSTAND_THUMB_press_valid\"\\ndata-pid=\"139\"\\n>\\n<a href=\"#\" class=\"thumb\">\\n<img\\nsrc=\"https://s.pstatic.net/static/newsstand/2020/logo/light/0604/139.png\"\\nheight=\"20\"\\nalt=\"스포탈코리아\"\\nclass=\"news_logo\"\\n/>\\n<span class=\"thumb_dim\"></span\\n></a>\\n<div class=\"popup_wrap\">\\n<a\\nhref=\"#\"\\nrole=\"button\"\\nclass=\"btn_popup _NM_NEWSSTAND_THUMB_subscribe_press\"\\ndata-pid=\"139\"\\ndata-clk=\"sub\"\\n>구독</a\\n>\\n<a\\nhref=\"#\"\\nrole=\"button\"\\nclass=\"btn_popup _NM_NEWSSTAND_THUMB_unsubscribe_press\"\\ndata-pid=\"139\"\\ndata-clk=\"unsub\"\\n>해지</a\\n>\\n<a\\nhref=\"http://newsstand.naver.com/?list=&pcode=139\"\\ntarget=\"_blank\"\\nclass=\"btn_popup\"\\ndata-clk=\"logo\"\\ndata-pid=\"139\"\\n>기사보기</a\\n>\\n</div>\\n</div>\\n<div\\nclass=\"thumb_box _NM_NEWSSTAND_THUMB _NM_NEWSSTAND_THUMB_press_valid\"\\ndata-pid=\"073\"\\n>\\n<a href=\"#\" class=\"thumb\">\\n<img\\nsrc=\"https://s.pstatic.net/static/newsstand/up/2020/0708/nsd94830278.png\"\\nheight=\"20\"\\nalt=\"스포츠서울\"\\nclass=\"news_logo\"\\n/>\\n<span class=\"thumb_dim\"></span\\n></a>\\n<div class=\"popup_wrap\">\\n<a\\nhref=\"#\"\\nrole=\"button\"\\nclass=\"btn_popup _NM_NEWSSTAND_THUMB_subscribe_press\"\\ndata-pid=\"073\"\\ndata-clk=\"sub\"\\n>구독</a\\n>\\n<a\\nhref=\"#\"\\nrole=\"button\"\\nclass=\"btn_popup _NM_NEWSSTAND_THUMB_unsubscribe_press\"\\ndata-pid=\"073\"\\ndata-clk=\"unsub\"\\n>해지</a\\n>\\n<a\\nhref=\"http://newsstand.naver.com/?list=&pcode=073\"\\ntarget=\"_blank\"\\nclass=\"btn_popup\"\\ndata-clk=\"logo\"\\ndata-pid=\"073\"\\n>기사보기</a\\n>\\n</div>\\n</div>\\n<div\\nclass=\"thumb_box _NM_NEWSSTAND_THUMB _NM_NEWSSTAND_THUMB_press_valid\"\\ndata-pid=\"904\"\\n>\\n<a href=\"#\" class=\"thumb\">\\n<img\\nsrc=\"https://s.pstatic.net/static/newsstand/2020/logo/light/0604/904.png\"\\nheight=\"20\"\\nalt=\"JTBC\"\\nclass=\"news_logo\"\\n/>\\n<span class=\"thumb_dim\"></span\\n></a>\\n<div class=\"popup_wrap\">\\n<a\\nhref=\"#\"\\nrole=\"button\"\\nclass=\"btn_popup _NM_NEWSSTAND_THUMB_subscribe_press\"\\ndata-pid=\"904\"\\ndata-clk=\"sub\"\\n>구독</a\\n>\\n<a\\nhref=\"#\"\\nrole=\"button\"\\nclass=\"btn_popup _NM_NEWSSTAND_THUMB_unsubscribe_press\"\\ndata-pid=\"904\"\\ndata-clk=\"unsub\"\\n>해지</a\\n>\\n<a\\nhref=\"http://newsstand.naver.com/?list=&pcode=904\"\\ntarget=\"_blank\"\\nclass=\"btn_popup\"\\ndata-clk=\"logo\"\\ndata-pid=\"904\"\\n>기사보기</a\\n>\\n</div>\\n</div>\\n<div\\nclass=\"thumb_box _NM_NEWSSTAND_THUMB _NM_NEWSSTAND_THUMB_press_valid\"\\ndata-pid=\"932\"\\n>\\n<a href=\"#\" class=\"thumb\">\\n<img\\nsrc=\"https://s.pstatic.net/static/newsstand/2020/logo/light/0604/932.png\"\\nheight=\"20\"\\nalt=\"CEO스코어데일리\"\\nclass=\"news_logo\"\\n/>\\n<span class=\"thumb_dim\"></span\\n></a>\\n<div class=\"popup_wrap\">\\n<a\\nhref=\"#\"\\nrole=\"button\"\\nclass=\"btn_popup _NM_NEWSSTAND_THUMB_subscribe_press\"\\ndata-pid=\"932\"\\ndata-clk=\"sub\"\\n>구독</a\\n>\\n<a\\nhref=\"#\"\\nrole=\"button\"\\nclass=\"btn_popup _NM_NEWSSTAND_THUMB_unsubscribe_press\"\\ndata-pid=\"932\"\\ndata-clk=\"unsub\"\\n>해지</a\\n>\\n<a\\nhref=\"http://newsstand.naver.com/?list=&pcode=932\"\\ntarget=\"_blank\"\\nclass=\"btn_popup\"\\ndata-clk=\"logo\"\\ndata-pid=\"932\"\\n>기사보기</a\\n>\\n</div>\\n</div>\\n<div\\nclass=\"thumb_box _NM_NEWSSTAND_THUMB _NM_NEWSSTAND_THUMB_press_valid\"\\ndata-pid=\"948\"\\n>\\n<a href=\"#\" class=\"thumb\">\\n<img\\nsrc=\"https://s.pstatic.net/static/newsstand/2020/logo/light/0604/948.png\"\\nheight=\"20\"\\nalt=\"한겨레21\"\\nclass=\"news_logo\"\\n/>\\n<span class=\"thumb_dim\"></span\\n></a>\\n<div class=\"popup_wrap\">\\n<a\\nhref=\"#\"\\nrole=\"button\"\\nclass=\"btn_popup _NM_NEWSSTAND_THUMB_subscribe_press\"\\ndata-pid=\"948\"\\ndata-clk=\"sub\"\\n>구독</a\\n>\\n<a\\nhref=\"#\"\\nrole=\"button\"\\nclass=\"btn_popup _NM_NEWSSTAND_THUMB_unsubscribe_press\"\\ndata-pid=\"948\"\\ndata-clk=\"unsub\"\\n>해지</a\\n>\\n<a\\nhref=\"http://newsstand.naver.com/?list=&pcode=948\"\\ntarget=\"_blank\"\\nclass=\"btn_popup\"\\ndata-clk=\"logo\"\\ndata-pid=\"948\"\\n>기사보기</a\\n>\\n</div>\\n</div>\\n<div\\nclass=\"thumb_box _NM_NEWSSTAND_THUMB _NM_NEWSSTAND_THUMB_press_valid\"\\ndata-pid=\"947\"\\n>\\n<a href=\"#\" class=\"thumb\">\\n<img\\nsrc=\"https://s.pstatic.net/static/newsstand/2020/logo/light/0604/947.png\"\\nheight=\"20\"\\nalt=\"조이뉴스24\"\\nclass=\"news_logo\"\\n/>\\n<span class=\"thumb_dim\"></span\\n></a>\\n<div class=\"popup_wrap\">\\n<a\\nhref=\"#\"\\nrole=\"button\"\\nclass=\"btn_popup _NM_NEWSSTAND_THUMB_subscribe_press\"\\ndata-pid=\"947\"\\ndata-clk=\"sub\"\\n>구독</a\\n>\\n<a\\nhref=\"#\"\\nrole=\"button\"\\nclass=\"btn_popup _NM_NEWSSTAND_THUMB_unsubscribe_press\"\\ndata-pid=\"947\"\\ndata-clk=\"unsub\"\\n>해지</a\\n>\\n<a\\nhref=\"http://newsstand.naver.com/?list=&pcode=947\"\\ntarget=\"_blank\"\\nclass=\"btn_popup\"\\ndata-clk=\"logo\"\\ndata-pid=\"947\"\\n>기사보기</a\\n>\\n</div>\\n</div>\\n<div\\nclass=\"thumb_box _NM_NEWSSTAND_THUMB _NM_NEWSSTAND_THUMB_press_valid\"\\ndata-pid=\"906\"\\n>\\n<a href=\"#\" class=\"thumb\">\\n<img\\nsrc=\"https://s.pstatic.net/static/newsstand/2020/logo/light/0604/906.png\"\\nheight=\"20\"\\nalt=\"KNN\"\\nclass=\"news_logo\"\\n/>\\n<span class=\"thumb_dim\"></span\\n></a>\\n<div class=\"popup_wrap\">\\n<a\\nhref=\"#\"\\nrole=\"button\"\\nclass=\"btn_popup _NM_NEWSSTAND_THUMB_subscribe_press\"\\ndata-pid=\"906\"\\ndata-clk=\"sub\"\\n>구독</a\\n>\\n<a\\nhref=\"#\"\\nrole=\"button\"\\nclass=\"btn_popup _NM_NEWSSTAND_THUMB_unsubscribe_press\"\\ndata-pid=\"906\"\\ndata-clk=\"unsub\"\\n>해지</a\\n>\\n<a\\nhref=\"http://newsstand.naver.com/?list=&pcode=906\"\\ntarget=\"_blank\"\\nclass=\"btn_popup\"\\ndata-clk=\"logo\"\\ndata-pid=\"906\"\\n>기사보기</a\\n>\\n</div>\\n</div>\\n<div\\nclass=\"thumb_box _NM_NEWSSTAND_THUMB _NM_NEWSSTAND_THUMB_press_valid\"\\ndata-pid=\"986\"\\n>\\n<a href=\"#\" class=\"thumb\">\\n<img\\nsrc=\"https://s.pstatic.net/static/newsstand/up/2020/1019/nsd144531857.png\"\\nheight=\"20\"\\nalt=\"투데이신문\"\\nclass=\"news_logo\"\\n/>\\n<span class=\"thumb_dim\"></span\\n></a>\\n<div class=\"popup_wrap\">\\n<a\\nhref=\"#\"\\nrole=\"button\"\\nclass=\"btn_popup _NM_NEWSSTAND_THUMB_subscribe_press\"\\ndata-pid=\"986\"\\ndata-clk=\"sub\"\\n>구독</a\\n>\\n<a\\nhref=\"#\"\\nrole=\"button\"\\nclass=\"btn_popup _NM_NEWSSTAND_THUMB_unsubscribe_press\"\\ndata-pid=\"986\"\\ndata-clk=\"unsub\"\\n>해지</a\\n>\\n<a\\nhref=\"http://newsstand.naver.com/?list=&pcode=986\"\\ntarget=\"_blank\"\\nclass=\"btn_popup\"\\ndata-clk=\"logo\"\\ndata-pid=\"986\"\\n>기사보기</a\\n>\\n</div>\\n</div>\\n<div\\nclass=\"thumb_box _NM_NEWSSTAND_THUMB _NM_NEWSSTAND_THUMB_press_valid\"\\ndata-pid=\"968\"\\n>\\n<a href=\"#\" class=\"thumb\">\\n<img\\nsrc=\"https://s.pstatic.net/static/newsstand/2020/logo/light/0604/968.png\"\\nheight=\"20\"\\nalt=\"한국금융신문\"\\nclass=\"news_logo\"\\n/>\\n<span class=\"thumb_dim\"></span\\n></a>\\n<div class=\"popup_wrap\">\\n<a\\nhref=\"#\"\\nrole=\"button\"\\nclass=\"btn_popup _NM_NEWSSTAND_THUMB_subscribe_press\"\\ndata-pid=\"968\"\\ndata-clk=\"sub\"\\n>구독</a\\n>\\n<a\\nhref=\"#\"\\nrole=\"button\"\\nclass=\"btn_popup _NM_NEWSSTAND_THUMB_unsubscribe_press\"\\ndata-pid=\"968\"\\ndata-clk=\"unsub\"\\n>해지</a\\n>\\n<a\\nhref=\"http://newsstand.naver.com/?list=&pcode=968\"\\ntarget=\"_blank\"\\nclass=\"btn_popup\"\\ndata-clk=\"logo\"\\ndata-pid=\"968\"\\n>기사보기</a\\n>\\n</div>\\n</div>\\n<div\\nclass=\"thumb_box _NM_NEWSSTAND_THUMB _NM_NEWSSTAND_THUMB_press_valid\"\\ndata-pid=\"140\"\\n>\\n<a href=\"#\" class=\"thumb\">\\n<img\\nsrc=\"https://s.pstatic.net/static/newsstand/2020/logo/light/0604/140.png\"\\nheight=\"20\"\\nalt=\"씨네21\"\\nclass=\"news_logo\"\\n/>\\n<span class=\"thumb_dim\"></span\\n></a>\\n<div class=\"popup_wrap\">\\n<a\\nhref=\"#\"\\nrole=\"button\"\\nclass=\"btn_popup _NM_NEWSSTAND_THUMB_subscribe_press\"\\ndata-pid=\"140\"\\ndata-clk=\"sub\"\\n>구독</a\\n>\\n<a\\nhref=\"#\"\\nrole=\"button\"\\nclass=\"btn_popup _NM_NEWSSTAND_THUMB_unsubscribe_press\"\\ndata-pid=\"140\"\\ndata-clk=\"unsub\"\\n>해지</a\\n>\\n<a\\nhref=\"http://newsstand.naver.com/?list=&pcode=140\"\\ntarget=\"_blank\"\\nclass=\"btn_popup\"\\ndata-clk=\"logo\"\\ndata-pid=\"140\"\\n>기사보기</a\\n>\\n</div>\\n</div>\\n<div\\nclass=\"thumb_box _NM_NEWSSTAND_THUMB _NM_NEWSSTAND_THUMB_press_valid\"\\ndata-pid=\"328\"\\n>\\n<a href=\"#\" class=\"thumb\">\\n<img\\nsrc=\"https://s.pstatic.net/static/newsstand/2020/logo/light/0604/328.png\"\\nheight=\"20\"\\nalt=\"에이블뉴스\"\\nclass=\"news_logo\"\\n/>\\n<span class=\"thumb_dim\"></span\\n></a>\\n<div class=\"popup_wrap\">\\n<a\\nhref=\"#\"\\nrole=\"button\"\\nclass=\"btn_popup _NM_NEWSSTAND_THUMB_subscribe_press\"\\ndata-pid=\"328\"\\ndata-clk=\"sub\"\\n>구독</a\\n>\\n<a\\nhref=\"#\"\\nrole=\"button\"\\nclass=\"btn_popup _NM_NEWSSTAND_THUMB_unsubscribe_press\"\\ndata-pid=\"328\"\\ndata-clk=\"unsub\"\\n>해지</a\\n>\\n<a\\nhref=\"http://newsstand.naver.com/?list=&pcode=328\"\\ntarget=\"_blank\"\\nclass=\"btn_popup\"\\ndata-clk=\"logo\"\\ndata-pid=\"328\"\\n>기사보기</a\\n>\\n</div>\\n</div>\\n<div\\nclass=\"thumb_box _NM_NEWSSTAND_THUMB _NM_NEWSSTAND_THUMB_press_valid\"\\ndata-pid=\"416\"\\n>\\n<a href=\"#\" class=\"thumb\">\\n<img\\nsrc=\"https://s.pstatic.net/static/newsstand/up/2020/1228/nsd1681569.png\"\\nheight=\"20\"\\nalt=\"SBS연예뉴스\"\\nclass=\"news_logo\"\\n/>\\n<span class=\"thumb_dim\"></span\\n></a>\\n<div class=\"popup_wrap\">\\n<a\\nhref=\"#\"\\nrole=\"button\"\\nclass=\"btn_popup _NM_NEWSSTAND_THUMB_subscribe_press\"\\ndata-pid=\"416\"\\ndata-clk=\"sub\"\\n>구독</a\\n>\\n<a\\nhref=\"#\"\\nrole=\"button\"\\nclass=\"btn_popup _NM_NEWSSTAND_THUMB_unsubscribe_press\"\\ndata-pid=\"416\"\\ndata-clk=\"unsub\"\\n>해지</a\\n>\\n<a\\nhref=\"http://newsstand.naver.com/?list=&pcode=416\"\\ntarget=\"_blank\"\\nclass=\"btn_popup\"\\ndata-clk=\"logo\"\\ndata-pid=\"416\"\\n>기사보기</a\\n>\\n</div>\\n</div>\\n</div>\\n</div>\\n</div>\\n  </div> <div class=\"ly_popup NM_NEWSSTAND_POPUP NM_NEWSSTAND_invalid\" style=\"display:none\"> <a href=\"#\" role=\"button\" class=\"btn_close NM_NEWSSTAND_POPUP_CLOSE\"><i class=\"ico_close\"></i><span class=\"blind\">닫기</span></a> <p class=\"popup_msg\">해당 언론사 사정으로 접근이 제한됩니다.</p> <div class=\"popup_btn\"> <a href=\"#\" role=\"button\" class=\"btn_confirm NM_NEWSSTAND_POPUP_CLOSE\">확인</a> </div> </div> <div class=\"ly_popup NM_NEWSSTAND_POPUP NM_NEWSSTAND_undescribe_confirm\" style=\"display:none\" data-clk-sub=\"*a\"> <a href=\"#\" role=\"button\" class=\"btn_close NM_NEWSSTAND_POPUP_CLOSE\" data-clk=\"usclose\"><i class=\"ico_close\"></i><span class=\"blind\">닫기</span></a> <p class=\"popup_msg\"><strong class=\"NM_NEWSSTAND_POPUP_PNAME\"></strong>을(를)<br/>구독해지 하시겠습니까?</p> <div class=\"popup_btn\"> <a href=\"#\" role=\"button\" class=\"btn_confirm NM_NEWSSTAND_POPUP_CONFIRM\" data-clk=\"usdone\">확인</a> <a href=\"#\" role=\"button\" class=\"btn_confirm NM_NEWSSTAND_POPUP_CLOSE\" data-clk=\"uscancel\">취소</a> </div> </div> <div class=\"ly_toast NM_NEWSSTAND_TOAST\" style=\"display:none\"> <p class=\"toast_msg\">구독한 언론사에 추가되었습니다.</p> </div> </div> <div id=\"NM_NEWSSTAND_MY_LIST\" class=\"group_news\" style=\"display:none\" data-clk-prefix=\"nsd_myn\"> <a href=\"#\" role=\"button\" class=\"pm_btn_prev_l _NM_NEWSSTAND_LIST_prev_btn\" data-clk-custom=\"prev\"><i class=\"ico_btn\"></i><span class=\"blind\">이전</span></a> <a href=\"#\" role=\"button\" class=\"pm_btn_next_l _NM_NEWSSTAND_LIST_next_btn\" data-clk-custom=\"next\"><i class=\"ico_btn\"></i><span class=\"blind\">다음</span><span class=\"blind\">다음</span></a> <div class=\"list_view\"> <div class=\"option_area\"> <div class=\"list_option_wrap\"> <ul class=\"list_option _NM_NEWSSTAND_MY_presslist\"> <!-- nvpaperlist:empty --> </ul> </div> </div> <div class=\"_NM_NEWSSTAND_ARTICLE_CONTAINER\" data-clk-sub=\"*a\">  </div> </div> <div class=\"ly_popup NM_NEWSSTAND_POPUP NM_NEWSSTAND_invalid\" style=\"display:none\"> <a href=\"#\" role=\"button\" class=\"btn_close NM_NEWSSTAND_POPUP_CLOSE\"><i class=\"ico_close\"></i><span class=\"blind\">닫기</span></a> <p class=\"popup_msg\">해당 언론사 사정으로 접근이 일시 제한됩니다.</p> <div class=\"popup_btn\"> <a href=\"#\" role=\"button\" class=\"btn_confirm NM_NEWSSTAND_POPUP_CLOSE\">확인</a> </div> </div> <div class=\"ly_popup NM_NEWSSTAND_POPUP NM_NEWSSTAND_undescribe_confirm\" style=\"display:none\" data-clk-sub=\"*a\"> <a href=\"#\" role=\"button\" class=\"btn_close NM_NEWSSTAND_POPUP_CLOSE\" data-clk=\"usclose\"><i class=\"ico_close\"></i><span class=\"blind\">닫기</span></a> <p class=\"popup_msg\"><strong class=\"NM_NEWSSTAND_POPUP_PNAME\"></strong>을(를)<br>구독해지 하시겠습니까?</p> <div class=\"popup_btn\"> <a href=\"#\" role=\"button\" class=\"btn_confirm NM_NEWSSTAND_POPUP_CONFIRM\" data-clk=\"usdone\">확인</a> <a href=\"#\" role=\"button\" class=\"btn_confirm NM_NEWSSTAND_POPUP_CLOSE\" data-clk=\"uscancel\">취소</a> </div> </div> </div> <div id=\"NM_NEWSSTAND_MY_THUMB\" class=\"group_news\" style=\"display:none\" data-clk-prefix=\"nsd_myn\"> <a href=\"#\" role=\"button\" class=\"pm_btn_prev_l _NM_UI_PAGE_PREV\" data-clk-custom=\"prev\"><i class=\"ico_btn\"><span class=\"blind\">이전</span></i></a> <a href=\"#\" role=\"button\" class=\"pm_btn_next_l _NM_UI_PAGE_NEXT\" data-clk-custom=\"next\"><i class=\"ico_btn\"><span class=\"blind\">다음</span></i></a> <div class=\"_NM_UI_PAGE_CONTAINER\" data-clk-sub=\"*p\"></div> <div class=\"ly_popup NM_NEWSSTAND_POPUP NM_NEWSSTAND_invalid\" style=\"display:none\"> <a href=\"#\" role=\"button\" class=\"btn_close NM_NEWSSTAND_POPUP_CLOSE\"><i class=\"ico_close\"></i><span class=\"blind\">닫기</span></a> <p class=\"popup_msg\">해당 언론사 사정으로 접근이 제한됩니다.</p> <div class=\"popup_btn\"> <a href=\"#\" role=\"button\" class=\"btn_confirm NM_NEWSSTAND_POPUP_CLOSE\">확인</a> </div> </div> <div class=\"ly_popup NM_NEWSSTAND_POPUP NM_NEWSSTAND_undescribe_confirm\" style=\"display:none\" data-clk-sub=\"*a\"> <a href=\"#\" role=\"button\" class=\"btn_close NM_NEWSSTAND_POPUP_CLOSE\" data-clk=\"usclose\"><i class=\"ico_close\"></i><span class=\"blind\">닫기</span></a> <p class=\"popup_msg\"><strong class=\"NM_NEWSSTAND_POPUP_PNAME\"></strong>을(를)<br>구독해지 하시겠습니까?</p> <div class=\"popup_btn\"> <a href=\"#\" role=\"button\" class=\"btn_confirm NM_NEWSSTAND_POPUP_CONFIRM\" data-clk=\"usdone\">확인</a> <a href=\"#\" role=\"button\" class=\"btn_confirm NM_NEWSSTAND_POPUP_CLOSE\" data-clk=\"uscancel\">취소</a> </div> </div> </div> <div id=\"NM_NEWSSTAND_MY_EMPTY\" class=\"group_news\" style=\"display:none\"> <div class=\"error_view\"> <div class=\"error_area\"> <strong class=\"error_msg\">구독한 언론사가 없습니다.</strong> <p class=\"dsc_msg\">언론사 구독 설정에서 관심있는 언론사를 구독하시면<br>언론사가 직접 편집한 뉴스들을 네이버 홈에서 바로 보실 수 있습니다.</p> <a href=\"http://newsstand.naver.com/config.html\" class=\"link_redirect\" target=\"_blank\">언론사 구독 설정하기</a> </div> </div> </div> </div> </div> <!-- EMPTY --> <div id=\"NM_THEMECAST_CONTENTS_CONTAINER\"> <div id=\"themecast\" class=\"sc_themecast id_livinghome\" data-fixed=\"LIVINGHOME\">\\n\\t<h2 class=\"blind\">주제별 캐스트</h2>\\n\\t<div class=\"theme_head\">\\n\\t\\t<div class=\"group_title\">\\n\\t<div class=\"title_area\">\\n\\t\\t<strong class=\"title\">오늘 읽을만한 글</strong><span class=\"dsc\">주제별로 분류된 다양한 글 모음</span>\\n\\t</div>\\n\\t<div class=\"info_area\">\\n\\t\\t\\n\\t\\t\\t<span class=\"info\"><strong class=\"new\">892</strong> 개의 글</span>\\n\\t\\t\\n\\t\\t<a id=\"NM_THEME_EDIT_SET\" href=\"#\" role=\"button\" class=\"btn_set\" data-clk=\"tca.like\">관심주제 설정</a>\\n\\t</div>\\n</div>\\n<div id=\"NM_THEME_CATE_GROUPS\" class=\"group_category\" data-demo-key=\"default\">\\n\\t<div class=\"main_category\">\\n\\t\\t<a href=\"#\" role=\"button\" class=\"pm_btn_prev NM_THEME_PREV\" data-clk=\"tct.prev\" style=\"display: none;\">\\n\\t\\t\\t<i class=\"ico_btn\"><span class=\"blind\">이전</span></i>\\n\\t\\t</a>\\n\\t\\t<a href=\"#\" role=\"button\" class=\"pm_btn_next NM_THEME_NEXT\" data-clk=\"tct.next\" style=\"display: none;\">\\n\\t\\t\\t<i class=\"ico_btn\"><span class=\"blind\">다음</span></i>\\n\\t\\t</a>\\n\\t\\t<div id=\"NM_THEME_CATE_FLICK\" class=\"_NM_UI_PAGE_CONTAINER\" style=\"height: 49px; overflow: hidden;\">\\n\\t\\t\\t\\n\\t\\t\\t\\t<div style=\"width: 750px;\">\\n\\t\\t\\t\\t\\t<ul class=\"list_category\" role=\"tablist\">\\n\\t\\t\\t\\t\\t\\t\\n\\t\\t\\t\\t\\t\\t\\t<li class=\"category_item\" role=\"presentation\">\\n\\t\\t\\t\\t\\t\\t\\t\\t\\n\\t\\t\\t\\t\\t\\t\\t\\t\\n\\t\\t\\t\\t\\t\\t\\t\\t<a href=\"#\" role=\"tab\" class=\"_NM_THEME_CATE tab id_enter\"\\n\\t\\t\\t\\t\\t\\t\\t\\t   aria-selected=\"false\"\\n\\t\\t\\t\\t\\t\\t\\t\\t   data-clk=\"tct.tvc\" data-panel-code=\"ENTER\">엔터</a>\\n\\t\\t\\t\\t\\t\\t\\t</li>\\n\\t\\t\\t\\t\\t\\t\\n\\t\\t\\t\\t\\t\\t\\t<li class=\"category_item\" role=\"presentation\">\\n\\t\\t\\t\\t\\t\\t\\t\\t\\n\\t\\t\\t\\t\\t\\t\\t\\t\\n\\t\\t\\t\\t\\t\\t\\t\\t<a href=\"#\" role=\"tab\" class=\"_NM_THEME_CATE tab id_sports\"\\n\\t\\t\\t\\t\\t\\t\\t\\t   aria-selected=\"false\"\\n\\t\\t\\t\\t\\t\\t\\t\\t   data-clk=\"tct.spo\" data-panel-code=\"SPORTS\">스포츠</a>\\n\\t\\t\\t\\t\\t\\t\\t</li>\\n\\t\\t\\t\\t\\t\\t\\n\\t\\t\\t\\t\\t\\t\\t<li class=\"category_item\" role=\"presentation\">\\n\\t\\t\\t\\t\\t\\t\\t\\t\\n\\t\\t\\t\\t\\t\\t\\t\\t\\n\\t\\t\\t\\t\\t\\t\\t\\t<a href=\"#\" role=\"tab\" class=\"_NM_THEME_CATE tab id_cargame\"\\n\\t\\t\\t\\t\\t\\t\\t\\t   aria-selected=\"false\"\\n\\t\\t\\t\\t\\t\\t\\t\\t   data-clk=\"tct.aut\" data-panel-code=\"CARGAME\">자동차</a>\\n\\t\\t\\t\\t\\t\\t\\t</li>\\n\\t\\t\\t\\t\\t\\t\\n\\t\\t\\t\\t\\t\\t\\t<li class=\"category_item\" role=\"presentation\">\\n\\t\\t\\t\\t\\t\\t\\t\\t\\n\\t\\t\\t\\t\\t\\t\\t\\t\\n\\t\\t\\t\\t\\t\\t\\t\\t<a href=\"#\" role=\"tab\" class=\"_NM_THEME_CATE tab id_bboom\"\\n\\t\\t\\t\\t\\t\\t\\t\\t   aria-selected=\"false\"\\n\\t\\t\\t\\t\\t\\t\\t\\t   data-clk=\"tct.web\" data-panel-code=\"BBOOM\">웹툰</a>\\n\\t\\t\\t\\t\\t\\t\\t</li>\\n\\t\\t\\t\\t\\t\\t\\n\\t\\t\\t\\t\\t\\t\\t<li class=\"category_item\" role=\"presentation\">\\n\\t\\t\\t\\t\\t\\t\\t\\t\\n\\t\\t\\t\\t\\t\\t\\t\\t\\n\\t\\t\\t\\t\\t\\t\\t\\t<a href=\"#\" role=\"tab\" class=\"_NM_THEME_CATE tab id_finance\"\\n\\t\\t\\t\\t\\t\\t\\t\\t   aria-selected=\"false\"\\n\\t\\t\\t\\t\\t\\t\\t\\t   data-clk=\"tct.fin\" data-panel-code=\"FINANCE\">경제M</a>\\n\\t\\t\\t\\t\\t\\t\\t</li>\\n\\t\\t\\t\\t\\t\\t\\n\\t\\t\\t\\t\\t\\t\\t<li class=\"category_item\" role=\"presentation\">\\n\\t\\t\\t\\t\\t\\t\\t\\t\\n\\t\\t\\t\\t\\t\\t\\t\\t\\n\\t\\t\\t\\t\\t\\t\\t\\t<a href=\"#\" role=\"tab\" class=\"_NM_THEME_CATE tab id_myfeed\"\\n\\t\\t\\t\\t\\t\\t\\t\\t   aria-selected=\"false\"\\n\\t\\t\\t\\t\\t\\t\\t\\t   data-clk=\"tct.sub\" data-panel-code=\"MYFEED\">MY구독</a>\\n\\t\\t\\t\\t\\t\\t\\t</li>\\n\\t\\t\\t\\t\\t\\t\\n\\t\\t\\t\\t\\t\\t\\t<li class=\"category_item\" role=\"presentation\">\\n\\t\\t\\t\\t\\t\\t\\t\\t\\n\\t\\t\\t\\t\\t\\t\\t\\t\\n\\t\\t\\t\\t\\t\\t\\t\\t<a href=\"#\" role=\"tab\" class=\"_NM_THEME_CATE tab id_living\"\\n\\t\\t\\t\\t\\t\\t\\t\\t   aria-selected=\"false\"\\n\\t\\t\\t\\t\\t\\t\\t\\t   data-clk=\"tct.fod\" data-panel-code=\"LIVING\">레시피</a>\\n\\t\\t\\t\\t\\t\\t\\t</li>\\n\\t\\t\\t\\t\\t\\t\\n\\t\\t\\t\\t\\t\\t\\t<li class=\"category_item\" role=\"presentation\">\\n\\t\\t\\t\\t\\t\\t\\t\\t\\n\\t\\t\\t\\t\\t\\t\\t\\t\\n\\t\\t\\t\\t\\t\\t\\t\\t<a href=\"#\" role=\"tab\" class=\"_NM_THEME_CATE tab id_gameapp\"\\n\\t\\t\\t\\t\\t\\t\\t\\t   aria-selected=\"false\"\\n\\t\\t\\t\\t\\t\\t\\t\\t   data-clk=\"tct.gam\" data-panel-code=\"GAMEAPP\">게임</a>\\n\\t\\t\\t\\t\\t\\t\\t</li>\\n\\t\\t\\t\\t\\t\\t\\n\\t\\t\\t\\t\\t</ul>\\n\\t\\t\\t\\t</div>\\n\\t\\t\\t\\n\\t\\t\\t\\t<div style=\"width: 750px;\">\\n\\t\\t\\t\\t\\t<ul class=\"list_category\" role=\"tablist\">\\n\\t\\t\\t\\t\\t\\t\\n\\t\\t\\t\\t\\t\\t\\t<li class=\"category_item\" role=\"presentation\">\\n\\t\\t\\t\\t\\t\\t\\t\\t\\n\\t\\t\\t\\t\\t\\t\\t\\t\\n\\t\\t\\t\\t\\t\\t\\t\\t<a href=\"#\" role=\"tab\" class=\"_NM_THEME_CATE tab id_science\"\\n\\t\\t\\t\\t\\t\\t\\t\\t   aria-selected=\"false\"\\n\\t\\t\\t\\t\\t\\t\\t\\t   data-clk=\"tct.sci\" data-panel-code=\"SCIENCE\">과학</a>\\n\\t\\t\\t\\t\\t\\t\\t</li>\\n\\t\\t\\t\\t\\t\\t\\n\\t\\t\\t\\t\\t\\t\\t<li class=\"category_item\" role=\"presentation\">\\n\\t\\t\\t\\t\\t\\t\\t\\t\\n\\t\\t\\t\\t\\t\\t\\t\\t\\n\\t\\t\\t\\t\\t\\t\\t\\t<a href=\"#\" role=\"tab\" class=\"_NM_THEME_CATE tab id_livinghome\"\\n\\t\\t\\t\\t\\t\\t\\t\\t   aria-selected=\"true\"\\n\\t\\t\\t\\t\\t\\t\\t\\t   data-clk=\"tct.lif\" data-panel-code=\"LIVINGHOME\">리빙</a>\\n\\t\\t\\t\\t\\t\\t\\t</li>\\n\\t\\t\\t\\t\\t\\t\\n\\t\\t\\t\\t\\t\\t\\t<li class=\"category_item\" role=\"presentation\">\\n\\t\\t\\t\\t\\t\\t\\t\\t\\n\\t\\t\\t\\t\\t\\t\\t\\t\\n\\t\\t\\t\\t\\t\\t\\t\\t<a href=\"#\" role=\"tab\" class=\"_NM_THEME_CATE tab id_health\"\\n\\t\\t\\t\\t\\t\\t\\t\\t   aria-selected=\"false\"\\n\\t\\t\\t\\t\\t\\t\\t\\t   data-clk=\"tct.hea\" data-panel-code=\"HEALTH\">건강</a>\\n\\t\\t\\t\\t\\t\\t\\t</li>\\n\\t\\t\\t\\t\\t\\t\\n\\t\\t\\t\\t\\t\\t\\t<li class=\"category_item\" role=\"presentation\">\\n\\t\\t\\t\\t\\t\\t\\t\\t\\n\\t\\t\\t\\t\\t\\t\\t\\t\\n\\t\\t\\t\\t\\t\\t\\t\\t<a href=\"#\" role=\"tab\" class=\"_NM_THEME_CATE tab id_culture\"\\n\\t\\t\\t\\t\\t\\t\\t\\t   aria-selected=\"false\"\\n\\t\\t\\t\\t\\t\\t\\t\\t   data-clk=\"tct.bok\" data-panel-code=\"CULTURE\">책방</a>\\n\\t\\t\\t\\t\\t\\t\\t</li>\\n\\t\\t\\t\\t\\t\\t\\n\\t\\t\\t\\t\\t\\t\\t<li class=\"category_item\" role=\"presentation\">\\n\\t\\t\\t\\t\\t\\t\\t\\t\\n\\t\\t\\t\\t\\t\\t\\t\\t\\n\\t\\t\\t\\t\\t\\t\\t\\t<a href=\"#\" role=\"tab\" class=\"_NM_THEME_CATE tab id_beauty\"\\n\\t\\t\\t\\t\\t\\t\\t\\t   aria-selected=\"false\"\\n\\t\\t\\t\\t\\t\\t\\t\\t   data-clk=\"tct.bty\" data-panel-code=\"BEAUTY\">패션뷰티</a>\\n\\t\\t\\t\\t\\t\\t\\t</li>\\n\\t\\t\\t\\t\\t\\t\\n\\t\\t\\t\\t\\t</ul>\\n\\t\\t\\t\\t</div>\\n\\t\\t\\t\\n\\t\\t</div>\\n\\t</div>\\n</div>\\n\\n\\t</div>\\n\\t<div id=\"NM_THEME_CONTAINER\" class=\"theme_cont\" data-panel-code=\"LIVINGHOME\" data-parent-code=\"\">\\n\\t\\t\\n<div class=\"group_theme\" data-block-id=\"\" data-block-code=\"PC-THEME-LIVINGHOME-MOBILE-RANKING-DEFAULT-0\" data-block-type=\"MATERIALS\" data-template-code=\"MOBILE-RANKING-LIST\"\\n\\n\\t data-da=\"container\"\\n\\t data-index=\"\"\\n     data-page=\"1\"\\n\\t >\\n\\n\\t<div class=\"list_theme_wrap\">\\n\\t\\t<ul class=\"list_theme\">\\n\\t\\t\\t\\n\\t\\t\\t\\t<li class=\"theme_item\" data-gdid=\"61e0d0d43eda275bfed56e28\" data-da-position=\"true\">\\n\\t\\t\\t\\t\\t<a href=\"https://blog.naver.com/jjung58/222585883347\" class=\"theme_thumb\" data-clk=\"tcc_lif.list1cont1\" target=\"_blank\">\\n\\t\\t\\t\\t\\t\\t<img src=\"https://s.pstatic.net/dthumb.phinf/?src&#x3D;%22https%3A%2F%2Fs.pstatic.net%2Fshop.phinf%2F20220119_283%2F1642582008609CNTg5_JPEG%2F750_5.jpg%22&amp;type&#x3D;nf340_228\" data-src=\"https://s.pstatic.net/dthumb.phinf/?src&#x3D;%22https%3A%2F%2Fs.pstatic.net%2Fshop.phinf%2F20220119_283%2F1642582008609CNTg5_JPEG%2F750_5.jpg%22&amp;type&#x3D;nf340_228\" alt=\"제주에 내 집 짓기 \" width=\"170\" height=\"114\" onerror=\"this.outerHTML=\\'<span class=\\\\\\'pm_noimg\\\\\\'><span class=\\\\\\'noimg_text\\\\\\'>이미지 준비중</span></span>\\'\">\\n\\t\\t\\t\\t\\t\\t<span class=\"thumb_bd\"></span>\\n                        \\n\\t\\t\\t\\t\\t</a>\\n\\t\\t\\t\\t\\t<a href=\"https://blog.naver.com/jjung58/222585883347\" class=\"theme_info\" data-clk=\"tcc_lif.list1cont1\" target=\"_blank\">\\n\\t\\t\\t\\t\\t\\t<em class=\"theme_category\"> 리빙</em>\\n\\t\\t\\t\\t\\t\\t<strong class=\"title elss\">제주에 내 집 짓기 </strong>\\n                        <p class=\"desc\">오랜만에 들어온 블로그인데 그래도 아직도 이웃님들도 많이 계시고 반겨주시는 분들도 많아서 기분이 좋네요 역시 나의 고향같은 이곳. 책으로 내려고 하니 네이버블로그 보다는 다음 브런치가 더 좋을것 같다는 생각에 작가 신청을 했는데 바로 합격했다는 메일이 왔더라구요 ! 옴마나 브런치는 아직 안해봐서 차차 알아가보면서 글을 등록해 볼까해요 ! 나중에 조금 준비가</p>\\n\\t\\t\\t\\t\\t\\t<div class=\"source_box\">\\n\\t\\t\\t\\t\\t\\t\\t<span class=\"date\">1개월 전</span>\\n\\t\\t\\t\\t\\t\\t\\t<span class=\"source\">\\n                                \\n                                <span class=\"source_inner\">화순댁 에너자희정</span>\\n                            </span>\\n\\t\\t\\t\\t\\t\\t</div>\\n\\t\\t\\t\\t\\t</a>\\n\\t\\t\\t\\t</li>\\n\\t\\t\\t\\n\\t\\t\\t\\t<li class=\"theme_item\" data-gdid=\"61e0d0d43eda275bfed56e29\" data-da-position=\"true\">\\n\\t\\t\\t\\t\\t<a href=\"https://blog.naver.com/sabzac0415/222615064339\" class=\"theme_thumb\" data-clk=\"tcc_lif.list1cont2\" target=\"_blank\">\\n\\t\\t\\t\\t\\t\\t<img src=\"https://s.pstatic.net/dthumb.phinf/?src&#x3D;%22https%3A%2F%2Fs.pstatic.net%2Fshop.phinf%2F20220116_263%2F1642267005824FFzTv_JPEG%2F336_4.jpg%22&amp;type&#x3D;nf340_228\" data-src=\"https://s.pstatic.net/dthumb.phinf/?src&#x3D;%22https%3A%2F%2Fs.pstatic.net%2Fshop.phinf%2F20220116_263%2F1642267005824FFzTv_JPEG%2F336_4.jpg%22&amp;type&#x3D;nf340_228\" alt=\"맥시멀리스트의 아늑한 공간, 2평 홈스타일링 기록\" width=\"170\" height=\"114\" onerror=\"this.outerHTML=\\'<span class=\\\\\\'pm_noimg\\\\\\'><span class=\\\\\\'noimg_text\\\\\\'>이미지 준비중</span></span>\\'\">\\n\\t\\t\\t\\t\\t\\t<span class=\"thumb_bd\"></span>\\n                        \\n\\t\\t\\t\\t\\t</a>\\n\\t\\t\\t\\t\\t<a href=\"https://blog.naver.com/sabzac0415/222615064339\" class=\"theme_info\" data-clk=\"tcc_lif.list1cont2\" target=\"_blank\">\\n\\t\\t\\t\\t\\t\\t<em class=\"theme_category\"> 리빙</em>\\n\\t\\t\\t\\t\\t\\t<strong class=\"title elss\">맥시멀리스트의 아늑한 공간, 2평 홈스타일링 기록</strong>\\n                        <p class=\"desc\">21년 2월 오늘의집 온라인 집들이를 발행하고 22년 8월 말에 10년 넘게 살던 집에서 새로운 집으로 이사를 하게 되어 22년 1월 두번째 온라인 집들이 오픈을 준비하며 블로그에도 집에 대한 기록을 남기려고 한다. (사실 블로그는 21년 11월부터 만들어놓고 이런저런 일로 미뤄두다 2022년이 되어서 시작) 25평 신축 아파트 방3 화2 구조의 요즘 많이</p>\\n\\t\\t\\t\\t\\t\\t<div class=\"source_box\">\\n\\t\\t\\t\\t\\t\\t\\t<span class=\"date\">1주일 전</span>\\n\\t\\t\\t\\t\\t\\t\\t<span class=\"source\">\\n                                \\n                                <span class=\"source_inner\">드리밍룸룸</span>\\n                            </span>\\n\\t\\t\\t\\t\\t\\t</div>\\n\\t\\t\\t\\t\\t</a>\\n\\t\\t\\t\\t</li>\\n\\t\\t\\t\\n\\t\\t\\t\\t<li class=\"theme_item\" data-gdid=\"61e0d0d43eda275bfed56e2a\" data-da-position=\"true\">\\n\\t\\t\\t\\t\\t<a href=\"https://blog.naver.com/esun14/222622165012\" class=\"theme_thumb\" data-clk=\"tcc_lif.list1cont3\" target=\"_blank\">\\n\\t\\t\\t\\t\\t\\t<img src=\"https://s.pstatic.net/dthumb.phinf/?src&#x3D;%22https%3A%2F%2Fs.pstatic.net%2Fshop.phinf%2F20220116_195%2F1642266874918chgfx_JPEG%2F336_4.jpg%22&amp;type&#x3D;nf340_228\" data-src=\"https://s.pstatic.net/dthumb.phinf/?src&#x3D;%22https%3A%2F%2Fs.pstatic.net%2Fshop.phinf%2F20220116_195%2F1642266874918chgfx_JPEG%2F336_4.jpg%22&amp;type&#x3D;nf340_228\" alt=\"화이트 중문, 천장 옷봉을 더한 현관 인테리어 \" width=\"170\" height=\"114\" onerror=\"this.outerHTML=\\'<span class=\\\\\\'pm_noimg\\\\\\'><span class=\\\\\\'noimg_text\\\\\\'>이미지 준비중</span></span>\\'\">\\n\\t\\t\\t\\t\\t\\t<span class=\"thumb_bd\"></span>\\n                        \\n\\t\\t\\t\\t\\t</a>\\n\\t\\t\\t\\t\\t<a href=\"https://blog.naver.com/esun14/222622165012\" class=\"theme_info\" data-clk=\"tcc_lif.list1cont3\" target=\"_blank\">\\n\\t\\t\\t\\t\\t\\t<em class=\"theme_category\"> 리빙</em>\\n\\t\\t\\t\\t\\t\\t<strong class=\"title elss\">화이트 중문, 천장 옷봉을 더한 현관 인테리어 </strong>\\n                        <p class=\"desc\">실용성 더한 화이트 중문 · 현관인테리어 _ 온라인집들이 (40평대 아파트) 인테리어 리모델링 공사를 할 때 주방 다음으로 가장 신경쓴 부분이 있다면 바로 중문 디자인과 현관인테리어 랍니다. 집을 나가고 들어올 때 매일 스치는 곳! 이곳의 분위기가 전체적인 집 공간의 이미지를 대변하는 곳이라고 생각해서 더욱 신경썼어요. 비교적 넓은 전실과 달리 중문은 폭이</p>\\n\\t\\t\\t\\t\\t\\t<div class=\"source_box\">\\n\\t\\t\\t\\t\\t\\t\\t<span class=\"date\">5일 전</span>\\n\\t\\t\\t\\t\\t\\t\\t<span class=\"source\">\\n                                \\n                                <span class=\"source_inner\">소곤일상</span>\\n                            </span>\\n\\t\\t\\t\\t\\t\\t</div>\\n\\t\\t\\t\\t\\t</a>\\n\\t\\t\\t\\t</li>\\n\\t\\t\\t\\n\\t\\t\\t\\t<li class=\"theme_item\" data-gdid=\"61e1238a3eda275bfed58122\" data-da-position=\"true\">\\n\\t\\t\\t\\t\\t<a href=\"https://blog.naver.com/etro5456/222616214532\" class=\"theme_thumb\" data-clk=\"tcc_lif.list1cont4\" target=\"_blank\">\\n\\t\\t\\t\\t\\t\\t<img src=\"https://s.pstatic.net/dthumb.phinf/?src&#x3D;%22https%3A%2F%2Fs.pstatic.net%2Fshop.phinf%2F20220114_128%2F1642144161805NCbnm_JPEG%2Fh.jpg%22&amp;type&#x3D;nf340_228\" data-src=\"https://s.pstatic.net/dthumb.phinf/?src&#x3D;%22https%3A%2F%2Fs.pstatic.net%2Fshop.phinf%2F20220114_128%2F1642144161805NCbnm_JPEG%2Fh.jpg%22&amp;type&#x3D;nf340_228\" alt=\"아빠가 만든 수납 벤치\" width=\"170\" height=\"114\" onerror=\"this.outerHTML=\\'<span class=\\\\\\'pm_noimg\\\\\\'><span class=\\\\\\'noimg_text\\\\\\'>이미지 준비중</span></span>\\'\">\\n\\t\\t\\t\\t\\t\\t<span class=\"thumb_bd\"></span>\\n                        \\n\\t\\t\\t\\t\\t</a>\\n\\t\\t\\t\\t\\t<a href=\"https://blog.naver.com/etro5456/222616214532\" class=\"theme_info\" data-clk=\"tcc_lif.list1cont4\" target=\"_blank\">\\n\\t\\t\\t\\t\\t\\t<em class=\"theme_category\"> 리빙</em>\\n\\t\\t\\t\\t\\t\\t<strong class=\"title elss\">아빠가 만든 수납 벤치</strong>\\n                        <p class=\"desc\">셀프로 수납 벤치의자 벤치수납장 만들기 작년겨울에 남편과 둘이 집의 2층을 99% 셀프로 완전 수리했는데요 화장실 2칸은 물론이고 작은 방 4개까지 모두 완전 셀프로 수리를 끝냈어요 그때 그냥 도배만 해두고 비워둔 작은 공간이 있었는데 아이들 침실옆쪽의 아주작은 코너 공간이예요 별달리 쓸 용도가 없어서 그냥 방치해두고 있었는데 그냥 비워두니 작지만 그래도 </p>\\n\\t\\t\\t\\t\\t\\t<div class=\"source_box\">\\n\\t\\t\\t\\t\\t\\t\\t<span class=\"date\">1주일 전</span>\\n\\t\\t\\t\\t\\t\\t\\t<span class=\"source\">\\n                                \\n                                <span class=\"source_inner\">준브로맘</span>\\n                            </span>\\n\\t\\t\\t\\t\\t\\t</div>\\n\\t\\t\\t\\t\\t</a>\\n\\t\\t\\t\\t</li>\\n\\t\\t\\t\\n\\t\\t</ul>\\n\\t</div>\\n</div>\\n<div class=\"group_theme\" data-block-id=\"\" data-block-code=\"PC-THEME-LIVINGHOME-MOBILE-RANKING-DEFAULT-1\" data-block-type=\"MATERIALS\" data-template-code=\"MOBILE-RANKING-LIST\"\\n\\n\\t data-da=\"container\"\\n\\t data-index=\"\"\\n     data-page=\"1\"\\n\\t >\\n\\n\\t<div class=\"list_theme_wrap\">\\n\\t\\t<ul class=\"list_theme\">\\n\\t\\t\\t\\n\\t\\t\\t\\t<li class=\"theme_item\" data-gdid=\"61e135d10e210ae31780a15a-9a0f3475-d370-48b0-9317-21830646890e\" data-da-position=\"true\">\\n\\t\\t\\t\\t\\t<a href=\"https://blog.naver.com/jsmlhn/222616439280\" class=\"theme_thumb\" data-clk=\"tcc_lif.list2cont1\" target=\"_blank\">\\n\\t\\t\\t\\t\\t\\t<img src=\"https://s.pstatic.net/dthumb.phinf/?src&#x3D;%22https%3A%2F%2Fs.pstatic.net%2Fshop.phinf%2F20220119_295%2F1642583961077OnW3c_JPEG%2F336_4.jpg%22&amp;type&#x3D;nf340_228\" data-src=\"https://s.pstatic.net/dthumb.phinf/?src&#x3D;%22https%3A%2F%2Fs.pstatic.net%2Fshop.phinf%2F20220119_295%2F1642583961077OnW3c_JPEG%2F336_4.jpg%22&amp;type&#x3D;nf340_228\" alt=\"내돈내산, 5만 원대 집들이 선물 추천 리스트 \" width=\"170\" height=\"114\" onerror=\"this.outerHTML=\\'<span class=\\\\\\'pm_noimg\\\\\\'><span class=\\\\\\'noimg_text\\\\\\'>이미지 준비중</span></span>\\'\">\\n\\t\\t\\t\\t\\t\\t<span class=\"thumb_bd\"></span>\\n                        \\n\\t\\t\\t\\t\\t</a>\\n\\t\\t\\t\\t\\t<a href=\"https://blog.naver.com/jsmlhn/222616439280\" class=\"theme_info\" data-clk=\"tcc_lif.list2cont1\" target=\"_blank\">\\n\\t\\t\\t\\t\\t\\t<em class=\"theme_category\"> 리빙</em>\\n\\t\\t\\t\\t\\t\\t<strong class=\"title elss\">내돈내산, 5만 원대 집들이 선물 추천 리스트 </strong>\\n                        <p class=\"desc\">/원목 자석 액자 /우드윅 라지자 &amp; 캔들 워머 /다기세트 (다도세트) /만달라키 조명 가격 : 평균 5만원 대 (만달라키 조명 1만원 대) 사회 초년생 때는 많아진 사회 관계 속에서 종종 집들이 초대를 받곤 했는데, 그럴 때마다 집들이 선물을 뭘 줘야 하는지 고민스러울 때가 많았다. 특히 신혼부부 혹은 독립한 친구들에게 기억에 남는 선물을 해주고 싶은데 </p>\\n\\t\\t\\t\\t\\t\\t<div class=\"source_box\">\\n\\t\\t\\t\\t\\t\\t\\t<span class=\"date\">1주일 전</span>\\n\\t\\t\\t\\t\\t\\t\\t<span class=\"source\">\\n                                \\n                                <span class=\"source_inner\">Lilly</span>\\n                            </span>\\n\\t\\t\\t\\t\\t\\t</div>\\n\\t\\t\\t\\t\\t</a>\\n\\t\\t\\t\\t</li>\\n\\t\\t\\t\\n\\t\\t\\t\\t<li class=\"theme_item\" data-gdid=\"61e661170d8122e310ff59b8\" data-da-position=\"true\">\\n\\t\\t\\t\\t\\t<a href=\"https://blog.naver.com/atommamang/222622650021\" class=\"theme_thumb\" data-clk=\"tcc_lif.list2cont2\" target=\"_blank\">\\n\\t\\t\\t\\t\\t\\t<img src=\"https://s.pstatic.net/dthumb.phinf/?src&#x3D;%22https%3A%2F%2Fs.pstatic.net%2Fshop.phinf%2F20220118_290%2F1642488322319oSXsc_JPEG%2F750_4.jpg%22&amp;type&#x3D;nf340_228\" data-src=\"https://s.pstatic.net/dthumb.phinf/?src&#x3D;%22https%3A%2F%2Fs.pstatic.net%2Fshop.phinf%2F20220118_290%2F1642488322319oSXsc_JPEG%2F750_4.jpg%22&amp;type&#x3D;nf340_228\" alt=\"우리 집 침실 + 파우더룸\" width=\"170\" height=\"114\" onerror=\"this.outerHTML=\\'<span class=\\\\\\'pm_noimg\\\\\\'><span class=\\\\\\'noimg_text\\\\\\'>이미지 준비중</span></span>\\'\">\\n\\t\\t\\t\\t\\t\\t<span class=\"thumb_bd\"></span>\\n                        \\n\\t\\t\\t\\t\\t</a>\\n\\t\\t\\t\\t\\t<a href=\"https://blog.naver.com/atommamang/222622650021\" class=\"theme_info\" data-clk=\"tcc_lif.list2cont2\" target=\"_blank\">\\n\\t\\t\\t\\t\\t\\t<em class=\"theme_category\"> 리빙</em>\\n\\t\\t\\t\\t\\t\\t<strong class=\"title elss\">우리 집 침실 + 파우더룸</strong>\\n                        <p class=\"desc\">작년 7월, 20평대 아파트에서 30평대 아파트로 이사하면서 평수가 커져 정리가 잘 될거라 생각했는데, 반셀프인테리어를 하면서 생후 16개월 아기를 케어하다보니 정리하는데만 몇 달 걸린 것 같다. 는 핑계고 내가 게으른 탓이겠지? 😂 이제서야 정리가 되어 기록해보는 우리 집 침실 파우더룸 이야기. 둥글고 부드러운 곡선이 매력적인 아치문과 템바보드 LED조</p>\\n\\t\\t\\t\\t\\t\\t<div class=\"source_box\">\\n\\t\\t\\t\\t\\t\\t\\t<span class=\"date\">4일 전</span>\\n\\t\\t\\t\\t\\t\\t\\t<span class=\"source\">\\n                                \\n                                <span class=\"source_inner\">리빙유</span>\\n                            </span>\\n\\t\\t\\t\\t\\t\\t</div>\\n\\t\\t\\t\\t\\t</a>\\n\\t\\t\\t\\t</li>\\n\\t\\t\\t\\n\\t\\t\\t\\t<li class=\"theme_item\" data-gdid=\"61e661170d8122e310ff59b9\" data-da-position=\"true\">\\n\\t\\t\\t\\t\\t<a href=\"https://blog.naver.com/darkssip2/222623270540\" class=\"theme_thumb\" data-clk=\"tcc_lif.list2cont3\" target=\"_blank\">\\n\\t\\t\\t\\t\\t\\t<img src=\"https://s.pstatic.net/dthumb.phinf/?src&#x3D;%22https%3A%2F%2Fs.pstatic.net%2Fshop.phinf%2F20220117_69%2F1642393882432e80W7_JPEG%2F336_0.jpg%22&amp;type&#x3D;nf340_228\" data-src=\"https://s.pstatic.net/dthumb.phinf/?src&#x3D;%22https%3A%2F%2Fs.pstatic.net%2Fshop.phinf%2F20220117_69%2F1642393882432e80W7_JPEG%2F336_0.jpg%22&amp;type&#x3D;nf340_228\" alt=\"집에서도 분위기 있게, 나만의 와인바 만들기 #홈바\" width=\"170\" height=\"114\" onerror=\"this.outerHTML=\\'<span class=\\\\\\'pm_noimg\\\\\\'><span class=\\\\\\'noimg_text\\\\\\'>이미지 준비중</span></span>\\'\">\\n\\t\\t\\t\\t\\t\\t<span class=\"thumb_bd\"></span>\\n                        \\n\\t\\t\\t\\t\\t</a>\\n\\t\\t\\t\\t\\t<a href=\"https://blog.naver.com/darkssip2/222623270540\" class=\"theme_info\" data-clk=\"tcc_lif.list2cont3\" target=\"_blank\">\\n\\t\\t\\t\\t\\t\\t<em class=\"theme_category\"> 리빙</em>\\n\\t\\t\\t\\t\\t\\t<strong class=\"title elss\">집에서도 분위기 있게, 나만의 와인바 만들기 #홈바</strong>\\n                        <p class=\"desc\">홈바 인테리어 : 집에서도 분위기 있게 나만의 와인바 만들기 # 홈바 와인바 인테리어 홈바를 만들게 된 계기는 이사를 오면서 방이 하나 남았고, 코로나 시대로 밖에 잘나가지 못하니까 집에서라도 분위기 있게 술을 먹자! 싶어서 만들게 되었다. 집 평수가 53평인데 주방이 생각보다 작아서 다이닝룸을 손님들이 밥 먹으면서 술도 먹을 수 있는 공간으로 만들어야 해</p>\\n\\t\\t\\t\\t\\t\\t<div class=\"source_box\">\\n\\t\\t\\t\\t\\t\\t\\t<span class=\"date\">3일 전</span>\\n\\t\\t\\t\\t\\t\\t\\t<span class=\"source\">\\n                                \\n                                <span class=\"source_inner\">유별나</span>\\n                            </span>\\n\\t\\t\\t\\t\\t\\t</div>\\n\\t\\t\\t\\t\\t</a>\\n\\t\\t\\t\\t</li>\\n\\t\\t\\t\\n\\t\\t\\t\\t<li class=\"theme_item\" data-gdid=\"61e661170d8122e310ff59ba\" data-da-position=\"true\">\\n\\t\\t\\t\\t\\t<a href=\"https://blog.naver.com/suji32/222590755748\" class=\"theme_thumb\" data-clk=\"tcc_lif.list2cont4\" target=\"_blank\">\\n\\t\\t\\t\\t\\t\\t<img src=\"https://s.pstatic.net/dthumb.phinf/?src&#x3D;%22https%3A%2F%2Fs.pstatic.net%2Fshop.phinf%2F20220118_145%2F16424839508278071X_JPEG%2F336_3.jpg%22&amp;type&#x3D;nf340_228\" data-src=\"https://s.pstatic.net/dthumb.phinf/?src&#x3D;%22https%3A%2F%2Fs.pstatic.net%2Fshop.phinf%2F20220118_145%2F16424839508278071X_JPEG%2F336_3.jpg%22&amp;type&#x3D;nf340_228\" alt=\"24평 구축 아파트, 베란다 확장 비포애프터  \" width=\"170\" height=\"114\" onerror=\"this.outerHTML=\\'<span class=\\\\\\'pm_noimg\\\\\\'><span class=\\\\\\'noimg_text\\\\\\'>이미지 준비중</span></span>\\'\">\\n\\t\\t\\t\\t\\t\\t<span class=\"thumb_bd\"></span>\\n                        \\n\\t\\t\\t\\t\\t</a>\\n\\t\\t\\t\\t\\t<a href=\"https://blog.naver.com/suji32/222590755748\" class=\"theme_info\" data-clk=\"tcc_lif.list2cont4\" target=\"_blank\">\\n\\t\\t\\t\\t\\t\\t<em class=\"theme_category\"> 리빙</em>\\n\\t\\t\\t\\t\\t\\t<strong class=\"title elss\">24평 구축 아파트, 베란다 확장 비포애프터  </strong>\\n                        <p class=\"desc\">안녕하세요 -! 오늘은 거실 인테리어 비포 &amp; 애프터를 보여드릴까 합니다 :) 저희집은 베란다 확장을 했었고 ! 특이한점이 베란다에 화장실이 하나 더 있었어요 ...?ㅎㅎ 일단 보시죠! 공사 전 Before 거실 공사 전 사진입니다. 층고는 낮고 , 중문은 없는 구조였어요 . 저는 식탁을 거실에 두려고 확장을 진행했고, 베란다에 있었던 화장실은 없앴어요 !</p>\\n\\t\\t\\t\\t\\t\\t<div class=\"source_box\">\\n\\t\\t\\t\\t\\t\\t\\t<span class=\"date\">1개월 전</span>\\n\\t\\t\\t\\t\\t\\t\\t<span class=\"source\">\\n                                \\n                                <span class=\"source_inner\">공이공오홈</span>\\n                            </span>\\n\\t\\t\\t\\t\\t\\t</div>\\n\\t\\t\\t\\t\\t</a>\\n\\t\\t\\t\\t</li>\\n\\t\\t\\t\\n\\t\\t</ul>\\n\\t</div>\\n</div>\\n<div class=\"group_theme _NM_API_UI\" data-ui-circular=\"false\" data-block-id=\"5edf1cb2d6902f284e3b826d\" data-block-code=\"\" data-block-type=\"BLOCKS\" data-template-code=\"FLICKING-IMAGE3\"\\n\\n    >\\n    <div class=\"theme_title\">\\n        <a href=\"https://happybean.naver.com/\" class=\"title\" target=\"_blank\"\\n            data-clk=\"tcc_lif.happytitle\">오늘 가장 따뜻한 클릭</a>\\n    </div>\\n    <div class=\" media_view_wrap type_flick\">\\n        <a href=\"#\" role=\"button\" class=\"pm_btn_prev _NM_UI_PAGE_PREV\" data-clk=\"tcc_lif.happypre\"><i\\n                class=\"ico_btn\"><span class=\"blind\">이전</span></i></a>\\n        <a href=\"#\" role=\"button\" class=\"pm_btn_next _NM_UI_PAGE_NEXT\" data-clk=\"tcc_lif.happynext\"><i\\n                class=\"ico_btn\"><span class=\"blind\">다음</span></i></a>\\n        <div class=\"_NM_UI_PAGE_CONTAINER\" style=\"overflow: hidden; height: 240px;\">\\n            \\n            <div style=\"width:750px\">\\n                <div class=\"media_view\">\\n                    \\n                    <a href=\"https://happybean.naver.com/fundings/detail/F456?p&#x3D;p&amp;s&#x3D;nmlp\" target=\"_blank\" class=\"media_area\" data-gdid=\"F456\"\\n                        data-clk=\"tcc_lif.happycon1\">\\n                        <div class=\"media_thumb\">\\n                            <img src=\"https://happybean-phinf.pstatic.net/20220113_174/1642037315183q5Q6G_JPEG/th.jpg?type&#x3D;f464_260\" alt=\"유기동물을 돕는 동백 노즈워크 장난감\" width=\"232\" height=\"130\" onerror=\"this.outerHTML=\\'<span class=\\\\\\'pm_noimg\\\\\\'><span class=\\\\\\'noimg_text\\\\\\'>이미지 준비중</span></span>\\'\">\\n                            <span class=\"thumb_bd\"></span>\\n                            <em class=\"theme_badge\"><span class=\"badge_inner\">펀딩</span></em>\\n                        </div>\\n                        <div class=\"media_info\">\\n                            <div class=\"info_box\">\\n                                <strong class=\"title\">유기동물을 돕는 동백 노즈워크 장난감</strong>\\n                                <div class=\"source_wrap\">\\n                                    <span class=\"dsc\"><em class=\"theme_hl\">345%</em> 달성</span>\\n                                    <span class=\"source\"><span class=\"source_inner\">레미투미</span></span>\\n                                </div>\\n                            </div>\\n                        </div>\\n                    </a>\\n                    \\n                    <a href=\"https://happybean.naver.com/fundings/detail/F442?p&#x3D;p&amp;s&#x3D;nmlp\" target=\"_blank\" class=\"media_area\" data-gdid=\"F442\"\\n                        data-clk=\"tcc_lif.happycon2\">\\n                        <div class=\"media_thumb\">\\n                            <img src=\"https://happybean-phinf.pstatic.net/20211228_243/16406692194760sATK_JPEG/m_m.jpg?type&#x3D;f464_260\" alt=\"자투리 천을 활용한 100% 면 수저 파우치\" width=\"232\" height=\"130\" onerror=\"this.outerHTML=\\'<span class=\\\\\\'pm_noimg\\\\\\'><span class=\\\\\\'noimg_text\\\\\\'>이미지 준비중</span></span>\\'\">\\n                            <span class=\"thumb_bd\"></span>\\n                            <em class=\"theme_badge\"><span class=\"badge_inner\">펀딩</span></em>\\n                        </div>\\n                        <div class=\"media_info\">\\n                            <div class=\"info_box\">\\n                                <strong class=\"title\">자투리 천을 활용한 100% 면 수저 파우치</strong>\\n                                <div class=\"source_wrap\">\\n                                    <span class=\"dsc\"><em class=\"theme_hl\">121%</em> 달성</span>\\n                                    <span class=\"source\"><span class=\"source_inner\">덕분애 제로웨이스트</span></span>\\n                                </div>\\n                            </div>\\n                        </div>\\n                    </a>\\n                    \\n                    <a href=\"https://happybean.naver.com/donations/H000000182477?p&#x3D;p&amp;s&#x3D;nmlp\" target=\"_blank\" class=\"media_area\" data-gdid=\"H000000182477\"\\n                        data-clk=\"tcc_lif.happycon3\">\\n                        <div class=\"media_thumb\">\\n                            <img src=\"https://happybean-phinf.pstatic.net/20220103_137/1641199991622YhkEh_PNG/메인.png?type&#x3D;f464_260\" alt=\"돈을 벌기 위해 고물을 주어야 하는 아이들\" width=\"232\" height=\"130\" onerror=\"this.outerHTML=\\'<span class=\\\\\\'pm_noimg\\\\\\'><span class=\\\\\\'noimg_text\\\\\\'>이미지 준비중</span></span>\\'\">\\n                            <span class=\"thumb_bd\"></span>\\n                            <em class=\"theme_badge\"><span class=\"badge_inner\">기부</span></em>\\n                        </div>\\n                        <div class=\"media_info\">\\n                            <div class=\"info_box\">\\n                                <strong class=\"title\">돈을 벌기 위해 고물을 주어야 하는 아이들</strong>\\n                                <div class=\"source_wrap\">\\n                                    <span class=\"dsc\"><em class=\"theme_hl\">58,800원</em> 기부</span>\\n                                    <span class=\"source\"><span class=\"source_inner\">글로벌비전</span></span>\\n                                </div>\\n                            </div>\\n                        </div>\\n                    </a>\\n                    \\n                </div>\\n            </div>\\n            \\n            <div style=\"width:750px\">\\n                <div class=\"media_view\">\\n                    \\n                    <a href=\"https://happybean.naver.com/fundings/detail/F427?p&#x3D;p&amp;s&#x3D;nmlp\" target=\"_blank\" class=\"media_area\" data-gdid=\"F427\"\\n                        data-clk=\"tcc_lif.happycon4\">\\n                        <div class=\"media_thumb\">\\n                            <img src=\"https://happybean-phinf.pstatic.net/20220117_15/1642404437316pHt8k_JPEG/ACEC3.jpg?type&#x3D;f464_260\" alt=\"유자 30개를 한 병에 담은 순수한 착즙 유자\" width=\"232\" height=\"130\" onerror=\"this.outerHTML=\\'<span class=\\\\\\'pm_noimg\\\\\\'><span class=\\\\\\'noimg_text\\\\\\'>이미지 준비중</span></span>\\'\">\\n                            <span class=\"thumb_bd\"></span>\\n                            <em class=\"theme_badge\"><span class=\"badge_inner\">펀딩</span></em>\\n                        </div>\\n                        <div class=\"media_info\">\\n                            <div class=\"info_box\">\\n                                <strong class=\"title\">유자 30개를 한 병에 담은 순수한 착즙 유자</strong>\\n                                <div class=\"source_wrap\">\\n                                    <span class=\"dsc\"><em class=\"theme_hl\">2,116%</em> 달성</span>\\n                                    <span class=\"source\"><span class=\"source_inner\">프루떼</span></span>\\n                                </div>\\n                            </div>\\n                        </div>\\n                    </a>\\n                    \\n                    <a href=\"https://happybean.naver.com/fundings/detail/F428?p&#x3D;p&amp;s&#x3D;nmlp\" target=\"_blank\" class=\"media_area\" data-gdid=\"F428\"\\n                        data-clk=\"tcc_lif.happycon5\">\\n                        <div class=\"media_thumb\">\\n                            <img src=\"https://happybean-phinf.pstatic.net/20211215_228/1639529850977qm8YE_JPEG/th.jpg?type&#x3D;f464_260\" alt=\"시니어 여성들이 만든 담백한 무궁화 양갱\" width=\"232\" height=\"130\" onerror=\"this.outerHTML=\\'<span class=\\\\\\'pm_noimg\\\\\\'><span class=\\\\\\'noimg_text\\\\\\'>이미지 준비중</span></span>\\'\">\\n                            <span class=\"thumb_bd\"></span>\\n                            <em class=\"theme_badge\"><span class=\"badge_inner\">펀딩</span></em>\\n                        </div>\\n                        <div class=\"media_info\">\\n                            <div class=\"info_box\">\\n                                <strong class=\"title\">시니어 여성들이 만든 담백한 무궁화 양갱</strong>\\n                                <div class=\"source_wrap\">\\n                                    <span class=\"dsc\"><em class=\"theme_hl\">899%</em> 달성</span>\\n                                    <span class=\"source\"><span class=\"source_inner\">아테나공동체</span></span>\\n                                </div>\\n                            </div>\\n                        </div>\\n                    </a>\\n                    \\n                    <a href=\"https://happybean.naver.com/donations/H000000182445?p&#x3D;p&amp;s&#x3D;nmlp\" target=\"_blank\" class=\"media_area\" data-gdid=\"H000000182445\"\\n                        data-clk=\"tcc_lif.happycon6\">\\n                        <div class=\"media_thumb\">\\n                            <img src=\"https://happybean-phinf.pstatic.net/20211231_162/1640920347862Fy3DR_JPEG/KakaoTalk_20211230_180046371_(1).jpg?type&#x3D;f464_260\" alt=\"아이들이 사용하는 그릇, 항상 깨끗할 수 있도록\" width=\"232\" height=\"130\" onerror=\"this.outerHTML=\\'<span class=\\\\\\'pm_noimg\\\\\\'><span class=\\\\\\'noimg_text\\\\\\'>이미지 준비중</span></span>\\'\">\\n                            <span class=\"thumb_bd\"></span>\\n                            <em class=\"theme_badge\"><span class=\"badge_inner\">기부</span></em>\\n                        </div>\\n                        <div class=\"media_info\">\\n                            <div class=\"info_box\">\\n                                <strong class=\"title\">아이들이 사용하는 그릇, 항상 깨끗할 수 있도록</strong>\\n                                <div class=\"source_wrap\">\\n                                    <span class=\"dsc\"><em class=\"theme_hl\">275,400원</em> 기부</span>\\n                                    <span class=\"source\"><span class=\"source_inner\">충주풍성한지역아동센터</span></span>\\n                                </div>\\n                            </div>\\n                        </div>\\n                    </a>\\n                    \\n                </div>\\n            </div>\\n            \\n        </div>\\n    </div>\\n</div>\\n<div class=\"group_theme\" data-block-id=\"\" data-block-code=\"PC-THEME-LIVINGHOME-MOBILE-RANKING-DEFAULT-2\" data-block-type=\"MATERIALS\" data-template-code=\"MOBILE-RANKING-LIST\"\\n\\n\\t data-da=\"container\"\\n\\t data-index=\"\"\\n     data-page=\"2\"\\n\\t style=\"display:none\">\\n\\n\\t<div class=\"list_theme_wrap\">\\n\\t\\t<ul class=\"list_theme\">\\n\\t\\t\\t\\n\\t\\t\\t\\t<li class=\"theme_item\" data-gdid=\"61e4fcee0d8122e310fee4e4\" data-da-position=\"true\">\\n\\t\\t\\t\\t\\t<a href=\"https://blog.naver.com/nimos_/222586620205\" class=\"theme_thumb\" data-clk=\"tcc_lif.list3cont1\" target=\"_blank\">\\n\\t\\t\\t\\t\\t\\t<img  data-src=\"https://s.pstatic.net/dthumb.phinf/?src&#x3D;%22https%3A%2F%2Fs.pstatic.net%2Fshop.phinf%2F20220116_243%2F1642272318077Igkt2_JPEG%2F336_6.jpg%22&amp;type&#x3D;nf340_228\" alt=\" 23평 아파트, TV 없는 거실 인테리어 #6인용식탁 \" width=\"170\" height=\"114\" onerror=\"this.outerHTML=\\'<span class=\\\\\\'pm_noimg\\\\\\'><span class=\\\\\\'noimg_text\\\\\\'>이미지 준비중</span></span>\\'\">\\n\\t\\t\\t\\t\\t\\t<span class=\"thumb_bd\"></span>\\n                        \\n\\t\\t\\t\\t\\t</a>\\n\\t\\t\\t\\t\\t<a href=\"https://blog.naver.com/nimos_/222586620205\" class=\"theme_info\" data-clk=\"tcc_lif.list3cont1\" target=\"_blank\">\\n\\t\\t\\t\\t\\t\\t<em class=\"theme_category\"> 리빙</em>\\n\\t\\t\\t\\t\\t\\t<strong class=\"title elss\"> 23평 아파트, TV 없는 거실 인테리어 #6인용식탁 </strong>\\n                        <p class=\"desc\">2022.01.18 네이버 리빙판 기념 before 사진 추가 23평 구옥 아파트 도배 마루 주방 화장실 등 집전체 리모델링 진행. 🚪🏠티비 없는 거실 인테리어 이사 일주년을 맞이하여! 시작하는 우리집 기록 뜯어 고치는 인테리어 과정부터 가전가구 구매기 등 정보가 될만한 과정을 모두 남겨뒀으면 좋았을텐데 정보성 내용이 되기엔 시간이 많이 흘러버렸고.. </p>\\n\\t\\t\\t\\t\\t\\t<div class=\"source_box\">\\n\\t\\t\\t\\t\\t\\t\\t<span class=\"date\">1개월 전</span>\\n\\t\\t\\t\\t\\t\\t\\t<span class=\"source\">\\n                                \\n                                <span class=\"source_inner\">nimoS2</span>\\n                            </span>\\n\\t\\t\\t\\t\\t\\t</div>\\n\\t\\t\\t\\t\\t</a>\\n\\t\\t\\t\\t</li>\\n\\t\\t\\t\\n\\t\\t\\t\\t<li class=\"theme_item\" data-gdid=\"61e4fcee0d8122e310fee4e5\" data-da-position=\"true\">\\n\\t\\t\\t\\t\\t<a href=\"https://post.naver.com/viewer/postView.naver?memberNo&#x3D;954004&amp;volumeNo&#x3D;33127324\" class=\"theme_thumb\" data-clk=\"tcc_lif.list3cont2\" target=\"_blank\">\\n\\t\\t\\t\\t\\t\\t<img  data-src=\"https://s.pstatic.net/dthumb.phinf/?src&#x3D;%22https%3A%2F%2Fs.pstatic.net%2Fshop.phinf%2F20220117_82%2F1642392708788jcdOj_JPEG%2F336_3.jpg%22&amp;type&#x3D;nf340_228\" alt=\"동네의 오래된 한옥을 지켜 온 젊은 목수의 기록\" width=\"170\" height=\"114\" onerror=\"this.outerHTML=\\'<span class=\\\\\\'pm_noimg\\\\\\'><span class=\\\\\\'noimg_text\\\\\\'>이미지 준비중</span></span>\\'\">\\n\\t\\t\\t\\t\\t\\t<span class=\"thumb_bd\"></span>\\n                        \\n\\t\\t\\t\\t\\t</a>\\n\\t\\t\\t\\t\\t<a href=\"https://post.naver.com/viewer/postView.naver?memberNo&#x3D;954004&amp;volumeNo&#x3D;33127324\" class=\"theme_info\" data-clk=\"tcc_lif.list3cont2\" target=\"_blank\">\\n\\t\\t\\t\\t\\t\\t<em class=\"theme_category\"> 리빙</em>\\n\\t\\t\\t\\t\\t\\t<strong class=\"title elss\">동네의 오래된 한옥을 지켜 온 젊은 목수의 기록</strong>\\n                        <p class=\"desc\">광주 동명동, &#x27;배무이&#x27; 강동수 대표오랜 시간을 품어온 한옥에 경외감을 느꼈던 한 청년. 사라져가는 우리 곁의 한옥을 보존하기 위해 오늘도 그는 현장에서 깎고 세우고 그려나간다.한옥 목수의 첫 번째 한옥과 동네 광주 동명동은 지금도 한옥이나 근대건축물이 많이 남아있는 동네다. 옛 철길을 따라 서양 선교사들이, 일제강점기 일본인들이, 이들로부터 영향을 받은 </p>\\n\\t\\t\\t\\t\\t\\t<div class=\"source_box\">\\n\\t\\t\\t\\t\\t\\t\\t<span class=\"date\">3일 전</span>\\n\\t\\t\\t\\t\\t\\t\\t<span class=\"source\">\\n                                \\n                                <span class=\"source_inner\">월간 전원속의 내집</span>\\n                            </span>\\n\\t\\t\\t\\t\\t\\t</div>\\n\\t\\t\\t\\t\\t</a>\\n\\t\\t\\t\\t</li>\\n\\t\\t\\t\\n\\t\\t\\t\\t<li class=\"theme_item\" data-gdid=\"61e41bd60e210ae31780aba6\" data-da-position=\"true\">\\n\\t\\t\\t\\t\\t<a href=\"https://blog.naver.com/hyunkong2/222617744188\" class=\"theme_thumb\" data-clk=\"tcc_lif.list3cont3\" target=\"_blank\">\\n\\t\\t\\t\\t\\t\\t<img  data-src=\"https://s.pstatic.net/dthumb.phinf/?src&#x3D;%22https%3A%2F%2Fs.pstatic.net%2Fshop.phinf%2F20220112_295%2F1641913221025dcHlX_JPEG%2F750_1.jpg%22&amp;type&#x3D;nf340_228\" alt=\"사부작사부작 가구 재배치 \" width=\"170\" height=\"114\" onerror=\"this.outerHTML=\\'<span class=\\\\\\'pm_noimg\\\\\\'><span class=\\\\\\'noimg_text\\\\\\'>이미지 준비중</span></span>\\'\">\\n\\t\\t\\t\\t\\t\\t<span class=\"thumb_bd\"></span>\\n                        \\n\\t\\t\\t\\t\\t</a>\\n\\t\\t\\t\\t\\t<a href=\"https://blog.naver.com/hyunkong2/222617744188\" class=\"theme_info\" data-clk=\"tcc_lif.list3cont3\" target=\"_blank\">\\n\\t\\t\\t\\t\\t\\t<em class=\"theme_category\"> 리빙</em>\\n\\t\\t\\t\\t\\t\\t<strong class=\"title elss\">사부작사부작 가구 재배치 </strong>\\n                        <p class=\"desc\">저번주, 이사오고 쭉 잘지내던 거실배치가 질리기 시작해서 사부작사부작 가구재배치 후 기록해보는 우리집 랜선집들이 소파 직렬 배치에서 코너 배치로 바꾼 다음 더 아늑해진 분위기라 만족스러운데 신랑은 좁아보인다고 그전 배치가 낫다고 해요 30평거실인테리어로 약간 좁아보이긴 하지만 그래도 더 아늑해진 분위기라 너무 마음에 드는 배치라 당분간은 변함없이 이대로 예</p>\\n\\t\\t\\t\\t\\t\\t<div class=\"source_box\">\\n\\t\\t\\t\\t\\t\\t\\t<span class=\"date\">1주일 전</span>\\n\\t\\t\\t\\t\\t\\t\\t<span class=\"source\">\\n                                \\n                                <span class=\"source_inner\">현콩이</span>\\n                            </span>\\n\\t\\t\\t\\t\\t\\t</div>\\n\\t\\t\\t\\t\\t</a>\\n\\t\\t\\t\\t</li>\\n\\t\\t\\t\\n\\t\\t\\t\\t<li class=\"theme_item\" data-gdid=\"61e41bd60e210ae31780aba7\" data-da-position=\"true\">\\n\\t\\t\\t\\t\\t<a href=\"https://blog.naver.com/minaryhome/222611089337\" class=\"theme_thumb\" data-clk=\"tcc_lif.list3cont4\" target=\"_blank\">\\n\\t\\t\\t\\t\\t\\t<img  data-src=\"https://s.pstatic.net/dthumb.phinf/?src&#x3D;%22https%3A%2F%2Fs.pstatic.net%2Fshop.phinf%2F20220109_91%2F1641723024762ejF7y_JPEG%2F336_51.jpg%22&amp;type&#x3D;nf340_228\" alt=\"꿀잠 솔솔 오는 아이방 인테리어 #비포애프터 \" width=\"170\" height=\"114\" onerror=\"this.outerHTML=\\'<span class=\\\\\\'pm_noimg\\\\\\'><span class=\\\\\\'noimg_text\\\\\\'>이미지 준비중</span></span>\\'\">\\n\\t\\t\\t\\t\\t\\t<span class=\"thumb_bd\"></span>\\n                        \\n\\t\\t\\t\\t\\t</a>\\n\\t\\t\\t\\t\\t<a href=\"https://blog.naver.com/minaryhome/222611089337\" class=\"theme_info\" data-clk=\"tcc_lif.list3cont4\" target=\"_blank\">\\n\\t\\t\\t\\t\\t\\t<em class=\"theme_category\"> 리빙</em>\\n\\t\\t\\t\\t\\t\\t<strong class=\"title elss\">꿀잠 솔솔 오는 아이방 인테리어 #비포애프터 </strong>\\n                        <p class=\"desc\">안녕하세요. 소통하는 리빙블로거 미나리 입니다. 오늘은 저희집 유치원생 아들 둘이 함께 잠을 자는 꿀잠방을 소개 해 드리려고 해요. 아직은 각자의 방이 필요하지 않아서 아이들 방 두개중 하나는 자는 방,하나는 노는방으로 분류해 놓았어요. 그 중에서 이 방은 자는 방이랍니다. Before 공사 전에는 드레스룸으로 활용했던 공간인데 어른옷을 안방붙박이로 싹 빼</p>\\n\\t\\t\\t\\t\\t\\t<div class=\"source_box\">\\n\\t\\t\\t\\t\\t\\t\\t<span class=\"date\">2주일 전</span>\\n\\t\\t\\t\\t\\t\\t\\t<span class=\"source\">\\n                                \\n                                <span class=\"source_inner\">미나리</span>\\n                            </span>\\n\\t\\t\\t\\t\\t\\t</div>\\n\\t\\t\\t\\t\\t</a>\\n\\t\\t\\t\\t</li>\\n\\t\\t\\t\\n\\t\\t\\t\\t<li class=\"theme_item\" data-gdid=\"61e41bd60e210ae31780aba8\" data-da-position=\"true\">\\n\\t\\t\\t\\t\\t<a href=\"https://post.naver.com/viewer/postView.naver?memberNo&#x3D;24659848&amp;volumeNo&#x3D;32948805\" class=\"theme_thumb\" data-clk=\"tcc_lif.list3cont5\" target=\"_blank\">\\n\\t\\t\\t\\t\\t\\t<img  data-src=\"https://s.pstatic.net/dthumb.phinf/?src&#x3D;%22https%3A%2F%2Fs.pstatic.net%2Fshop.phinf%2F20220116_282%2F1642337414094DePoO_JPEG%2F336_3.jpg%22&amp;type&#x3D;nf340_228\" alt=\"남한강을 끌어안은 집, 은퇴 후를 위해 지은 전원주택 \" width=\"170\" height=\"114\" onerror=\"this.outerHTML=\\'<span class=\\\\\\'pm_noimg\\\\\\'><span class=\\\\\\'noimg_text\\\\\\'>이미지 준비중</span></span>\\'\">\\n\\t\\t\\t\\t\\t\\t<span class=\"thumb_bd\"></span>\\n                        \\n\\t\\t\\t\\t\\t</a>\\n\\t\\t\\t\\t\\t<a href=\"https://post.naver.com/viewer/postView.naver?memberNo&#x3D;24659848&amp;volumeNo&#x3D;32948805\" class=\"theme_info\" data-clk=\"tcc_lif.list3cont5\" target=\"_blank\">\\n\\t\\t\\t\\t\\t\\t<em class=\"theme_category\"> 리빙</em>\\n\\t\\t\\t\\t\\t\\t<strong class=\"title elss\">남한강을 끌어안은 집, 은퇴 후를 위해 지은 전원주택 </strong>\\n                        <p class=\"desc\">건축주 부부는 주말마다 은퇴 후 노후를 보낼 요량으로 물과 가까이 있는 땅을 찾아다녔고, 5년여 만에 원하는 땅을 만났다. 집 지은 후 한 채를 다시 짓고 싶을 정도로 건축 과정이 행복했다고 한다. 글 사진 박창배 기자 취재 협조 건축과환경HOUSE NOTE DATA 위치 경기 양평군 개군면 지역/지구 도시지역/자연녹지지역 건축구조 경골 목구조 대지면적 7</p>\\n\\t\\t\\t\\t\\t\\t<div class=\"source_box\">\\n\\t\\t\\t\\t\\t\\t\\t<span class=\"date\">1주일 전</span>\\n\\t\\t\\t\\t\\t\\t\\t<span class=\"source\">\\n                                \\n                                <span class=\"source_inner\">전원주택라이프</span>\\n                            </span>\\n\\t\\t\\t\\t\\t\\t</div>\\n\\t\\t\\t\\t\\t</a>\\n\\t\\t\\t\\t</li>\\n\\t\\t\\t\\n\\t\\t</ul>\\n\\t</div>\\n</div>\\n<div class=\"group_theme\" data-block-id=\"\" data-block-code=\"PC-THEME-LIVINGHOME-MOBILE-RANKING-DEFAULT-3\" data-block-type=\"MATERIALS\" data-template-code=\"MOBILE-RANKING-LIST\"\\n\\n\\t data-da=\"container\"\\n\\t data-index=\"\"\\n     data-page=\"2\"\\n\\t style=\"display:none\">\\n\\n\\t<div class=\"list_theme_wrap\">\\n\\t\\t<ul class=\"list_theme\">\\n\\t\\t\\t\\n\\t\\t\\t\\t<li class=\"theme_item\" data-gdid=\"61dfcb4e0d8122e310fe8566\" data-da-position=\"true\">\\n\\t\\t\\t\\t\\t<a href=\"https://blog.naver.com/desker/222613176451\" class=\"theme_thumb\" data-clk=\"tcc_lif.list4cont1\" target=\"_blank\">\\n\\t\\t\\t\\t\\t\\t<img  data-src=\"https://s.pstatic.net/dthumb.phinf/?src&#x3D;%22https%3A%2F%2Fs.pstatic.net%2Fshop.phinf%2F20220113_187%2F1642056536180mLn0G_JPEG%2F%25B9%25AB%25B7%25E1%25C3%25BC%25C7%25E8_%25284%2529%25B8%25F1.jpg%22&amp;type&#x3D;nf340_228\" alt=\"어느 공간에서나 활용도 100%\" width=\"170\" height=\"114\" onerror=\"this.outerHTML=\\'<span class=\\\\\\'pm_noimg\\\\\\'><span class=\\\\\\'noimg_text\\\\\\'>이미지 준비중</span></span>\\'\">\\n\\t\\t\\t\\t\\t\\t<span class=\"thumb_bd\"></span>\\n                        \\n\\t\\t\\t\\t\\t</a>\\n\\t\\t\\t\\t\\t<a href=\"https://blog.naver.com/desker/222613176451\" class=\"theme_info\" data-clk=\"tcc_lif.list4cont1\" target=\"_blank\">\\n\\t\\t\\t\\t\\t\\t<em class=\"theme_category\"> 리빙</em>\\n\\t\\t\\t\\t\\t\\t<strong class=\"title elss\">어느 공간에서나 활용도 100%</strong>\\n                        <p class=\"desc\">&#x27;우리 몸의 균형을 맞춰 줄 데스커 책상&#x27; 동일한 자세로 장시간 책상앞에 머무르는 우리를 위해 책상앞에서 앉고 서는 움직임을 최적화하고 집중과 휴식의 밸런스를 찾아 작업효율을 높여보세요. 책상 디자인을 해치지 않는 작고 심플한 스위치를 적용하여 직관적인 높이 조절을 할 수 있습니다. 나만의 집중공간을 최고의 환경으로 만들 수 있도록 내 몸에 맞춘 스마...</p>\\n\\t\\t\\t\\t\\t\\t<div class=\"source_box\">\\n\\t\\t\\t\\t\\t\\t\\t<span class=\"date\">2주일 전</span>\\n\\t\\t\\t\\t\\t\\t\\t<span class=\"source\">\\n                                \\n                                <span class=\"source_inner\">데스커</span>\\n                            </span>\\n\\t\\t\\t\\t\\t\\t</div>\\n\\t\\t\\t\\t\\t</a>\\n\\t\\t\\t\\t</li>\\n\\t\\t\\t\\n\\t\\t\\t\\t<li class=\"theme_item\" data-gdid=\"61dfcb4e0d8122e310fe8567\" data-da-position=\"true\">\\n\\t\\t\\t\\t\\t<a href=\"https://blog.naver.com/living_food/222610005661\" class=\"theme_thumb\" data-clk=\"tcc_lif.list4cont2\" target=\"_blank\">\\n\\t\\t\\t\\t\\t\\t<img  data-src=\"https://s.pstatic.net/dthumb.phinf/?src&#x3D;%22https%3A%2F%2Fs.pstatic.net%2Fshop.phinf%2F20220101_183%2F16409824340140haAC_JPEG%2F336_6.jpg%22&amp;type&#x3D;nf340_228\" alt=\"우리 집을 소개하면 공간마다 홈스타일링 지원금을! \" width=\"170\" height=\"114\" onerror=\"this.outerHTML=\\'<span class=\\\\\\'pm_noimg\\\\\\'><span class=\\\\\\'noimg_text\\\\\\'>이미지 준비중</span></span>\\'\">\\n\\t\\t\\t\\t\\t\\t<span class=\"thumb_bd\"></span>\\n                        \\n\\t\\t\\t\\t\\t</a>\\n\\t\\t\\t\\t\\t<a href=\"https://blog.naver.com/living_food/222610005661\" class=\"theme_info\" data-clk=\"tcc_lif.list4cont2\" target=\"_blank\">\\n\\t\\t\\t\\t\\t\\t<em class=\"theme_category\"> 리빙</em>\\n\\t\\t\\t\\t\\t\\t<strong class=\"title elss\">우리 집을 소개하면 공간마다 홈스타일링 지원금을! </strong>\\n                        <p class=\"desc\">■ 이벤트 진행 기간 기간 : 2022. 01.01 - 2022.01.31 발표 : 2022. 02.11 ■ 혜택 1월의 공간 100P!CK 우리 집 여러 공간이 선정될 수 있습니다 선정된 공간마다 홈스타일링 지원금 네이버페이 3만 포인트 최우수 공간에는 네이버페이 20만 포인트 - 12월에 지원했던 포스팅은 이벤트 대상이 아닙니다. - 메인 노출 여부와 </p>\\n\\t\\t\\t\\t\\t\\t<div class=\"source_box\">\\n\\t\\t\\t\\t\\t\\t\\t<span class=\"date\">2주일 전</span>\\n\\t\\t\\t\\t\\t\\t\\t<span class=\"source\">\\n                                \\n                                <span class=\"source_inner\">리빙N레시피</span>\\n                            </span>\\n\\t\\t\\t\\t\\t\\t</div>\\n\\t\\t\\t\\t\\t</a>\\n\\t\\t\\t\\t</li>\\n\\t\\t\\t\\n\\t\\t\\t\\t<li class=\"theme_item\" data-gdid=\"61dfcb4e0d8122e310fe8568\" data-da-position=\"true\">\\n\\t\\t\\t\\t\\t<a href=\"https://blog.naver.com/living_food/222609938446\" class=\"theme_thumb\" data-clk=\"tcc_lif.list4cont3\" target=\"_blank\">\\n\\t\\t\\t\\t\\t\\t<img  data-src=\"https://s.pstatic.net/dthumb.phinf/?src&#x3D;%22https%3A%2F%2Fs.pstatic.net%2Fshop.phinf%2F20220101_64%2F1640982445511RReJP_JPEG%2F336_5.jpg%22&amp;type&#x3D;nf340_228\" alt=\"자랑하고 싶은 살림잇템, 리빙잇템이 있다면! \" width=\"170\" height=\"114\" onerror=\"this.outerHTML=\\'<span class=\\\\\\'pm_noimg\\\\\\'><span class=\\\\\\'noimg_text\\\\\\'>이미지 준비중</span></span>\\'\">\\n\\t\\t\\t\\t\\t\\t<span class=\"thumb_bd\"></span>\\n                        \\n\\t\\t\\t\\t\\t</a>\\n\\t\\t\\t\\t\\t<a href=\"https://blog.naver.com/living_food/222609938446\" class=\"theme_info\" data-clk=\"tcc_lif.list4cont3\" target=\"_blank\">\\n\\t\\t\\t\\t\\t\\t<em class=\"theme_category\"> 리빙</em>\\n\\t\\t\\t\\t\\t\\t<strong class=\"title elss\">자랑하고 싶은 살림잇템, 리빙잇템이 있다면! </strong>\\n                        <p class=\"desc\">이건 정말 잘 샀는데! 자랑하고 싶은 #내돈내산잇템 을 소개해주세요 잇템은 3개 이상 / 대가성 리뷰 불가 #자랑하고싶은살림아이템5 #내가사고내가쓴후기 #내가산후기 #살림리뷰 #살림잇템 #살림템 #주방잇템 #조리도구 #최애프라이팬 #그릇수집 #그릇장정리 #빈티지수집 #티도구 #커트러리 #키친패브릭 #인테리어소품 #집꾸미기아이템 &amp; more 참여 방법 네이버</p>\\n\\t\\t\\t\\t\\t\\t<div class=\"source_box\">\\n\\t\\t\\t\\t\\t\\t\\t<span class=\"date\">2주일 전</span>\\n\\t\\t\\t\\t\\t\\t\\t<span class=\"source\">\\n                                \\n                                <span class=\"source_inner\">리빙N레시피</span>\\n                            </span>\\n\\t\\t\\t\\t\\t\\t</div>\\n\\t\\t\\t\\t\\t</a>\\n\\t\\t\\t\\t</li>\\n\\t\\t\\t\\n\\t\\t\\t\\t<li class=\"theme_item\" data-gdid=\"69057f18-4ebc-4ebd-b16b-5100ecfdd0ea-88601440-878b-4034-b7cb-4bc1e8bb54aa\" data-da-position=\"true\">\\n\\t\\t\\t\\t\\t<a href=\"https://blog.naver.com/darapanda84/222618910437\" class=\"theme_thumb\" data-clk=\"tcc_lif.list4cont4\" target=\"_blank\">\\n\\t\\t\\t\\t\\t\\t<img  data-src=\"https://s.pstatic.net/dthumb.phinf/?src&#x3D;%22https%3A%2F%2Fs.pstatic.net%2Fshop.phinf%2F20220118_22%2F16425119392942LRv2_JPEG%2F750_1.jpg%22&amp;type&#x3D;nf340_228\" alt=\"신혼부부는 어떤 그릇을 쓸까 \" width=\"170\" height=\"114\" onerror=\"this.outerHTML=\\'<span class=\\\\\\'pm_noimg\\\\\\'><span class=\\\\\\'noimg_text\\\\\\'>이미지 준비중</span></span>\\'\">\\n\\t\\t\\t\\t\\t\\t<span class=\"thumb_bd\"></span>\\n                        \\n\\t\\t\\t\\t\\t</a>\\n\\t\\t\\t\\t\\t<a href=\"https://blog.naver.com/darapanda84/222618910437\" class=\"theme_info\" data-clk=\"tcc_lif.list4cont4\" target=\"_blank\">\\n\\t\\t\\t\\t\\t\\t<em class=\"theme_category\"> 리빙</em>\\n\\t\\t\\t\\t\\t\\t<strong class=\"title elss\">신혼부부는 어떤 그릇을 쓸까 </strong>\\n                        <p class=\"desc\">리빙소품 신혼부부는 어떤 그릇을 쓸까? - 1편 오늘은 그동안 자주 문의주시는 저희집 그릇을 소개해볼까해요! 예전에 어떤 이웃님께서 그릇 포스팅을 요청하셨었는데 매번 해야지해야지 하다가 그릇만 보여드리는 것보단 그동안 제가 요리한 사진 곁들여서 보여드리면 더 좋을 것 같아 시간이 걸렸네요. 중간중간 중복되는 그릇이 나올 수 있으나 제 비루한 요리사진도 볼겸</p>\\n\\t\\t\\t\\t\\t\\t<div class=\"source_box\">\\n\\t\\t\\t\\t\\t\\t\\t<span class=\"date\">1주일 전</span>\\n\\t\\t\\t\\t\\t\\t\\t<span class=\"source\">\\n                                \\n                                <span class=\"source_inner\">thr house</span>\\n                            </span>\\n\\t\\t\\t\\t\\t\\t</div>\\n\\t\\t\\t\\t\\t</a>\\n\\t\\t\\t\\t</li>\\n\\t\\t\\t\\n\\t\\t\\t\\t<li class=\"theme_item\" data-gdid=\"13fce6be-f12b-4c4b-872a-68aeaafb857e-c9c1b9bb-db54-436d-b0e3-676186bd80f3\" data-da-position=\"true\">\\n\\t\\t\\t\\t\\t<a href=\"https://blog.naver.com/skmcgirl/222623252358\" class=\"theme_thumb\" data-clk=\"tcc_lif.list4cont5\" target=\"_blank\">\\n\\t\\t\\t\\t\\t\\t<img  data-src=\"https://s.pstatic.net/dthumb.phinf/?src&#x3D;%22https%3A%2F%2Fs.pstatic.net%2Fshop.phinf%2F20220118_289%2F1642499381176Aj0Og_JPEG%2F336_11.jpg%22&amp;type&#x3D;nf340_228\" alt=\"미니 압축봉 활용, 틈새 공간 정리 노하우 #수납\" width=\"170\" height=\"114\" onerror=\"this.outerHTML=\\'<span class=\\\\\\'pm_noimg\\\\\\'><span class=\\\\\\'noimg_text\\\\\\'>이미지 준비중</span></span>\\'\">\\n\\t\\t\\t\\t\\t\\t<span class=\"thumb_bd\"></span>\\n                        \\n\\t\\t\\t\\t\\t</a>\\n\\t\\t\\t\\t\\t<a href=\"https://blog.naver.com/skmcgirl/222623252358\" class=\"theme_info\" data-clk=\"tcc_lif.list4cont5\" target=\"_blank\">\\n\\t\\t\\t\\t\\t\\t<em class=\"theme_category\"> 리빙</em>\\n\\t\\t\\t\\t\\t\\t<strong class=\"title elss\">미니 압축봉 활용, 틈새 공간 정리 노하우 #수납</strong>\\n                        <p class=\"desc\">미니 압축봉 활용하는 틈새 공간 정리 노하우 압축봉을 사용하면 버려진 틈새 공간이 새로운 공간으로 다시 태어나기도 한다. 신기한 것은 이리저리 공간을 만들어 보려 노력해 보면 얼마든지 만들 수 있다는 것이다. 사용하고 있지 않는 물건들은 정리하고, 수납에 조금만 더 신경 써보니 생각치 않은 공간이 짠 하고 만들어졌다. 오늘은 거실, 방, 주방, 화장실 각종</p>\\n\\t\\t\\t\\t\\t\\t<div class=\"source_box\">\\n\\t\\t\\t\\t\\t\\t\\t<span class=\"date\">3일 전</span>\\n\\t\\t\\t\\t\\t\\t\\t<span class=\"source\">\\n                                \\n                                <span class=\"source_inner\">마미네이터</span>\\n                            </span>\\n\\t\\t\\t\\t\\t\\t</div>\\n\\t\\t\\t\\t\\t</a>\\n\\t\\t\\t\\t</li>\\n\\t\\t\\t\\n\\t\\t</ul>\\n\\t</div>\\n</div>\\n<div class=\"group_theme\" data-block-id=\"\" data-block-code=\"PC-THEME-LIVINGHOME-MOBILE-RANKING-DEFAULT-4\" data-block-type=\"MATERIALS\" data-template-code=\"MOBILE-RANKING-LIST\"\\n\\n\\t data-da=\"container\"\\n\\t data-index=\"\"\\n     data-page=\"3\"\\n\\t style=\"display:none\">\\n\\n\\t<div class=\"list_theme_wrap\">\\n\\t\\t<ul class=\"list_theme\">\\n\\t\\t\\t\\n\\t\\t\\t\\t<li class=\"theme_item\" data-gdid=\"827ae6ec-0666-4a27-9c59-839b609d8e6e-f7fd444c-64b5-4a0b-9c4a-d37f828a8120\" data-da-position=\"true\">\\n\\t\\t\\t\\t\\t<a href=\"https://blog.naver.com/uilharu/222619147780\" class=\"theme_thumb\" data-clk=\"tcc_lif.list5cont1\" target=\"_blank\">\\n\\t\\t\\t\\t\\t\\t<img  data-src=\"https://s.pstatic.net/dthumb.phinf/?src&#x3D;%22https%3A%2F%2Fs.pstatic.net%2Fshop.phinf%2F20220112_233%2F1641981037585Rgioc_JPEG%2Ftyk.jpg%22&amp;type&#x3D;nf340_228\" alt=\"5분 완성, 계면활성제 없는 설거지 비누 만들기  \" width=\"170\" height=\"114\" onerror=\"this.outerHTML=\\'<span class=\\\\\\'pm_noimg\\\\\\'><span class=\\\\\\'noimg_text\\\\\\'>이미지 준비중</span></span>\\'\">\\n\\t\\t\\t\\t\\t\\t<span class=\"thumb_bd\"></span>\\n                        \\n\\t\\t\\t\\t\\t</a>\\n\\t\\t\\t\\t\\t<a href=\"https://blog.naver.com/uilharu/222619147780\" class=\"theme_info\" data-clk=\"tcc_lif.list5cont1\" target=\"_blank\">\\n\\t\\t\\t\\t\\t\\t<em class=\"theme_category\"> 리빙</em>\\n\\t\\t\\t\\t\\t\\t<strong class=\"title elss\">5분 완성, 계면활성제 없는 설거지 비누 만들기  </strong>\\n                        <p class=\"desc\">안녕하세요, 푸드스타일리스트 유정입니다. 저는 설거지할때 설거지비누 를 애용하고 있어요. 세제를 사용하면 계면활성제때문에 손이 건조해지기도 하고, (정정합니다. 비누 자체에 계면활성제가 있다고 합니다😅) 무엇보다 생활속에서 제로웨이스트까지는 못해도 로우(low)웨이스트를 실천하려고 하는 편입니다. 설거지비누 는 환경에 좋지만, 가격이 세제에 비해 조금 부</p>\\n\\t\\t\\t\\t\\t\\t<div class=\"source_box\">\\n\\t\\t\\t\\t\\t\\t\\t<span class=\"date\">1주일 전</span>\\n\\t\\t\\t\\t\\t\\t\\t<span class=\"source\">\\n                                \\n                                <span class=\"source_inner\">푸드스타일리스트유정</span>\\n                            </span>\\n\\t\\t\\t\\t\\t\\t</div>\\n\\t\\t\\t\\t\\t</a>\\n\\t\\t\\t\\t</li>\\n\\t\\t\\t\\n\\t\\t\\t\\t<li class=\"theme_item\" data-gdid=\"3b3c2c06-2e39-42f5-a893-144227411b42-ef420df8-feed-4eb5-af3c-b6dbd7b72eb1\" data-da-position=\"true\">\\n\\t\\t\\t\\t\\t<a href=\"https://blog.naver.com/yeonjucat/222611648213\" class=\"theme_thumb\" data-clk=\"tcc_lif.list5cont2\" target=\"_blank\">\\n\\t\\t\\t\\t\\t\\t<img  data-src=\"https://s.pstatic.net/dthumb.phinf/?src&#x3D;%22https%3A%2F%2Fs.pstatic.net%2Fshop.phinf%2F20220111_218%2F1641906818179TYUxz_JPEG%2F750_3.jpg%22&amp;type&#x3D;nf340_228\" alt=\"무문선 미니멀 인테리어\" width=\"170\" height=\"114\" onerror=\"this.outerHTML=\\'<span class=\\\\\\'pm_noimg\\\\\\'><span class=\\\\\\'noimg_text\\\\\\'>이미지 준비중</span></span>\\'\">\\n\\t\\t\\t\\t\\t\\t<span class=\"thumb_bd\"></span>\\n                        \\n\\t\\t\\t\\t\\t</a>\\n\\t\\t\\t\\t\\t<a href=\"https://blog.naver.com/yeonjucat/222611648213\" class=\"theme_info\" data-clk=\"tcc_lif.list5cont2\" target=\"_blank\">\\n\\t\\t\\t\\t\\t\\t<em class=\"theme_category\"> 리빙</em>\\n\\t\\t\\t\\t\\t\\t<strong class=\"title elss\">무문선 미니멀 인테리어</strong>\\n                        <p class=\"desc\">유튜브에는 진작 올렸는데 조금 늦어진 블로그 기록. 신혼집으로 25평 구축 아파트 매수 후 9월부터 셀프인테리어를 시작했다. 이전에도 인테리어를 진행한 경험이 있어 이번엔 모든 공정을 혼자서 진행해보기로 결정하고 1달 반 정도 인테리어 기간을 두었다. 방 3개, 욕실 1개 흔하디 흔하고, 효율적이지 못한 구조를 어떻게 마음에 들게 바꿀 수 있을까.. 고민했</p>\\n\\t\\t\\t\\t\\t\\t<div class=\"source_box\">\\n\\t\\t\\t\\t\\t\\t\\t<span class=\"date\">2주일 전</span>\\n\\t\\t\\t\\t\\t\\t\\t<span class=\"source\">\\n                                \\n                                <span class=\"source_inner\">쭈새댁</span>\\n                            </span>\\n\\t\\t\\t\\t\\t\\t</div>\\n\\t\\t\\t\\t\\t</a>\\n\\t\\t\\t\\t</li>\\n\\t\\t\\t\\n\\t\\t\\t\\t<li class=\"theme_item\" data-gdid=\"7e161064-4a88-4392-980e-8bce50309cb4-08a95f38-f9cf-465c-a637-531c6ff59f4f\" data-da-position=\"true\">\\n\\t\\t\\t\\t\\t<a href=\"https://blog.naver.com/zxlixz/222577622511\" class=\"theme_thumb\" data-clk=\"tcc_lif.list5cont3\" target=\"_blank\">\\n\\t\\t\\t\\t\\t\\t<img  data-src=\"https://s.pstatic.net/dthumb.phinf/?src&#x3D;%22https%3A%2F%2Fs.pstatic.net%2Fshop.phinf%2F20220107_73%2F1641524824305sj4qD_JPEG%2F336_7.jpg%22&amp;type&#x3D;nf340_228\" alt=\"8마리 냥이와 함께 사는 집, 고양이 기숙사 꾸미기 \" width=\"170\" height=\"114\" onerror=\"this.outerHTML=\\'<span class=\\\\\\'pm_noimg\\\\\\'><span class=\\\\\\'noimg_text\\\\\\'>이미지 준비중</span></span>\\'\">\\n\\t\\t\\t\\t\\t\\t<span class=\"thumb_bd\"></span>\\n                        \\n\\t\\t\\t\\t\\t</a>\\n\\t\\t\\t\\t\\t<a href=\"https://blog.naver.com/zxlixz/222577622511\" class=\"theme_info\" data-clk=\"tcc_lif.list5cont3\" target=\"_blank\">\\n\\t\\t\\t\\t\\t\\t<em class=\"theme_category\"> 리빙</em>\\n\\t\\t\\t\\t\\t\\t<strong class=\"title elss\">8마리 냥이와 함께 사는 집, 고양이 기숙사 꾸미기 </strong>\\n                        <p class=\"desc\">오늘은 #이케아인형침대 를 구매해서 고양이 방을 꾸며주었습니다 고양이 #방꾸미기 까지 섭렵하는 나란 집사 칭찬해~ 언박싱 일단 침대를 조립해야죠 이케아는 가구를 다 조립해야되더라고요 이것도 나름 가구😇 택배로 덩그러니 거실에 던져졌습니다 구매대행을 이용했어요 이케아 홈페이지에서 사면 더 싸요 가격 검색인하고 구매대행으로 샀는데 혹시 사실 분들은 이케아 .</p>\\n\\t\\t\\t\\t\\t\\t<div class=\"source_box\">\\n\\t\\t\\t\\t\\t\\t\\t<span class=\"date\">1개월 전</span>\\n\\t\\t\\t\\t\\t\\t\\t<span class=\"source\">\\n                                \\n                                <span class=\"source_inner\">써니집사</span>\\n                            </span>\\n\\t\\t\\t\\t\\t\\t</div>\\n\\t\\t\\t\\t\\t</a>\\n\\t\\t\\t\\t</li>\\n\\t\\t\\t\\n\\t\\t\\t\\t<li class=\"theme_item\" data-gdid=\"647defcc-bc1d-4668-b691-7d041af86af1-46d5c916-52e2-42a3-bcab-c565616e05f2\" data-da-position=\"true\">\\n\\t\\t\\t\\t\\t<a href=\"https://blog.naver.com/choice614/222619553562\" class=\"theme_thumb\" data-clk=\"tcc_lif.list5cont4\" target=\"_blank\">\\n\\t\\t\\t\\t\\t\\t<img  data-src=\"https://s.pstatic.net/dthumb.phinf/?src&#x3D;%22https%3A%2F%2Fs.pstatic.net%2Fshop.phinf%2F20220112_86%2F1641969200148XnQMT_JPEG%2F336_2.jpg%22&amp;type&#x3D;nf340_228\" alt=\"베란다에서 느끼는 계절의 변화 #홈카페 #플랜테리어 \" width=\"170\" height=\"114\" onerror=\"this.outerHTML=\\'<span class=\\\\\\'pm_noimg\\\\\\'><span class=\\\\\\'noimg_text\\\\\\'>이미지 준비중</span></span>\\'\">\\n\\t\\t\\t\\t\\t\\t<span class=\"thumb_bd\"></span>\\n                        \\n\\t\\t\\t\\t\\t</a>\\n\\t\\t\\t\\t\\t<a href=\"https://blog.naver.com/choice614/222619553562\" class=\"theme_info\" data-clk=\"tcc_lif.list5cont4\" target=\"_blank\">\\n\\t\\t\\t\\t\\t\\t<em class=\"theme_category\"> 리빙</em>\\n\\t\\t\\t\\t\\t\\t<strong class=\"title elss\">베란다에서 느끼는 계절의 변화 #홈카페 #플랜테리어 </strong>\\n                        <p class=\"desc\">아침에 일어나 커피를 내리며 하루를 시작하는 요즘 집에서 보내는 시간이 대부분인 요즘 자연스럽게 집에서 계절의 변화를 맞이하게 된다 우리집에선 특히 베란다 나의 작은 베란다정원은 열심히도 변화한다 노지에서 자란 유칼립투스 폴리안은 적응기간 동안 이렇게나 앙상해졌다 히메몬스테라는 점점 위로 올라가는 모습을 볼 수 있다 밤에 보는 또 다른 매력 봄, 여름은 항</p>\\n\\t\\t\\t\\t\\t\\t<div class=\"source_box\">\\n\\t\\t\\t\\t\\t\\t\\t<span class=\"date\">1주일 전</span>\\n\\t\\t\\t\\t\\t\\t\\t<span class=\"source\">\\n                                \\n                                <span class=\"source_inner\">초초</span>\\n                            </span>\\n\\t\\t\\t\\t\\t\\t</div>\\n\\t\\t\\t\\t\\t</a>\\n\\t\\t\\t\\t</li>\\n\\t\\t\\t\\n\\t\\t\\t\\t<li class=\"theme_item\" data-gdid=\"61dfcb2daa0459e32219f79c\" data-da-position=\"true\">\\n\\t\\t\\t\\t\\t<a href=\"https://blog.naver.com/living_food/222609932371\" class=\"theme_thumb\" data-clk=\"tcc_lif.list5cont5\" target=\"_blank\">\\n\\t\\t\\t\\t\\t\\t<img  data-src=\"https://s.pstatic.net/dthumb.phinf/?src&#x3D;%22https%3A%2F%2Fs.pstatic.net%2Fshop.phinf%2F20220101_100%2F1640967085054fq09g_PNG%2F336_3.PNG%22&amp;type&#x3D;nf340_228\" alt=\"살림 고수님, 꿀팁 노하우를 알려주세요\" width=\"170\" height=\"114\" onerror=\"this.outerHTML=\\'<span class=\\\\\\'pm_noimg\\\\\\'><span class=\\\\\\'noimg_text\\\\\\'>이미지 준비중</span></span>\\'\">\\n\\t\\t\\t\\t\\t\\t<span class=\"thumb_bd\"></span>\\n                        \\n\\t\\t\\t\\t\\t</a>\\n\\t\\t\\t\\t\\t<a href=\"https://blog.naver.com/living_food/222609932371\" class=\"theme_info\" data-clk=\"tcc_lif.list5cont5\" target=\"_blank\">\\n\\t\\t\\t\\t\\t\\t<em class=\"theme_category\"> 리빙</em>\\n\\t\\t\\t\\t\\t\\t<strong class=\"title elss\">살림 고수님, 꿀팁 노하우를 알려주세요</strong>\\n                        <p class=\"desc\">2022년, 네이버 리빙과 함께하는 메인 도전 리빙&amp;레시피와 이웃 추가하고 블로그 혹은 포스팅 url을 비공개 댓글로 남겨주세요. 말머리에 [살림] [취미] 를 붙여 주시고, 포스팅의 간략한 내용 설명도 부탁드릴게요. 살림 추천 키워드 #살림노하우 #살림꿀팁 #뽁뽁이붙이는법 #새해살림법 #창틀청소법 #세탁법 #베이킹소다활용법 #주방정리 #수납노하우 #팬트리</p>\\n\\t\\t\\t\\t\\t\\t<div class=\"source_box\">\\n\\t\\t\\t\\t\\t\\t\\t<span class=\"date\">2주일 전</span>\\n\\t\\t\\t\\t\\t\\t\\t<span class=\"source\">\\n                                \\n                                <span class=\"source_inner\">리빙N레시피</span>\\n                            </span>\\n\\t\\t\\t\\t\\t\\t</div>\\n\\t\\t\\t\\t\\t</a>\\n\\t\\t\\t\\t</li>\\n\\t\\t\\t\\n\\t\\t</ul>\\n\\t</div>\\n</div>\\n<div class=\"group_theme\" data-block-id=\"\" data-block-code=\"PC-THEME-LIVINGHOME-MOBILE-RANKING-DEFAULT-5\" data-block-type=\"MATERIALS\" data-template-code=\"MOBILE-RANKING-LIST\"\\n\\n\\t data-da=\"container\"\\n\\t data-index=\"\"\\n     data-page=\"3\"\\n\\t style=\"display:none\">\\n\\n\\t<div class=\"list_theme_wrap\">\\n\\t\\t<ul class=\"list_theme\">\\n\\t\\t\\t\\n\\t\\t\\t\\t<li class=\"theme_item\" data-gdid=\"b90f8b84-dc7a-441e-bf41-a508fbfaed11-43659433-2761-4b64-9ace-0ad91f0de031\" data-da-position=\"true\">\\n\\t\\t\\t\\t\\t<a href=\"https://blog.naver.com/diacl82/222611560545\" class=\"theme_thumb\" data-clk=\"tcc_lif.list6cont1\" target=\"_blank\">\\n\\t\\t\\t\\t\\t\\t<img  data-src=\"https://s.pstatic.net/dthumb.phinf/?src&#x3D;%22https%3A%2F%2Fs.pstatic.net%2Fshop.phinf%2F20220115_77%2F1642182273704An1iw_JPEG%2F750_3.jpg%22&amp;type&#x3D;nf340_228\" alt=\"물비린내 없애는 간단한 방법\" width=\"170\" height=\"114\" onerror=\"this.outerHTML=\\'<span class=\\\\\\'pm_noimg\\\\\\'><span class=\\\\\\'noimg_text\\\\\\'>이미지 준비중</span></span>\\'\">\\n\\t\\t\\t\\t\\t\\t<span class=\"thumb_bd\"></span>\\n                        \\n\\t\\t\\t\\t\\t</a>\\n\\t\\t\\t\\t\\t<a href=\"https://blog.naver.com/diacl82/222611560545\" class=\"theme_info\" data-clk=\"tcc_lif.list6cont1\" target=\"_blank\">\\n\\t\\t\\t\\t\\t\\t<em class=\"theme_category\"> 리빙</em>\\n\\t\\t\\t\\t\\t\\t<strong class=\"title elss\">물비린내 없애는 간단한 방법</strong>\\n                        <p class=\"desc\">깨끗하게 설거지하는데도 컵 물비린내가 날 때가 있어 당황스러운 깍쟁얌치입니다. 이상하다 싶어 다시 닦아보았지만 역시나 똑같습니다. 그럴 때에는 참지 말고 간단한 방법으로 없애요. 집에 있으니 차 한 잔, 커피 한잔 아이들은 우유나 주스 등등 마시다 보니 하루에도 여러 개가 나옵니다. 싱크대에 수시로 쌓여 있는 걸 보면 또 후다닥 설거지해요. 저는 크게 예민</p>\\n\\t\\t\\t\\t\\t\\t<div class=\"source_box\">\\n\\t\\t\\t\\t\\t\\t\\t<span class=\"date\">2주일 전</span>\\n\\t\\t\\t\\t\\t\\t\\t<span class=\"source\">\\n                                \\n                                <span class=\"source_inner\">깍쟁얌치</span>\\n                            </span>\\n\\t\\t\\t\\t\\t\\t</div>\\n\\t\\t\\t\\t\\t</a>\\n\\t\\t\\t\\t</li>\\n\\t\\t\\t\\n\\t\\t\\t\\t<li class=\"theme_item\" data-gdid=\"566d7e43-2d93-46cc-b580-8f5a644fc312-8c7456ad-ff5a-44fe-84c4-11810b97aae4\" data-da-position=\"true\">\\n\\t\\t\\t\\t\\t<a href=\"https://blog.naver.com/madebyjojo/222619628227\" class=\"theme_thumb\" data-clk=\"tcc_lif.list6cont2\" target=\"_blank\">\\n\\t\\t\\t\\t\\t\\t<img  data-src=\"https://s.pstatic.net/dthumb.phinf/?src&#x3D;%22https%3A%2F%2Fs.pstatic.net%2Fshop.phinf%2F20220112_272%2F1641980019590wvrNn_JPEG%2F6i.jpg%22&amp;type&#x3D;nf340_228\" alt=\"조각 피자를 닮은 미니 동전지갑 만들기\" width=\"170\" height=\"114\" onerror=\"this.outerHTML=\\'<span class=\\\\\\'pm_noimg\\\\\\'><span class=\\\\\\'noimg_text\\\\\\'>이미지 준비중</span></span>\\'\">\\n\\t\\t\\t\\t\\t\\t<span class=\"thumb_bd\"></span>\\n                        \\n\\t\\t\\t\\t\\t</a>\\n\\t\\t\\t\\t\\t<a href=\"https://blog.naver.com/madebyjojo/222619628227\" class=\"theme_info\" data-clk=\"tcc_lif.list6cont2\" target=\"_blank\">\\n\\t\\t\\t\\t\\t\\t<em class=\"theme_category\"> 리빙</em>\\n\\t\\t\\t\\t\\t\\t<strong class=\"title elss\">조각 피자를 닮은 미니 동전지갑 만들기</strong>\\n                        <p class=\"desc\">미니 동전지갑 만들기 부채꼴 모양의 미니 동전지갑을 만들었어요. 조각 피자나 파이가 생각나는 동전지갑입니다. 한 조각 하실래요? ^^ 동전지갑으로 만들었지만 목걸이나, 반지, 팔찌 등 작은 소지품을 담는 용도로도 쓸 수 있어요. 쉽게 만들 수 있으니 예쁜 원단으로 만들어보세요. 겉감은 리넨, 안감은 면 20수 원단 사용했어요. 옆으로 넘겨서 보세요. 패턴 </p>\\n\\t\\t\\t\\t\\t\\t<div class=\"source_box\">\\n\\t\\t\\t\\t\\t\\t\\t<span class=\"date\">1주일 전</span>\\n\\t\\t\\t\\t\\t\\t\\t<span class=\"source\">\\n                                \\n                                <span class=\"source_inner\">made by JOJO</span>\\n                            </span>\\n\\t\\t\\t\\t\\t\\t</div>\\n\\t\\t\\t\\t\\t</a>\\n\\t\\t\\t\\t</li>\\n\\t\\t\\t\\n\\t\\t\\t\\t<li class=\"theme_item\" data-gdid=\"22d0ba35-6e50-4ddd-82b4-da26428fb7f7-1e37e14f-6c0a-4b34-b52b-82e73918ac8c\" data-da-position=\"true\">\\n\\t\\t\\t\\t\\t<a href=\"https://blog.naver.com/lemon_grass/222615649284\" class=\"theme_thumb\" data-clk=\"tcc_lif.list6cont3\" target=\"_blank\">\\n\\t\\t\\t\\t\\t\\t<img  data-src=\"https://s.pstatic.net/dthumb.phinf/?src&#x3D;%22https%3A%2F%2Fs.pstatic.net%2Fshop.phinf%2F20220112_240%2F1641980712437PlITl_JPEG%2F2t3.jpg%22&amp;type&#x3D;nf340_228\" alt=\"미니멀리스트가 애정하는 5가지 정리템 추천\" width=\"170\" height=\"114\" onerror=\"this.outerHTML=\\'<span class=\\\\\\'pm_noimg\\\\\\'><span class=\\\\\\'noimg_text\\\\\\'>이미지 준비중</span></span>\\'\">\\n\\t\\t\\t\\t\\t\\t<span class=\"thumb_bd\"></span>\\n                        \\n\\t\\t\\t\\t\\t</a>\\n\\t\\t\\t\\t\\t<a href=\"https://blog.naver.com/lemon_grass/222615649284\" class=\"theme_info\" data-clk=\"tcc_lif.list6cont3\" target=\"_blank\">\\n\\t\\t\\t\\t\\t\\t<em class=\"theme_category\"> 리빙</em>\\n\\t\\t\\t\\t\\t\\t<strong class=\"title elss\">미니멀리스트가 애정하는 5가지 정리템 추천</strong>\\n                        <p class=\"desc\">저의 이웃이라면 아시겠지만, 저는 미니멀한 모든 것을 좋아합니다. 깔끔하게 정리하는 것도 좋아하는데요, 제가 애정하는 5가지 정리템을 소개해드리려고 합니다. 정리정돈 좋아하시는 분들, 깔끔한 디자인을 좋아하시는 분들, 화이트템 좋아하시는 모든 분들 정독해주세요~! 5가지 정리템 제가 1위부터 5위까지 뽑아본 정리템입니다. 가장 애정하는 1위부터 찬찬히 소개</p>\\n\\t\\t\\t\\t\\t\\t<div class=\"source_box\">\\n\\t\\t\\t\\t\\t\\t\\t<span class=\"date\">1주일 전</span>\\n\\t\\t\\t\\t\\t\\t\\t<span class=\"source\">\\n                                \\n                                <span class=\"source_inner\">sightandinsight</span>\\n                            </span>\\n\\t\\t\\t\\t\\t\\t</div>\\n\\t\\t\\t\\t\\t</a>\\n\\t\\t\\t\\t</li>\\n\\t\\t\\t\\n\\t\\t\\t\\t<li class=\"theme_item\" data-gdid=\"61e190a2e27a365bf048cf4c\" data-da-position=\"true\">\\n\\t\\t\\t\\t\\t<a href=\"https://blog.naver.com/enamorado_/222618980801\" class=\"theme_thumb\" data-clk=\"tcc_lif.list6cont4\" target=\"_blank\">\\n\\t\\t\\t\\t\\t\\t<img  data-src=\"https://s.pstatic.net/dthumb.phinf/?src&#x3D;%22https%3A%2F%2Fs.pstatic.net%2Fshop.phinf%2F20220114_234%2F1642150787594zgS0u_JPEG%2F750_7.jpg%22&amp;type&#x3D;nf340_228\" alt=\"맥시멀리스트의 7평 원룸\" width=\"170\" height=\"114\" onerror=\"this.outerHTML=\\'<span class=\\\\\\'pm_noimg\\\\\\'><span class=\\\\\\'noimg_text\\\\\\'>이미지 준비중</span></span>\\'\">\\n\\t\\t\\t\\t\\t\\t<span class=\"thumb_bd\"></span>\\n                        \\n\\t\\t\\t\\t\\t</a>\\n\\t\\t\\t\\t\\t<a href=\"https://blog.naver.com/enamorado_/222618980801\" class=\"theme_info\" data-clk=\"tcc_lif.list6cont4\" target=\"_blank\">\\n\\t\\t\\t\\t\\t\\t<em class=\"theme_category\"> 리빙</em>\\n\\t\\t\\t\\t\\t\\t<strong class=\"title elss\">맥시멀리스트의 7평 원룸</strong>\\n                        <p class=\"desc\">오늘의 포스팅은, 어느덧 첫 독립의 설렘을 느낀지 1년이 다 되어가는 이 시점에 나의 작은 안식처를 소개하는 온라인 집들이 🏡 먼저 도면부터 보여드리자면, 이렇게 작고, 어쩌면 전형적인 7평의 원룸 오피스텔이다. (사실 한쪽 벽면이 쭉 붙박이장으로 연결되어있어, 7평도 되지 않을 것으로 생각됨) 방을 구할 당시에 볕이 잘 드는 남향이지만 건물로 막혀있는 </p>\\n\\t\\t\\t\\t\\t\\t<div class=\"source_box\">\\n\\t\\t\\t\\t\\t\\t\\t<span class=\"date\">1주일 전</span>\\n\\t\\t\\t\\t\\t\\t\\t<span class=\"source\">\\n                                \\n                                <span class=\"source_inner\">앤롱</span>\\n                            </span>\\n\\t\\t\\t\\t\\t\\t</div>\\n\\t\\t\\t\\t\\t</a>\\n\\t\\t\\t\\t</li>\\n\\t\\t\\t\\n\\t\\t\\t\\t<li class=\"theme_item\" data-gdid=\"61e190a2e27a365bf048cf4d\" data-da-position=\"true\">\\n\\t\\t\\t\\t\\t<a href=\"https://blog.naver.com/wlstnals33/222613428868\" class=\"theme_thumb\" data-clk=\"tcc_lif.list6cont5\" target=\"_blank\">\\n\\t\\t\\t\\t\\t\\t<img  data-src=\"https://s.pstatic.net/dthumb.phinf/?src&#x3D;%22https%3A%2F%2Fs.pstatic.net%2Fshop.phinf%2F20220114_69%2F16421504478394Cx8n_JPEG%2F336_38.jpg%22&amp;type&#x3D;nf340_228\" alt=\"가장 애정하는 공간, 조명에 따라 분위기가 달라지는 거실 \" width=\"170\" height=\"114\" onerror=\"this.outerHTML=\\'<span class=\\\\\\'pm_noimg\\\\\\'><span class=\\\\\\'noimg_text\\\\\\'>이미지 준비중</span></span>\\'\">\\n\\t\\t\\t\\t\\t\\t<span class=\"thumb_bd\"></span>\\n                        \\n\\t\\t\\t\\t\\t</a>\\n\\t\\t\\t\\t\\t<a href=\"https://blog.naver.com/wlstnals33/222613428868\" class=\"theme_info\" data-clk=\"tcc_lif.list6cont5\" target=\"_blank\">\\n\\t\\t\\t\\t\\t\\t<em class=\"theme_category\"> 리빙</em>\\n\\t\\t\\t\\t\\t\\t<strong class=\"title elss\">가장 애정하는 공간, 조명에 따라 분위기가 달라지는 거실 </strong>\\n                        <p class=\"desc\">온라인 집들이 우리집 인테리어, 온라인집들이 거실인테리어를 소개해본다. 나는 신혼집을 꾸밀때 화이트를 주로 선택했다. 화이트가 배경이면 가구는 어떤색을 배치해도 잘 어울릴것 같았다. 가구는 특색있게 컬러감이 있는 가구로 선택했다. 탁 트여 있고 해가 잘드는 공간이라 주로 나는 거실에서 생활하는것을 좋아한다. 낮에 집에 있는날이면 거실에서 해가 들어올때 창가</p>\\n\\t\\t\\t\\t\\t\\t<div class=\"source_box\">\\n\\t\\t\\t\\t\\t\\t\\t<span class=\"date\">2주일 전</span>\\n\\t\\t\\t\\t\\t\\t\\t<span class=\"source\">\\n                                \\n                                <span class=\"source_inner\">뚬부부</span>\\n                            </span>\\n\\t\\t\\t\\t\\t\\t</div>\\n\\t\\t\\t\\t\\t</a>\\n\\t\\t\\t\\t</li>\\n\\t\\t\\t\\n\\t\\t</ul>\\n\\t</div>\\n</div>\\n\\n\\n\\n\\n\\t<div class=\"btn_more_wrap\">\\n\\t\\t<button type=\"button\" class=\"btn_more\" data-clk-custom=\"tcc_lif.more\" data-next-page=\"2\"><i class=\"ico_more\"></i>새로운 글 더보기</button>\\n\\t</div>\\n\\n\\n<div class=\"NM_THEME_META\" style=\"display: none\" data-panel-code=\"LIVINGHOME\" data-parent-code=\"\"></div>\\n\\n\\t</div>\\n</div>\\n </div> </div> <div id=\"NM_INT_RIGHT\" class=\"column_right\"> <div class=\"column_fix_wrap\"> <div id=\"da_brand\"></div> \\n\\n\\n\\n\\n<div id=\"account\" class=\"sc_login\">\\n<h2 class=\"blind\">Sign in</h2>\\n<p class=\"login_msg\">Connect with people</p>\\n<a href=\"https://nid.naver.com/nidlogin.login?mode=form&url=https%3A%2F%2Fwww.naver.com\" class=\"link_login\" data-clk=\"log_off.login\"><i class=\"ico_naver\"><span class=\"blind\">NAVER</span></i>Sign in</a>\\n<div class=\"sub_area\">\\n<div class=\"look_box\">\\n<a href=\"https://nid.naver.com/user/help.nhn?todo=idinquiry\" class=\"link_look\" data-clk=\"log_off.searchid\">Forgot Username</a>\\n<a href=\"https://nid.naver.com/nidreminder.form\" class=\"link_look\" data-clk=\"log_off.searchpass\">Password</a>\\n</div>\\n<a href=\"https://nid.naver.com/nidregister.form?url=https%3A%2F%2Fwww.naver.com\" class=\"link_join\" data-clk=\"log_off.registration\">Sign up</a>\\n</div>\\n</div>\\n\\n\\n\\n <div id=\"timesquare\" class=\"sc_timesquare\"> <h2 class=\"blind\">타임스퀘어</h2> <div class=\"card_wrap\">\\n<div class=\"card_nav\">\\n<a href=\"#\" role=\"button\" class=\"btn_nav btn_prev\" data-clk=\"squ.pre\"><span class=\"blind\">이전</span></a>\\n<a href=\"#\" role=\"button\" class=\"btn_nav btn_next\" data-clk=\"squ.next\"><span class=\"blind\">다음</span></a>\\n</div>\\n<div id=\"NM_TS_ROLLING_WRAP\" style=\"height: 100%;\">\\n<div>\\n<a href=\"https://search.naver.com/search.naver?sm=top_hty&amp;fbm=0&amp;ie=utf8&amp;query=%EC%BD%94%EB%A1%9C%EB%82%9819\" class=\"card_news\" data-clk=\"squ.line3\"><i class=\"news_badge\">이슈</i><span class=\"news\">코로나바이러스감염증-19 현황</span></a>\\n</div>\\n<div>\\n<a href=\"https://campaign.naver.com/collect_v2/?target=https%3A%2F%2Fcampaign.naver.com%2Fnaverapp%2Fqrpass&pcode=Naver_loginbottom_1&event_id=qr\" class=\"card_notice\" data-clk=\"squ.covidqrcheckin\"><span class=\"notice\"><i class=\"ico_qrcode\"></i><strong>쉬운 방역패스</strong>를 위한 <strong>바로가기 설치</strong> 안내</span></a>\\n</div>\\n<div>\\n<a href=\"https://finance.naver.com/sise/sise_index.nhn?code=KOSPI\" class=\"card_stock \" data-clk=\"squ.kospi\">\\n<strong class=\"stock_title\">증시</strong>\\n<div class=\"stock_box\">\\n<em class=\"name\">코스피</em>\\n<strong class=\"current\">2,835.75</strong>\\n<span class=\"rate rate_down\">6.53 -0.23%</span>\\n</div>\\n</a>\\n</div>\\n<div>\\n<a href=\"https://finance.naver.com/sise/sise_index.nhn?code=KOSDAQ\" class=\"card_stock \" data-clk=\"squ.kosdaq\">\\n<strong class=\"stock_title\">증시</strong>\\n<div class=\"stock_box\">\\n<em class=\"name\">코스닥</em>\\n<strong class=\"current\">936.62</strong>\\n<span class=\"rate rate_up\">2.72 +0.29%</span>\\n</div>\\n</a>\\n</div>\\n<div>\\n<a href=\"https://finance.naver.com/marketindex/exchangeDetail.nhn?marketindexCd=FX_USDKRW\" class=\"card_stock type_exchange\" data-clk=\"squ.usd\">\\n<strong class=\"stock_title\">환율</strong>\\n<div class=\"stock_box\">\\n<em class=\"name\">USD</em>\\n<strong class=\"current\">1,189.60</strong>\\n<span class=\"rate rate_down\">1.40 -0.12%</span>\\n</div>\\n</a>\\n</div>\\n</div>\\n</div> <!-- EMPTY --> </div> <div id=\"veta_branding\"> <div id=\"veta_branding_inner\" style=\"width:350px;height:200px\"> </div> <span class=\"veta_bd_t\"></span> <span class=\"veta_bd_b\"></span> <span class=\"veta_bd_l\"></span> <span class=\"veta_bd_r\"></span> </div> <div id=\"shopcast\" class=\"sc_shopcast\"> <iframe id=\"shopcast_iframe\" data-iframe-src=\"/shoppingbox/shoppingboxnew/main.nhn?domain=N\" title=\"쇼핑캐스트\" width=\"350\" height=\"1539\" marginheight=\"0\" marginwidth=\"0\" scrolling=\"no\" frameborder=\"0\"></iframe> </div> </div> </div> <a id=\"NM_scroll_top_btn\" href=\"#wrap\" class=\"content_top\"><span class=\"blind\">TOP</span></a> <button id=\"NM_darkmode_btn\" type=\"button\" role=\"button\" class=\"btn_theme\" aria-pressed=\"false\"  > <span class=\"blind\">라이트 모드로 보기</span> </button> </div> <div id=\"footer\" role=\"contentinfo\"> <div class=\"footer_inner\"> <div id=\"NM-FOOTER-AD\" class=\"banner_area\"> <div class=\"da_box_wrap\"> <div id=\"da_public_left\"> </div> <div id=\"da_public_right\"> </div> <div id=\"veta_time2\"> </div> </div> </div> <div class=\"notice_area\" data-clk-prefix=\"ntc\"> <div class=\"notice_box\"> <h3 class=\"title\"><a href=\"https://www.naver.com/NOTICE\">공지사항</a> </h3> <!-- EMPTY --> </div> <a href=\"more.html\" class=\"link_all\" data-clk=\"svcmap\">서비스 전체보기</a> </div> <div class=\"aside_area\"> <div class=\"partner_box_wrap\"> <div class=\"partner_box\" data-clk-prefix=\"crt\"> <h3 class=\"title\">Creators</h3> <a href=\"https://www.navercorp.com/service/creators\" class=\"link_partner\" data-clk=\"creator\">크리에이터</a> <a href=\"https://www.navercorp.com/service/business\" class=\"link_partner\" data-clk=\"smbusiness\">스몰비즈니스</a> </div> <div class=\"partner_box\" data-clk-prefix=\"crt\"> <h3 class=\"title\">Partners</h3> <a href=\"https://campaign.naver.com/smefullcare/online/\" class=\"link_partner\" data-clk=\"sme\">SME 풀케어 시스템</a> <a href=\"https://business.naver.com/service.html\" class=\"link_partner\" data-clk=\"service\">비즈니스 · 광고</a> <a href=\"https://sell.storefarm.naver.com/#/home/about\" class=\"link_partner\" data-clk=\"store\">스토어 개설</a> <a href=\"https://smartplace.naver.com\" class=\"link_partner\" data-clk=\"place\">지역업체 등록</a> <a href=\"https://expert.naver.com/expert/introduction?tab=guide#join\" class=\"link_partner\" data-clk=\"expert\">엑스퍼트 등록</a> </div> <div class=\"partner_box\" data-clk-prefix=\"crt\"> <h3 class=\"title\">Developers</h3> <a href=\"https://developers.naver.com\" class=\"link_partner\" data-clk=\"center\">네이버 개발자 센터</a> <a href=\"https://developers.naver.com/docs/common/openapiguide/#/apilist.md\" class=\"link_partner\" data-clk=\"openapi\">오픈 API</a> <a href=\"https://naver.github.io\" class=\"link_partner\" data-clk=\"opensource\">오픈소스</a> <a href=\"https://d2.naver.com\" class=\"link_partner\" data-clk=\"d2\">네이버 D2</a> <a href=\"http://d2startup.com\" class=\"link_partner\" data-clk=\"naverD2SF\">네이버 D2SF</a> <a href=\"https://www.naverlabs.com\" class=\"link_partner\" data-clk=\"labs\">네이버 랩스</a> </div> </div> <div class=\"service_box_wrap\"> <div class=\"service_box\" data-clk-prefix=\"wbd\"> <a href=\"http://whale.naver.com/\" class=\"service_logo\" data-clk=\"bt\"> <img src=\"data:image/png;base64,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\" alt=\"웨일\" width=\"48\" height=\"48\"> </a> <div class=\"service_info\"> <strong class=\"title\">웨일 브라우저</strong> <a href=\"http://whale.naver.com/\" class=\"dsc\" data-clk=\"bt\">다운받기</a> </div> </div> <div class=\"service_box\" data-clk-prefix=\"prj\"> <a href=\"https://search.naver.com/search.naver?where=nexearch&sm=top_hty&fbm=1&ie=utf8&query=%ED%94%84%EB%A1%9C%EC%A0%9D%ED%8A%B8%EA%BD%83\" class=\"service_logo\" data-clk=\"link\"> <img src=\"data:image/png;base64,iVBORw0KGgoAAAANSUhEUgAAAF4AAABkCAMAAAA47XeXAAAAgVBMVEUAAADN5PdGm99Gm99Gm99Gm99Gm95Gm99Gm99Gm99Gm99Gm99Gm99Gm99Gm99Gm99Gm99Gm99Gm99Gm99Gm99Gm99Gm99Gmt9Gm99Gm99Gm99Gm95Gm99Gm99Gm95Gm99Hm99Gm99Gm9/////3+/5cp+LO5PfR5/fO5fdcp+P7/f/zv5GhAAAAInRSTlMA/v7vH9u5qJNgGwb6l8a9uqF9WFUyLxYMCtbVmLCwe4OCj8gzEgAAA0NJREFUaN7NmmFz4iAQhkkwMTHGWrWtWvWuq8mF+/8/8Ey2nb0OhSwQZnw+MHQ7pbjAy2s2gsuiLPJMLpcyy4tyISZltnmHbxw3MzEVr/MUNNL5q5iCt2ccXCN9fhPB7CQYkTsRRlWDlboSAexzGCHfC28OKxhldfDOzBMwePLNTw0sauHFFphshQcLCUwkaQRfXYBPSkrEUBdv3jezcXXhw1ciUhc+fCUidQlH7qzqEk5d2dQlnHxvU5dwVgdXdSGclaiGyamt6hLO1qIu4ZASzcFE092SBprk1jagulvXAAw/qb5N7m176xQYmOPoLymYaK/X65/PNhlagE6LGUhfRM8FjNzuf/73//bHmInzoJEpjMyeWpp9RzGz/PT6+QvMNO2Q+67PPeYZY5h7jDVg5OM+/BGikd13JfDAj/Ad1WLMyEyUwKPT00ypN1GKAljQJtFiFgqRe86eYhbWIvPPPR5d+9pKiIgUwKNJdHXBvW9jyRye1EWLWYfnJcd141Byspizz7gbUyWDuqiW0v15D9g3ZgF86JwyKUgUHJaATUmS5rsEdkkTZLjZS8Alw+skFr8Nl6H6uosShaKOp3Zo+/jgFTDe+wcSfv0yFGfQaLX7tDO0reXOPRuMCG4Q11Y3IiYblWgzS7R+h31qdRtlGB7zikeUckz+AB3a8FuMqD7Cd2nhUHLOEIkLubQIkEuLxIdwEwUy3HyXxsbgPMJcGuGox+TSIugxuTQ+KHIaAS5N92eIIuMT5tJoPfHy5q9yKoXLelLuKRri0mjMQdhwTPw6Sv8pzKXhFyhNilEwkSCXRrnAnaPnJdyl0UrqXircpeHVglnv+62K4NJo3lFcGmWd79KO7OQoXAE8XNO6tIQGxj7fpfHTwk8RubQLWEGvgTNGKzj01fixunCMCCYcvSSlaFwUyKVx86J3bczpUR3zimq1LqdosAUbJF54ar+uk5Gju436mPTk8ZAXFdO93HRYTesUVgf3B+y0XdxLfdVputmfKp/iBtNjyl3c0kzUwtJIWewIPvAL9LOyWLsV9WAps3VRzh6hJBm3oOqsRKfHLGYzS/GP+iLBuBKdqkd+iWPkFZTHf4Em4us/uhI5qss/6zK5u8+AXpwAAAAASUVORK5CYII=\" alt=\"꽃\" width=\"47\" height=\"50\"> </a> <div class=\"service_info\"> <strong class=\"title\">프로젝트 꽃</strong> <a href=\"https://search.naver.com/search.naver?where=nexearch&sm=top_hty&fbm=1&ie=utf8&query=%ED%94%84%EB%A1%9C%EC%A0%9D%ED%8A%B8%EA%BD%83\" class=\"dsc\" data-clk=\"link\">바로가기</a> </div> </div> </div> </div> <div class=\"corp_area\" data-clk-prefix=\"plc\"> <h3 class=\"blind\">네이버 정책 및 약관</h3> <ul class=\"list_corp\"> <li class=\"corp_item\"><a href=\"https://www.navercorp.com\" data-clk=\"intronhn\">회사소개</a></li> <li class=\"corp_item\"><a href=\"https://recruit.navercorp.com/naver/recruitMain\" data-clk=\"recruit\">인재채용</a></li> <li class=\"corp_item\"><a href=\"https://www.navercorp.com/naver/proposalGuide\" data-clk=\"contact\">제휴제안</a></li> <li class=\"corp_item\"><a href=\"/policy/service.html\" data-clk=\"service\">이용약관</a></li> <li class=\"corp_item\"><a href=\"/policy/privacy.html\" data-clk=\"privacy\"><strong>개인정보처리방침</strong></a></li> <li class=\"corp_item\"><a href=\"/policy/youthpolicy.html\" data-clk=\"youth\">청소년보호정책</a></li> <li class=\"corp_item\"><a href=\"/policy/spamcheck.html\" data-clk=\"policy\">네이버 정책</a></li> <li class=\"corp_item\"><a href=\"https://help.naver.com/\" data-clk=\"helpcenter\">고객센터</a></li> </ul> <address class=\"addr\"><a href=\"https://www.navercorp.com\" target=\"_blank\" data-clk=\"nhn\">ⓒ NAVER Corp.</a></address> </div> </div> </div> </div> <div id=\"adscript\" style=\"display:none\"></div> </body> </html>\\n'"
      ]
     },
     "execution_count": 15,
     "metadata": {},
     "output_type": "execute_result"
    }
   ],
   "source": [
    "res.text"
   ]
  },
  {
   "cell_type": "code",
   "execution_count": null,
   "id": "7dbaaa8c",
   "metadata": {},
   "outputs": [],
   "source": []
  },
  {
   "cell_type": "code",
   "execution_count": 16,
   "id": "700ac8b9",
   "metadata": {},
   "outputs": [],
   "source": [
    "soup = BeautifulSoup(res.text, 'html.parser')"
   ]
  },
  {
   "cell_type": "code",
   "execution_count": 17,
   "id": "c40de6ba",
   "metadata": {},
   "outputs": [],
   "source": [
    "path = \"#NM_FAVORITE > div.group_nav > ul.list_nav.NM_FAVORITE_LIST > li\""
   ]
  },
  {
   "cell_type": "code",
   "execution_count": 18,
   "id": "c4a0a60e",
   "metadata": {},
   "outputs": [],
   "source": [
    "lis = soup.select(path)"
   ]
  },
  {
   "cell_type": "code",
   "execution_count": 19,
   "id": "1cfe6f44",
   "metadata": {},
   "outputs": [],
   "source": [
    "# <li>.....<li>        목록을 만드는 태그 \n",
    "# <a href = \"https://www.daum.net\"> 다음 </a>          # a 태그 = 하이퍼링크 태그 "
   ]
  },
  {
   "cell_type": "code",
   "execution_count": 20,
   "id": "5cbfa7ee",
   "metadata": {},
   "outputs": [
    {
     "name": "stdout",
     "output_type": "stream",
     "text": [
      "사전 https://dict.naver.com/\n",
      "뉴스 https://news.naver.com/\n",
      "증권 https://finance.naver.com/\n",
      "부동산 https://land.naver.com/\n",
      "지도 https://map.naver.com/\n",
      "VIBE https://vibe.naver.com/\n",
      "책 https://book.naver.com/\n",
      "웹툰 https://comic.naver.com/\n"
     ]
    }
   ],
   "source": [
    "for li in lis:\n",
    "    print(li.text, li.select('a')[0]['href'])"
   ]
  },
  {
   "cell_type": "code",
   "execution_count": null,
   "id": "8bb71f25",
   "metadata": {},
   "outputs": [],
   "source": []
  },
  {
   "cell_type": "code",
   "execution_count": null,
   "id": "354b59f2",
   "metadata": {},
   "outputs": [],
   "source": []
  },
  {
   "cell_type": "code",
   "execution_count": null,
   "id": "eb502429",
   "metadata": {},
   "outputs": [],
   "source": []
  },
  {
   "cell_type": "code",
   "execution_count": 21,
   "id": "7c700abe",
   "metadata": {},
   "outputs": [],
   "source": [
    "import requests"
   ]
  },
  {
   "cell_type": "code",
   "execution_count": 22,
   "id": "f80b2a7b",
   "metadata": {},
   "outputs": [],
   "source": [
    "url = \"https://search.daum.net/search?w=news&nil_search=btn&DA=NTB&enc=utf8&cluster=y&cluster_page=1&q=%EB%B9%85%EB%8D%B0%EC%9D%B4%ED%84%B0\""
   ]
  },
  {
   "cell_type": "code",
   "execution_count": 23,
   "id": "b9511a67",
   "metadata": {},
   "outputs": [
    {
     "data": {
      "text/plain": [
       "'<script type=\"text/javascript\">\\nlocation.replace( \"http://ncaptcha.search.daum.net/captcha/show?redirect=http%3A%2F%2Fsearch.daum.net%2Fsearch%3Fw%3Dnews%26nil_search%3Dbtn%26DA%3DNTB%26enc%3Dutf8%26cluster%3Dy%26cluster_page%3D1%26q%3D%25EB%25B9%2585%25EB%258D%25B0%25EC%259D%25B4%25ED%2584%25B0\" );\\n</script>\\n'"
      ]
     },
     "execution_count": 23,
     "metadata": {},
     "output_type": "execute_result"
    }
   ],
   "source": [
    "res = requests.get(url)\n",
    "res.text"
   ]
  },
  {
   "cell_type": "code",
   "execution_count": null,
   "id": "4cfe3ae0",
   "metadata": {},
   "outputs": [],
   "source": []
  },
  {
   "cell_type": "code",
   "execution_count": null,
   "id": "2fe4682b",
   "metadata": {},
   "outputs": [],
   "source": []
  },
  {
   "cell_type": "code",
   "execution_count": 24,
   "id": "932f3216",
   "metadata": {},
   "outputs": [],
   "source": [
    "#newsColl > div.cont_divider > ul > li:nth-child(1) > div.wrap_cont > p"
   ]
  },
  {
   "cell_type": "code",
   "execution_count": 25,
   "id": "f6a4132f",
   "metadata": {},
   "outputs": [],
   "source": [
    "soup = BeautifulSoup(res.text, 'html.parser')"
   ]
  },
  {
   "cell_type": "code",
   "execution_count": 26,
   "id": "d79f9f1b",
   "metadata": {},
   "outputs": [],
   "source": [
    "path = '#newsColl > div.cont_divider > ul > li'"
   ]
  },
  {
   "cell_type": "code",
   "execution_count": 27,
   "id": "9a481661",
   "metadata": {},
   "outputs": [
    {
     "data": {
      "text/plain": [
       "[]"
      ]
     },
     "execution_count": 27,
     "metadata": {},
     "output_type": "execute_result"
    }
   ],
   "source": [
    "tags = soup.select(path)\n",
    "tags"
   ]
  },
  {
   "cell_type": "code",
   "execution_count": 28,
   "id": "19ac5de4",
   "metadata": {},
   "outputs": [],
   "source": [
    "# 제목 : [투데이 窓]빅데이터에서 미래를 읽는 통찰력\n",
    "# URL : http://v.media.daum.net/v/20220119020501044?f=o\n",
    "# =================================================\n"
   ]
  },
  {
   "cell_type": "code",
   "execution_count": 29,
   "id": "d13a0f78",
   "metadata": {
    "scrolled": true
   },
   "outputs": [
    {
     "ename": "IndexError",
     "evalue": "list index out of range",
     "output_type": "error",
     "traceback": [
      "\u001b[1;31m---------------------------------------------------------------------------\u001b[0m",
      "\u001b[1;31mIndexError\u001b[0m                                Traceback (most recent call last)",
      "\u001b[1;32m~\\AppData\\Local\\Temp/ipykernel_9516/2988155032.py\u001b[0m in \u001b[0;36m<module>\u001b[1;34m\u001b[0m\n\u001b[1;32m----> 1\u001b[1;33m \u001b[0mtags\u001b[0m\u001b[1;33m[\u001b[0m\u001b[1;36m0\u001b[0m\u001b[1;33m]\u001b[0m\u001b[1;33m\u001b[0m\u001b[1;33m\u001b[0m\u001b[0m\n\u001b[0m",
      "\u001b[1;31mIndexError\u001b[0m: list index out of range"
     ]
    }
   ],
   "source": [
    "tags[0]"
   ]
  },
  {
   "cell_type": "code",
   "execution_count": 30,
   "id": "456b4e67",
   "metadata": {},
   "outputs": [],
   "source": [
    "for t in tags:\n",
    "    print(\"제목 :\",t.select('a')[1].text)\n",
    "    print(\" URL : \",t.select('a')[0]['href'])\n",
    "    print(\"요약 :\",t.select('p')[0].text)\n",
    "    print(\"----------\")\n",
    "    "
   ]
  },
  {
   "cell_type": "code",
   "execution_count": 31,
   "id": "30e6666a",
   "metadata": {},
   "outputs": [],
   "source": [
    "from bs4 import BeautifulSoup\n",
    "import requests"
   ]
  },
  {
   "cell_type": "code",
   "execution_count": 32,
   "id": "3a40fdc2",
   "metadata": {},
   "outputs": [],
   "source": [
    "url = 'https://search.daum.net/search?nil_suggest=btn&w=news&DA=SBC&q=아이유'\n",
    "res = requests.get(url)\n",
    "html = res.text\n",
    "soup = BeautifulSoup(html, 'html.parser')\n",
    "path = \"#newsColl > div.cont_divider > ul > li\""
   ]
  },
  {
   "cell_type": "code",
   "execution_count": 33,
   "id": "77bbcf99",
   "metadata": {},
   "outputs": [
    {
     "data": {
      "text/plain": [
       "[<li> <div class=\"wrap_thumb\" id=\"news_img_0\"> <a class=\"thumb\" href=\"http://v.media.daum.net/v/20220120101749219?f=o\" onclick='smartLog(this, \"dc=NNS&amp;d=26q7DHQq-Ng_XdP_8z&amp;pg=1&amp;r=1&amp;p=1&amp;rc=10&amp;e1=16JQzgnVEpdmOW7h61&amp;e3=0&amp;ext=dsid=26q7DHQq-Ng_XdP_8z\", event, {\"cpid\": {\"value\": \"16JQzgnVEpdmOW7h61\"}});' target=\"_blank\"> <img alt=\"\" class=\"thumb_img\" data-size=\"80x80\" height=\"80\" onerror=\"SF.errorImage(this)\" src=\"https://search1.daumcdn.net/thumb/P200x200/?fname=https%3A%2F%2Fsearch3.kakaocdn.net%2Fargon%2F200x200_85_c%2FGkUlpv6yjTz0\" width=\"80\"/> </a> </div> <div class=\"wrap_cont\"> <a class=\"tit_main fn_tit_u\" href=\"http://v.media.daum.net/v/20220120101749219?f=o\" onclick='smartLog(this, \"dc=NNS&amp;d=26q7DHQq-Ng_XdP_8z&amp;pg=1&amp;r=1&amp;p=4&amp;rc=10&amp;e1=16JQzgnVEpdmOW7h61&amp;e3=0&amp;ext=dsid=26q7DHQq-Ng_XdP_8z\", event, {\"cpid\": {\"value\": \"16JQzgnVEpdmOW7h61\"}});' target=\"_blank\">BTS-세븐틴-<b>아이유</b>-임영웅, 뮤빗 선정 '2021년 최고의 아티스트' 각 부문 1위</a> <p class=\"desc\">2021 케이팝 연말결산’ 최고의 아티스트 종합 1위로 방탄소년단(BTS)이 선정됐다. NCT DREAM, NCT 127, 세븐틴, 임영웅, 에스파, <b>아이유</b>, 트와이스, 있지, 스트레이 키즈가 뒤를 이었다”고 밝혔다. 음원 1위를 기록한 <b>아이유</b>와 음반 1위의 세븐틴, 동영상 조회 수...</p> <span class=\"cont_info\"> <span class=\"f_nb\">MBN</span> <span class=\"f_nb\">17분전</span> <a class=\"f_nb\" href=\"http://v.media.daum.net/v/20220120101749219\" onclick='smartLog(this, \"dc=NNS&amp;d=26q7DHQq-Ng_XdP_8z&amp;pg=1&amp;r=1&amp;p=3&amp;rc=10&amp;e1=16JQzgnVEpdmOW7h61&amp;e3=0&amp;ext=dsid=26q7DHQq-Ng_XdP_8z\", event, {\"cpid\": {\"value\": \"16JQzgnVEpdmOW7h61\"}});' target=\"_blank\">다음뉴스</a> </span> <div class=\"cont_rel\"> <dl> <dt class=\"screen_out\">관련기사</dt> <dd> <a class=\"tit_rel f_link\" href=\"https://cp.news.search.daum.net/p/115248234\" onclick='smartLog(this, \"dc=NNS&amp;d=26SQUiCyBc9xKlGxnt&amp;pg=1&amp;r=1&amp;p=5&amp;rc=10&amp;e1=16TSAHvpnFEuAVHy0U&amp;e3=0&amp;ext=dsid=26SQUiCyBc9xKlGxnt&amp;rtt=parent&amp;rtid=26q7DHQq-Ng_XdP_8z&amp;rtsc=\", event, {\"cpid\": {\"value\": \"16TSAHvpnFEuAVHy0U\"}});' target=\"_blank\"> BTS-세븐틴-<b>아이유</b>-임영웅, 뮤빗(Mubeat) 선정 ‘2... </a> <span class=\"cont_info\"> <span class=\"f_nb\">스타데일리뉴스 </span> <span class=\"f_nb\">43분전</span> </span> </dd> </dl> </div> <span id=\"newsSQC_t1_0\" style=\"display:none;\">10301^http://v.media.daum.net/v/20220120101749219?f=o^26q7DHQq-Ng_XdP_8z^news^mediaArticle^%EC%95%84%EC%9D%B4%EC%9C%A0^26q7DHQq-Ng_XdP_8z</span> </div> </li>,\n",
       " <li> <div class=\"wrap_thumb\" id=\"news_img_1\"> <a class=\"thumb\" href=\"http://v.media.daum.net/v/20220120081955364?f=o\" onclick='smartLog(this, \"dc=NNS&amp;d=26dmsDdgJzuoEjxh7e&amp;pg=1&amp;r=2&amp;p=1&amp;rc=10&amp;e1=167cQ4Yt2Ca2Ce18FK&amp;e3=0&amp;ext=dsid=26dmsDdgJzuoEjxh7e\", event, {\"cpid\": {\"value\": \"167cQ4Yt2Ca2Ce18FK\"}});' target=\"_blank\"> <img alt=\"\" class=\"thumb_img\" data-size=\"80x80\" height=\"80\" onerror=\"SF.errorImage(this)\" src=\"https://search1.daumcdn.net/thumb/P200x200/?fname=https%3A%2F%2Fsearch4.kakaocdn.net%2Fargon%2F200x200_85_c%2F6bzd6GzLH1C0\" width=\"80\"/> </a> </div> <div class=\"wrap_cont\"> <a class=\"tit_main fn_tit_u\" href=\"http://v.media.daum.net/v/20220120081955364?f=o\" onclick='smartLog(this, \"dc=NNS&amp;d=26dmsDdgJzuoEjxh7e&amp;pg=1&amp;r=2&amp;p=4&amp;rc=10&amp;e1=167cQ4Yt2Ca2Ce18FK&amp;e3=0&amp;ext=dsid=26dmsDdgJzuoEjxh7e\", event, {\"cpid\": {\"value\": \"167cQ4Yt2Ca2Ce18FK\"}});' target=\"_blank\"><b>아이유</b>, 30대 되더니 과감한 패션..시스루+볼륨감 아찔해~</a> <p class=\"desc\">[일간스포츠 이지수] 가수 <b>아이유</b>가 파격적인 드레스 자태를 공개했다. <b>아이유</b>는 19일 자신의 인스타그램에 \"아이보리가 잘 받는 나\"라는 글과 함께 사진 한 장을 올려놨다. 해당 사진에서 그는 화사한 꽃들이 가득한 곳을 배경으로, 아이보리 시스루 드레스를 입고...</p> <span class=\"cont_info\"> <span class=\"f_nb\">일간스포츠</span> <span class=\"f_nb\">2시간전</span> <a class=\"f_nb\" href=\"http://v.media.daum.net/v/20220120081955364\" onclick='smartLog(this, \"dc=NNS&amp;d=26dmsDdgJzuoEjxh7e&amp;pg=1&amp;r=2&amp;p=3&amp;rc=10&amp;e1=167cQ4Yt2Ca2Ce18FK&amp;e3=0&amp;ext=dsid=26dmsDdgJzuoEjxh7e\", event, {\"cpid\": {\"value\": \"167cQ4Yt2Ca2Ce18FK\"}});' target=\"_blank\">다음뉴스</a> </span> <span id=\"newsSQC_t1_1\" style=\"display:none;\">10301^http://v.media.daum.net/v/20220120081955364?f=o^26dmsDdgJzuoEjxh7e^news^mediaArticle^%EC%95%84%EC%9D%B4%EC%9C%A0^26dmsDdgJzuoEjxh7e</span> </div> </li>,\n",
       " <li> <div class=\"wrap_thumb\" id=\"news_img_2\"> <a class=\"thumb\" href=\"http://v.media.daum.net/v/20220120030006165?f=o\" onclick='smartLog(this, \"dc=NNS&amp;d=26CemgEekkwNLbQiZo&amp;pg=1&amp;r=3&amp;p=1&amp;rc=10&amp;e1=16PxLkJt1h6kPgSYDm&amp;e3=0&amp;ext=dsid=26CemgEekkwNLbQiZo\", event, {\"cpid\": {\"value\": \"16PxLkJt1h6kPgSYDm\"}});' target=\"_blank\"> <img alt=\"\" class=\"thumb_img\" data-size=\"80x80\" height=\"80\" onerror=\"SF.errorImage(this)\" src=\"https://search1.daumcdn.net/thumb/P200x200/?fname=https%3A%2F%2Fsearch2.kakaocdn.net%2Fargon%2F200x200_85_c%2F7q8TFKpgeFZ0\" width=\"80\"/> </a> </div> <div class=\"wrap_cont\"> <a class=\"tit_main fn_tit_u\" href=\"http://v.media.daum.net/v/20220120030006165?f=o\" onclick='smartLog(this, \"dc=NNS&amp;d=26CemgEekkwNLbQiZo&amp;pg=1&amp;r=3&amp;p=4&amp;rc=10&amp;e1=16PxLkJt1h6kPgSYDm&amp;e3=0&amp;ext=dsid=26CemgEekkwNLbQiZo\", event, {\"cpid\": {\"value\": \"16PxLkJt1h6kPgSYDm\"}});' target=\"_blank\"><b>아이유</b>, 사랑스러운 삐약이 [화보]</a> <p class=\"desc\">[동아닷컴] <b>아이유</b>, 사랑스러운 삐약이 [화보] 가수 <b>아이유</b>가 앰배서더로 활동 중인 스포츠 브랜드와의 2022년 새 일상 캠페인을 공개했다. 앞서 첫 번째 캠페인 ‘We Got Now’와 ‘기다리지 않는 것이 미덕’, 두 번째 캠페인 ‘나 자신, 나만의 빛을 찾아 떠나는...</p> <span class=\"cont_info\"> <span class=\"f_nb\">스포츠동아</span> <span class=\"f_nb\">7시간전</span> <a class=\"f_nb\" href=\"http://v.media.daum.net/v/20220120030006165\" onclick='smartLog(this, \"dc=NNS&amp;d=26CemgEekkwNLbQiZo&amp;pg=1&amp;r=3&amp;p=3&amp;rc=10&amp;e1=16PxLkJt1h6kPgSYDm&amp;e3=0&amp;ext=dsid=26CemgEekkwNLbQiZo\", event, {\"cpid\": {\"value\": \"16PxLkJt1h6kPgSYDm\"}});' target=\"_blank\">다음뉴스</a> </span> <div class=\"cont_rel\"> <dl> <dt class=\"screen_out\">관련기사</dt> <dd> <a class=\"tit_rel f_link\" href=\"http://v.media.daum.net/v/20220120071604971?f=o\" onclick='smartLog(this, \"dc=NNS&amp;d=26sg0WpC-32qoz4Zcj&amp;pg=1&amp;r=3&amp;p=5&amp;rc=10&amp;e1=16fEGriEE1VVeRH5aC&amp;e3=0&amp;ext=dsid=26sg0WpC-32qoz4Zcj&amp;rtt=parent&amp;rtid=26CemgEekkwNLbQiZo&amp;rtsc=\", event, {\"cpid\": {\"value\": \"16fEGriEE1VVeRH5aC\"}});' target=\"_blank\"> <b>아이유</b>, 편안한 일상 패션도 사랑스러워[스타화보] </a> <span class=\"cont_info\"> <span class=\"f_nb\">뉴스엔</span> <span class=\"f_nb\">3시간전</span> <a class=\"f_nb\" href=\"http://v.media.daum.net/v/20220120071604971\" onclick='smartLog(this, \"dc=NNS&amp;d=26sg0WpC-32qoz4Zcj&amp;pg=1&amp;r=3&amp;p=12&amp;rc=10&amp;e1=16fEGriEE1VVeRH5aC&amp;e3=0&amp;ext=dsid=26sg0WpC-32qoz4Zcj&amp;rtt=parent&amp;rtid=26CemgEekkwNLbQiZo&amp;rtsc=\", event, {\"cpid\": {\"value\": \"16fEGriEE1VVeRH5aC\"}});' target=\"_blank\">다음뉴스</a> </span> </dd> </dl> </div> <span id=\"newsSQC_t1_2\" style=\"display:none;\">10301^http://v.media.daum.net/v/20220120030006165?f=o^26CemgEekkwNLbQiZo^news^mediaArticle^%EC%95%84%EC%9D%B4%EC%9C%A0^26CemgEekkwNLbQiZo</span> </div> </li>,\n",
       " <li> <div class=\"wrap_thumb\" id=\"news_img_3\"> <a class=\"thumb\" href=\"https://cp.news.search.daum.net/p/115247706\" onclick='smartLog(this, \"dc=NNS&amp;d=26eVzB2YPxE1waDaSO&amp;pg=1&amp;r=4&amp;p=1&amp;rc=10&amp;e1=16FESmjfALVT6juqQT&amp;e3=0&amp;ext=dsid=26eVzB2YPxE1waDaSO\", event, {\"cpid\": {\"value\": \"16FESmjfALVT6juqQT\"}});' target=\"_blank\"> <img alt=\"\" class=\"thumb_img\" data-size=\"80x80\" height=\"80\" onerror=\"SF.errorImage(this)\" src=\"https://search1.daumcdn.net/thumb/P200x200/?fname=https%3A%2F%2Fsearch2.kakaocdn.net%2Fargon%2F200x200_85_c%2F6oxjhrMFfQy0\" width=\"80\"/> </a> </div> <div class=\"wrap_cont\"> <a class=\"tit_main fn_tit_u\" href=\"https://cp.news.search.daum.net/p/115247706\" onclick='smartLog(this, \"dc=NNS&amp;d=26eVzB2YPxE1waDaSO&amp;pg=1&amp;r=4&amp;p=4&amp;rc=10&amp;e1=16FESmjfALVT6juqQT&amp;e3=0&amp;ext=dsid=26eVzB2YPxE1waDaSO\", event, {\"cpid\": {\"value\": \"16FESmjfALVT6juqQT\"}});' target=\"_blank\"><b>아이유</b>, 아이보리 컬러로 화려함을 이겼다 (Feat. 시스루 원피스)</a> <p class=\"desc\">가수 겸 배우 <b>아이유</b>가 청순한 매력을 뽐냈다. <b>아이유</b>는 자신의 인스타그램에 \"아이보리가 잘 받는 나\"라는 글과 함께 사진을 올렸다. 공개된 사진에서 <b>아이유</b>는 꽃을 배경으로 아이보리 컬러의 시스루 원피스를 입고 있고 포즈를 취하고 있다. 화사한 꽃과 달리 톤...</p> <span class=\"cont_info\"> <span class=\"f_nb\">스타패션</span> <span class=\"f_nb\">50분전</span> </span> <span id=\"newsSQC_t1_3\" style=\"display:none;\">10301^https://cp.news.search.daum.net/p/115247706^26eVzB2YPxE1waDaSO^news^mediaArticle^%EC%95%84%EC%9D%B4%EC%9C%A0^26eVzB2YPxE1waDaSO</span> </div> </li>,\n",
       " <li> <div class=\"wrap_thumb\" id=\"news_img_4\"> <a class=\"thumb\" href=\"http://v.media.daum.net/v/20220120063219264?f=o\" onclick='smartLog(this, \"dc=NNS&amp;d=26UaQEWc_Xkh92wjrq&amp;pg=1&amp;r=5&amp;p=1&amp;rc=10&amp;e1=16JQzgnVEpdmOW7h61&amp;e3=0&amp;ext=dsid=26UaQEWc_Xkh92wjrq\", event, {\"cpid\": {\"value\": \"16JQzgnVEpdmOW7h61\"}});' target=\"_blank\"> <img alt=\"\" class=\"thumb_img\" data-size=\"80x80\" height=\"80\" onerror=\"SF.errorImage(this)\" src=\"https://search1.daumcdn.net/thumb/P200x200/?fname=https%3A%2F%2Fsearch4.kakaocdn.net%2Fargon%2F200x200_85_c%2FHrl5wfhOioo0\" width=\"80\"/> </a> </div> <div class=\"wrap_cont\"> <a class=\"tit_main fn_tit_u\" href=\"http://v.media.daum.net/v/20220120063219264?f=o\" onclick='smartLog(this, \"dc=NNS&amp;d=26UaQEWc_Xkh92wjrq&amp;pg=1&amp;r=5&amp;p=4&amp;rc=10&amp;e1=16JQzgnVEpdmOW7h61&amp;e3=0&amp;ext=dsid=26UaQEWc_Xkh92wjrq\", event, {\"cpid\": {\"value\": \"16JQzgnVEpdmOW7h61\"}});' target=\"_blank\"><b>아이유</b>, 꽃도 기죽이는 미모..청순 아우라 '폴폴'[M+★SNS]</a> <p class=\"desc\"><b>아이유</b> 꽃 사진=<b>아이유</b> 인스타그램 가수 <b>아이유</b>가 꽃보다 아름다운 비주얼을 자랑했다. <b>아이유</b>는 지난 19일 오후 자신의 인스타그램에 “아이보리가 잘 받는 나”라는 글과 사진을 게재했다. 사진 속에는 꽃밭에 앉아 있는 그의 모습이 담겨 있다. 하늘하늘한 원피스...</p> <span class=\"cont_info\"> <span class=\"f_nb\">MBN</span> <span class=\"f_nb\">4시간전</span> <a class=\"f_nb\" href=\"http://v.media.daum.net/v/20220120063219264\" onclick='smartLog(this, \"dc=NNS&amp;d=26UaQEWc_Xkh92wjrq&amp;pg=1&amp;r=5&amp;p=3&amp;rc=10&amp;e1=16JQzgnVEpdmOW7h61&amp;e3=0&amp;ext=dsid=26UaQEWc_Xkh92wjrq\", event, {\"cpid\": {\"value\": \"16JQzgnVEpdmOW7h61\"}});' target=\"_blank\">다음뉴스</a> </span> <span id=\"newsSQC_t1_4\" style=\"display:none;\">10301^http://v.media.daum.net/v/20220120063219264?f=o^26UaQEWc_Xkh92wjrq^news^mediaArticle^%EC%95%84%EC%9D%B4%EC%9C%A0^26UaQEWc_Xkh92wjrq</span> </div> </li>,\n",
       " <li> <div class=\"wrap_thumb\" id=\"news_img_5\"> <a class=\"thumb\" href=\"https://cp.news.search.daum.net/p/115246601\" onclick='smartLog(this, \"dc=NNS&amp;d=26I81xwiPW0SviS2En&amp;pg=1&amp;r=6&amp;p=1&amp;rc=10&amp;e1=16ZmPIrztXCYs3TCjV&amp;e3=0&amp;ext=dsid=26I81xwiPW0SviS2En\", event, {\"cpid\": {\"value\": \"16ZmPIrztXCYs3TCjV\"}});' target=\"_blank\"> <img alt=\"\" class=\"thumb_img\" data-size=\"80x80\" height=\"80\" onerror=\"SF.errorImage(this)\" src=\"https://search1.daumcdn.net/thumb/P200x200/?fname=https%3A%2F%2Fsearch4.kakaocdn.net%2Fargon%2F200x200_85_c%2F9JtlKWnCpMT0\" width=\"80\"/> </a> </div> <div class=\"wrap_cont\"> <a class=\"tit_main fn_tit_u\" href=\"https://cp.news.search.daum.net/p/115246601\" onclick='smartLog(this, \"dc=NNS&amp;d=26I81xwiPW0SviS2En&amp;pg=1&amp;r=6&amp;p=4&amp;rc=10&amp;e1=16ZmPIrztXCYs3TCjV&amp;e3=0&amp;ext=dsid=26I81xwiPW0SviS2En\", event, {\"cpid\": {\"value\": \"16ZmPIrztXCYs3TCjV\"}});' target=\"_blank\">[POP포토] <b>아이유</b>의 데일리룩은? 편안한 일상 담은 화보 공개</a> <p class=\"desc\">뉴발란스(NEW BALANCE)가 브랜드 엠베서더 <b>아이유</b>와 함께한 2022년 새로운 일상 캠페인을 공개했다.최근 2022년 첫 캠페인으로 ‘자신만의 삶을 나만의 방식으로, 나만의 공간에서 찾아가는’ <b>아이유</b>의 모습을 담아 공개한 바 있다.이번 캠페인은 <b>아이유</b>가 집안...</p> <span class=\"cont_info\"> <span class=\"f_nb\">데일리팝</span> <span class=\"f_nb\">1시간전</span> </span> <span id=\"newsSQC_t1_5\" style=\"display:none;\">10301^https://cp.news.search.daum.net/p/115246601^26I81xwiPW0SviS2En^news^mediaArticle^%EC%95%84%EC%9D%B4%EC%9C%A0^26I81xwiPW0SviS2En</span> </div> </li>,\n",
       " <li> <div class=\"wrap_thumb\" id=\"news_img_6\"> <a class=\"thumb\" href=\"http://v.media.daum.net/v/20220119230501888?f=o\" onclick='smartLog(this, \"dc=NNS&amp;d=268jWpKI9pvqKthBne&amp;pg=1&amp;r=7&amp;p=1&amp;rc=10&amp;e1=16gmjhh-4e7TNHMCYw&amp;e3=0&amp;ext=dsid=268jWpKI9pvqKthBne\", event, {\"cpid\": {\"value\": \"16gmjhh-4e7TNHMCYw\"}});' target=\"_blank\"> <img alt=\"\" class=\"thumb_img\" data-size=\"80x80\" height=\"80\" onerror=\"SF.errorImage(this)\" src=\"https://search1.daumcdn.net/thumb/P200x200/?fname=https%3A%2F%2Fsearch3.kakaocdn.net%2Fargon%2F200x200_85_c%2FGxx2QUe1r5I0\" width=\"80\"/> </a> </div> <div class=\"wrap_cont\"> <a class=\"tit_main fn_tit_u\" href=\"http://v.media.daum.net/v/20220119230501888?f=o\" onclick='smartLog(this, \"dc=NNS&amp;d=268jWpKI9pvqKthBne&amp;pg=1&amp;r=7&amp;p=4&amp;rc=10&amp;e1=16gmjhh-4e7TNHMCYw&amp;e3=0&amp;ext=dsid=268jWpKI9pvqKthBne\", event, {\"cpid\": {\"value\": \"16gmjhh-4e7TNHMCYw\"}});' target=\"_blank\"><b>아이유</b>, 미니스커트 입고 뽐낸 각선미..오버핏 룩 '늘씬'</a> <p class=\"desc\">가수 겸 배우 <b>아이유</b> /사진제공=뉴발란스 가수 겸 배우 <b>아이유</b>의 2022년 새 화보가 공개됐다. 19일 스포츠 브랜드 뉴발란스(NEW BALANCE)는 브랜드 앰버서더 <b>아이유</b>와 함께한 화보를 선보였다. 이번 캠페인에서 <b>아이유</b>는 집안에서의 편안한 일상을 담아냈다. 화보 속...</p> <span class=\"cont_info\"> <span class=\"f_nb\">머니투데이</span> <span class=\"f_nb\">11시간전</span> <a class=\"f_nb\" href=\"http://v.media.daum.net/v/20220119230501888\" onclick='smartLog(this, \"dc=NNS&amp;d=268jWpKI9pvqKthBne&amp;pg=1&amp;r=7&amp;p=3&amp;rc=10&amp;e1=16gmjhh-4e7TNHMCYw&amp;e3=0&amp;ext=dsid=268jWpKI9pvqKthBne\", event, {\"cpid\": {\"value\": \"16gmjhh-4e7TNHMCYw\"}});' target=\"_blank\">다음뉴스</a> </span> <span id=\"newsSQC_t1_6\" style=\"display:none;\">10301^http://v.media.daum.net/v/20220119230501888?f=o^268jWpKI9pvqKthBne^news^mediaArticle^%EC%95%84%EC%9D%B4%EC%9C%A0^268jWpKI9pvqKthBne</span> </div> </li>,\n",
       " <li> <div class=\"wrap_thumb\" id=\"news_img_7\"> <a class=\"thumb\" href=\"http://v.media.daum.net/v/20220119173205762?f=o\" onclick='smartLog(this, \"dc=NNS&amp;d=26Zc3bnZzcIxyDYmA8&amp;pg=1&amp;r=8&amp;p=1&amp;rc=10&amp;e1=16O9wCZdr911fR5W97&amp;e3=0&amp;ext=dsid=26Zc3bnZzcIxyDYmA8\", event, {\"cpid\": {\"value\": \"16O9wCZdr911fR5W97\"}});' target=\"_blank\"> <img alt=\"\" class=\"thumb_img\" data-size=\"80x80\" height=\"80\" onerror=\"SF.errorImage(this)\" src=\"https://search1.daumcdn.net/thumb/P200x200/?fname=https%3A%2F%2Fsearch4.kakaocdn.net%2Fargon%2F200x200_85_c%2FJZPn8zUOShe0\" width=\"80\"/> </a> </div> <div class=\"wrap_cont\"> <a class=\"tit_main fn_tit_u\" href=\"http://v.media.daum.net/v/20220119173205762?f=o\" onclick='smartLog(this, \"dc=NNS&amp;d=26Zc3bnZzcIxyDYmA8&amp;pg=1&amp;r=8&amp;p=4&amp;rc=10&amp;e1=16O9wCZdr911fR5W97&amp;e3=0&amp;ext=dsid=26Zc3bnZzcIxyDYmA8\", event, {\"cpid\": {\"value\": \"16O9wCZdr911fR5W97\"}});' target=\"_blank\"><b>아이유</b>, 누가 꽃이지?..\"아이보리가 잘 받는 나\" [인스타]</a> <p class=\"desc\">가수 <b>아이유</b>가 분위기 여신으로 등극했다. iMBC 연예뉴스 사진 19일 <b>아이유</b>는 자신의 인스타그램에 \"아이보리가 잘 받는 나\"라는 글과 함께 사진 한 장을 게재했다. 공개된 사진 속 아이보리 색 드레스 차림의 <b>아이유</b>는 형형색색의 꽃들에 둘러싸여 포즈를 취하고...</p> <span class=\"cont_info\"> <span class=\"f_nb\">MBC연예</span> <span class=\"f_nb\">17시간전</span> <a class=\"f_nb\" href=\"http://v.media.daum.net/v/20220119173205762\" onclick='smartLog(this, \"dc=NNS&amp;d=26Zc3bnZzcIxyDYmA8&amp;pg=1&amp;r=8&amp;p=3&amp;rc=10&amp;e1=16O9wCZdr911fR5W97&amp;e3=0&amp;ext=dsid=26Zc3bnZzcIxyDYmA8\", event, {\"cpid\": {\"value\": \"16O9wCZdr911fR5W97\"}});' target=\"_blank\">다음뉴스</a> </span> <span id=\"newsSQC_t1_7\" style=\"display:none;\">10301^http://v.media.daum.net/v/20220119173205762?f=o^26Zc3bnZzcIxyDYmA8^news^mediaArticle^%EC%95%84%EC%9D%B4%EC%9C%A0^26Zc3bnZzcIxyDYmA8</span> </div> </li>,\n",
       " <li> <div class=\"wrap_thumb\" id=\"news_img_8\"> <a class=\"thumb\" href=\"http://v.media.daum.net/v/20220119182917572?f=o\" onclick='smartLog(this, \"dc=NNS&amp;d=26H1j-qohemsIwDSvz&amp;pg=1&amp;r=9&amp;p=1&amp;rc=10&amp;e1=16hWxJmTql2y9rxiuO&amp;e3=0&amp;ext=dsid=26H1j-qohemsIwDSvz\", event, {\"cpid\": {\"value\": \"16hWxJmTql2y9rxiuO\"}});' target=\"_blank\"> <img alt=\"\" class=\"thumb_img\" data-size=\"80x80\" height=\"80\" onerror=\"SF.errorImage(this)\" src=\"https://search1.daumcdn.net/thumb/P200x200/?fname=https%3A%2F%2Fsearch1.kakaocdn.net%2Fargon%2F200x200_85_c%2FAFCtDCS7pKv0\" width=\"80\"/> <span class=\"wrap_badge ty_br\"><span class=\"ico_rwdt badge-nplay\">동영상</span></span> </a> </div> <div class=\"wrap_cont\"> <a class=\"tit_main fn_tit_u\" href=\"http://v.media.daum.net/v/20220119182917572?f=o\" onclick='smartLog(this, \"dc=NNS&amp;d=26H1j-qohemsIwDSvz&amp;pg=1&amp;r=9&amp;p=4&amp;rc=10&amp;e1=16hWxJmTql2y9rxiuO&amp;e3=0&amp;ext=dsid=26H1j-qohemsIwDSvz\", event, {\"cpid\": {\"value\": \"16hWxJmTql2y9rxiuO\"}});' target=\"_blank\">[ET] BTS 뷔는 'INFP', <b>아이유</b>는 'INFJ'..요즘 소개팅·이력서는 'MBTI'로?</a> <p class=\"desc\">팬들의 뜨거운 호응을 반영했습니다. [앵커]사람 잘 안 바뀌는 건데 뷔처럼 MBTI가 바뀌기도 하나 봅니다. [답변]같은 사례가 <b>아이유</b> 씨한테서도 나왔는데 함께 들어보시죠. [녹취]\"팬분이 언니 아직도 INFP로 나와요? 그래서 그게 바뀌는 거예요? 그래서 다시 검사...</p> <span class=\"cont_info\"> <span class=\"f_nb\">KBS</span> <span class=\"f_nb\">16시간전</span> <a class=\"f_nb\" href=\"http://v.media.daum.net/v/20220119182917572\" onclick='smartLog(this, \"dc=NNS&amp;d=26H1j-qohemsIwDSvz&amp;pg=1&amp;r=9&amp;p=3&amp;rc=10&amp;e1=16hWxJmTql2y9rxiuO&amp;e3=0&amp;ext=dsid=26H1j-qohemsIwDSvz\", event, {\"cpid\": {\"value\": \"16hWxJmTql2y9rxiuO\"}});' target=\"_blank\">다음뉴스</a> </span> <span id=\"newsSQC_t1_8\" style=\"display:none;\">10301^http://v.media.daum.net/v/20220119182917572?f=o^26H1j-qohemsIwDSvz^news^mediaArticle^%EC%95%84%EC%9D%B4%EC%9C%A0^26H1j-qohemsIwDSvz</span> </div> </li>,\n",
       " <li> <div class=\"wrap_thumb\" id=\"news_img_9\"> <a class=\"thumb\" href=\"http://v.media.daum.net/v/20220119163943799?f=o\" onclick='smartLog(this, \"dc=NNS&amp;d=2662pTXjLjBGM1ZoX3&amp;pg=1&amp;r=10&amp;p=1&amp;rc=10&amp;e1=16qiVyQ2BWuaQtIdU5&amp;e3=0&amp;ext=dsid=2662pTXjLjBGM1ZoX3\", event, {\"cpid\": {\"value\": \"16qiVyQ2BWuaQtIdU5\"}});' target=\"_blank\"> <img alt=\"\" class=\"thumb_img\" data-size=\"80x80\" height=\"80\" onerror=\"SF.errorImage(this)\" src=\"https://search1.daumcdn.net/thumb/P200x200/?fname=https%3A%2F%2Fsearch3.kakaocdn.net%2Fargon%2F200x200_85_c%2FC14mjRhvvuQ0\" width=\"80\"/> </a> </div> <div class=\"wrap_cont\"> <a class=\"tit_main fn_tit_u\" href=\"http://v.media.daum.net/v/20220119163943799?f=o\" onclick='smartLog(this, \"dc=NNS&amp;d=2662pTXjLjBGM1ZoX3&amp;pg=1&amp;r=10&amp;p=4&amp;rc=10&amp;e1=16qiVyQ2BWuaQtIdU5&amp;e3=0&amp;ext=dsid=2662pTXjLjBGM1ZoX3\", event, {\"cpid\": {\"value\": \"16qiVyQ2BWuaQtIdU5\"}});' target=\"_blank\"><b>아이유</b>, '넘치는 자기애' 이해 되는 미모 \"아이보리가 잘 받는 나\"</a> <p class=\"desc\">[스포츠조선닷컴 이우주 기자] 가수 <b>아이유</b>가 귀여운 자기애를 과시했다. <b>아이유</b>는 19일 자신의 SNS를 통해 \"아이보리가 잘 받는 나\"라는 글과 함께 한 장의 사진을 게재했다. 공개된 사진 속에는 꽃들이 가득한 곳에서 포즈를 취하는 <b>아이유</b>의 모습이 담겼다...</p> <span class=\"cont_info\"> <span class=\"f_nb\">스포츠조선</span> <span class=\"f_nb\">17시간전</span> <a class=\"f_nb\" href=\"http://v.media.daum.net/v/20220119163943799\" onclick='smartLog(this, \"dc=NNS&amp;d=2662pTXjLjBGM1ZoX3&amp;pg=1&amp;r=10&amp;p=3&amp;rc=10&amp;e1=16qiVyQ2BWuaQtIdU5&amp;e3=0&amp;ext=dsid=2662pTXjLjBGM1ZoX3\", event, {\"cpid\": {\"value\": \"16qiVyQ2BWuaQtIdU5\"}});' target=\"_blank\">다음뉴스</a> </span> <span id=\"newsSQC_t1_9\" style=\"display:none;\">10301^http://v.media.daum.net/v/20220119163943799?f=o^2662pTXjLjBGM1ZoX3^news^mediaArticle^%EC%95%84%EC%9D%B4%EC%9C%A0^2662pTXjLjBGM1ZoX3</span> </div> </li>]"
      ]
     },
     "execution_count": 33,
     "metadata": {},
     "output_type": "execute_result"
    }
   ],
   "source": [
    "summary = soup.select(path)\n",
    "summary"
   ]
  },
  {
   "cell_type": "code",
   "execution_count": 34,
   "id": "aa206986",
   "metadata": {},
   "outputs": [
    {
     "name": "stdout",
     "output_type": "stream",
     "text": [
      "2021 케이팝 연말결산’ 최고의 아티스트 종합 1위로 방탄소년단(BTS)이 선정됐다. NCT DREAM, NCT 127, 세븐틴, 임영웅, 에스파, 아이유, 트와이스, 있지, 스트레이 키즈가 뒤를 이었다”고 밝혔다. 음원 1위를 기록한 아이유와 음반 1위의 세븐틴, 동영상 조회 수...\n",
      "[일간스포츠 이지수] 가수 아이유가 파격적인 드레스 자태를 공개했다. 아이유는 19일 자신의 인스타그램에 \"아이보리가 잘 받는 나\"라는 글과 함께 사진 한 장을 올려놨다. 해당 사진에서 그는 화사한 꽃들이 가득한 곳을 배경으로, 아이보리 시스루 드레스를 입고...\n",
      "[동아닷컴] 아이유, 사랑스러운 삐약이 [화보] 가수 아이유가 앰배서더로 활동 중인 스포츠 브랜드와의 2022년 새 일상 캠페인을 공개했다. 앞서 첫 번째 캠페인 ‘We Got Now’와 ‘기다리지 않는 것이 미덕’, 두 번째 캠페인 ‘나 자신, 나만의 빛을 찾아 떠나는...\n",
      "가수 겸 배우 아이유가 청순한 매력을 뽐냈다. 아이유는 자신의 인스타그램에 \"아이보리가 잘 받는 나\"라는 글과 함께 사진을 올렸다. 공개된 사진에서 아이유는 꽃을 배경으로 아이보리 컬러의 시스루 원피스를 입고 있고 포즈를 취하고 있다. 화사한 꽃과 달리 톤...\n",
      "아이유 꽃 사진=아이유 인스타그램 가수 아이유가 꽃보다 아름다운 비주얼을 자랑했다. 아이유는 지난 19일 오후 자신의 인스타그램에 “아이보리가 잘 받는 나”라는 글과 사진을 게재했다. 사진 속에는 꽃밭에 앉아 있는 그의 모습이 담겨 있다. 하늘하늘한 원피스...\n",
      "뉴발란스(NEW BALANCE)가 브랜드 엠베서더 아이유와 함께한 2022년 새로운 일상 캠페인을 공개했다.최근 2022년 첫 캠페인으로 ‘자신만의 삶을 나만의 방식으로, 나만의 공간에서 찾아가는’ 아이유의 모습을 담아 공개한 바 있다.이번 캠페인은 아이유가 집안...\n",
      "가수 겸 배우 아이유 /사진제공=뉴발란스 가수 겸 배우 아이유의 2022년 새 화보가 공개됐다. 19일 스포츠 브랜드 뉴발란스(NEW BALANCE)는 브랜드 앰버서더 아이유와 함께한 화보를 선보였다. 이번 캠페인에서 아이유는 집안에서의 편안한 일상을 담아냈다. 화보 속...\n",
      "가수 아이유가 분위기 여신으로 등극했다. iMBC 연예뉴스 사진 19일 아이유는 자신의 인스타그램에 \"아이보리가 잘 받는 나\"라는 글과 함께 사진 한 장을 게재했다. 공개된 사진 속 아이보리 색 드레스 차림의 아이유는 형형색색의 꽃들에 둘러싸여 포즈를 취하고...\n",
      "팬들의 뜨거운 호응을 반영했습니다. [앵커]사람 잘 안 바뀌는 건데 뷔처럼 MBTI가 바뀌기도 하나 봅니다. [답변]같은 사례가 아이유 씨한테서도 나왔는데 함께 들어보시죠. [녹취]\"팬분이 언니 아직도 INFP로 나와요? 그래서 그게 바뀌는 거예요? 그래서 다시 검사...\n",
      "[스포츠조선닷컴 이우주 기자] 가수 아이유가 귀여운 자기애를 과시했다. 아이유는 19일 자신의 SNS를 통해 \"아이보리가 잘 받는 나\"라는 글과 함께 한 장의 사진을 게재했다. 공개된 사진 속에는 꽃들이 가득한 곳에서 포즈를 취하는 아이유의 모습이 담겼다...\n"
     ]
    }
   ],
   "source": [
    "for li in summary :\n",
    "#     print(li.select('a')[1].text)\n",
    "    \n",
    "    print(li.select('p')[0].text)"
   ]
  },
  {
   "cell_type": "code",
   "execution_count": 35,
   "id": "a0293f25",
   "metadata": {},
   "outputs": [],
   "source": [
    "a = 1"
   ]
  },
  {
   "cell_type": "code",
   "execution_count": null,
   "id": "28c9a7f5",
   "metadata": {},
   "outputs": [],
   "source": []
  },
  {
   "cell_type": "code",
   "execution_count": 36,
   "id": "50543419",
   "metadata": {},
   "outputs": [],
   "source": [
    "# 검색어를 입력 받은 후 해당 검색어로 검색한 다음 뉴스 페이지에서 검색한 결과의 제목, url, summary를 크롤링하시오 "
   ]
  },
  {
   "cell_type": "code",
   "execution_count": 43,
   "id": "c2dee0f0",
   "metadata": {},
   "outputs": [
    {
     "name": "stdout",
     "output_type": "stream",
     "text": [
      "검색할 단어를 입력하세요 아이유\n"
     ]
    },
    {
     "data": {
      "text/plain": [
       "'https://search.daum.net/search?nil_suggest=btn&w=news&DA=SBC&q=아이유'"
      ]
     },
     "execution_count": 43,
     "metadata": {},
     "output_type": "execute_result"
    }
   ],
   "source": [
    "url = 'https://search.daum.net/search?nil_suggest=btn&w=news&DA=SBC&q=아이유'\n",
    "search_kw = input(\"검색할 단어를 입력하세요 \")\n",
    "url.format(search_kw)"
   ]
  },
  {
   "cell_type": "code",
   "execution_count": 44,
   "id": "08677962",
   "metadata": {},
   "outputs": [
    {
     "data": {
      "text/plain": [
       "<Response [200]>"
      ]
     },
     "execution_count": 44,
     "metadata": {},
     "output_type": "execute_result"
    }
   ],
   "source": [
    "html = requests.get(url)\n",
    "html"
   ]
  },
  {
   "cell_type": "code",
   "execution_count": null,
   "id": "abd1d27c",
   "metadata": {},
   "outputs": [],
   "source": []
  },
  {
   "cell_type": "code",
   "execution_count": 45,
   "id": "7336d564",
   "metadata": {},
   "outputs": [],
   "source": [
    "path = '#newsColl > div.cont_divider > ul > li'"
   ]
  },
  {
   "cell_type": "code",
   "execution_count": 46,
   "id": "5c217bb7",
   "metadata": {},
   "outputs": [],
   "source": [
    "soup = BeautifulSoup(html.text, 'html.parser')"
   ]
  },
  {
   "cell_type": "code",
   "execution_count": 47,
   "id": "308746df",
   "metadata": {},
   "outputs": [
    {
     "data": {
      "text/plain": [
       "[<li> <div class=\"wrap_thumb\" id=\"news_img_0\"> <a class=\"thumb\" href=\"http://v.media.daum.net/v/20220120101749219?f=o\" onclick='smartLog(this, \"dc=NNS&amp;d=26q7DHQq-Ng_XdP_8z&amp;pg=1&amp;r=1&amp;p=1&amp;rc=10&amp;e1=16JQzgnVEpdmOW7h61&amp;e3=0&amp;ext=dsid=26q7DHQq-Ng_XdP_8z\", event, {\"cpid\": {\"value\": \"16JQzgnVEpdmOW7h61\"}});' target=\"_blank\"> <img alt=\"\" class=\"thumb_img\" data-size=\"80x80\" height=\"80\" onerror=\"SF.errorImage(this)\" src=\"https://search1.daumcdn.net/thumb/P200x200/?fname=https%3A%2F%2Fsearch3.kakaocdn.net%2Fargon%2F200x200_85_c%2FGkUlpv6yjTz0\" width=\"80\"/> </a> </div> <div class=\"wrap_cont\"> <a class=\"tit_main fn_tit_u\" href=\"http://v.media.daum.net/v/20220120101749219?f=o\" onclick='smartLog(this, \"dc=NNS&amp;d=26q7DHQq-Ng_XdP_8z&amp;pg=1&amp;r=1&amp;p=4&amp;rc=10&amp;e1=16JQzgnVEpdmOW7h61&amp;e3=0&amp;ext=dsid=26q7DHQq-Ng_XdP_8z\", event, {\"cpid\": {\"value\": \"16JQzgnVEpdmOW7h61\"}});' target=\"_blank\">BTS-세븐틴-<b>아이유</b>-임영웅, 뮤빗 선정 '2021년 최고의 아티스트' 각 부문 1위</a> <p class=\"desc\">2021 케이팝 연말결산’ 최고의 아티스트 종합 1위로 방탄소년단(BTS)이 선정됐다. NCT DREAM, NCT 127, 세븐틴, 임영웅, 에스파, <b>아이유</b>, 트와이스, 있지, 스트레이 키즈가 뒤를 이었다”고 밝혔다. 음원 1위를 기록한 <b>아이유</b>와 음반 1위의 세븐틴, 동영상 조회 수...</p> <span class=\"cont_info\"> <span class=\"f_nb\">MBN</span> <span class=\"f_nb\">18분전</span> <a class=\"f_nb\" href=\"http://v.media.daum.net/v/20220120101749219\" onclick='smartLog(this, \"dc=NNS&amp;d=26q7DHQq-Ng_XdP_8z&amp;pg=1&amp;r=1&amp;p=3&amp;rc=10&amp;e1=16JQzgnVEpdmOW7h61&amp;e3=0&amp;ext=dsid=26q7DHQq-Ng_XdP_8z\", event, {\"cpid\": {\"value\": \"16JQzgnVEpdmOW7h61\"}});' target=\"_blank\">다음뉴스</a> </span> <div class=\"cont_rel\"> <dl> <dt class=\"screen_out\">관련기사</dt> <dd> <a class=\"tit_rel f_link\" href=\"https://cp.news.search.daum.net/p/115248234\" onclick='smartLog(this, \"dc=NNS&amp;d=26SQUiCyBc9xKlGxnt&amp;pg=1&amp;r=1&amp;p=5&amp;rc=10&amp;e1=16TSAHvpnFEuAVHy0U&amp;e3=0&amp;ext=dsid=26SQUiCyBc9xKlGxnt&amp;rtt=parent&amp;rtid=26q7DHQq-Ng_XdP_8z&amp;rtsc=\", event, {\"cpid\": {\"value\": \"16TSAHvpnFEuAVHy0U\"}});' target=\"_blank\"> BTS-세븐틴-<b>아이유</b>-임영웅, 뮤빗(Mubeat) 선정 ‘2... </a> <span class=\"cont_info\"> <span class=\"f_nb\">스타데일리뉴스 </span> <span class=\"f_nb\">44분전</span> </span> </dd> </dl> </div> <span id=\"newsSQC_t1_0\" style=\"display:none;\">10301^http://v.media.daum.net/v/20220120101749219?f=o^26q7DHQq-Ng_XdP_8z^news^mediaArticle^%EC%95%84%EC%9D%B4%EC%9C%A0^26q7DHQq-Ng_XdP_8z</span> </div> </li>,\n",
       " <li> <div class=\"wrap_thumb\" id=\"news_img_1\"> <a class=\"thumb\" href=\"http://v.media.daum.net/v/20220120081955364?f=o\" onclick='smartLog(this, \"dc=NNS&amp;d=26dmsDdgJzuoEjxh7e&amp;pg=1&amp;r=2&amp;p=1&amp;rc=10&amp;e1=167cQ4Yt2Ca2Ce18FK&amp;e3=0&amp;ext=dsid=26dmsDdgJzuoEjxh7e\", event, {\"cpid\": {\"value\": \"167cQ4Yt2Ca2Ce18FK\"}});' target=\"_blank\"> <img alt=\"\" class=\"thumb_img\" data-size=\"80x80\" height=\"80\" onerror=\"SF.errorImage(this)\" src=\"https://search1.daumcdn.net/thumb/P200x200/?fname=https%3A%2F%2Fsearch4.kakaocdn.net%2Fargon%2F200x200_85_c%2F6bzd6GzLH1C0\" width=\"80\"/> </a> </div> <div class=\"wrap_cont\"> <a class=\"tit_main fn_tit_u\" href=\"http://v.media.daum.net/v/20220120081955364?f=o\" onclick='smartLog(this, \"dc=NNS&amp;d=26dmsDdgJzuoEjxh7e&amp;pg=1&amp;r=2&amp;p=4&amp;rc=10&amp;e1=167cQ4Yt2Ca2Ce18FK&amp;e3=0&amp;ext=dsid=26dmsDdgJzuoEjxh7e\", event, {\"cpid\": {\"value\": \"167cQ4Yt2Ca2Ce18FK\"}});' target=\"_blank\"><b>아이유</b>, 30대 되더니 과감한 패션..시스루+볼륨감 아찔해~</a> <p class=\"desc\">[일간스포츠 이지수] 가수 <b>아이유</b>가 파격적인 드레스 자태를 공개했다. <b>아이유</b>는 19일 자신의 인스타그램에 \"아이보리가 잘 받는 나\"라는 글과 함께 사진 한 장을 올려놨다. 해당 사진에서 그는 화사한 꽃들이 가득한 곳을 배경으로, 아이보리 시스루 드레스를 입고...</p> <span class=\"cont_info\"> <span class=\"f_nb\">일간스포츠</span> <span class=\"f_nb\">2시간전</span> <a class=\"f_nb\" href=\"http://v.media.daum.net/v/20220120081955364\" onclick='smartLog(this, \"dc=NNS&amp;d=26dmsDdgJzuoEjxh7e&amp;pg=1&amp;r=2&amp;p=3&amp;rc=10&amp;e1=167cQ4Yt2Ca2Ce18FK&amp;e3=0&amp;ext=dsid=26dmsDdgJzuoEjxh7e\", event, {\"cpid\": {\"value\": \"167cQ4Yt2Ca2Ce18FK\"}});' target=\"_blank\">다음뉴스</a> </span> <span id=\"newsSQC_t1_1\" style=\"display:none;\">10301^http://v.media.daum.net/v/20220120081955364?f=o^26dmsDdgJzuoEjxh7e^news^mediaArticle^%EC%95%84%EC%9D%B4%EC%9C%A0^26dmsDdgJzuoEjxh7e</span> </div> </li>,\n",
       " <li> <div class=\"wrap_thumb\" id=\"news_img_2\"> <a class=\"thumb\" href=\"http://v.media.daum.net/v/20220120030006165?f=o\" onclick='smartLog(this, \"dc=NNS&amp;d=26CemgEekkwNLbQiZo&amp;pg=1&amp;r=3&amp;p=1&amp;rc=10&amp;e1=16PxLkJt1h6kPgSYDm&amp;e3=0&amp;ext=dsid=26CemgEekkwNLbQiZo\", event, {\"cpid\": {\"value\": \"16PxLkJt1h6kPgSYDm\"}});' target=\"_blank\"> <img alt=\"\" class=\"thumb_img\" data-size=\"80x80\" height=\"80\" onerror=\"SF.errorImage(this)\" src=\"https://search1.daumcdn.net/thumb/P200x200/?fname=https%3A%2F%2Fsearch2.kakaocdn.net%2Fargon%2F200x200_85_c%2F7q8TFKpgeFZ0\" width=\"80\"/> </a> </div> <div class=\"wrap_cont\"> <a class=\"tit_main fn_tit_u\" href=\"http://v.media.daum.net/v/20220120030006165?f=o\" onclick='smartLog(this, \"dc=NNS&amp;d=26CemgEekkwNLbQiZo&amp;pg=1&amp;r=3&amp;p=4&amp;rc=10&amp;e1=16PxLkJt1h6kPgSYDm&amp;e3=0&amp;ext=dsid=26CemgEekkwNLbQiZo\", event, {\"cpid\": {\"value\": \"16PxLkJt1h6kPgSYDm\"}});' target=\"_blank\"><b>아이유</b>, 사랑스러운 삐약이 [화보]</a> <p class=\"desc\">[동아닷컴] <b>아이유</b>, 사랑스러운 삐약이 [화보] 가수 <b>아이유</b>가 앰배서더로 활동 중인 스포츠 브랜드와의 2022년 새 일상 캠페인을 공개했다. 앞서 첫 번째 캠페인 ‘We Got Now’와 ‘기다리지 않는 것이 미덕’, 두 번째 캠페인 ‘나 자신, 나만의 빛을 찾아 떠나는...</p> <span class=\"cont_info\"> <span class=\"f_nb\">스포츠동아</span> <span class=\"f_nb\">7시간전</span> <a class=\"f_nb\" href=\"http://v.media.daum.net/v/20220120030006165\" onclick='smartLog(this, \"dc=NNS&amp;d=26CemgEekkwNLbQiZo&amp;pg=1&amp;r=3&amp;p=3&amp;rc=10&amp;e1=16PxLkJt1h6kPgSYDm&amp;e3=0&amp;ext=dsid=26CemgEekkwNLbQiZo\", event, {\"cpid\": {\"value\": \"16PxLkJt1h6kPgSYDm\"}});' target=\"_blank\">다음뉴스</a> </span> <div class=\"cont_rel\"> <dl> <dt class=\"screen_out\">관련기사</dt> <dd> <a class=\"tit_rel f_link\" href=\"http://v.media.daum.net/v/20220120071604971?f=o\" onclick='smartLog(this, \"dc=NNS&amp;d=26sg0WpC-32qoz4Zcj&amp;pg=1&amp;r=3&amp;p=5&amp;rc=10&amp;e1=16fEGriEE1VVeRH5aC&amp;e3=0&amp;ext=dsid=26sg0WpC-32qoz4Zcj&amp;rtt=parent&amp;rtid=26CemgEekkwNLbQiZo&amp;rtsc=\", event, {\"cpid\": {\"value\": \"16fEGriEE1VVeRH5aC\"}});' target=\"_blank\"> <b>아이유</b>, 편안한 일상 패션도 사랑스러워[스타화보] </a> <span class=\"cont_info\"> <span class=\"f_nb\">뉴스엔</span> <span class=\"f_nb\">3시간전</span> <a class=\"f_nb\" href=\"http://v.media.daum.net/v/20220120071604971\" onclick='smartLog(this, \"dc=NNS&amp;d=26sg0WpC-32qoz4Zcj&amp;pg=1&amp;r=3&amp;p=12&amp;rc=10&amp;e1=16fEGriEE1VVeRH5aC&amp;e3=0&amp;ext=dsid=26sg0WpC-32qoz4Zcj&amp;rtt=parent&amp;rtid=26CemgEekkwNLbQiZo&amp;rtsc=\", event, {\"cpid\": {\"value\": \"16fEGriEE1VVeRH5aC\"}});' target=\"_blank\">다음뉴스</a> </span> </dd> </dl> </div> <span id=\"newsSQC_t1_2\" style=\"display:none;\">10301^http://v.media.daum.net/v/20220120030006165?f=o^26CemgEekkwNLbQiZo^news^mediaArticle^%EC%95%84%EC%9D%B4%EC%9C%A0^26CemgEekkwNLbQiZo</span> </div> </li>,\n",
       " <li> <div class=\"wrap_thumb\" id=\"news_img_3\"> <a class=\"thumb\" href=\"https://cp.news.search.daum.net/p/115247706\" onclick='smartLog(this, \"dc=NNS&amp;d=26eVzB2YPxE1waDaSO&amp;pg=1&amp;r=4&amp;p=1&amp;rc=10&amp;e1=16FESmjfALVT6juqQT&amp;e3=0&amp;ext=dsid=26eVzB2YPxE1waDaSO\", event, {\"cpid\": {\"value\": \"16FESmjfALVT6juqQT\"}});' target=\"_blank\"> <img alt=\"\" class=\"thumb_img\" data-size=\"80x80\" height=\"80\" onerror=\"SF.errorImage(this)\" src=\"https://search1.daumcdn.net/thumb/P200x200/?fname=https%3A%2F%2Fsearch2.kakaocdn.net%2Fargon%2F200x200_85_c%2F6oxjhrMFfQy0\" width=\"80\"/> </a> </div> <div class=\"wrap_cont\"> <a class=\"tit_main fn_tit_u\" href=\"https://cp.news.search.daum.net/p/115247706\" onclick='smartLog(this, \"dc=NNS&amp;d=26eVzB2YPxE1waDaSO&amp;pg=1&amp;r=4&amp;p=4&amp;rc=10&amp;e1=16FESmjfALVT6juqQT&amp;e3=0&amp;ext=dsid=26eVzB2YPxE1waDaSO\", event, {\"cpid\": {\"value\": \"16FESmjfALVT6juqQT\"}});' target=\"_blank\"><b>아이유</b>, 아이보리 컬러로 화려함을 이겼다 (Feat. 시스루 원피스)</a> <p class=\"desc\">가수 겸 배우 <b>아이유</b>가 청순한 매력을 뽐냈다. <b>아이유</b>는 자신의 인스타그램에 \"아이보리가 잘 받는 나\"라는 글과 함께 사진을 올렸다. 공개된 사진에서 <b>아이유</b>는 꽃을 배경으로 아이보리 컬러의 시스루 원피스를 입고 있고 포즈를 취하고 있다. 화사한 꽃과 달리 톤...</p> <span class=\"cont_info\"> <span class=\"f_nb\">스타패션</span> <span class=\"f_nb\">51분전</span> </span> <span id=\"newsSQC_t1_3\" style=\"display:none;\">10301^https://cp.news.search.daum.net/p/115247706^26eVzB2YPxE1waDaSO^news^mediaArticle^%EC%95%84%EC%9D%B4%EC%9C%A0^26eVzB2YPxE1waDaSO</span> </div> </li>,\n",
       " <li> <div class=\"wrap_thumb\" id=\"news_img_4\"> <a class=\"thumb\" href=\"http://v.media.daum.net/v/20220120063219264?f=o\" onclick='smartLog(this, \"dc=NNS&amp;d=26UaQEWc_Xkh92wjrq&amp;pg=1&amp;r=5&amp;p=1&amp;rc=10&amp;e1=16JQzgnVEpdmOW7h61&amp;e3=0&amp;ext=dsid=26UaQEWc_Xkh92wjrq\", event, {\"cpid\": {\"value\": \"16JQzgnVEpdmOW7h61\"}});' target=\"_blank\"> <img alt=\"\" class=\"thumb_img\" data-size=\"80x80\" height=\"80\" onerror=\"SF.errorImage(this)\" src=\"https://search1.daumcdn.net/thumb/P200x200/?fname=https%3A%2F%2Fsearch4.kakaocdn.net%2Fargon%2F200x200_85_c%2FHrl5wfhOioo0\" width=\"80\"/> </a> </div> <div class=\"wrap_cont\"> <a class=\"tit_main fn_tit_u\" href=\"http://v.media.daum.net/v/20220120063219264?f=o\" onclick='smartLog(this, \"dc=NNS&amp;d=26UaQEWc_Xkh92wjrq&amp;pg=1&amp;r=5&amp;p=4&amp;rc=10&amp;e1=16JQzgnVEpdmOW7h61&amp;e3=0&amp;ext=dsid=26UaQEWc_Xkh92wjrq\", event, {\"cpid\": {\"value\": \"16JQzgnVEpdmOW7h61\"}});' target=\"_blank\"><b>아이유</b>, 꽃도 기죽이는 미모..청순 아우라 '폴폴'[M+★SNS]</a> <p class=\"desc\"><b>아이유</b> 꽃 사진=<b>아이유</b> 인스타그램 가수 <b>아이유</b>가 꽃보다 아름다운 비주얼을 자랑했다. <b>아이유</b>는 지난 19일 오후 자신의 인스타그램에 “아이보리가 잘 받는 나”라는 글과 사진을 게재했다. 사진 속에는 꽃밭에 앉아 있는 그의 모습이 담겨 있다. 하늘하늘한 원피스...</p> <span class=\"cont_info\"> <span class=\"f_nb\">MBN</span> <span class=\"f_nb\">4시간전</span> <a class=\"f_nb\" href=\"http://v.media.daum.net/v/20220120063219264\" onclick='smartLog(this, \"dc=NNS&amp;d=26UaQEWc_Xkh92wjrq&amp;pg=1&amp;r=5&amp;p=3&amp;rc=10&amp;e1=16JQzgnVEpdmOW7h61&amp;e3=0&amp;ext=dsid=26UaQEWc_Xkh92wjrq\", event, {\"cpid\": {\"value\": \"16JQzgnVEpdmOW7h61\"}});' target=\"_blank\">다음뉴스</a> </span> <span id=\"newsSQC_t1_4\" style=\"display:none;\">10301^http://v.media.daum.net/v/20220120063219264?f=o^26UaQEWc_Xkh92wjrq^news^mediaArticle^%EC%95%84%EC%9D%B4%EC%9C%A0^26UaQEWc_Xkh92wjrq</span> </div> </li>,\n",
       " <li> <div class=\"wrap_thumb\" id=\"news_img_5\"> <a class=\"thumb\" href=\"https://cp.news.search.daum.net/p/115246601\" onclick='smartLog(this, \"dc=NNS&amp;d=26I81xwiPW0SviS2En&amp;pg=1&amp;r=6&amp;p=1&amp;rc=10&amp;e1=16ZmPIrztXCYs3TCjV&amp;e3=0&amp;ext=dsid=26I81xwiPW0SviS2En\", event, {\"cpid\": {\"value\": \"16ZmPIrztXCYs3TCjV\"}});' target=\"_blank\"> <img alt=\"\" class=\"thumb_img\" data-size=\"80x80\" height=\"80\" onerror=\"SF.errorImage(this)\" src=\"https://search1.daumcdn.net/thumb/P200x200/?fname=https%3A%2F%2Fsearch4.kakaocdn.net%2Fargon%2F200x200_85_c%2F9JtlKWnCpMT0\" width=\"80\"/> </a> </div> <div class=\"wrap_cont\"> <a class=\"tit_main fn_tit_u\" href=\"https://cp.news.search.daum.net/p/115246601\" onclick='smartLog(this, \"dc=NNS&amp;d=26I81xwiPW0SviS2En&amp;pg=1&amp;r=6&amp;p=4&amp;rc=10&amp;e1=16ZmPIrztXCYs3TCjV&amp;e3=0&amp;ext=dsid=26I81xwiPW0SviS2En\", event, {\"cpid\": {\"value\": \"16ZmPIrztXCYs3TCjV\"}});' target=\"_blank\">[POP포토] <b>아이유</b>의 데일리룩은? 편안한 일상 담은 화보 공개</a> <p class=\"desc\">뉴발란스(NEW BALANCE)가 브랜드 엠베서더 <b>아이유</b>와 함께한 2022년 새로운 일상 캠페인을 공개했다.최근 2022년 첫 캠페인으로 ‘자신만의 삶을 나만의 방식으로, 나만의 공간에서 찾아가는’ <b>아이유</b>의 모습을 담아 공개한 바 있다.이번 캠페인은 <b>아이유</b>가 집안...</p> <span class=\"cont_info\"> <span class=\"f_nb\">데일리팝</span> <span class=\"f_nb\">1시간전</span> </span> <span id=\"newsSQC_t1_5\" style=\"display:none;\">10301^https://cp.news.search.daum.net/p/115246601^26I81xwiPW0SviS2En^news^mediaArticle^%EC%95%84%EC%9D%B4%EC%9C%A0^26I81xwiPW0SviS2En</span> </div> </li>,\n",
       " <li> <div class=\"wrap_thumb\" id=\"news_img_6\"> <a class=\"thumb\" href=\"http://v.media.daum.net/v/20220119230501888?f=o\" onclick='smartLog(this, \"dc=NNS&amp;d=268jWpKI9pvqKthBne&amp;pg=1&amp;r=7&amp;p=1&amp;rc=10&amp;e1=16gmjhh-4e7TNHMCYw&amp;e3=0&amp;ext=dsid=268jWpKI9pvqKthBne\", event, {\"cpid\": {\"value\": \"16gmjhh-4e7TNHMCYw\"}});' target=\"_blank\"> <img alt=\"\" class=\"thumb_img\" data-size=\"80x80\" height=\"80\" onerror=\"SF.errorImage(this)\" src=\"https://search1.daumcdn.net/thumb/P200x200/?fname=https%3A%2F%2Fsearch3.kakaocdn.net%2Fargon%2F200x200_85_c%2FGxx2QUe1r5I0\" width=\"80\"/> </a> </div> <div class=\"wrap_cont\"> <a class=\"tit_main fn_tit_u\" href=\"http://v.media.daum.net/v/20220119230501888?f=o\" onclick='smartLog(this, \"dc=NNS&amp;d=268jWpKI9pvqKthBne&amp;pg=1&amp;r=7&amp;p=4&amp;rc=10&amp;e1=16gmjhh-4e7TNHMCYw&amp;e3=0&amp;ext=dsid=268jWpKI9pvqKthBne\", event, {\"cpid\": {\"value\": \"16gmjhh-4e7TNHMCYw\"}});' target=\"_blank\"><b>아이유</b>, 미니스커트 입고 뽐낸 각선미..오버핏 룩 '늘씬'</a> <p class=\"desc\">가수 겸 배우 <b>아이유</b> /사진제공=뉴발란스 가수 겸 배우 <b>아이유</b>의 2022년 새 화보가 공개됐다. 19일 스포츠 브랜드 뉴발란스(NEW BALANCE)는 브랜드 앰버서더 <b>아이유</b>와 함께한 화보를 선보였다. 이번 캠페인에서 <b>아이유</b>는 집안에서의 편안한 일상을 담아냈다. 화보 속...</p> <span class=\"cont_info\"> <span class=\"f_nb\">머니투데이</span> <span class=\"f_nb\">11시간전</span> <a class=\"f_nb\" href=\"http://v.media.daum.net/v/20220119230501888\" onclick='smartLog(this, \"dc=NNS&amp;d=268jWpKI9pvqKthBne&amp;pg=1&amp;r=7&amp;p=3&amp;rc=10&amp;e1=16gmjhh-4e7TNHMCYw&amp;e3=0&amp;ext=dsid=268jWpKI9pvqKthBne\", event, {\"cpid\": {\"value\": \"16gmjhh-4e7TNHMCYw\"}});' target=\"_blank\">다음뉴스</a> </span> <span id=\"newsSQC_t1_6\" style=\"display:none;\">10301^http://v.media.daum.net/v/20220119230501888?f=o^268jWpKI9pvqKthBne^news^mediaArticle^%EC%95%84%EC%9D%B4%EC%9C%A0^268jWpKI9pvqKthBne</span> </div> </li>,\n",
       " <li> <div class=\"wrap_thumb\" id=\"news_img_7\"> <a class=\"thumb\" href=\"http://v.media.daum.net/v/20220119173205762?f=o\" onclick='smartLog(this, \"dc=NNS&amp;d=26Zc3bnZzcIxyDYmA8&amp;pg=1&amp;r=8&amp;p=1&amp;rc=10&amp;e1=16O9wCZdr911fR5W97&amp;e3=0&amp;ext=dsid=26Zc3bnZzcIxyDYmA8\", event, {\"cpid\": {\"value\": \"16O9wCZdr911fR5W97\"}});' target=\"_blank\"> <img alt=\"\" class=\"thumb_img\" data-size=\"80x80\" height=\"80\" onerror=\"SF.errorImage(this)\" src=\"https://search1.daumcdn.net/thumb/P200x200/?fname=https%3A%2F%2Fsearch4.kakaocdn.net%2Fargon%2F200x200_85_c%2FJZPn8zUOShe0\" width=\"80\"/> </a> </div> <div class=\"wrap_cont\"> <a class=\"tit_main fn_tit_u\" href=\"http://v.media.daum.net/v/20220119173205762?f=o\" onclick='smartLog(this, \"dc=NNS&amp;d=26Zc3bnZzcIxyDYmA8&amp;pg=1&amp;r=8&amp;p=4&amp;rc=10&amp;e1=16O9wCZdr911fR5W97&amp;e3=0&amp;ext=dsid=26Zc3bnZzcIxyDYmA8\", event, {\"cpid\": {\"value\": \"16O9wCZdr911fR5W97\"}});' target=\"_blank\"><b>아이유</b>, 누가 꽃이지?..\"아이보리가 잘 받는 나\" [인스타]</a> <p class=\"desc\">가수 <b>아이유</b>가 분위기 여신으로 등극했다. iMBC 연예뉴스 사진 19일 <b>아이유</b>는 자신의 인스타그램에 \"아이보리가 잘 받는 나\"라는 글과 함께 사진 한 장을 게재했다. 공개된 사진 속 아이보리 색 드레스 차림의 <b>아이유</b>는 형형색색의 꽃들에 둘러싸여 포즈를 취하고...</p> <span class=\"cont_info\"> <span class=\"f_nb\">MBC연예</span> <span class=\"f_nb\">17시간전</span> <a class=\"f_nb\" href=\"http://v.media.daum.net/v/20220119173205762\" onclick='smartLog(this, \"dc=NNS&amp;d=26Zc3bnZzcIxyDYmA8&amp;pg=1&amp;r=8&amp;p=3&amp;rc=10&amp;e1=16O9wCZdr911fR5W97&amp;e3=0&amp;ext=dsid=26Zc3bnZzcIxyDYmA8\", event, {\"cpid\": {\"value\": \"16O9wCZdr911fR5W97\"}});' target=\"_blank\">다음뉴스</a> </span> <span id=\"newsSQC_t1_7\" style=\"display:none;\">10301^http://v.media.daum.net/v/20220119173205762?f=o^26Zc3bnZzcIxyDYmA8^news^mediaArticle^%EC%95%84%EC%9D%B4%EC%9C%A0^26Zc3bnZzcIxyDYmA8</span> </div> </li>,\n",
       " <li> <div class=\"wrap_thumb\" id=\"news_img_8\"> <a class=\"thumb\" href=\"http://v.media.daum.net/v/20220119182917572?f=o\" onclick='smartLog(this, \"dc=NNS&amp;d=26H1j-qohemsIwDSvz&amp;pg=1&amp;r=9&amp;p=1&amp;rc=10&amp;e1=16hWxJmTql2y9rxiuO&amp;e3=0&amp;ext=dsid=26H1j-qohemsIwDSvz\", event, {\"cpid\": {\"value\": \"16hWxJmTql2y9rxiuO\"}});' target=\"_blank\"> <img alt=\"\" class=\"thumb_img\" data-size=\"80x80\" height=\"80\" onerror=\"SF.errorImage(this)\" src=\"https://search1.daumcdn.net/thumb/P200x200/?fname=https%3A%2F%2Fsearch1.kakaocdn.net%2Fargon%2F200x200_85_c%2FAFCtDCS7pKv0\" width=\"80\"/> <span class=\"wrap_badge ty_br\"><span class=\"ico_rwdt badge-nplay\">동영상</span></span> </a> </div> <div class=\"wrap_cont\"> <a class=\"tit_main fn_tit_u\" href=\"http://v.media.daum.net/v/20220119182917572?f=o\" onclick='smartLog(this, \"dc=NNS&amp;d=26H1j-qohemsIwDSvz&amp;pg=1&amp;r=9&amp;p=4&amp;rc=10&amp;e1=16hWxJmTql2y9rxiuO&amp;e3=0&amp;ext=dsid=26H1j-qohemsIwDSvz\", event, {\"cpid\": {\"value\": \"16hWxJmTql2y9rxiuO\"}});' target=\"_blank\">[ET] BTS 뷔는 'INFP', <b>아이유</b>는 'INFJ'..요즘 소개팅·이력서는 'MBTI'로?</a> <p class=\"desc\">팬들의 뜨거운 호응을 반영했습니다. [앵커]사람 잘 안 바뀌는 건데 뷔처럼 MBTI가 바뀌기도 하나 봅니다. [답변]같은 사례가 <b>아이유</b> 씨한테서도 나왔는데 함께 들어보시죠. [녹취]\"팬분이 언니 아직도 INFP로 나와요? 그래서 그게 바뀌는 거예요? 그래서 다시 검사...</p> <span class=\"cont_info\"> <span class=\"f_nb\">KBS</span> <span class=\"f_nb\">16시간전</span> <a class=\"f_nb\" href=\"http://v.media.daum.net/v/20220119182917572\" onclick='smartLog(this, \"dc=NNS&amp;d=26H1j-qohemsIwDSvz&amp;pg=1&amp;r=9&amp;p=3&amp;rc=10&amp;e1=16hWxJmTql2y9rxiuO&amp;e3=0&amp;ext=dsid=26H1j-qohemsIwDSvz\", event, {\"cpid\": {\"value\": \"16hWxJmTql2y9rxiuO\"}});' target=\"_blank\">다음뉴스</a> </span> <span id=\"newsSQC_t1_8\" style=\"display:none;\">10301^http://v.media.daum.net/v/20220119182917572?f=o^26H1j-qohemsIwDSvz^news^mediaArticle^%EC%95%84%EC%9D%B4%EC%9C%A0^26H1j-qohemsIwDSvz</span> </div> </li>,\n",
       " <li> <div class=\"wrap_thumb\" id=\"news_img_9\"> <a class=\"thumb\" href=\"http://v.media.daum.net/v/20220119163943799?f=o\" onclick='smartLog(this, \"dc=NNS&amp;d=2662pTXjLjBGM1ZoX3&amp;pg=1&amp;r=10&amp;p=1&amp;rc=10&amp;e1=16qiVyQ2BWuaQtIdU5&amp;e3=0&amp;ext=dsid=2662pTXjLjBGM1ZoX3\", event, {\"cpid\": {\"value\": \"16qiVyQ2BWuaQtIdU5\"}});' target=\"_blank\"> <img alt=\"\" class=\"thumb_img\" data-size=\"80x80\" height=\"80\" onerror=\"SF.errorImage(this)\" src=\"https://search1.daumcdn.net/thumb/P200x200/?fname=https%3A%2F%2Fsearch3.kakaocdn.net%2Fargon%2F200x200_85_c%2FC14mjRhvvuQ0\" width=\"80\"/> </a> </div> <div class=\"wrap_cont\"> <a class=\"tit_main fn_tit_u\" href=\"http://v.media.daum.net/v/20220119163943799?f=o\" onclick='smartLog(this, \"dc=NNS&amp;d=2662pTXjLjBGM1ZoX3&amp;pg=1&amp;r=10&amp;p=4&amp;rc=10&amp;e1=16qiVyQ2BWuaQtIdU5&amp;e3=0&amp;ext=dsid=2662pTXjLjBGM1ZoX3\", event, {\"cpid\": {\"value\": \"16qiVyQ2BWuaQtIdU5\"}});' target=\"_blank\"><b>아이유</b>, '넘치는 자기애' 이해 되는 미모 \"아이보리가 잘 받는 나\"</a> <p class=\"desc\">[스포츠조선닷컴 이우주 기자] 가수 <b>아이유</b>가 귀여운 자기애를 과시했다. <b>아이유</b>는 19일 자신의 SNS를 통해 \"아이보리가 잘 받는 나\"라는 글과 함께 한 장의 사진을 게재했다. 공개된 사진 속에는 꽃들이 가득한 곳에서 포즈를 취하는 <b>아이유</b>의 모습이 담겼다...</p> <span class=\"cont_info\"> <span class=\"f_nb\">스포츠조선</span> <span class=\"f_nb\">17시간전</span> <a class=\"f_nb\" href=\"http://v.media.daum.net/v/20220119163943799\" onclick='smartLog(this, \"dc=NNS&amp;d=2662pTXjLjBGM1ZoX3&amp;pg=1&amp;r=10&amp;p=3&amp;rc=10&amp;e1=16qiVyQ2BWuaQtIdU5&amp;e3=0&amp;ext=dsid=2662pTXjLjBGM1ZoX3\", event, {\"cpid\": {\"value\": \"16qiVyQ2BWuaQtIdU5\"}});' target=\"_blank\">다음뉴스</a> </span> <span id=\"newsSQC_t1_9\" style=\"display:none;\">10301^http://v.media.daum.net/v/20220119163943799?f=o^2662pTXjLjBGM1ZoX3^news^mediaArticle^%EC%95%84%EC%9D%B4%EC%9C%A0^2662pTXjLjBGM1ZoX3</span> </div> </li>]"
      ]
     },
     "execution_count": 47,
     "metadata": {},
     "output_type": "execute_result"
    }
   ],
   "source": [
    "soup.select(path)"
   ]
  },
  {
   "cell_type": "code",
   "execution_count": 48,
   "id": "e5440049",
   "metadata": {},
   "outputs": [
    {
     "data": {
      "text/plain": [
       "\"BTS-세븐틴-아이유-임영웅, 뮤빗 선정 '2021년 최고의 아티스트' 각 부문 1위\""
      ]
     },
     "execution_count": 48,
     "metadata": {},
     "output_type": "execute_result"
    }
   ],
   "source": [
    "soup.select(path)[0].select(\"a.tit_main\")[0].text"
   ]
  },
  {
   "cell_type": "code",
   "execution_count": 49,
   "id": "82e88577",
   "metadata": {},
   "outputs": [
    {
     "data": {
      "text/plain": [
       "'http://v.media.daum.net/v/20220120101749219?f=o'"
      ]
     },
     "execution_count": 49,
     "metadata": {},
     "output_type": "execute_result"
    }
   ],
   "source": [
    "soup.select(path)[0].select(\"a.tit_main\")[0]['href']"
   ]
  },
  {
   "cell_type": "code",
   "execution_count": 50,
   "id": "fbe7bf1b",
   "metadata": {},
   "outputs": [
    {
     "data": {
      "text/plain": [
       "'2021 케이팝 연말결산’ 최고의 아티스트 종합 1위로 방탄소년단(BTS)이 선정됐다. NCT DREAM, NCT 127, 세븐틴, 임영웅, 에스파, 아이유, 트와이스, 있지, 스트레이 키즈가 뒤를 이었다”고 밝혔다. 음원 1위를 기록한 아이유와 음반 1위의 세븐틴, 동영상 조회 수...'"
      ]
     },
     "execution_count": 50,
     "metadata": {},
     "output_type": "execute_result"
    }
   ],
   "source": [
    "soup.select(path)[0].select('p.desc')[0].text"
   ]
  },
  {
   "cell_type": "code",
   "execution_count": 86,
   "id": "b11e4fe8",
   "metadata": {},
   "outputs": [],
   "source": [
    "url = 'https://search.daum.net/search?nil_suggest=btn&w=news&DA=SBC&q=아이유'\n",
    "res = requests.get(url)\n",
    "html = res.text\n",
    "soup = BeautifulSoup(html, 'html.parser')\n",
    "path = \"#newsColl > div.cont_divider > ul > li\""
   ]
  },
  {
   "cell_type": "code",
   "execution_count": 87,
   "id": "f267e14d",
   "metadata": {},
   "outputs": [
    {
     "data": {
      "text/plain": [
       "<a class=\"tit_main fn_tit_u\" href=\"http://v.media.daum.net/v/20220120101749219?f=o\" onclick='smartLog(this, \"dc=NNS&amp;d=26q7DHQq-Ng_XdP_8z&amp;pg=1&amp;r=1&amp;p=4&amp;rc=10&amp;e1=16JQzgnVEpdmOW7h61&amp;e3=0&amp;ext=dsid=26q7DHQq-Ng_XdP_8z\", event, {\"cpid\": {\"value\": \"16JQzgnVEpdmOW7h61\"}});' target=\"_blank\">BTS-세븐틴-<b>아이유</b>-임영웅, 뮤빗 선정 '2021년 최고의 아티스트' 각 부문 1위</a>"
      ]
     },
     "execution_count": 87,
     "metadata": {},
     "output_type": "execute_result"
    }
   ],
   "source": [
    "soup.select(path)[0].select('a')[1]"
   ]
  },
  {
   "cell_type": "code",
   "execution_count": 88,
   "id": "f7da1a29",
   "metadata": {},
   "outputs": [],
   "source": [
    "# 검색 키워드를 입력받은 후 제목과 url, 본문을 크롤링하는 함수를 만드시오 \n",
    "\n",
    "def crawling_daum_news():\n",
    "    url = 'https://search.daum.net/search?nil_suggest=btn&w=news&DA=SBC&q={}&p={}'\n",
    "    search_kw = input(\"검색할 단어를 입력하세요 \")\n",
    "    page_num = int(input(\"검색할 페이지를 입력하세요 \"))\n",
    "    url = url.format(search_kw,page_num)\n",
    "    \n",
    "    html = requests.get(url)\n",
    "    \n",
    "    soup = BeautifulSoup(html.text, 'html.parser')\n",
    "    path = '#newsColl > div.cont_divider > ul > li'\n",
    "    tags = soup.select(path)\n",
    "\n",
    "    for t in tags:\n",
    "        print(\"제목 :\",t.select('a')[1].text)\n",
    "        print(\" URL : \",t.select('a')[0]['href'])\n",
    "        print(\"요약 :\",t.select('p')[0].text)\n",
    "        print(\"언론사 : \",t.select('span.f_nb')[0].text)\n",
    "        print(\"작성 시간 : \",t.select('span.f_nb')[1].text)\n",
    "        print(\"-\" * 100)\n",
    "        print()\n",
    "#     <span class=\"cont_info\"> <span class=\"f_nb\">스타투데이</span>"
   ]
  },
  {
   "cell_type": "code",
   "execution_count": 89,
   "id": "7caebce5",
   "metadata": {},
   "outputs": [
    {
     "name": "stdout",
     "output_type": "stream",
     "text": [
      "검색할 단어를 입력하세요 BTS\n",
      "검색할 페이지를 입력하세요 2\n",
      "제목 : '주접이 풍년' 박미선 \"BTS, 나왔으면..아미를 기다리고 있습니다\"\n",
      " URL :  http://v.media.daum.net/v/20220119144955582?f=o\n",
      "요약 : 예능프로그램 '팬심자랑대회 주접이 풍년'(이하 '주접이 풍년') 제작발표회에 참석해 모시고 싶은 스타에 대해 \"BTS. 당연히 나와야죠\"라고 말했다. 박미선은 BTS를 향해 러브콜을 한 후, \"아미 여러분 기다리고 있습니다\"고 말해 시선을 끌었다. 또한 그는NCT, 고수...\n",
      "언론사 :  스타뉴스\n",
      "작성 시간 :  19시간전\n",
      "----------------------------------------------------------------------------------------------------\n",
      "\n",
      "제목 : BTS 지민 찾은 제주, 관광도 '웃고' 팬들도 '뿌듯'\n",
      " URL :  http://v.media.daum.net/v/20220113103043095?f=o\n",
      "요약 : 상인회 \"죽었던 거리에 활기가..감사하고 또 찾아달라\"아미들 \"제주 관심 많아졌다. 오빠 따라 여행하고 싶어\"\n",
      "언론사 :  연합뉴스\n",
      "작성 시간 :  2022.01.13\n",
      "----------------------------------------------------------------------------------------------------\n",
      "\n",
      "제목 : BTS-inspired web novel, webtoon surpass 15 million views\n",
      " URL :  http://v.media.daum.net/v/20220118163256983?f=o\n",
      "요약 : A BTS-inspired web novel and webtoon surpassed 15 million views within two days of their release, according to the boy band's agency HYBE on Tuesday. \"'7Fates: Chakho\" set a record number of views for a newly released Naver webtoon,\" said an..\n",
      "언론사 :  코리아중앙데일리\n",
      "작성 시간 :  2022.01.18\n",
      "----------------------------------------------------------------------------------------------------\n",
      "\n",
      "제목 : Fate of BTS-inspired webtoon, webnovel appears unknown after mixed reviews\n",
      " URL :  http://v.media.daum.net/v/20220117110037392?f=o\n",
      "요약 : \"7Fates: Chakho,\" the webtoon and web novel based on boy band BTS, was released on Saturday but is receiving mixed reviews. Naver Webtoon released the webtoon and web novel versions of \"7Fates: Chakho\" on Jan. 15 in collaboration with the boy ..\n",
      "언론사 :  코리아중앙데일리\n",
      "작성 시간 :  2022.01.17\n",
      "----------------------------------------------------------------------------------------------------\n",
      "\n",
      "제목 : \"지나친 상업화\" 우려 속에.. 'BTS 웹툰' 드디어 나온다\n",
      " URL :  http://v.media.daum.net/v/20220114060039347?f=o\n",
      "요약 : 방탄소년단(BTS) 소속사 하이브(352820)가 기획한 웹툰과 웹소설 형태의 ‘오리지널 스토리’가 베일을 벗는다. 일부 BTS 팬은 아티스트를 지나치게 상업화한다며 반발해왔는데, 팬덤의 우려가 줄어들지 관심이다. 14일 엔터테인먼트업계에 따르면 이날 BTS 멤버들이...\n",
      "언론사 :  조선비즈\n",
      "작성 시간 :  2022.01.14\n",
      "----------------------------------------------------------------------------------------------------\n",
      "\n",
      "제목 : \"BTS 출연한 '세븐 페이츠: 착호', 우리도 글로벌 반응 궁금\"\n",
      " URL :  http://v.media.daum.net/v/20220116170030505?f=o\n",
      "요약 : DC코믹스와 함께 손잡고 '배트맨: 웨인 패밀리 어드벤처'를 선보이고 있다. DC코믹스는 슈퍼맨, 배트맨, 원더우먼 등 유명 캐릭터를 보유한 미국의 출판사다. BTS의 '세븐 페이츠: 착호(7FATES: CHAKHO)', 엔하이픈의 '다크 문(DARK MOON): 달의 제단', 투모로우바이...\n",
      "언론사 :  중앙일보\n",
      "작성 시간 :  2022.01.16\n",
      "----------------------------------------------------------------------------------------------------\n",
      "\n",
      "제목 : '범 사냥꾼'된 BTS, 전 세계 10개 언어로 웹툰 동시 공개\n",
      " URL :  http://v.media.daum.net/v/20220117040612029?f=o\n",
      "요약 : 네이버웹툰 '세븐 페이츠: 착호'팬층 기반으로 독자층 확보 구상팬덤선 그룹 이미지 악영향 우려\n",
      "언론사 :  국민일보\n",
      "작성 시간 :  2022.01.17\n",
      "----------------------------------------------------------------------------------------------------\n",
      "\n",
      "제목 : [정희진의 낯선 사이]문재인 대통령, BTS, 윤석열 후보 팬덤의 국민들\n",
      " URL :  http://v.media.daum.net/v/20220119030206201?f=o\n",
      "요약 : 공연 후 쓰레기 줍기부터 불우이웃돕기에 이르기까지 사회적 행동으로 실천한 이들이었다. 기이한 건 지지자 비하하는 윤석열 지금 BTS의 아미들도 마찬가지다. 지난해 말, 코로나로 2년 만에 열린 LA 대면 콘서트 때 그들은 이렇게 외쳤다. “사랑해, 끝까지 함께...\n",
      "언론사 :  경향신문\n",
      "작성 시간 :  2022.01.19\n",
      "----------------------------------------------------------------------------------------------------\n",
      "\n",
      "제목 : 30년 된 '광화문글판'..BTS랑 협업하는 '요즘 브랜드' 된 비결\n",
      " URL :  http://v.media.daum.net/v/20220115070048629?f=o\n",
      "요약 : ■ Editor's Note 「 ‘광화문글판’은 교보생명이 30여 년 이어온 공익 옥외광고입니다. BTS가 이 광화문글판의 100번째 주자로 참여했죠. BTS 덕에 이 글판은 전 세계적으로 1,800만 명 넘는 사람들에게 노출됐습니다. 광화문이라는 한정된 물리적 공간을 넘어...\n",
      "언론사 :  중앙일보\n",
      "작성 시간 :  2022.01.15\n",
      "----------------------------------------------------------------------------------------------------\n",
      "\n",
      "제목 : \"BTS·정동원 원해\".. 스타 덕질 예능 '주접이 풍년'\n",
      " URL :  http://v.media.daum.net/v/20220120061404061?f=o\n",
      "요약 : 부분일 것\"이라고 설명했다. '중년층의 아이돌' 배우 이태곤, '미선렌즈'로 주접을 선도한 주접계의 트렌드세터 박미선, '트롯계의 BTS' 장민호가 3MC 체제를 이루며 어떤 케미를 선사할지 궁금증을 더한다. MC를 맡은 장민호는 \"나도 어릴 때 강수지 선배님을...\n",
      "언론사 :  머니S\n",
      "작성 시간 :  4시간전\n",
      "----------------------------------------------------------------------------------------------------\n",
      "\n"
     ]
    }
   ],
   "source": [
    "crawling_daum_news()"
   ]
  },
  {
   "cell_type": "code",
   "execution_count": null,
   "id": "ebc030f6",
   "metadata": {},
   "outputs": [],
   "source": [
    "'a' +'b'"
   ]
  },
  {
   "cell_type": "code",
   "execution_count": 58,
   "id": "dfcbd417",
   "metadata": {},
   "outputs": [
    {
     "data": {
      "text/plain": [
       "'https://search.daum.net/search?nil_suggest=btn&w=news&DA=SBC&q=아이유 아이유'"
      ]
     },
     "execution_count": 58,
     "metadata": {},
     "output_type": "execute_result"
    }
   ],
   "source": [
    "url + ' 아이유'"
   ]
  },
  {
   "cell_type": "code",
   "execution_count": null,
   "id": "d4451339",
   "metadata": {},
   "outputs": [],
   "source": []
  },
  {
   "cell_type": "code",
   "execution_count": null,
   "id": "5f09653e",
   "metadata": {},
   "outputs": [],
   "source": [
    "# 키워드와 크롤링할 페이지 수 를 매개변수로 입력받은 후 \n",
    "#다음 뉴스페이지에서 제목, url, summary,언론사, 시간을 10페이지를 크롤링해서 출력하는 함수를 만드시오 "
   ]
  },
  {
   "cell_type": "code",
   "execution_count": 59,
   "id": "10730e4f",
   "metadata": {},
   "outputs": [
    {
     "ename": "KeyboardInterrupt",
     "evalue": "Interrupted by user",
     "output_type": "error",
     "traceback": [
      "\u001b[1;31m---------------------------------------------------------------------------\u001b[0m",
      "\u001b[1;31mKeyboardInterrupt\u001b[0m                         Traceback (most recent call last)",
      "\u001b[1;32m~\\AppData\\Local\\Temp/ipykernel_9516/2188752256.py\u001b[0m in \u001b[0;36m<module>\u001b[1;34m\u001b[0m\n\u001b[0;32m      1\u001b[0m \u001b[0murl\u001b[0m \u001b[1;33m=\u001b[0m \u001b[1;34m'https://search.daum.net/search?nil_suggest=btn&w=news&DA=SBC&q={}&p={}'\u001b[0m\u001b[1;33m\u001b[0m\u001b[1;33m\u001b[0m\u001b[0m\n\u001b[1;32m----> 2\u001b[1;33m \u001b[0msearch_kw\u001b[0m \u001b[1;33m=\u001b[0m \u001b[0minput\u001b[0m\u001b[1;33m(\u001b[0m\u001b[1;34m\"검색할 단어를 입력하세요 \"\u001b[0m\u001b[1;33m)\u001b[0m\u001b[1;33m\u001b[0m\u001b[1;33m\u001b[0m\u001b[0m\n\u001b[0m\u001b[0;32m      3\u001b[0m \u001b[0mpage_num\u001b[0m \u001b[1;33m=\u001b[0m \u001b[0mint\u001b[0m\u001b[1;33m(\u001b[0m\u001b[0minput\u001b[0m\u001b[1;33m(\u001b[0m\u001b[1;33m)\u001b[0m\u001b[1;33m)\u001b[0m\u001b[1;33m\u001b[0m\u001b[1;33m\u001b[0m\u001b[0m\n\u001b[0;32m      4\u001b[0m \u001b[0murl\u001b[0m \u001b[1;33m=\u001b[0m \u001b[0murl\u001b[0m\u001b[1;33m.\u001b[0m\u001b[0mformat\u001b[0m\u001b[1;33m(\u001b[0m\u001b[0msearch_kw\u001b[0m\u001b[1;33m,\u001b[0m\u001b[0mpage_num\u001b[0m\u001b[1;33m)\u001b[0m\u001b[1;33m\u001b[0m\u001b[1;33m\u001b[0m\u001b[0m\n\u001b[0;32m      5\u001b[0m \u001b[0mprint\u001b[0m\u001b[1;33m(\u001b[0m\u001b[0murl\u001b[0m\u001b[1;33m)\u001b[0m\u001b[1;33m\u001b[0m\u001b[1;33m\u001b[0m\u001b[0m\n",
      "\u001b[1;32m~\\anaconda3\\lib\\site-packages\\ipykernel\\kernelbase.py\u001b[0m in \u001b[0;36mraw_input\u001b[1;34m(self, prompt)\u001b[0m\n\u001b[0;32m   1004\u001b[0m                 \u001b[1;34m\"raw_input was called, but this frontend does not support input requests.\"\u001b[0m\u001b[1;33m\u001b[0m\u001b[1;33m\u001b[0m\u001b[0m\n\u001b[0;32m   1005\u001b[0m             )\n\u001b[1;32m-> 1006\u001b[1;33m         return self._input_request(\n\u001b[0m\u001b[0;32m   1007\u001b[0m             \u001b[0mstr\u001b[0m\u001b[1;33m(\u001b[0m\u001b[0mprompt\u001b[0m\u001b[1;33m)\u001b[0m\u001b[1;33m,\u001b[0m\u001b[1;33m\u001b[0m\u001b[1;33m\u001b[0m\u001b[0m\n\u001b[0;32m   1008\u001b[0m             \u001b[0mself\u001b[0m\u001b[1;33m.\u001b[0m\u001b[0m_parent_ident\u001b[0m\u001b[1;33m[\u001b[0m\u001b[1;34m\"shell\"\u001b[0m\u001b[1;33m]\u001b[0m\u001b[1;33m,\u001b[0m\u001b[1;33m\u001b[0m\u001b[1;33m\u001b[0m\u001b[0m\n",
      "\u001b[1;32m~\\anaconda3\\lib\\site-packages\\ipykernel\\kernelbase.py\u001b[0m in \u001b[0;36m_input_request\u001b[1;34m(self, prompt, ident, parent, password)\u001b[0m\n\u001b[0;32m   1049\u001b[0m             \u001b[1;32mexcept\u001b[0m \u001b[0mKeyboardInterrupt\u001b[0m\u001b[1;33m:\u001b[0m\u001b[1;33m\u001b[0m\u001b[1;33m\u001b[0m\u001b[0m\n\u001b[0;32m   1050\u001b[0m                 \u001b[1;31m# re-raise KeyboardInterrupt, to truncate traceback\u001b[0m\u001b[1;33m\u001b[0m\u001b[1;33m\u001b[0m\u001b[0m\n\u001b[1;32m-> 1051\u001b[1;33m                 \u001b[1;32mraise\u001b[0m \u001b[0mKeyboardInterrupt\u001b[0m\u001b[1;33m(\u001b[0m\u001b[1;34m\"Interrupted by user\"\u001b[0m\u001b[1;33m)\u001b[0m \u001b[1;32mfrom\u001b[0m \u001b[1;32mNone\u001b[0m\u001b[1;33m\u001b[0m\u001b[1;33m\u001b[0m\u001b[0m\n\u001b[0m\u001b[0;32m   1052\u001b[0m             \u001b[1;32mexcept\u001b[0m \u001b[0mException\u001b[0m\u001b[1;33m:\u001b[0m\u001b[1;33m\u001b[0m\u001b[1;33m\u001b[0m\u001b[0m\n\u001b[0;32m   1053\u001b[0m                 \u001b[0mself\u001b[0m\u001b[1;33m.\u001b[0m\u001b[0mlog\u001b[0m\u001b[1;33m.\u001b[0m\u001b[0mwarning\u001b[0m\u001b[1;33m(\u001b[0m\u001b[1;34m\"Invalid Message:\"\u001b[0m\u001b[1;33m,\u001b[0m \u001b[0mexc_info\u001b[0m\u001b[1;33m=\u001b[0m\u001b[1;32mTrue\u001b[0m\u001b[1;33m)\u001b[0m\u001b[1;33m\u001b[0m\u001b[1;33m\u001b[0m\u001b[0m\n",
      "\u001b[1;31mKeyboardInterrupt\u001b[0m: Interrupted by user"
     ]
    }
   ],
   "source": [
    "url = 'https://search.daum.net/search?nil_suggest=btn&w=news&DA=SBC&q={}&p={}'\n",
    "search_kw = input(\"검색할 단어를 입력하세요 \")\n",
    "page_num = int(input())\n",
    "url = url.format(search_kw,page_num)\n",
    "print(url)"
   ]
  },
  {
   "cell_type": "code",
   "execution_count": 84,
   "id": "e7c21ce7",
   "metadata": {},
   "outputs": [],
   "source": [
    "\n",
    "def crawling_daum_news(kw):\n",
    "    url = 'https://search.daum.net/search?nil_suggest=btn&w=news&DA=SBC&q={}&p={}'\n",
    "    search_kw = input(\"검색할 단어를 입력하세요 \")\n",
    "    page_num = int(input())\n",
    "    url = url.format(search_kw,page_num)\n",
    "\n",
    "    html = requests.get(url)\n",
    "    \n",
    "    soup = BeautifulSoup(html.text, 'html.parser')\n",
    "    path = '#newsColl > div.cont_divider > ul > li'\n",
    "    tags = soup.select(path)\n",
    "\n",
    "    for t in tags:\n",
    "        print(\"제목 :\",t.select('a')[1].text)\n",
    "        print(\" URL : \",t.select('a')[0]['href'])\n",
    "        print(\"요약 :\",t.select('p')[0].text)\n",
    "        print(\"----------\")\n",
    "        print()\n",
    "    "
   ]
  },
  {
   "cell_type": "code",
   "execution_count": 85,
   "id": "20e855df",
   "metadata": {},
   "outputs": [
    {
     "ename": "NameError",
     "evalue": "name 'crawling_daum' is not defined",
     "output_type": "error",
     "traceback": [
      "\u001b[1;31m---------------------------------------------------------------------------\u001b[0m",
      "\u001b[1;31mNameError\u001b[0m                                 Traceback (most recent call last)",
      "\u001b[1;32m~\\AppData\\Local\\Temp/ipykernel_9516/1410873972.py\u001b[0m in \u001b[0;36m<module>\u001b[1;34m\u001b[0m\n\u001b[1;32m----> 1\u001b[1;33m \u001b[0mcrawling_daum\u001b[0m\u001b[1;33m.\u001b[0m\u001b[0mnews\u001b[0m\u001b[1;33m(\u001b[0m\u001b[1;34m\"아이유\"\u001b[0m\u001b[1;33m)\u001b[0m\u001b[1;33m\u001b[0m\u001b[1;33m\u001b[0m\u001b[0m\n\u001b[0m",
      "\u001b[1;31mNameError\u001b[0m: name 'crawling_daum' is not defined"
     ]
    }
   ],
   "source": [
    "crawling_daum.news(\"아이유\")"
   ]
  },
  {
   "cell_type": "code",
   "execution_count": 72,
   "id": "0eab25c9",
   "metadata": {},
   "outputs": [],
   "source": [
    "html = \"\"\"\n",
    "<html>\n",
    "<head>\n",
    "    <title>The Dormouse's story</title>\n",
    "</head>\n",
    "<body>\n",
    "    <h1>this is h1 area</h1>\n",
    "    <h2>this is h2 area</h2>\n",
    "    <p class=\"title\">\n",
    "        <b>The Dormouse's story</b>\n",
    "    </p>\n",
    "    <p class=\"story\">\n",
    "        Once upon a time there were three little sisters\n",
    "        <a href=\"http://example.com/elsie\" class=\"sister\" id=\"link1\">Elsie</a>\n",
    "        <a href=\"http://example.com/lacie\" class=\"sister\" id=\"link2\">Lacie</a>\n",
    "        <a data-io=\"link3\" href=\"http://example.com/tillie\" class=\"brother\" id=\"link3\">Tillie</a>\n",
    "        <b> \n",
    "            test\n",
    "            <a href=\"http://example.com/test\" class=\"brother\" id=\"link4\">TEST</a>\n",
    "        </b>\n",
    "\n",
    "    </p>\n",
    "    <p class=\"story\">story...</p>\n",
    "</body>\n",
    "</html>\n",
    "\"\"\""
   ]
  },
  {
   "cell_type": "code",
   "execution_count": 73,
   "id": "7b613067",
   "metadata": {},
   "outputs": [],
   "source": [
    "# 'The Dormouse's story'를 출력하시오..\n",
    "# 'Elsie'를 출력하시오.\n",
    "# \"http://example.com/lacie\"를 출력하시오\n",
    "# 'test'를 출력하시오\n",
    "# 'story...'를 출력하시오"
   ]
  },
  {
   "cell_type": "code",
   "execution_count": 74,
   "id": "78d3531f",
   "metadata": {},
   "outputs": [],
   "source": [
    "soup = BeautifulSoup(html, 'html.parser')"
   ]
  },
  {
   "cell_type": "code",
   "execution_count": 83,
   "id": "d49b99f1",
   "metadata": {},
   "outputs": [
    {
     "name": "stdout",
     "output_type": "stream",
     "text": [
      "The Dormouse's story\n",
      "Elsie\n",
      "http://example.com/lacie\n",
      "test\n",
      "story...\n"
     ]
    }
   ],
   "source": [
    "print(soup.select(\"p > b\")[0].text)\n",
    "print(soup.select(\"a\")[0].text)\n",
    "print(soup.select(\"a\")[1][\"href\"])\n",
    "print(soup.select(\"b\")[1].text.strip().split()[0])\n",
    "print(soup.select(\"p.story\")[1].text)"
   ]
  },
  {
   "cell_type": "code",
   "execution_count": 76,
   "id": "cf9e146f",
   "metadata": {},
   "outputs": [
    {
     "name": "stdout",
     "output_type": "stream",
     "text": [
      " \n",
      "            test\n",
      "            TEST\n",
      "\n"
     ]
    }
   ],
   "source": [
    "print(soup.select(\"b\")[1].text)"
   ]
  },
  {
   "cell_type": "code",
   "execution_count": 77,
   "id": "90da879e",
   "metadata": {},
   "outputs": [],
   "source": [
    "a = soup.select(\"b\")[1].text"
   ]
  },
  {
   "cell_type": "code",
   "execution_count": 78,
   "id": "9985e6b3",
   "metadata": {},
   "outputs": [
    {
     "name": "stdout",
     "output_type": "stream",
     "text": [
      "test\n"
     ]
    }
   ],
   "source": [
    "print(soup.select(\"b\")[1].text.strip().split()[0])"
   ]
  },
  {
   "cell_type": "code",
   "execution_count": 79,
   "id": "e459df5f",
   "metadata": {},
   "outputs": [
    {
     "name": "stdout",
     "output_type": "stream",
     "text": [
      "['1', '2', '3']\n"
     ]
    }
   ],
   "source": [
    "print('{} {} {}'.format(1,2,3).split())"
   ]
  },
  {
   "cell_type": "code",
   "execution_count": 11,
   "id": "92845660",
   "metadata": {},
   "outputs": [],
   "source": [
    "class User:\n",
    "    # 인스턴스 변수 설정\n",
    "    def __init__(self, name, email, password):\n",
    "        self.name = name\n",
    "        self.email = email\n",
    "        self.password = password\n",
    "\n",
    "        self.following_list = []    # 이 유저가 팔로우하는 유저 리스트\n",
    "        self.followers_list = []    # 이 유저를 팔로우하는 유저 리스트\n",
    "\n",
    "    # 팔로우\n",
    "    def follow(self, another_user):\n",
    "        self.followers_list.append(another_user)\n",
    "        another_user.followers_list.append(self.name)\n",
    "\n",
    "    # 내가 몇 명을 팔로우하는지 리턴\n",
    "    def num_following(self):\n",
    "        return len(self.following_list)\n",
    "\n",
    "    # 나를 몇 명이 팔로우하는지 리턴\n",
    "    def num_followers(self):\n",
    "        return len(self.followers_list)\n",
    "\n",
    "# 유저들 생성\n",
    "        user1 = User(\"Young\", \"young@codeit.kr\", \"123456\")\n",
    "        user2 = User(\"Yoonsoo\", \"yoonsoo@codeit.kr\", \"abcdef\")\n",
    "        user3 = User(\"Taeho\", \"taeho@codeit.kr\", \"123abc\")\n",
    "        user4 = User(\"Lisa\", \"lisa@codeit.kr\", \"abc123\")\n",
    "\n",
    "        # 유저마다 서로 관심 있는 유저를 팔로우\n",
    "        user1.follow(user2)\n",
    "        user1.follow(user3)\n",
    "        user2.follow(user1)\n",
    "        user2.follow(user3)\n",
    "        user2.follow(user4)\n",
    "        user4.follow(user1)\n",
    "\n",
    "        # 유저 이름, 자신의 팔로워 수, 자신이 팔로우하는 사람 수를 출력합니다\n",
    "        print(user1.name, user1.num_followers(), user1.num_following())\n",
    "        print(user2.name, user2.num_followers(), user2.num_following())\n",
    "        print(user3.name, user3.num_followers(), user3.num_following())\n",
    "        print(user4.name, user4.num_followers(), user4.num_following())"
   ]
  },
  {
   "cell_type": "code",
   "execution_count": null,
   "id": "fa6b6be4",
   "metadata": {},
   "outputs": [],
   "source": []
  },
  {
   "cell_type": "code",
   "execution_count": null,
   "id": "a13d22f0",
   "metadata": {},
   "outputs": [],
   "source": []
  }
 ],
 "metadata": {
  "kernelspec": {
   "display_name": "Python 3 (ipykernel)",
   "language": "python",
   "name": "python3"
  },
  "language_info": {
   "codemirror_mode": {
    "name": "ipython",
    "version": 3
   },
   "file_extension": ".py",
   "mimetype": "text/x-python",
   "name": "python",
   "nbconvert_exporter": "python",
   "pygments_lexer": "ipython3",
   "version": "3.9.7"
  }
 },
 "nbformat": 4,
 "nbformat_minor": 5
}
