{
 "cells": [
  {
   "cell_type": "code",
   "execution_count": 3,
   "id": "bdb839cd",
   "metadata": {},
   "outputs": [],
   "source": [
    "from bs4 import BeautifulSoup\n",
    "import requests"
   ]
  },
  {
   "cell_type": "code",
   "execution_count": 5,
   "id": "51ecd867",
   "metadata": {},
   "outputs": [],
   "source": [
    "url = 'https://xkcd.com/'"
   ]
  },
  {
   "cell_type": "code",
   "execution_count": 6,
   "id": "2d644759",
   "metadata": {},
   "outputs": [],
   "source": [
    "res = requests.get(url)\n",
    "soup = BeautifulSoup(res.text, 'html.parser')"
   ]
  },
  {
   "cell_type": "code",
   "execution_count": 8,
   "id": "1849ac20",
   "metadata": {},
   "outputs": [],
   "source": [
    "path = '#comic > img'"
   ]
  },
  {
   "cell_type": "code",
   "execution_count": 9,
   "id": "0af289f6",
   "metadata": {},
   "outputs": [
    {
     "data": {
      "text/plain": [
       "[<img alt=\"Captain Picard Tea Order\" src=\"//imgs.xkcd.com/comics/captain_picard_tea_order.png\" srcset=\"//imgs.xkcd.com/comics/captain_picard_tea_order_2x.png 2x\" style=\"image-orientation:none\" title=\"We can ask the Earl for his order once he's fully extruded from the dispenser.\"/>]"
      ]
     },
     "execution_count": 9,
     "metadata": {},
     "output_type": "execute_result"
    }
   ],
   "source": [
    "tag = soup.select(path)\n",
    "tag"
   ]
  },
  {
   "cell_type": "code",
   "execution_count": null,
   "id": "b7c2a52c",
   "metadata": {},
   "outputs": [],
   "source": []
  },
  {
   "cell_type": "code",
   "execution_count": 16,
   "id": "4ea560b4",
   "metadata": {},
   "outputs": [
    {
     "data": {
      "text/plain": [
       "'http://imgs.xkcd.com/comics/captain_picard_tea_order.png'"
      ]
     },
     "execution_count": 16,
     "metadata": {},
     "output_type": "execute_result"
    }
   ],
   "source": [
    "img_url = tag[0]['src']\n",
    "img_url = 'http:' + img_url\n",
    "img_url"
   ]
  },
  {
   "cell_type": "code",
   "execution_count": 13,
   "id": "720a7e17",
   "metadata": {},
   "outputs": [
    {
     "data": {
      "text/plain": [
       "('xkcd_1.jpg', <http.client.HTTPMessage at 0x1f5dbcea520>)"
      ]
     },
     "execution_count": 13,
     "metadata": {},
     "output_type": "execute_result"
    }
   ],
   "source": [
    "import urllib\n",
    "urllib.request.urlretrieve(img_url,'xkcd_1.jpg')"
   ]
  },
  {
   "cell_type": "code",
   "execution_count": 14,
   "id": "4e0d3a73",
   "metadata": {},
   "outputs": [
    {
     "data": {
      "text/plain": [
       "['.ipynb_checkpoints',\n",
       " 'basictag.html',\n",
       " 'Crawling.ipynb',\n",
       " 'file_crawling.ipynb',\n",
       " 'python_crawling_1.ipynb',\n",
       " 'xkcd_1.jpg',\n",
       " 'xkcd_cartoon']"
      ]
     },
     "execution_count": 14,
     "metadata": {},
     "output_type": "execute_result"
    }
   ],
   "source": [
    "import os\n",
    "os.listdir()               # 현재 디렉토리의 파일 목록"
   ]
  },
  {
   "cell_type": "code",
   "execution_count": null,
   "id": "8fcb69f2",
   "metadata": {},
   "outputs": [],
   "source": []
  },
  {
   "cell_type": "code",
   "execution_count": null,
   "id": "e5a9d31f",
   "metadata": {},
   "outputs": [],
   "source": []
  },
  {
   "cell_type": "code",
   "execution_count": null,
   "id": "4005ab1c",
   "metadata": {},
   "outputs": [],
   "source": [
    "# xkcd.com에서 2560-2569번 이미지 크롤링 하기 "
   ]
  },
  {
   "cell_type": "code",
   "execution_count": null,
   "id": "963e71df",
   "metadata": {},
   "outputs": [],
   "source": []
  },
  {
   "cell_type": "code",
   "execution_count": null,
   "id": "0da815ef",
   "metadata": {},
   "outputs": [],
   "source": [
    "https://xkcd.com/2560/"
   ]
  },
  {
   "cell_type": "code",
   "execution_count": 29,
   "id": "e984810c",
   "metadata": {},
   "outputs": [],
   "source": [
    "for i in range(2560, 2570):\n",
    "    url = 'https://xkcd.com/{}'.format(i)\n",
    "    res = requests.get(url)\n",
    "    soup = BeautifulSoup(res.text, 'html.parser')\n",
    "    \n",
    "    path = '#comic > img'\n",
    "    tag = soup.select(path)\n",
    "    \n",
    "    img_url = tag[0]['src']\n",
    "    img_url = 'http:' + img_url\n",
    "    \n",
    "    urllib.request.urlretrieve(img_url,'xkcd_{}.jpg'.format(i))\n",
    "\n",
    "# url = 'https://xkcd.com/2560/'\n",
    "# res = requests.get(url)\n",
    "# soup = BeautifulSoup(res.text, 'html.parser')\n",
    "\n",
    "# path = '#comic > img'\n",
    "# tag = soup.select(path)\n",
    "# print(tag)\n",
    "# img_url = tag[0]['src']\n",
    "# img_url = 'http:' + img_url\n",
    "    \n",
    "# urllib.request.urlretrieve(img_url,'xkcd_2560.jpg')"
   ]
  },
  {
   "cell_type": "code",
   "execution_count": 30,
   "id": "2ea8fd71",
   "metadata": {},
   "outputs": [
    {
     "data": {
      "text/plain": [
       "['.ipynb_checkpoints',\n",
       " 'basictag.html',\n",
       " 'chromedriver.exe',\n",
       " 'Crawling.ipynb',\n",
       " 'file_crawling.ipynb',\n",
       " 'naver_movie_crawling.ipynb',\n",
       " 'naver_news_comments_crawling.ipynb',\n",
       " 'python_crawling_1.ipynb',\n",
       " 'xkcd_1.jpg',\n",
       " 'xkcd_2560.jpg',\n",
       " 'xkcd_2561.jpg',\n",
       " 'xkcd_2562.jpg',\n",
       " 'xkcd_2563.jpg',\n",
       " 'xkcd_2564.jpg',\n",
       " 'xkcd_2565.jpg',\n",
       " 'xkcd_2566.jpg',\n",
       " 'xkcd_2567.jpg',\n",
       " 'xkcd_2568.jpg',\n",
       " 'xkcd_2569.jpg',\n",
       " 'xkcd_cartoon']"
      ]
     },
     "execution_count": 30,
     "metadata": {},
     "output_type": "execute_result"
    }
   ],
   "source": [
    "os.listdir()"
   ]
  },
  {
   "cell_type": "code",
   "execution_count": null,
   "id": "cb6fb136",
   "metadata": {},
   "outputs": [],
   "source": []
  },
  {
   "cell_type": "code",
   "execution_count": null,
   "id": "a1bf9378",
   "metadata": {},
   "outputs": [],
   "source": []
  },
  {
   "cell_type": "code",
   "execution_count": null,
   "id": "d6095bf7",
   "metadata": {},
   "outputs": [],
   "source": []
  },
  {
   "cell_type": "code",
   "execution_count": null,
   "id": "e009fc5b",
   "metadata": {},
   "outputs": [],
   "source": []
  },
  {
   "cell_type": "code",
   "execution_count": null,
   "id": "8262d7e1",
   "metadata": {},
   "outputs": [],
   "source": []
  },
  {
   "cell_type": "code",
   "execution_count": null,
   "id": "a1e9377f",
   "metadata": {},
   "outputs": [],
   "source": []
  },
  {
   "cell_type": "code",
   "execution_count": null,
   "id": "bf1a758e",
   "metadata": {},
   "outputs": [],
   "source": []
  },
  {
   "cell_type": "code",
   "execution_count": null,
   "id": "8440c149",
   "metadata": {},
   "outputs": [],
   "source": []
  },
  {
   "cell_type": "code",
   "execution_count": null,
   "id": "8de2e004",
   "metadata": {},
   "outputs": [],
   "source": []
  },
  {
   "cell_type": "code",
   "execution_count": null,
   "id": "5345b346",
   "metadata": {},
   "outputs": [],
   "source": []
  }
 ],
 "metadata": {
  "kernelspec": {
   "display_name": "Python 3 (ipykernel)",
   "language": "python",
   "name": "python3"
  },
  "language_info": {
   "codemirror_mode": {
    "name": "ipython",
    "version": 3
   },
   "file_extension": ".py",
   "mimetype": "text/x-python",
   "name": "python",
   "nbconvert_exporter": "python",
   "pygments_lexer": "ipython3",
   "version": "3.9.7"
  }
 },
 "nbformat": 4,
 "nbformat_minor": 5
}
